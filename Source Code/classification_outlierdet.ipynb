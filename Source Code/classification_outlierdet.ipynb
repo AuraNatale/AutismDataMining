{
 "cells": [
  {
   "cell_type": "code",
   "execution_count": 59,
   "metadata": {},
   "outputs": [],
   "source": [
    "# general imports\n",
    "import os\n",
    "import numpy as np\n",
    "import pandas as pd\n",
    "from matplotlib import pyplot as plt \n",
    "from matplotlib.colors import ListedColormap\n",
    "import seaborn as sns\n",
    "\n",
    "# from our documents\n",
    "import OurFunctions as of\n",
    "\n",
    "# from Scikit Learn library\n",
    "from sklearn.model_selection import train_test_split, KFold, cross_val_score, GridSearchCV\n",
    "from sklearn.ensemble import RandomForestClassifier\n",
    "from sklearn.metrics import roc_curve, roc_auc_score, accuracy_score, make_scorer, precision_score, recall_score, f1_score, confusion_matrix\n",
    "from sklearn.preprocessing import StandardScaler, OneHotEncoder, RobustScaler\n",
    "from sklearn.compose import ColumnTransformer\n",
    "from sklearn.pipeline import Pipeline\n",
    "from sklearn.neighbors import KNeighborsClassifier\n",
    "from sklearn.linear_model import LogisticRegression\n",
    "from sklearn.svm import LinearSVC\n",
    "from sklearn.feature_selection import SelectKBest, f_classif, RFE\n",
    "from sklearn.decomposition import PCA\n",
    "from sklearn.feature_selection import SequentialFeatureSelector as SFS\n",
    "from sklearn.neighbors import LocalOutlierFactor\n",
    "from sklearn.tree import plot_tree\n",
    "from sklearn.calibration import CalibratedClassifierCV\n",
    "\n",
    "# from Imb Learn\n",
    "from imblearn.over_sampling import SMOTENC, SMOTE\n",
    "\n"
   ]
  },
  {
   "cell_type": "code",
   "execution_count": 60,
   "metadata": {},
   "outputs": [],
   "source": [
    "ASD_phenotypic_original = pd.read_csv(os.path.join('DataSets','Phenotypic Datasets','ASD_phenotypic.csv'))\n",
    "ASD_phenotypic = pd.read_csv(os.path.join('DataSets','Phenotypic Datasets','ASD_phenotypic_preprocessed.csv'))\n",
    "ASD_diagnosis = pd.read_csv(os.path.join('DataSets','Phenotypic Datasets','ASD_clinical.csv'))"
   ]
  },
  {
   "cell_type": "markdown",
   "metadata": {},
   "source": [
    "# CLASSIFICATION"
   ]
  },
  {
   "cell_type": "markdown",
   "metadata": {},
   "source": [
    "First of all, we split the data into train set and test set, to be sure that our classifier is evaluated on data that it had never seen before."
   ]
  },
  {
   "cell_type": "code",
   "execution_count": 61,
   "metadata": {},
   "outputs": [
    {
     "name": "stdout",
     "output_type": "stream",
     "text": [
      "Training set size: (467, 10)\n",
      "Test set size: (201, 10)\n"
     ]
    }
   ],
   "source": [
    "#ASD_phenotypic = ASD_phenotypic.drop(columns=[\"SITE_ID\", \"VIQ_TEST_TYPE\", \"FIQ_TEST_TYPE\", \"PIQ_TEST_TYPE\"])\n",
    "ASD_phenotypic = ASD_phenotypic.drop(columns=[\"SITE_ID\"])\n",
    "# Split the data into training and test sets\n",
    "X_train, X_test, y_train, y_test = train_test_split(ASD_phenotypic, ASD_diagnosis['DX_GROUP'], test_size=0.3, random_state=42)\n",
    "print(\"Training set size:\", X_train.shape)\n",
    "print(\"Test set size:\", X_test.shape)"
   ]
  },
  {
   "cell_type": "markdown",
   "metadata": {},
   "source": [
    "I want to check the balance between classes for each set, to  be sure we are training the classifier using a good split."
   ]
  },
  {
   "cell_type": "code",
   "execution_count": 62,
   "metadata": {},
   "outputs": [
    {
     "name": "stdout",
     "output_type": "stream",
     "text": [
      "Class proportions for:\n",
      "- test set: DX_GROUP\n",
      "1    0.60199\n",
      "2    0.39801\n",
      "Name: proportion, dtype: float64\n",
      "- train set: DX_GROUP\n",
      "1    0.603854\n",
      "2    0.396146\n",
      "Name: proportion, dtype: float64\n",
      "Num subjects involved per DX_GROUP\n",
      "1    282\n",
      "2    185\n",
      "Name: count, dtype: int64\n"
     ]
    }
   ],
   "source": [
    "class_counts_test = y_test.value_counts(normalize=True)\n",
    "class_counts_train = y_train.value_counts(normalize=True)\n",
    "class_count_train_num = y_train.value_counts()\n",
    "\n",
    "# Stampa il conteggio delle classi per DX_GROUP\n",
    "print(\"Class proportions for:\")\n",
    "print(\"- test set: \" + str(class_counts_test))\n",
    "print(\"- train set: \" + str(class_counts_train))\n",
    "print(\"Num subjects involved per \"+ str(class_count_train_num))"
   ]
  },
  {
   "cell_type": "markdown",
   "metadata": {},
   "source": [
    "# General pipeline"
   ]
  },
  {
   "cell_type": "markdown",
   "metadata": {},
   "source": [
    "To achieve a more reliable accuracy score we use k-fold cross validation. In this way we are performing the training on different train and validation fold and we avoid to have a better accuracy based only on the subjects we selected."
   ]
  },
  {
   "cell_type": "code",
   "execution_count": 63,
   "metadata": {},
   "outputs": [],
   "source": [
    "def general_pipeline(dataset, target, classifier, encoder = True, scaler = True, parameters_grid_search = None, cv = None, feature_selector=False):\n",
    "\n",
    "    # Definizione delle metriche da utilizzare come scoring\n",
    "    scoring = {\n",
    "        'accuracy': make_scorer(accuracy_score),\n",
    "        'precision': make_scorer(precision_score),\n",
    "        'recall': make_scorer(recall_score),\n",
    "        'f1_score': make_scorer(f1_score)\n",
    "    }\n",
    "\n",
    "    # Preprocess to make on the train data may include\n",
    "    # - normalization of the numerical columns\n",
    "    # - one hot encoding on the categorical columns\n",
    "    \n",
    "    categorical_columns = dataset.select_dtypes(include=['object']).columns\n",
    "\n",
    "    if not encoder:\n",
    "        transformers = [('num', RobustScaler(), ~dataset.columns.isin(categorical_columns))]\n",
    "    elif not scaler:\n",
    "        transformers = [('cat', OneHotEncoder(handle_unknown='ignore'), categorical_columns)]\n",
    "    elif not encoder and not scaler:\n",
    "        transformers = []\n",
    "    else:\n",
    "        transformers=[\n",
    "            ('num', RobustScaler(), ~dataset.columns.isin(categorical_columns)),\n",
    "            ('cat', OneHotEncoder(handle_unknown='ignore'), categorical_columns),\n",
    "        ]\n",
    "\n",
    "    preprocessor = ColumnTransformer(transformers=transformers)\n",
    "\n",
    "    if isinstance(classifier, KNeighborsClassifier):\n",
    "        parameter_type = 'classifier__n_neighbors'\n",
    "        if parameters_grid_search:\n",
    "            parameters = {parameter_type: parameters_grid_search}  # Valori di n_neighbors da esplorare\n",
    "        else:\n",
    "            parameters = {parameter_type: [3, 5, 7, 9, 11]}  # Valori di n_neighbors da esplorare\n",
    "\n",
    "        #feature_selector_type = SFS(classifier)\n",
    "        #selector_parameter = 'feature_selection__n_features_to_select'\n",
    "        #per default is forward, but if you need to change --> parameters.update({'sfs__direction': ['forward']})\n",
    "        feature_selector_type = SelectKBest(score_func=f_classif)\n",
    "        selector_parameter = 'feature_selection__k'\n",
    "        \n",
    "\n",
    "    if isinstance(classifier, RandomForestClassifier):\n",
    "        parameter_type = 'classifier__n_estimators'\n",
    "        if parameters_grid_search:\n",
    "            parameters = {parameter_type: parameters_grid_search}  \n",
    "        else:\n",
    "            parameters = {parameter_type: [10, 50, 200, 500, 1000]} \n",
    "\n",
    "        feature_selector_type = RFE(estimator=classifier)\n",
    "        selector_parameter = 'feature_selection__n_features_to_select'\n",
    "\n",
    "    if isinstance(classifier, CalibratedClassifierCV):\n",
    "        parameter_type = 'classifier__estimator__C'\n",
    "        if parameters_grid_search:\n",
    "            parameters = {parameter_type: parameters_grid_search}  \n",
    "        else:\n",
    "            parameters = {parameter_type: [1]}  \n",
    "\n",
    "        #feature_selector_type = SelectFromModel(LinearSVC(penalty='l1', dual=False))\n",
    "        #selector_parameter = 'feature_selection__max_features'\n",
    "        feature_selector_type = RFE(estimator=LinearSVC(dual=False))\n",
    "        selector_parameter = 'feature_selection__n_features_to_select'\n",
    "\n",
    "    if feature_selector:\n",
    "        # Initialize RFE with the fitted classifier\n",
    "\n",
    "        pipeline = Pipeline([\n",
    "        ('preprocessor', preprocessor),\n",
    "        ('feature_selection', feature_selector_type),\n",
    "        ('classifier', classifier)  \n",
    "        ])\n",
    "\n",
    "        parameters.update({selector_parameter: list(range(1, 23+1))})\n",
    "        \n",
    "    else:\n",
    "    # We define the pipeline\n",
    "        pipeline = Pipeline([\n",
    "            ('preprocessor', preprocessor),\n",
    "            ('classifier', classifier),\n",
    "            ])\n",
    "\n",
    "    if cv:\n",
    "        k_folds = cv\n",
    "    else:\n",
    "        k_folds = 5\n",
    "\n",
    "    # Creazione dell'oggetto GridSearchCV\n",
    "    grid_search = GridSearchCV(pipeline, parameters, cv= k_folds, scoring=scoring, refit='accuracy')\n",
    "\n",
    "    # Esecuzione della ricerca a griglia\n",
    "    grid_search.fit(dataset, target)\n",
    "\n",
    "    # Visualizzazione dei risultati\n",
    "    print(\"Risultati della cross-validation per tutte le combinazioni di iperparametri:\")\n",
    "\n",
    "    means_accuracy = grid_search.cv_results_['mean_test_accuracy']\n",
    "    stds_accuracy = grid_search.cv_results_['std_test_accuracy']\n",
    "    means_precision = grid_search.cv_results_['mean_test_precision']\n",
    "    means_recall = grid_search.cv_results_['mean_test_recall']\n",
    "    means_f1_score = grid_search.cv_results_['mean_test_f1_score']\n",
    "    params = grid_search.cv_results_['params']\n",
    "\n",
    "    for mean_acc, std_acc, mean_prec, mean_rec, mean_f1, params in zip(means_accuracy, stds_accuracy, means_precision, means_recall, means_f1_score, params):\n",
    "        print(f\"Parameters: {params}, Accuracy: {mean_acc:.3f} (±{std_acc:.3f}), Precision: {mean_prec:.3f}, Recall: {mean_rec:.3f}, F1-score: {mean_f1:.3f}\")\n",
    "\n",
    "    best_model = grid_search.best_estimator_\n",
    "    best_parameter = grid_search.best_params_[parameter_type]\n",
    "    best_accuracy = grid_search.best_score_\n",
    "    print(\"\\nBest Parameter founded:\")\n",
    "    print(best_parameter)\n",
    "    print(\"Accuracy with theBest Parameter:\", best_accuracy)\n",
    "\n",
    "    if feature_selector:\n",
    "        # Get the support mask and selected feature names from the preprocessed data\n",
    "        selected_mask = best_model.named_steps['feature_selection'].get_support()\n",
    "        feature_names = best_model.named_steps['preprocessor'].get_feature_names_out()\n",
    "        selected_features = feature_names[selected_mask]\n",
    "        \n",
    "        print(\"\\nSelected features are:\")\n",
    "        print(f\"Number of selected features: {len(selected_features)}\")\n",
    "        print(\"Selected features:\", selected_features)\n",
    "\n",
    "        non_selected_mask = ~selected_mask\n",
    "        non_selected_features = feature_names[non_selected_mask]\n",
    "\n",
    "        print(\"\\nNon selected features are:\")\n",
    "        print(f\"Number of non selected features: {len(non_selected_features)}\")\n",
    "        print(\"Selected features:\", non_selected_features)\n",
    "\n",
    "        return best_model, best_parameter, best_accuracy, selected_features\n",
    "        \n",
    "    return best_model, best_parameter, best_accuracy, None\n",
    "    "
   ]
  },
  {
   "cell_type": "code",
   "execution_count": 64,
   "metadata": {},
   "outputs": [
    {
     "name": "stdout",
     "output_type": "stream",
     "text": [
      "DX_GROUP\n",
      "1    0.5\n",
      "2    0.5\n",
      "Name: proportion, dtype: float64\n",
      "Num subjects involved per\n",
      "DX_GROUP\n",
      "1    282\n",
      "2    282\n",
      "Name: count, dtype: int64\n",
      "DX_GROUP\n",
      "1    0.5\n",
      "2    0.5\n",
      "Name: proportion, dtype: float64\n",
      "Num subjects involved per\n",
      "DX_GROUP\n",
      "1    282\n",
      "2    282\n",
      "Name: count, dtype: int64\n"
     ]
    }
   ],
   "source": [
    "categorical_columns = X_train.select_dtypes(include=['object']).columns\n",
    "categorical_features = categorical_columns.tolist()\n",
    "\n",
    "# Inizializza l'oggetto SMOTE-NC specificando gli indici delle colonne categoriche\n",
    "sampler = SMOTENC(categorical_features=categorical_features, random_state=42)\n",
    "\n",
    "# Applica SMOTE-NC per generare nuovi esempi sintetici\n",
    "X_SMOTE, Y_SMOTE = sampler.fit_resample(X_train, y_train)\n",
    "\n",
    "# Stampa la distribuzione delle classi dopo l'applicazione di SMOTE-NC\n",
    "print(pd.Series(Y_SMOTE).value_counts(normalize=True))\n",
    "print(\"Num subjects involved per\")\n",
    "print(pd.Series(Y_SMOTE).value_counts())\n",
    "\n",
    "#sampler = SMOTE(random_state=42) --> in case we want to use only numeric\n",
    "\n",
    "# Applica SMOTE-NC per generare nuovi esempi sintetici\n",
    "X_SMOTE, Y_SMOTE = sampler.fit_resample(X_train, y_train)\n",
    "\n",
    "# Stampa la distribuzione delle classi dopo l'applicazione di SMOTE-NC\n",
    "print(pd.Series(Y_SMOTE).value_counts(normalize=True))\n",
    "print(\"Num subjects involved per\")\n",
    "print(pd.Series(Y_SMOTE).value_counts())"
   ]
  },
  {
   "cell_type": "markdown",
   "metadata": {},
   "source": [
    "# K-NEAREST NEIGHBOOR"
   ]
  },
  {
   "cell_type": "code",
   "execution_count": 65,
   "metadata": {},
   "outputs": [
    {
     "name": "stdout",
     "output_type": "stream",
     "text": [
      "Risultati della cross-validation per tutte le combinazioni di iperparametri:\n",
      "Parameters: {'classifier__n_neighbors': 3}, Accuracy: 0.867 (±0.020), Precision: 0.955, Recall: 0.773, F1-score: 0.852\n",
      "Parameters: {'classifier__n_neighbors': 5}, Accuracy: 0.869 (±0.014), Precision: 0.971, Recall: 0.763, F1-score: 0.853\n",
      "Parameters: {'classifier__n_neighbors': 7}, Accuracy: 0.858 (±0.025), Precision: 0.964, Recall: 0.745, F1-score: 0.839\n",
      "Parameters: {'classifier__n_neighbors': 9}, Accuracy: 0.842 (±0.025), Precision: 0.950, Recall: 0.724, F1-score: 0.820\n",
      "Parameters: {'classifier__n_neighbors': 11}, Accuracy: 0.848 (±0.024), Precision: 0.972, Recall: 0.717, F1-score: 0.824\n",
      "\n",
      "Best Parameter founded:\n",
      "5\n",
      "Accuracy with theBest Parameter: 0.8688211125158029\n"
     ]
    }
   ],
   "source": [
    "classifier = KNeighborsClassifier()\n",
    "knn_model, knn_parameter, knn_accuracy, _= general_pipeline(X_SMOTE, Y_SMOTE, classifier)\n"
   ]
  },
  {
   "cell_type": "code",
   "execution_count": 66,
   "metadata": {},
   "outputs": [
    {
     "name": "stdout",
     "output_type": "stream",
     "text": [
      "\n",
      "Valutazione del modello sui dati di test:\n",
      "Accuratezza: 0.876\n",
      "Precisione: 0.936\n",
      "Richiamo: 0.851\n",
      "F1-score: 0.892\n"
     ]
    }
   ],
   "source": [
    "# Valutazione del modello sui dati di test\n",
    "y_pred = knn_model.predict(X_test)\n",
    "\n",
    "# Calcolo delle metriche sui dati di test\n",
    "accuracy = accuracy_score(y_test, y_pred)\n",
    "precision = precision_score(y_test, y_pred)\n",
    "recall = recall_score(y_test, y_pred)\n",
    "f1 = f1_score(y_test, y_pred)\n",
    "\n",
    "print(\"\\nValutazione del modello sui dati di test:\")\n",
    "print(f\"Accuratezza: {accuracy:.3f}\")\n",
    "print(f\"Precisione: {precision:.3f}\")\n",
    "print(f\"Richiamo: {recall:.3f}\")\n",
    "print(f\"F1-score: {f1:.3f}\")\n"
   ]
  },
  {
   "cell_type": "code",
   "execution_count": 67,
   "metadata": {},
   "outputs": [
    {
     "data": {
      "image/png": "[encoded data removed]",
      "text/plain": [
       "<Figure size 800x600 with 2 Axes>"
      ]
     },
     "metadata": {},
     "output_type": "display_data"
    }
   ],
   "source": [
    "# Calcola la matrice di confusione\n",
    "conf_matrix = confusion_matrix(y_test, y_pred)\n",
    "\n",
    "# Visualizzazione della matrice di confusione\n",
    "plt.figure(figsize=(8, 6))\n",
    "sns.heatmap(conf_matrix, annot=True, cmap=\"Blues\", fmt=\"d\", xticklabels=['Control', 'ASD'], yticklabels=['Control', 'ASD'])\n",
    "plt.xlabel('Predicted Label')\n",
    "plt.ylabel('True Label')\n",
    "plt.title('Confusion Matrix')\n",
    "plt.show()\n"
   ]
  },
  {
   "cell_type": "markdown",
   "metadata": {},
   "source": [
    "## Random Forest"
   ]
  },
  {
   "cell_type": "markdown",
   "metadata": {},
   "source": [
    "To use the Random Forest classifier, I need to have only numerical features, so we will use one-hot-encoding to turn the categorical features (which aren't ordinal) into numerical features. It's not necessary to perform any normalization, but as we want to compare the performance of this classifier with others that use normalization, we will also use normalized data to train this classifier (it's not harmfull for the Random Forest Classifier)."
   ]
  },
  {
   "cell_type": "code",
   "execution_count": 68,
   "metadata": {},
   "outputs": [
    {
     "name": "stdout",
     "output_type": "stream",
     "text": [
      "Risultati della cross-validation per tutte le combinazioni di iperparametri:\n",
      "Parameters: {'classifier__n_estimators': 10}, Accuracy: 0.917 (±0.016), Precision: 0.933, Recall: 0.901, F1-score: 0.915\n",
      "Parameters: {'classifier__n_estimators': 50}, Accuracy: 0.924 (±0.021), Precision: 0.956, Recall: 0.890, F1-score: 0.921\n",
      "Parameters: {'classifier__n_estimators': 200}, Accuracy: 0.918 (±0.025), Precision: 0.956, Recall: 0.879, F1-score: 0.914\n",
      "Parameters: {'classifier__n_estimators': 500}, Accuracy: 0.920 (±0.020), Precision: 0.956, Recall: 0.883, F1-score: 0.917\n",
      "Parameters: {'classifier__n_estimators': 1000}, Accuracy: 0.922 (±0.027), Precision: 0.963, Recall: 0.879, F1-score: 0.918\n",
      "\n",
      "Best Parameter founded:\n",
      "50\n",
      "Accuracy with theBest Parameter: 0.9237831858407081\n"
     ]
    }
   ],
   "source": [
    "classifier = RandomForestClassifier(random_state=1234)\n",
    "rf_model, rf_parameter, rf_accuracy, _ = general_pipeline(X_SMOTE, Y_SMOTE, classifier)"
   ]
  },
  {
   "cell_type": "code",
   "execution_count": 69,
   "metadata": {},
   "outputs": [
    {
     "name": "stdout",
     "output_type": "stream",
     "text": [
      "\n",
      "Valutazione del modello sui dati di test:\n",
      "Accuratezza: 0.945\n",
      "Precisione: 0.937\n",
      "Richiamo: 0.975\n",
      "F1-score: 0.955\n"
     ]
    }
   ],
   "source": [
    "# Valutazione del modello sui dati di test\n",
    "y_pred = rf_model.predict(X_test)\n",
    "\n",
    "# Calcolo delle metriche sui dati di test\n",
    "accuracy = accuracy_score(y_test, y_pred)\n",
    "precision = precision_score(y_test, y_pred)\n",
    "recall = recall_score(y_test, y_pred)\n",
    "f1 = f1_score(y_test, y_pred)\n",
    "\n",
    "print(\"\\nValutazione del modello sui dati di test:\")\n",
    "print(f\"Accuratezza: {accuracy:.3f}\")\n",
    "print(f\"Precisione: {precision:.3f}\")\n",
    "print(f\"Richiamo: {recall:.3f}\")\n",
    "print(f\"F1-score: {f1:.3f}\")\n"
   ]
  },
  {
   "cell_type": "code",
   "execution_count": 70,
   "metadata": {},
   "outputs": [
    {
     "data": {
      "image/png": "[encoded data removed]",
      "text/plain": [
       "<Figure size 800x600 with 2 Axes>"
      ]
     },
     "metadata": {},
     "output_type": "display_data"
    }
   ],
   "source": [
    "conf_matrix = confusion_matrix(y_test, y_pred)\n",
    "\n",
    "# Visualizzazione della matrice di confusione\n",
    "plt.figure(figsize=(8, 6))\n",
    "sns.heatmap(conf_matrix, annot=True, cmap=\"Blues\", fmt=\"d\", xticklabels=['Control', 'ASD'], yticklabels=['Control', 'ASD'])\n",
    "plt.xlabel('Predicted Label')\n",
    "plt.ylabel('True Label')\n",
    "plt.title('Confusion Matrix')\n",
    "plt.show()\n"
   ]
  },
  {
   "cell_type": "markdown",
   "metadata": {},
   "source": [
    "# Support vector machine"
   ]
  },
  {
   "cell_type": "code",
   "execution_count": 71,
   "metadata": {},
   "outputs": [
    {
     "name": "stdout",
     "output_type": "stream",
     "text": [
      "Risultati della cross-validation per tutte le combinazioni di iperparametri:\n",
      "Parameters: {'classifier__estimator__C': 1}, Accuracy: 0.899 (±0.023), Precision: 0.956, Recall: 0.837, F1-score: 0.892\n",
      "\n",
      "Best Parameter founded:\n",
      "1\n",
      "Accuracy with theBest Parameter: 0.8990044247787612\n"
     ]
    }
   ],
   "source": [
    "classifier = CalibratedClassifierCV(LinearSVC(dual=False))\n",
    "svc_model, svc_parameter, svc_accuracy, _ = general_pipeline(X_SMOTE, Y_SMOTE, classifier)"
   ]
  },
  {
   "cell_type": "code",
   "execution_count": 72,
   "metadata": {},
   "outputs": [
    {
     "name": "stdout",
     "output_type": "stream",
     "text": [
      "\n",
      "Valutazione del modello sui dati di test:\n",
      "Accuratezza: 0.925\n",
      "Precisione: 0.965\n",
      "Richiamo: 0.909\n",
      "F1-score: 0.936\n"
     ]
    }
   ],
   "source": [
    "# Valutazione del modello sui dati di test\n",
    "y_pred = svc_model.predict(X_test)\n",
    "\n",
    "# Calcolo delle metriche sui dati di test\n",
    "accuracy = accuracy_score(y_test, y_pred)\n",
    "precision = precision_score(y_test, y_pred)\n",
    "recall = recall_score(y_test, y_pred)\n",
    "f1 = f1_score(y_test, y_pred)\n",
    "\n",
    "print(\"\\nValutazione del modello sui dati di test:\")\n",
    "print(f\"Accuratezza: {accuracy:.3f}\")\n",
    "print(f\"Precisione: {precision:.3f}\")\n",
    "print(f\"Richiamo: {recall:.3f}\")\n",
    "print(f\"F1-score: {f1:.3f}\")\n"
   ]
  },
  {
   "cell_type": "code",
   "execution_count": 73,
   "metadata": {},
   "outputs": [
    {
     "data": {
      "image/png": "[encoded data removed]",
      "text/plain": [
       "<Figure size 800x600 with 2 Axes>"
      ]
     },
     "metadata": {},
     "output_type": "display_data"
    }
   ],
   "source": [
    "conf_matrix = confusion_matrix(y_test, y_pred)\n",
    "\n",
    "# Visualizzazione della matrice di confusione\n",
    "plt.figure(figsize=(8, 6))\n",
    "sns.heatmap(conf_matrix, annot=True, cmap=\"Blues\", fmt=\"d\", xticklabels=['Control', 'ASD'], yticklabels=['Control', 'ASD'])\n",
    "plt.xlabel('Predicted Label')\n",
    "plt.ylabel('True Label')\n",
    "plt.title('Confusion Matrix')\n",
    "plt.show()\n"
   ]
  },
  {
   "cell_type": "markdown",
   "metadata": {},
   "source": [
    "# Comparison Between Classifiers"
   ]
  },
  {
   "cell_type": "code",
   "execution_count": 74,
   "metadata": {},
   "outputs": [
    {
     "name": "stdout",
     "output_type": "stream",
     "text": [
      "K-Nearest Neighbors Classifier AUC-ROC: 0.9376549586776859\n",
      "Random Forest Classifier AUC-ROC: 0.9829545454545455\n",
      "Support vector Classifier AUC-ROC: 0.9759297520661157\n"
     ]
    }
   ],
   "source": [
    "# Define a function to evaluate the AUC-ROC for a given model\n",
    "def evaluate_roc_auc(model, X_test, y_test):\n",
    "    y_proba = model.predict_proba(X_test)[:, 1]\n",
    "    auc_roc = roc_auc_score(y_test, y_proba)\n",
    "    return auc_roc\n",
    "\n",
    "knn_auc_roc = evaluate_roc_auc(knn_model, X_test, y_test)\n",
    "rf_auc_roc = evaluate_roc_auc(rf_model, X_test, y_test)\n",
    "svc_auc_roc = evaluate_roc_auc(svc_model, X_test, y_test)\n",
    "\n",
    "# Print the results\n",
    "print(\"K-Nearest Neighbors Classifier AUC-ROC:\", knn_auc_roc)\n",
    "print(\"Random Forest Classifier AUC-ROC:\", rf_auc_roc)\n",
    "print(\"Support vector Classifier AUC-ROC:\", svc_auc_roc)\n"
   ]
  },
  {
   "cell_type": "code",
   "execution_count": 75,
   "metadata": {},
   "outputs": [
    {
     "data": {
      "image/png": "[encoded data removed]",
      "text/plain": [
       "<Figure size 800x600 with 1 Axes>"
      ]
     },
     "metadata": {},
     "output_type": "display_data"
    }
   ],
   "source": [
    "# Define a function to plot the ROC curve for a given model\n",
    "def plot_roc_curve(model, X_test, y_test, model_name):\n",
    "    y_proba = model.predict_proba(X_test)[:, 1]\n",
    "    fpr, tpr, _ = roc_curve(y_test, y_proba)\n",
    "    plt.plot(fpr, tpr, label=model_name)\n",
    "    plt.xlabel('False Positive Rate')\n",
    "    plt.ylabel('True Positive Rate')\n",
    "    plt.title('ROC Curve')\n",
    "    plt.legend()\n",
    "    plt.grid(True)\n",
    "\n",
    "# Plot ROC curve for both models\n",
    "y_test_binary = (y_test == 2).astype(int)\n",
    "\n",
    "plt.figure(figsize=(8, 6))\n",
    "plot_roc_curve(knn_model, X_test, y_test_binary, 'K-Nearest Neighbors Classifier')\n",
    "plot_roc_curve(rf_model, X_test, y_test_binary, 'Random Forest Classifier')\n",
    "plot_roc_curve(svc_model, X_test, y_test_binary, 'Support vector Classifier')\n",
    "plt.show()\n"
   ]
  },
  {
   "cell_type": "markdown",
   "metadata": {},
   "source": [
    "# Feature selection"
   ]
  },
  {
   "cell_type": "code",
   "execution_count": 76,
   "metadata": {},
   "outputs": [
    {
     "name": "stdout",
     "output_type": "stream",
     "text": [
      "Risultati della cross-validation per tutte le combinazioni di iperparametri:\n",
      "Parameters: {'classifier__n_neighbors': 9, 'feature_selection__k': 1}, Accuracy: 0.840 (±0.008), Precision: 0.917, Recall: 0.767, F1-score: 0.826\n",
      "Parameters: {'classifier__n_neighbors': 9, 'feature_selection__k': 2}, Accuracy: 0.897 (±0.014), Precision: 0.977, Recall: 0.816, F1-score: 0.888\n",
      "Parameters: {'classifier__n_neighbors': 9, 'feature_selection__k': 3}, Accuracy: 0.879 (±0.017), Precision: 0.936, Recall: 0.819, F1-score: 0.871\n",
      "Parameters: {'classifier__n_neighbors': 9, 'feature_selection__k': 4}, Accuracy: 0.879 (±0.017), Precision: 0.936, Recall: 0.819, F1-score: 0.871\n",
      "Parameters: {'classifier__n_neighbors': 9, 'feature_selection__k': 5}, Accuracy: 0.887 (±0.015), Precision: 0.946, Recall: 0.826, F1-score: 0.878\n",
      "Parameters: {'classifier__n_neighbors': 9, 'feature_selection__k': 6}, Accuracy: 0.888 (±0.012), Precision: 0.946, Recall: 0.830, F1-score: 0.881\n",
      "Parameters: {'classifier__n_neighbors': 9, 'feature_selection__k': 7}, Accuracy: 0.888 (±0.012), Precision: 0.946, Recall: 0.830, F1-score: 0.881\n",
      "Parameters: {'classifier__n_neighbors': 9, 'feature_selection__k': 8}, Accuracy: 0.887 (±0.016), Precision: 0.953, Recall: 0.819, F1-score: 0.878\n",
      "Parameters: {'classifier__n_neighbors': 9, 'feature_selection__k': 9}, Accuracy: 0.887 (±0.016), Precision: 0.953, Recall: 0.819, F1-score: 0.878\n",
      "Parameters: {'classifier__n_neighbors': 9, 'feature_selection__k': 10}, Accuracy: 0.894 (±0.014), Precision: 0.963, Recall: 0.823, F1-score: 0.885\n",
      "Parameters: {'classifier__n_neighbors': 9, 'feature_selection__k': 11}, Accuracy: 0.872 (±0.028), Precision: 0.973, Recall: 0.766, F1-score: 0.857\n",
      "Parameters: {'classifier__n_neighbors': 9, 'feature_selection__k': 12}, Accuracy: 0.862 (±0.020), Precision: 0.977, Recall: 0.741, F1-score: 0.843\n",
      "Parameters: {'classifier__n_neighbors': 9, 'feature_selection__k': 13}, Accuracy: 0.851 (±0.022), Precision: 0.963, Recall: 0.731, F1-score: 0.830\n",
      "Parameters: {'classifier__n_neighbors': 9, 'feature_selection__k': 14}, Accuracy: 0.837 (±0.026), Precision: 0.945, Recall: 0.717, F1-score: 0.814\n",
      "Parameters: {'classifier__n_neighbors': 9, 'feature_selection__k': 15}, Accuracy: 0.837 (±0.028), Precision: 0.949, Recall: 0.713, F1-score: 0.813\n",
      "Parameters: {'classifier__n_neighbors': 9, 'feature_selection__k': 16}, Accuracy: 0.840 (±0.027), Precision: 0.949, Recall: 0.720, F1-score: 0.818\n",
      "Parameters: {'classifier__n_neighbors': 9, 'feature_selection__k': 17}, Accuracy: 0.842 (±0.024), Precision: 0.949, Recall: 0.724, F1-score: 0.820\n",
      "Parameters: {'classifier__n_neighbors': 9, 'feature_selection__k': 18}, Accuracy: 0.842 (±0.024), Precision: 0.949, Recall: 0.724, F1-score: 0.820\n",
      "Parameters: {'classifier__n_neighbors': 9, 'feature_selection__k': 19}, Accuracy: 0.840 (±0.023), Precision: 0.945, Recall: 0.724, F1-score: 0.819\n",
      "Parameters: {'classifier__n_neighbors': 9, 'feature_selection__k': 20}, Accuracy: 0.839 (±0.022), Precision: 0.950, Recall: 0.717, F1-score: 0.815\n",
      "Parameters: {'classifier__n_neighbors': 9, 'feature_selection__k': 21}, Accuracy: 0.840 (±0.025), Precision: 0.950, Recall: 0.720, F1-score: 0.818\n",
      "Parameters: {'classifier__n_neighbors': 9, 'feature_selection__k': 22}, Accuracy: nan (±nan), Precision: nan, Recall: nan, F1-score: nan\n",
      "Parameters: {'classifier__n_neighbors': 9, 'feature_selection__k': 23}, Accuracy: nan (±nan), Precision: nan, Recall: nan, F1-score: nan\n",
      "\n",
      "Best Parameter founded:\n",
      "9\n",
      "Accuracy with theBest Parameter: 0.8971554993678887\n",
      "\n",
      "Selected features are:\n",
      "Number of selected features: 2\n",
      "Selected features: ['num__ADI_R_VERBAL_TOTAL_BV' 'num__ADOS_TOTAL']\n",
      "\n",
      "Non selected features are:\n",
      "Number of non selected features: 21\n",
      "Selected features: ['num__AGE_AT_SCAN' 'num__SEX' 'num__FIQ' 'num__VIQ' 'num__PIQ'\n",
      " 'cat__FIQ_TEST_TYPE_DAS' 'cat__FIQ_TEST_TYPE_WAIS'\n",
      " 'cat__FIQ_TEST_TYPE_WASI' 'cat__FIQ_TEST_TYPE_WISC'\n",
      " 'cat__VIQ_TEST_TYPE_DAS' 'cat__VIQ_TEST_TYPE_PPVT'\n",
      " 'cat__VIQ_TEST_TYPE_STANFORD' 'cat__VIQ_TEST_TYPE_WAIS'\n",
      " 'cat__VIQ_TEST_TYPE_WASI' 'cat__VIQ_TEST_TYPE_WISC'\n",
      " 'cat__PIQ_TEST_TYPE_DAS' 'cat__PIQ_TEST_TYPE_RAVENS'\n",
      " 'cat__PIQ_TEST_TYPE_STANFORD' 'cat__PIQ_TEST_TYPE_WAIS'\n",
      " 'cat__PIQ_TEST_TYPE_WASI' 'cat__PIQ_TEST_TYPE_WISC']\n"
     ]
    },
    {
     "name": "stderr",
     "output_type": "stream",
     "text": [
      "c:\\Users\\nical\\anaconda3\\envs\\NicaDMML\\Lib\\site-packages\\sklearn\\model_selection\\_validation.py:425: FitFailedWarning: \n",
      "2 fits failed out of a total of 115.\n",
      "The score on these train-test partitions for these parameters will be set to nan.\n",
      "If these failures are not expected, you can try to debug them by setting error_score='raise'.\n",
      "\n",
      "Below are more details about the failures:\n",
      "--------------------------------------------------------------------------------\n",
      "1 fits failed with the following error:\n",
      "Traceback (most recent call last):\n",
      "  File \"c:\\Users\\nical\\anaconda3\\envs\\NicaDMML\\Lib\\site-packages\\sklearn\\model_selection\\_validation.py\", line 729, in _fit_and_score\n",
      "    estimator.fit(X_train, y_train, **fit_params)\n",
      "  File \"c:\\Users\\nical\\anaconda3\\envs\\NicaDMML\\Lib\\site-packages\\sklearn\\base.py\", line 1152, in wrapper\n",
      "    return fit_method(estimator, *args, **kwargs)\n",
      "           ^^^^^^^^^^^^^^^^^^^^^^^^^^^^^^^^^^^^^^\n",
      "  File \"c:\\Users\\nical\\anaconda3\\envs\\NicaDMML\\Lib\\site-packages\\sklearn\\pipeline.py\", line 423, in fit\n",
      "    Xt = self._fit(X, y, **fit_params_steps)\n",
      "         ^^^^^^^^^^^^^^^^^^^^^^^^^^^^^^^^^^^\n",
      "  File \"c:\\Users\\nical\\anaconda3\\envs\\NicaDMML\\Lib\\site-packages\\sklearn\\pipeline.py\", line 377, in _fit\n",
      "    X, fitted_transformer = fit_transform_one_cached(\n",
      "                            ^^^^^^^^^^^^^^^^^^^^^^^^^\n",
      "  File \"c:\\Users\\nical\\anaconda3\\envs\\NicaDMML\\Lib\\site-packages\\joblib\\memory.py\", line 353, in __call__\n",
      "    return self.func(*args, **kwargs)\n",
      "           ^^^^^^^^^^^^^^^^^^^^^^^^^^\n",
      "  File \"c:\\Users\\nical\\anaconda3\\envs\\NicaDMML\\Lib\\site-packages\\sklearn\\pipeline.py\", line 957, in _fit_transform_one\n",
      "    res = transformer.fit_transform(X, y, **fit_params)\n",
      "          ^^^^^^^^^^^^^^^^^^^^^^^^^^^^^^^^^^^^^^^^^^^^^\n",
      "  File \"c:\\Users\\nical\\anaconda3\\envs\\NicaDMML\\Lib\\site-packages\\sklearn\\utils\\_set_output.py\", line 157, in wrapped\n",
      "    data_to_wrap = f(self, X, *args, **kwargs)\n",
      "                   ^^^^^^^^^^^^^^^^^^^^^^^^^^^\n",
      "  File \"c:\\Users\\nical\\anaconda3\\envs\\NicaDMML\\Lib\\site-packages\\sklearn\\base.py\", line 919, in fit_transform\n",
      "    return self.fit(X, y, **fit_params).transform(X)\n",
      "           ^^^^^^^^^^^^^^^^^^^^^^^^^^^^\n",
      "  File \"c:\\Users\\nical\\anaconda3\\envs\\NicaDMML\\Lib\\site-packages\\sklearn\\base.py\", line 1152, in wrapper\n",
      "    return fit_method(estimator, *args, **kwargs)\n",
      "           ^^^^^^^^^^^^^^^^^^^^^^^^^^^^^^^^^^^^^^\n",
      "  File \"c:\\Users\\nical\\anaconda3\\envs\\NicaDMML\\Lib\\site-packages\\sklearn\\feature_selection\\_univariate_selection.py\", line 502, in fit\n",
      "    self._check_params(X, y)\n",
      "  File \"c:\\Users\\nical\\anaconda3\\envs\\NicaDMML\\Lib\\site-packages\\sklearn\\feature_selection\\_univariate_selection.py\", line 703, in _check_params\n",
      "    raise ValueError(\n",
      "ValueError: k should be <= n_features = 21; got 22. Use k='all' to return all features.\n",
      "\n",
      "--------------------------------------------------------------------------------\n",
      "1 fits failed with the following error:\n",
      "Traceback (most recent call last):\n",
      "  File \"c:\\Users\\nical\\anaconda3\\envs\\NicaDMML\\Lib\\site-packages\\sklearn\\model_selection\\_validation.py\", line 729, in _fit_and_score\n",
      "    estimator.fit(X_train, y_train, **fit_params)\n",
      "  File \"c:\\Users\\nical\\anaconda3\\envs\\NicaDMML\\Lib\\site-packages\\sklearn\\base.py\", line 1152, in wrapper\n",
      "    return fit_method(estimator, *args, **kwargs)\n",
      "           ^^^^^^^^^^^^^^^^^^^^^^^^^^^^^^^^^^^^^^\n",
      "  File \"c:\\Users\\nical\\anaconda3\\envs\\NicaDMML\\Lib\\site-packages\\sklearn\\pipeline.py\", line 423, in fit\n",
      "    Xt = self._fit(X, y, **fit_params_steps)\n",
      "         ^^^^^^^^^^^^^^^^^^^^^^^^^^^^^^^^^^^\n",
      "  File \"c:\\Users\\nical\\anaconda3\\envs\\NicaDMML\\Lib\\site-packages\\sklearn\\pipeline.py\", line 377, in _fit\n",
      "    X, fitted_transformer = fit_transform_one_cached(\n",
      "                            ^^^^^^^^^^^^^^^^^^^^^^^^^\n",
      "  File \"c:\\Users\\nical\\anaconda3\\envs\\NicaDMML\\Lib\\site-packages\\joblib\\memory.py\", line 353, in __call__\n",
      "    return self.func(*args, **kwargs)\n",
      "           ^^^^^^^^^^^^^^^^^^^^^^^^^^\n",
      "  File \"c:\\Users\\nical\\anaconda3\\envs\\NicaDMML\\Lib\\site-packages\\sklearn\\pipeline.py\", line 957, in _fit_transform_one\n",
      "    res = transformer.fit_transform(X, y, **fit_params)\n",
      "          ^^^^^^^^^^^^^^^^^^^^^^^^^^^^^^^^^^^^^^^^^^^^^\n",
      "  File \"c:\\Users\\nical\\anaconda3\\envs\\NicaDMML\\Lib\\site-packages\\sklearn\\utils\\_set_output.py\", line 157, in wrapped\n",
      "    data_to_wrap = f(self, X, *args, **kwargs)\n",
      "                   ^^^^^^^^^^^^^^^^^^^^^^^^^^^\n",
      "  File \"c:\\Users\\nical\\anaconda3\\envs\\NicaDMML\\Lib\\site-packages\\sklearn\\base.py\", line 919, in fit_transform\n",
      "    return self.fit(X, y, **fit_params).transform(X)\n",
      "           ^^^^^^^^^^^^^^^^^^^^^^^^^^^^\n",
      "  File \"c:\\Users\\nical\\anaconda3\\envs\\NicaDMML\\Lib\\site-packages\\sklearn\\base.py\", line 1152, in wrapper\n",
      "    return fit_method(estimator, *args, **kwargs)\n",
      "           ^^^^^^^^^^^^^^^^^^^^^^^^^^^^^^^^^^^^^^\n",
      "  File \"c:\\Users\\nical\\anaconda3\\envs\\NicaDMML\\Lib\\site-packages\\sklearn\\feature_selection\\_univariate_selection.py\", line 502, in fit\n",
      "    self._check_params(X, y)\n",
      "  File \"c:\\Users\\nical\\anaconda3\\envs\\NicaDMML\\Lib\\site-packages\\sklearn\\feature_selection\\_univariate_selection.py\", line 703, in _check_params\n",
      "    raise ValueError(\n",
      "ValueError: k should be <= n_features = 21; got 23. Use k='all' to return all features.\n",
      "\n",
      "  warnings.warn(some_fits_failed_message, FitFailedWarning)\n",
      "c:\\Users\\nical\\anaconda3\\envs\\NicaDMML\\Lib\\site-packages\\sklearn\\model_selection\\_search.py:979: UserWarning: One or more of the test scores are non-finite: [0.84043932 0.8971555  0.87944058 0.87944058 0.88655183 0.88832174\n",
      " 0.88832174 0.88655183 0.88655183 0.89363148 0.87234513 0.86170986\n",
      " 0.851122   0.8369311  0.8369311  0.84047092 0.84224083 0.84224083\n",
      " 0.84047092 0.83870101 0.84048673        nan        nan]\n",
      "  warnings.warn(\n",
      "c:\\Users\\nical\\anaconda3\\envs\\NicaDMML\\Lib\\site-packages\\sklearn\\model_selection\\_search.py:979: UserWarning: One or more of the test scores are non-finite: [0.91702507 0.97737374 0.93641188 0.93641188 0.94590358 0.94600929\n",
      " 0.94600929 0.95273883 0.95273883 0.96250292 0.9729023  0.9770028\n",
      " 0.96335195 0.94510425 0.94857386 0.94911284 0.94938275 0.94938275\n",
      " 0.94548204 0.9502169  0.95032261        nan        nan]\n",
      "  warnings.warn(\n",
      "c:\\Users\\nical\\anaconda3\\envs\\NicaDMML\\Lib\\site-packages\\sklearn\\model_selection\\_search.py:979: UserWarning: One or more of the test scores are non-finite: [0.76666667 0.81553885 0.81917293 0.81917293 0.82619048 0.82969925\n",
      " 0.82969925 0.81923559 0.81923559 0.82274436 0.76610276 0.74135338\n",
      " 0.73070175 0.71666667 0.71309524 0.72017544 0.72368421 0.72368421\n",
      " 0.72368421 0.71666667 0.7202381         nan        nan]\n",
      "  warnings.warn(\n",
      "c:\\Users\\nical\\anaconda3\\envs\\NicaDMML\\Lib\\site-packages\\sklearn\\model_selection\\_search.py:979: UserWarning: One or more of the test scores are non-finite: [0.82570639 0.88786254 0.87132059 0.87132059 0.87849622 0.88079325\n",
      " 0.88079325 0.87774363 0.87774363 0.88486432 0.85683697 0.84250183\n",
      " 0.83044694 0.81397801 0.81299077 0.81780627 0.82039399 0.82039399\n",
      " 0.81875097 0.81538453 0.81768756        nan        nan]\n",
      "  warnings.warn(\n"
     ]
    }
   ],
   "source": [
    "classifier = KNeighborsClassifier()\n",
    "\n",
    "fs_KNN, fs_KNN_parameter, fs_KNN_accuracy, fs_KNN_selected_features = general_pipeline(X_SMOTE, Y_SMOTE, classifier, parameters_grid_search = [9], feature_selector=True)"
   ]
  },
  {
   "cell_type": "code",
   "execution_count": 77,
   "metadata": {},
   "outputs": [
    {
     "name": "stdout",
     "output_type": "stream",
     "text": [
      "\n",
      "Valutazione del modello sui dati di test:\n",
      "Accuratezza: 0.915\n",
      "Precisione: 0.956\n",
      "Richiamo: 0.901\n",
      "F1-score: 0.928\n"
     ]
    }
   ],
   "source": [
    "# Valutazione del modello sui dati di test\n",
    "y_pred = fs_KNN.predict(X_test)\n",
    "\n",
    "# Calcolo delle metriche sui dati di test\n",
    "accuracy = accuracy_score(y_test, y_pred)\n",
    "precision = precision_score(y_test, y_pred)\n",
    "recall = recall_score(y_test, y_pred)\n",
    "f1 = f1_score(y_test, y_pred)\n",
    "\n",
    "print(\"\\nValutazione del modello sui dati di test:\")\n",
    "print(f\"Accuratezza: {accuracy:.3f}\")\n",
    "print(f\"Precisione: {precision:.3f}\")\n",
    "print(f\"Richiamo: {recall:.3f}\")\n",
    "print(f\"F1-score: {f1:.3f}\")"
   ]
  },
  {
   "cell_type": "code",
   "execution_count": 78,
   "metadata": {},
   "outputs": [
    {
     "name": "stdout",
     "output_type": "stream",
     "text": [
      "Risultati della cross-validation per tutte le combinazioni di iperparametri:\n",
      "Parameters: {'classifier__n_estimators': 10, 'feature_selection__n_features_to_select': 1}, Accuracy: 0.851 (±0.020), Precision: 1.000, Recall: 0.702, F1-score: 0.824\n",
      "Parameters: {'classifier__n_estimators': 10, 'feature_selection__n_features_to_select': 2}, Accuracy: 0.910 (±0.015), Precision: 0.951, Recall: 0.869, F1-score: 0.905\n",
      "Parameters: {'classifier__n_estimators': 10, 'feature_selection__n_features_to_select': 3}, Accuracy: 0.892 (±0.019), Precision: 0.904, Recall: 0.879, F1-score: 0.891\n",
      "Parameters: {'classifier__n_estimators': 10, 'feature_selection__n_features_to_select': 4}, Accuracy: 0.901 (±0.023), Precision: 0.933, Recall: 0.869, F1-score: 0.898\n",
      "Parameters: {'classifier__n_estimators': 10, 'feature_selection__n_features_to_select': 5}, Accuracy: 0.899 (±0.030), Precision: 0.923, Recall: 0.876, F1-score: 0.897\n",
      "Parameters: {'classifier__n_estimators': 10, 'feature_selection__n_features_to_select': 6}, Accuracy: 0.910 (±0.021), Precision: 0.925, Recall: 0.893, F1-score: 0.908\n",
      "Parameters: {'classifier__n_estimators': 10, 'feature_selection__n_features_to_select': 7}, Accuracy: 0.901 (±0.036), Precision: 0.907, Recall: 0.897, F1-score: 0.901\n",
      "Parameters: {'classifier__n_estimators': 10, 'feature_selection__n_features_to_select': 8}, Accuracy: 0.908 (±0.020), Precision: 0.924, Recall: 0.894, F1-score: 0.907\n",
      "Parameters: {'classifier__n_estimators': 10, 'feature_selection__n_features_to_select': 9}, Accuracy: 0.895 (±0.022), Precision: 0.905, Recall: 0.890, F1-score: 0.895\n",
      "Parameters: {'classifier__n_estimators': 10, 'feature_selection__n_features_to_select': 10}, Accuracy: 0.922 (±0.018), Precision: 0.949, Recall: 0.894, F1-score: 0.920\n",
      "Parameters: {'classifier__n_estimators': 10, 'feature_selection__n_features_to_select': 11}, Accuracy: 0.906 (±0.018), Precision: 0.921, Recall: 0.894, F1-score: 0.905\n",
      "Parameters: {'classifier__n_estimators': 10, 'feature_selection__n_features_to_select': 12}, Accuracy: 0.917 (±0.021), Precision: 0.944, Recall: 0.886, F1-score: 0.913\n",
      "Parameters: {'classifier__n_estimators': 10, 'feature_selection__n_features_to_select': 13}, Accuracy: 0.908 (±0.014), Precision: 0.935, Recall: 0.879, F1-score: 0.905\n",
      "Parameters: {'classifier__n_estimators': 10, 'feature_selection__n_features_to_select': 14}, Accuracy: 0.911 (±0.023), Precision: 0.910, Recall: 0.915, F1-score: 0.911\n",
      "Parameters: {'classifier__n_estimators': 10, 'feature_selection__n_features_to_select': 15}, Accuracy: 0.906 (±0.019), Precision: 0.924, Recall: 0.886, F1-score: 0.904\n",
      "Parameters: {'classifier__n_estimators': 10, 'feature_selection__n_features_to_select': 16}, Accuracy: 0.911 (±0.011), Precision: 0.933, Recall: 0.890, F1-score: 0.909\n",
      "Parameters: {'classifier__n_estimators': 10, 'feature_selection__n_features_to_select': 17}, Accuracy: 0.906 (±0.020), Precision: 0.928, Recall: 0.883, F1-score: 0.904\n",
      "Parameters: {'classifier__n_estimators': 10, 'feature_selection__n_features_to_select': 18}, Accuracy: 0.911 (±0.024), Precision: 0.929, Recall: 0.897, F1-score: 0.911\n",
      "Parameters: {'classifier__n_estimators': 10, 'feature_selection__n_features_to_select': 19}, Accuracy: 0.920 (±0.018), Precision: 0.937, Recall: 0.904, F1-score: 0.919\n",
      "Parameters: {'classifier__n_estimators': 10, 'feature_selection__n_features_to_select': 20}, Accuracy: 0.917 (±0.030), Precision: 0.923, Recall: 0.911, F1-score: 0.916\n",
      "Parameters: {'classifier__n_estimators': 10, 'feature_selection__n_features_to_select': 21}, Accuracy: 0.917 (±0.014), Precision: 0.934, Recall: 0.901, F1-score: 0.915\n",
      "Parameters: {'classifier__n_estimators': 10, 'feature_selection__n_features_to_select': 22}, Accuracy: 0.913 (±0.019), Precision: 0.928, Recall: 0.897, F1-score: 0.911\n",
      "Parameters: {'classifier__n_estimators': 10, 'feature_selection__n_features_to_select': 23}, Accuracy: 0.917 (±0.016), Precision: 0.933, Recall: 0.901, F1-score: 0.915\n",
      "\n",
      "Best Parameter founded:\n",
      "10\n",
      "Accuracy with theBest Parameter: 0.9220290771175726\n",
      "\n",
      "Selected features are:\n",
      "Number of selected features: 10\n",
      "Selected features: ['num__AGE_AT_SCAN' 'num__FIQ' 'num__VIQ' 'num__PIQ'\n",
      " 'num__ADI_R_VERBAL_TOTAL_BV' 'num__ADOS_TOTAL' 'cat__FIQ_TEST_TYPE_WISC'\n",
      " 'cat__VIQ_TEST_TYPE_WASI' 'cat__PIQ_TEST_TYPE_RAVENS'\n",
      " 'cat__PIQ_TEST_TYPE_WASI']\n",
      "\n",
      "Non selected features are:\n",
      "Number of non selected features: 13\n",
      "Selected features: ['num__SEX' 'cat__FIQ_TEST_TYPE_DAS' 'cat__FIQ_TEST_TYPE_WAIS'\n",
      " 'cat__FIQ_TEST_TYPE_WASI' 'cat__VIQ_TEST_TYPE_DAS'\n",
      " 'cat__VIQ_TEST_TYPE_PPVT' 'cat__VIQ_TEST_TYPE_STANFORD'\n",
      " 'cat__VIQ_TEST_TYPE_WAIS' 'cat__VIQ_TEST_TYPE_WISC'\n",
      " 'cat__PIQ_TEST_TYPE_DAS' 'cat__PIQ_TEST_TYPE_STANFORD'\n",
      " 'cat__PIQ_TEST_TYPE_WAIS' 'cat__PIQ_TEST_TYPE_WISC']\n"
     ]
    }
   ],
   "source": [
    "classifier = RandomForestClassifier(random_state=1234)\n",
    "\n",
    "fs_RF, fs_RF_parameter, fs_RF_accuracy, fs_RF_selected_features = general_pipeline(X_SMOTE, Y_SMOTE, classifier, parameters_grid_search = [10], feature_selector=True)"
   ]
  },
  {
   "cell_type": "code",
   "execution_count": 79,
   "metadata": {},
   "outputs": [
    {
     "name": "stdout",
     "output_type": "stream",
     "text": [
      "\n",
      "Valutazione del modello sui dati di test:\n",
      "Accuratezza: 0.930\n",
      "Precisione: 0.921\n",
      "Richiamo: 0.967\n",
      "F1-score: 0.944\n"
     ]
    }
   ],
   "source": [
    "# Valutazione del modello sui dati di test\n",
    "y_pred = fs_RF.predict(X_test)\n",
    "\n",
    "# Calcolo delle metriche sui dati di test\n",
    "accuracy = accuracy_score(y_test, y_pred)\n",
    "precision = precision_score(y_test, y_pred)\n",
    "recall = recall_score(y_test, y_pred)\n",
    "f1 = f1_score(y_test, y_pred)\n",
    "\n",
    "print(\"\\nValutazione del modello sui dati di test:\")\n",
    "print(f\"Accuratezza: {accuracy:.3f}\")\n",
    "print(f\"Precisione: {precision:.3f}\")\n",
    "print(f\"Richiamo: {recall:.3f}\")\n",
    "print(f\"F1-score: {f1:.3f}\")"
   ]
  },
  {
   "cell_type": "code",
   "execution_count": 80,
   "metadata": {},
   "outputs": [
    {
     "name": "stdout",
     "output_type": "stream",
     "text": [
      "Risultati della cross-validation per tutte le combinazioni di iperparametri:\n",
      "Parameters: {'classifier__estimator__C': 1, 'feature_selection__n_features_to_select': 1}, Accuracy: 0.796 (±0.116), Precision: 0.978, Recall: 0.595, F1-score: 0.712\n",
      "Parameters: {'classifier__estimator__C': 1, 'feature_selection__n_features_to_select': 2}, Accuracy: 0.828 (±0.010), Precision: 0.961, Recall: 0.688, F1-score: 0.799\n",
      "Parameters: {'classifier__estimator__C': 1, 'feature_selection__n_features_to_select': 3}, Accuracy: 0.833 (±0.014), Precision: 0.967, Recall: 0.692, F1-score: 0.806\n",
      "Parameters: {'classifier__estimator__C': 1, 'feature_selection__n_features_to_select': 4}, Accuracy: 0.839 (±0.015), Precision: 0.951, Recall: 0.716, F1-score: 0.816\n",
      "Parameters: {'classifier__estimator__C': 1, 'feature_selection__n_features_to_select': 5}, Accuracy: 0.840 (±0.027), Precision: 0.955, Recall: 0.716, F1-score: 0.817\n",
      "Parameters: {'classifier__estimator__C': 1, 'feature_selection__n_features_to_select': 6}, Accuracy: 0.867 (±0.031), Precision: 0.964, Recall: 0.762, F1-score: 0.851\n",
      "Parameters: {'classifier__estimator__C': 1, 'feature_selection__n_features_to_select': 7}, Accuracy: 0.871 (±0.033), Precision: 0.973, Recall: 0.762, F1-score: 0.854\n",
      "Parameters: {'classifier__estimator__C': 1, 'feature_selection__n_features_to_select': 8}, Accuracy: 0.872 (±0.031), Precision: 0.973, Recall: 0.766, F1-score: 0.856\n",
      "Parameters: {'classifier__estimator__C': 1, 'feature_selection__n_features_to_select': 9}, Accuracy: 0.876 (±0.022), Precision: 0.961, Recall: 0.784, F1-score: 0.863\n",
      "Parameters: {'classifier__estimator__C': 1, 'feature_selection__n_features_to_select': 10}, Accuracy: 0.878 (±0.025), Precision: 0.958, Recall: 0.791, F1-score: 0.866\n",
      "Parameters: {'classifier__estimator__C': 1, 'feature_selection__n_features_to_select': 11}, Accuracy: 0.876 (±0.022), Precision: 0.958, Recall: 0.787, F1-score: 0.864\n",
      "Parameters: {'classifier__estimator__C': 1, 'feature_selection__n_features_to_select': 12}, Accuracy: 0.876 (±0.022), Precision: 0.958, Recall: 0.787, F1-score: 0.864\n",
      "Parameters: {'classifier__estimator__C': 1, 'feature_selection__n_features_to_select': 13}, Accuracy: 0.876 (±0.022), Precision: 0.955, Recall: 0.791, F1-score: 0.865\n",
      "Parameters: {'classifier__estimator__C': 1, 'feature_selection__n_features_to_select': 14}, Accuracy: 0.878 (±0.022), Precision: 0.956, Recall: 0.794, F1-score: 0.867\n",
      "Parameters: {'classifier__estimator__C': 1, 'feature_selection__n_features_to_select': 15}, Accuracy: 0.890 (±0.023), Precision: 0.963, Recall: 0.812, F1-score: 0.881\n",
      "Parameters: {'classifier__estimator__C': 1, 'feature_selection__n_features_to_select': 16}, Accuracy: 0.895 (±0.026), Precision: 0.953, Recall: 0.834, F1-score: 0.889\n",
      "Parameters: {'classifier__estimator__C': 1, 'feature_selection__n_features_to_select': 17}, Accuracy: 0.895 (±0.026), Precision: 0.956, Recall: 0.830, F1-score: 0.888\n",
      "Parameters: {'classifier__estimator__C': 1, 'feature_selection__n_features_to_select': 18}, Accuracy: 0.895 (±0.026), Precision: 0.956, Recall: 0.830, F1-score: 0.888\n",
      "Parameters: {'classifier__estimator__C': 1, 'feature_selection__n_features_to_select': 19}, Accuracy: 0.897 (±0.026), Precision: 0.956, Recall: 0.834, F1-score: 0.890\n",
      "Parameters: {'classifier__estimator__C': 1, 'feature_selection__n_features_to_select': 20}, Accuracy: 0.899 (±0.023), Precision: 0.956, Recall: 0.837, F1-score: 0.892\n",
      "Parameters: {'classifier__estimator__C': 1, 'feature_selection__n_features_to_select': 21}, Accuracy: 0.899 (±0.023), Precision: 0.956, Recall: 0.837, F1-score: 0.892\n",
      "Parameters: {'classifier__estimator__C': 1, 'feature_selection__n_features_to_select': 22}, Accuracy: 0.899 (±0.023), Precision: 0.956, Recall: 0.837, F1-score: 0.892\n",
      "Parameters: {'classifier__estimator__C': 1, 'feature_selection__n_features_to_select': 23}, Accuracy: 0.899 (±0.023), Precision: 0.956, Recall: 0.837, F1-score: 0.892\n",
      "\n",
      "Best Parameter founded:\n",
      "1\n",
      "Accuracy with theBest Parameter: 0.8990044247787612\n",
      "\n",
      "Selected features are:\n",
      "Number of selected features: 20\n",
      "Selected features: ['num__AGE_AT_SCAN' 'num__SEX' 'num__FIQ' 'num__PIQ'\n",
      " 'num__ADI_R_VERBAL_TOTAL_BV' 'num__ADOS_TOTAL' 'cat__FIQ_TEST_TYPE_DAS'\n",
      " 'cat__FIQ_TEST_TYPE_WAIS' 'cat__FIQ_TEST_TYPE_WASI'\n",
      " 'cat__FIQ_TEST_TYPE_WISC' 'cat__VIQ_TEST_TYPE_DAS'\n",
      " 'cat__VIQ_TEST_TYPE_PPVT' 'cat__VIQ_TEST_TYPE_WAIS'\n",
      " 'cat__VIQ_TEST_TYPE_WASI' 'cat__VIQ_TEST_TYPE_WISC'\n",
      " 'cat__PIQ_TEST_TYPE_DAS' 'cat__PIQ_TEST_TYPE_RAVENS'\n",
      " 'cat__PIQ_TEST_TYPE_WAIS' 'cat__PIQ_TEST_TYPE_WASI'\n",
      " 'cat__PIQ_TEST_TYPE_WISC']\n",
      "\n",
      "Non selected features are:\n",
      "Number of non selected features: 3\n",
      "Selected features: ['num__VIQ' 'cat__VIQ_TEST_TYPE_STANFORD' 'cat__PIQ_TEST_TYPE_STANFORD']\n"
     ]
    }
   ],
   "source": [
    "classifier = CalibratedClassifierCV(LinearSVC(dual=False))\n",
    "\n",
    "fs_SVM, fs_SVM_parameter, fs_SVM_accuracy, fs_SVM_selected_features = general_pipeline(X_SMOTE, Y_SMOTE, classifier, feature_selector=True)"
   ]
  },
  {
   "cell_type": "code",
   "execution_count": 81,
   "metadata": {},
   "outputs": [
    {
     "name": "stdout",
     "output_type": "stream",
     "text": [
      "\n",
      "Valutazione del modello sui dati di test:\n",
      "Accuratezza: 0.925\n",
      "Precisione: 0.965\n",
      "Richiamo: 0.909\n",
      "F1-score: 0.936\n"
     ]
    }
   ],
   "source": [
    "# Valutazione del modello sui dati di test\n",
    "y_pred = fs_SVM.predict(X_test)\n",
    "\n",
    "# Calcolo delle metriche sui dati di test\n",
    "accuracy = accuracy_score(y_test, y_pred)\n",
    "precision = precision_score(y_test, y_pred)\n",
    "recall = recall_score(y_test, y_pred)\n",
    "f1 = f1_score(y_test, y_pred)\n",
    "\n",
    "print(\"\\nValutazione del modello sui dati di test:\")\n",
    "print(f\"Accuratezza: {accuracy:.3f}\")\n",
    "print(f\"Precisione: {precision:.3f}\")\n",
    "print(f\"Richiamo: {recall:.3f}\")\n",
    "print(f\"F1-score: {f1:.3f}\")"
   ]
  },
  {
   "cell_type": "markdown",
   "metadata": {},
   "source": [
    "# Outliers detection"
   ]
  },
  {
   "cell_type": "code",
   "execution_count": 82,
   "metadata": {},
   "outputs": [
    {
     "data": {
      "text/html": [
       "<div>\n",
       "<style scoped>\n",
       "    .dataframe tbody tr th:only-of-type {\n",
       "        vertical-align: middle;\n",
       "    }\n",
       "\n",
       "    .dataframe tbody tr th {\n",
       "        vertical-align: top;\n",
       "    }\n",
       "\n",
       "    .dataframe thead th {\n",
       "        text-align: right;\n",
       "    }\n",
       "</style>\n",
       "<table border=\"1\" class=\"dataframe\">\n",
       "  <thead>\n",
       "    <tr style=\"text-align: right;\">\n",
       "      <th></th>\n",
       "      <th>AGE_AT_SCAN</th>\n",
       "      <th>SEX</th>\n",
       "      <th>FIQ</th>\n",
       "      <th>VIQ</th>\n",
       "      <th>PIQ</th>\n",
       "      <th>ADI_R_VERBAL_TOTAL_BV</th>\n",
       "      <th>ADOS_TOTAL</th>\n",
       "    </tr>\n",
       "  </thead>\n",
       "  <tbody>\n",
       "    <tr>\n",
       "      <th>count</th>\n",
       "      <td>668.000000</td>\n",
       "      <td>668.000000</td>\n",
       "      <td>668.000000</td>\n",
       "      <td>668.000000</td>\n",
       "      <td>668.000000</td>\n",
       "      <td>668.000000</td>\n",
       "      <td>668.000000</td>\n",
       "    </tr>\n",
       "    <tr>\n",
       "      <th>mean</th>\n",
       "      <td>16.276463</td>\n",
       "      <td>1.118263</td>\n",
       "      <td>107.514649</td>\n",
       "      <td>106.976190</td>\n",
       "      <td>106.287425</td>\n",
       "      <td>11.812874</td>\n",
       "      <td>9.679641</td>\n",
       "    </tr>\n",
       "    <tr>\n",
       "      <th>std</th>\n",
       "      <td>7.183633</td>\n",
       "      <td>0.323162</td>\n",
       "      <td>15.333876</td>\n",
       "      <td>15.782631</td>\n",
       "      <td>16.113020</td>\n",
       "      <td>5.027005</td>\n",
       "      <td>3.751550</td>\n",
       "    </tr>\n",
       "    <tr>\n",
       "      <th>min</th>\n",
       "      <td>6.470000</td>\n",
       "      <td>1.000000</td>\n",
       "      <td>58.642857</td>\n",
       "      <td>54.888889</td>\n",
       "      <td>37.000000</td>\n",
       "      <td>4.000000</td>\n",
       "      <td>0.000000</td>\n",
       "    </tr>\n",
       "    <tr>\n",
       "      <th>25%</th>\n",
       "      <td>11.658575</td>\n",
       "      <td>1.000000</td>\n",
       "      <td>97.000000</td>\n",
       "      <td>97.000000</td>\n",
       "      <td>96.000000</td>\n",
       "      <td>8.000000</td>\n",
       "      <td>7.000000</td>\n",
       "    </tr>\n",
       "    <tr>\n",
       "      <th>50%</th>\n",
       "      <td>14.260000</td>\n",
       "      <td>1.000000</td>\n",
       "      <td>107.428571</td>\n",
       "      <td>108.000000</td>\n",
       "      <td>107.000000</td>\n",
       "      <td>9.000000</td>\n",
       "      <td>9.000000</td>\n",
       "    </tr>\n",
       "    <tr>\n",
       "      <th>75%</th>\n",
       "      <td>18.495100</td>\n",
       "      <td>1.000000</td>\n",
       "      <td>119.000000</td>\n",
       "      <td>118.000000</td>\n",
       "      <td>118.000000</td>\n",
       "      <td>16.000000</td>\n",
       "      <td>11.000000</td>\n",
       "    </tr>\n",
       "    <tr>\n",
       "      <th>max</th>\n",
       "      <td>64.000000</td>\n",
       "      <td>2.000000</td>\n",
       "      <td>148.000000</td>\n",
       "      <td>168.768116</td>\n",
       "      <td>157.000000</td>\n",
       "      <td>26.000000</td>\n",
       "      <td>22.000000</td>\n",
       "    </tr>\n",
       "  </tbody>\n",
       "</table>\n",
       "</div>"
      ],
      "text/plain": [
       "       AGE_AT_SCAN         SEX         FIQ         VIQ         PIQ  \\\n",
       "count   668.000000  668.000000  668.000000  668.000000  668.000000   \n",
       "mean     16.276463    1.118263  107.514649  106.976190  106.287425   \n",
       "std       7.183633    0.323162   15.333876   15.782631   16.113020   \n",
       "min       6.470000    1.000000   58.642857   54.888889   37.000000   \n",
       "25%      11.658575    1.000000   97.000000   97.000000   96.000000   \n",
       "50%      14.260000    1.000000  107.428571  108.000000  107.000000   \n",
       "75%      18.495100    1.000000  119.000000  118.000000  118.000000   \n",
       "max      64.000000    2.000000  148.000000  168.768116  157.000000   \n",
       "\n",
       "       ADI_R_VERBAL_TOTAL_BV  ADOS_TOTAL  \n",
       "count             668.000000  668.000000  \n",
       "mean               11.812874    9.679641  \n",
       "std                 5.027005    3.751550  \n",
       "min                 4.000000    0.000000  \n",
       "25%                 8.000000    7.000000  \n",
       "50%                 9.000000    9.000000  \n",
       "75%                16.000000   11.000000  \n",
       "max                26.000000   22.000000  "
      ]
     },
     "execution_count": 82,
     "metadata": {},
     "output_type": "execute_result"
    }
   ],
   "source": [
    "ASD_phenotypic.describe()"
   ]
  },
  {
   "cell_type": "code",
   "execution_count": 83,
   "metadata": {},
   "outputs": [],
   "source": [
    "#outlier_subjects.describe()"
   ]
  },
  {
   "cell_type": "code",
   "execution_count": 84,
   "metadata": {},
   "outputs": [
    {
     "data": {
      "text/plain": [
       "\"from sklearn.decomposition import PCA\\nimport matplotlib.pyplot as plt\\n\\n# Perform PCA for dimensionality reduction\\npca = PCA(n_components=2)\\nX_reduced = pca.fit_transform(X)\\noutliers = X_reduced[ASD_phenotypic_outliers['outlier'] == -1]\\n\\nlof_scores = lof.negative_outlier_factor_\\n\\n# Plot the data points with color indicating LOF scores\\nplt.figure(figsize=(10, 6))\\nplt.scatter(X_reduced[:, 0], X_reduced[:, 1], c=-lof_scores, cmap='hot_r', edgecolor='k', label='Inliers')\\nplt.colorbar(label='LOF Score')\\nplt.scatter(outliers[:, 0], outliers[:, 1], c='blue', edgecolor='k', marker='x', s=100, label='Outliers')  # Highlight outliers\\nplt.xlabel('PCA Component 1')\\nplt.ylabel('PCA Component 2')\\nplt.title('Data points with LOF scores')\\nplt.show()\""
      ]
     },
     "execution_count": 84,
     "metadata": {},
     "output_type": "execute_result"
    }
   ],
   "source": [
    "'''from sklearn.decomposition import PCA\n",
    "import matplotlib.pyplot as plt\n",
    "\n",
    "# Perform PCA for dimensionality reduction\n",
    "pca = PCA(n_components=2)\n",
    "X_reduced = pca.fit_transform(X)\n",
    "outliers = X_reduced[ASD_phenotypic_outliers['outlier'] == -1]\n",
    "\n",
    "lof_scores = lof.negative_outlier_factor_\n",
    "\n",
    "# Plot the data points with color indicating LOF scores\n",
    "plt.figure(figsize=(10, 6))\n",
    "plt.scatter(X_reduced[:, 0], X_reduced[:, 1], c=-lof_scores, cmap='hot_r', edgecolor='k', label='Inliers')\n",
    "plt.colorbar(label='LOF Score')\n",
    "plt.scatter(outliers[:, 0], outliers[:, 1], c='blue', edgecolor='k', marker='x', s=100, label='Outliers')  # Highlight outliers\n",
    "plt.xlabel('PCA Component 1')\n",
    "plt.ylabel('PCA Component 2')\n",
    "plt.title('Data points with LOF scores')\n",
    "plt.show()'''\n"
   ]
  },
  {
   "cell_type": "markdown",
   "metadata": {},
   "source": [
    "Let's see the changes in the data distribution per each feature"
   ]
  },
  {
   "cell_type": "code",
   "execution_count": 85,
   "metadata": {},
   "outputs": [
    {
     "data": {
      "text/plain": [
       "\"ASD_phenotypic_without_outliers = ASD_phenotypic[ASD_phenotypic_outliers['outlier'] == 1]\\nASD_diagnosis_without_outliers = ASD_diagnosis[ASD_phenotypic_outliers['outlier'] == 1]\\nof.plot_distributions(ASD_phenotypic_without_outliers)\""
      ]
     },
     "execution_count": 85,
     "metadata": {},
     "output_type": "execute_result"
    }
   ],
   "source": [
    "'''ASD_phenotypic_without_outliers = ASD_phenotypic[ASD_phenotypic_outliers['outlier'] == 1]\n",
    "ASD_diagnosis_without_outliers = ASD_diagnosis[ASD_phenotypic_outliers['outlier'] == 1]\n",
    "of.plot_distributions(ASD_phenotypic_without_outliers)'''"
   ]
  },
  {
   "cell_type": "code",
   "execution_count": 86,
   "metadata": {},
   "outputs": [],
   "source": [
    "#of.plot_distributions(ASD_phenotypic)"
   ]
  },
  {
   "cell_type": "markdown",
   "metadata": {},
   "source": [
    "let's see if this make a better training"
   ]
  },
  {
   "cell_type": "markdown",
   "metadata": {},
   "source": [
    "# Outlier Detection"
   ]
  },
  {
   "cell_type": "code",
   "execution_count": 99,
   "metadata": {},
   "outputs": [],
   "source": [
    "contamination_factor = [0.001, 0.0015, 0.006, 0.008]"
   ]
  },
  {
   "cell_type": "code",
   "execution_count": 101,
   "metadata": {},
   "outputs": [],
   "source": [
    "def outlier_detector(dataset, diagnosis, contamination_factor):\n",
    "    dataset_outliers = dataset.select_dtypes(include=[np.number])\n",
    "    X = dataset_outliers.values\n",
    "\n",
    "    # Initialize Local Outlier Factor\n",
    "    lof = LocalOutlierFactor(n_neighbors=10, contamination=contamination_factor)  # Adjust parameters as needed\n",
    "    '''n_neighbors | if too small: model sensible to noise and random outliers\n",
    "                 if too large: diculties in local outliers detection, in particular if in absence oa a uniform distribution\n",
    "       contamination | data portion expected as outliers'''\n",
    "    # Fit the model and predict outliers\n",
    "    outliers = lof.fit_predict(X)\n",
    "\n",
    "    # Print number of detected outliers\n",
    "    print(f\"___________________\\nNumber of outliers detected: {np.sum(outliers == -1)}\")\n",
    "\n",
    "    # outliers == -1 indicates outliers, 1 indicates inliers\n",
    "    dataset_outliers['outlier'] = outliers\n",
    "\n",
    "    outlier_subjects = dataset_outliers[dataset_outliers['outlier'] == -1]\n",
    "\n",
    "    pd.set_option('display.max_columns', None); outlier_subjects.T\n",
    "\n",
    "    dataset_without_outliers = dataset[dataset_outliers['outlier'] == 1]\n",
    "         \n",
    "    diagnosis_without_outliers = diagnosis[dataset_outliers['outlier'] == 1]\n",
    "\n",
    "    return dataset_without_outliers, diagnosis_without_outliers"
   ]
  },
  {
   "cell_type": "code",
   "execution_count": 102,
   "metadata": {},
   "outputs": [],
   "source": [
    "def evaluate_model(X_SMOTE, Y_SMOTE, X_test, y_test, classifier):\n",
    "    model, _, _, _ = general_pipeline(X_SMOTE, Y_SMOTE, classifier)\n",
    "    y_pred = model.predict(X_test)\n",
    "    accuracy = accuracy_score(y_test, y_pred)\n",
    "    return accuracy"
   ]
  },
  {
   "cell_type": "code",
   "execution_count": 103,
   "metadata": {},
   "outputs": [
    {
     "name": "stdout",
     "output_type": "stream",
     "text": [
      "___________________\n",
      "Number of outliers detected: 1\n",
      "\n",
      "_____\n",
      "Evaluating classifier: KNeighborsClassifier\n",
      "Risultati della cross-validation per tutte le combinazioni di iperparametri:\n",
      "Parameters: {'classifier__n_neighbors': 3}, Accuracy: 0.869 (±0.021), Precision: 0.946, Recall: 0.785, F1-score: 0.856\n",
      "Parameters: {'classifier__n_neighbors': 5}, Accuracy: 0.863 (±0.037), Precision: 0.969, Recall: 0.752, F1-score: 0.844\n",
      "Parameters: {'classifier__n_neighbors': 7}, Accuracy: 0.858 (±0.037), Precision: 0.979, Recall: 0.734, F1-score: 0.835\n",
      "Parameters: {'classifier__n_neighbors': 9}, Accuracy: 0.858 (±0.037), Precision: 0.987, Recall: 0.727, F1-score: 0.834\n",
      "Parameters: {'classifier__n_neighbors': 11}, Accuracy: 0.863 (±0.036), Precision: 0.991, Recall: 0.734, F1-score: 0.841\n",
      "\n",
      "Best Parameter founded:\n",
      "3\n",
      "Accuracy with theBest Parameter: 0.8687580437580437\n",
      "\n",
      "_____\n",
      "Evaluating classifier: RandomForestClassifier\n",
      "Risultati della cross-validation per tutte le combinazioni di iperparametri:\n",
      "Parameters: {'classifier__n_estimators': 10}, Accuracy: 0.914 (±0.031), Precision: 0.930, Recall: 0.896, F1-score: 0.912\n",
      "Parameters: {'classifier__n_estimators': 50}, Accuracy: 0.926 (±0.024), Precision: 0.968, Recall: 0.882, F1-score: 0.923\n",
      "Parameters: {'classifier__n_estimators': 200}, Accuracy: 0.928 (±0.025), Precision: 0.976, Recall: 0.878, F1-score: 0.924\n",
      "Parameters: {'classifier__n_estimators': 500}, Accuracy: 0.925 (±0.022), Precision: 0.969, Recall: 0.878, F1-score: 0.921\n",
      "Parameters: {'classifier__n_estimators': 1000}, Accuracy: 0.923 (±0.024), Precision: 0.969, Recall: 0.874, F1-score: 0.918\n",
      "\n",
      "Best Parameter founded:\n",
      "200\n",
      "Accuracy with theBest Parameter: 0.9281048906048908\n",
      "\n",
      "_____\n",
      "Evaluating classifier: CalibratedClassifierCV\n",
      "Risultati della cross-validation per tutte le combinazioni di iperparametri:\n",
      "Parameters: {'classifier__estimator__C': 1}, Accuracy: 0.910 (±0.023), Precision: 0.967, Recall: 0.849, F1-score: 0.904\n",
      "\n",
      "Best Parameter founded:\n",
      "1\n",
      "Accuracy with theBest Parameter: 0.9101351351351351\n",
      "___________________\n",
      "Number of outliers detected: 2\n",
      "\n",
      "_____\n",
      "Evaluating classifier: KNeighborsClassifier\n",
      "Risultati della cross-validation per tutte le combinazioni di iperparametri:\n",
      "Parameters: {'classifier__n_neighbors': 3}, Accuracy: 0.873 (±0.025), Precision: 0.948, Recall: 0.792, F1-score: 0.861\n",
      "Parameters: {'classifier__n_neighbors': 5}, Accuracy: 0.875 (±0.032), Precision: 0.970, Recall: 0.774, F1-score: 0.859\n",
      "Parameters: {'classifier__n_neighbors': 7}, Accuracy: 0.878 (±0.034), Precision: 0.973, Recall: 0.778, F1-score: 0.863\n",
      "Parameters: {'classifier__n_neighbors': 9}, Accuracy: 0.867 (±0.034), Precision: 0.969, Recall: 0.760, F1-score: 0.850\n",
      "Parameters: {'classifier__n_neighbors': 11}, Accuracy: 0.867 (±0.042), Precision: 0.969, Recall: 0.760, F1-score: 0.849\n",
      "\n",
      "Best Parameter founded:\n",
      "7\n",
      "Accuracy with theBest Parameter: 0.8782175032175032\n",
      "\n",
      "_____\n",
      "Evaluating classifier: RandomForestClassifier\n",
      "Risultati della cross-validation per tutte le combinazioni di iperparametri:\n",
      "Parameters: {'classifier__n_estimators': 10}, Accuracy: 0.927 (±0.027), Precision: 0.958, Recall: 0.893, F1-score: 0.924\n",
      "Parameters: {'classifier__n_estimators': 50}, Accuracy: 0.919 (±0.020), Precision: 0.959, Recall: 0.878, F1-score: 0.915\n",
      "Parameters: {'classifier__n_estimators': 200}, Accuracy: 0.918 (±0.017), Precision: 0.955, Recall: 0.878, F1-score: 0.914\n",
      "Parameters: {'classifier__n_estimators': 500}, Accuracy: 0.918 (±0.016), Precision: 0.955, Recall: 0.878, F1-score: 0.914\n",
      "Parameters: {'classifier__n_estimators': 1000}, Accuracy: 0.916 (±0.015), Precision: 0.955, Recall: 0.874, F1-score: 0.912\n",
      "\n",
      "Best Parameter founded:\n",
      "10\n",
      "Accuracy with theBest Parameter: 0.9265283140283141\n",
      "\n",
      "_____\n",
      "Evaluating classifier: CalibratedClassifierCV\n",
      "Risultati della cross-validation per tutte le combinazioni di iperparametri:\n",
      "Parameters: {'classifier__estimator__C': 1}, Accuracy: 0.909 (±0.029), Precision: 0.971, Recall: 0.842, F1-score: 0.902\n",
      "\n",
      "Best Parameter founded:\n",
      "1\n",
      "Accuracy with theBest Parameter: 0.9086550836550836\n",
      "___________________\n",
      "Number of outliers detected: 5\n",
      "\n",
      "_____\n",
      "Evaluating classifier: KNeighborsClassifier\n",
      "Risultati della cross-validation per tutte le combinazioni di iperparametri:\n",
      "Parameters: {'classifier__n_neighbors': 3}, Accuracy: 0.868 (±0.040), Precision: 0.945, Recall: 0.784, F1-score: 0.856\n",
      "Parameters: {'classifier__n_neighbors': 5}, Accuracy: 0.866 (±0.035), Precision: 0.952, Recall: 0.773, F1-score: 0.852\n",
      "Parameters: {'classifier__n_neighbors': 7}, Accuracy: 0.861 (±0.035), Precision: 0.952, Recall: 0.762, F1-score: 0.845\n",
      "Parameters: {'classifier__n_neighbors': 9}, Accuracy: 0.870 (±0.027), Precision: 0.975, Recall: 0.762, F1-score: 0.854\n",
      "Parameters: {'classifier__n_neighbors': 11}, Accuracy: 0.870 (±0.030), Precision: 0.973, Recall: 0.762, F1-score: 0.854\n",
      "\n",
      "Best Parameter founded:\n",
      "11\n",
      "Accuracy with theBest Parameter: 0.8700583819849875\n",
      "\n",
      "_____\n",
      "Evaluating classifier: RandomForestClassifier\n",
      "Risultati della cross-validation per tutte le combinazioni di iperparametri:\n",
      "Parameters: {'classifier__n_estimators': 10}, Accuracy: 0.912 (±0.016), Precision: 0.936, Recall: 0.886, F1-score: 0.910\n",
      "Parameters: {'classifier__n_estimators': 50}, Accuracy: 0.923 (±0.017), Precision: 0.955, Recall: 0.890, F1-score: 0.921\n",
      "Parameters: {'classifier__n_estimators': 200}, Accuracy: 0.930 (±0.009), Precision: 0.977, Recall: 0.883, F1-score: 0.927\n",
      "Parameters: {'classifier__n_estimators': 500}, Accuracy: 0.930 (±0.012), Precision: 0.973, Recall: 0.886, F1-score: 0.927\n",
      "Parameters: {'classifier__n_estimators': 1000}, Accuracy: 0.936 (±0.013), Precision: 0.981, Recall: 0.890, F1-score: 0.933\n",
      "\n",
      "Best Parameter founded:\n",
      "1000\n",
      "Accuracy with theBest Parameter: 0.9358965804837365\n",
      "\n",
      "_____\n",
      "Evaluating classifier: CalibratedClassifierCV\n",
      "Risultati della cross-validation per tutte le combinazioni di iperparametri:\n",
      "Parameters: {'classifier__estimator__C': 1}, Accuracy: 0.903 (±0.029), Precision: 0.952, Recall: 0.853, F1-score: 0.899\n",
      "\n",
      "Best Parameter founded:\n",
      "1\n",
      "Accuracy with theBest Parameter: 0.9030358632193496\n",
      "___________________\n",
      "Number of outliers detected: 6\n",
      "\n",
      "_____\n",
      "Evaluating classifier: KNeighborsClassifier\n",
      "Risultati della cross-validation per tutte le combinazioni di iperparametri:\n",
      "Parameters: {'classifier__n_neighbors': 3}, Accuracy: 0.864 (±0.031), Precision: 0.928, Recall: 0.794, F1-score: 0.854\n",
      "Parameters: {'classifier__n_neighbors': 5}, Accuracy: 0.860 (±0.017), Precision: 0.939, Recall: 0.772, F1-score: 0.847\n",
      "Parameters: {'classifier__n_neighbors': 7}, Accuracy: 0.862 (±0.023), Precision: 0.940, Recall: 0.776, F1-score: 0.849\n",
      "Parameters: {'classifier__n_neighbors': 9}, Accuracy: 0.860 (±0.019), Precision: 0.947, Recall: 0.765, F1-score: 0.846\n",
      "Parameters: {'classifier__n_neighbors': 11}, Accuracy: 0.868 (±0.009), Precision: 0.973, Recall: 0.757, F1-score: 0.851\n",
      "\n",
      "Best Parameter founded:\n",
      "11\n",
      "Accuracy with theBest Parameter: 0.8676520557254502\n",
      "\n",
      "_____\n",
      "Evaluating classifier: RandomForestClassifier\n",
      "Risultati della cross-validation per tutte le combinazioni di iperparametri:\n",
      "Parameters: {'classifier__n_estimators': 10}, Accuracy: 0.899 (±0.021), Precision: 0.906, Recall: 0.893, F1-score: 0.899\n",
      "Parameters: {'classifier__n_estimators': 50}, Accuracy: 0.906 (±0.022), Precision: 0.935, Recall: 0.875, F1-score: 0.903\n",
      "Parameters: {'classifier__n_estimators': 200}, Accuracy: 0.904 (±0.020), Precision: 0.932, Recall: 0.875, F1-score: 0.901\n",
      "Parameters: {'classifier__n_estimators': 500}, Accuracy: 0.908 (±0.021), Precision: 0.936, Recall: 0.878, F1-score: 0.905\n",
      "Parameters: {'classifier__n_estimators': 1000}, Accuracy: 0.904 (±0.025), Precision: 0.929, Recall: 0.878, F1-score: 0.902\n",
      "\n",
      "Best Parameter founded:\n",
      "500\n",
      "Accuracy with theBest Parameter: 0.9081209650016989\n",
      "\n",
      "_____\n",
      "Evaluating classifier: CalibratedClassifierCV\n",
      "Risultati della cross-validation per tutte le combinazioni di iperparametri:\n",
      "Parameters: {'classifier__estimator__C': 1}, Accuracy: 0.903 (±0.012), Precision: 0.959, Recall: 0.842, F1-score: 0.896\n",
      "\n",
      "Best Parameter founded:\n",
      "1\n",
      "Accuracy with theBest Parameter: 0.9025823989126742\n",
      "\n",
      "Best contamination factor for KNeighborsClassifier: 0.001 with accuracy: 0.8557213930348259\n",
      "\n",
      "Best contamination factor for RandomForestClassifier: 0.008 with accuracy: 0.9597989949748744\n",
      "\n",
      "Best contamination factor for CalibratedClassifierCV: 0.001 with accuracy: 0.900497512437811\n",
      "\n",
      "Best overall contamination factor: 0.008 with accuracy: 0.9597989949748744 for classifier: RandomForestClassifier\n"
     ]
    }
   ],
   "source": [
    "# Initialize dictionaries to store best accuracy and contamination for each classifier\n",
    "best_accuracies = {KNeighborsClassifier: 0, RandomForestClassifier: 0, CalibratedClassifierCV: 0}\n",
    "best_contaminations = {KNeighborsClassifier: None, RandomForestClassifier: None, CalibratedClassifierCV: None}\n",
    "#best_accuracy = 0\n",
    "#best_contamination = None\n",
    "\n",
    "# Initialize a variable to store the best overall accuracy and corresponding classifier\n",
    "best_overall_accuracy = 0\n",
    "best_overall_classifier = None\n",
    "best_overall_contamination = None\n",
    "\n",
    "for value in contamination_factor:\n",
    "\n",
    "    ASD_phenotypic_without_outliers, ASD_diagnosis_without_outliers = outlier_detector(ASD_phenotypic, ASD_diagnosis,value)\n",
    "\n",
    "    X_train, X_test, y_train, y_test = train_test_split(ASD_phenotypic_without_outliers, ASD_diagnosis_without_outliers['DX_GROUP'], test_size=0.3, random_state=42)\n",
    "\n",
    "    categorical_columns = X_train.select_dtypes(include=['object']).columns\n",
    "    categorical_features = categorical_columns.tolist()\n",
    "\n",
    "    # Inizializza l'oggetto SMOTE-NC specificando gli indici delle colonne categoriche\n",
    "    sampler = SMOTENC(categorical_features=categorical_features, random_state=42)\n",
    "\n",
    "    # Applica SMOTE-NC per generare nuovi esempi sintetici\n",
    "    X_SMOTE, Y_SMOTE = sampler.fit_resample(X_train, y_train)\n",
    "    sampler = SMOTENC(categorical_features=categorical_features, random_state=42)\n",
    "\n",
    "    # Applica SMOTE-NC per generare nuovi esempi sintetici\n",
    "    X_SMOTE, Y_SMOTE = sampler.fit_resample(X_train, y_train)\n",
    "\n",
    "    classifiers = [KNeighborsClassifier(), RandomForestClassifier(random_state=1234), CalibratedClassifierCV(LinearSVC(dual=False))]\n",
    "    for classifier in classifiers:\n",
    "        print(f\"\\n_____\\nEvaluating classifier: {type(classifier).__name__}\")\n",
    "        \n",
    "        accuracy = evaluate_model(X_SMOTE, Y_SMOTE, X_test, y_test, classifier)\n",
    "        # Update best accuracy and contamination for the specific classifier\n",
    "        classifier_type = type(classifier)\n",
    "\n",
    "        if accuracy > best_accuracies[classifier_type]:\n",
    "            best_accuracies[classifier_type] = accuracy\n",
    "            best_contaminations[classifier_type] = value\n",
    "        \n",
    "        # Update best overall accuracy and corresponding classifier and contamination\n",
    "        if accuracy > best_overall_accuracy:\n",
    "            best_overall_accuracy = accuracy\n",
    "            best_overall_classifier = classifier_type\n",
    "            best_overall_contamination = value\n",
    "\n",
    "# Print the best results for each classifier\n",
    "for classifier_type in best_accuracies:\n",
    "    print(f\"\\nBest contamination factor for {classifier_type.__name__}: {best_contaminations[classifier_type]} with accuracy: {best_accuracies[classifier_type]}\")\n",
    "\n",
    "# Print the best overall result\n",
    "print(f\"\\nBest overall contamination factor: {best_overall_contamination} with accuracy: {best_overall_accuracy} for classifier: {best_overall_classifier.__name__}\")"
   ]
  },
  {
   "cell_type": "code",
   "execution_count": null,
   "metadata": {},
   "outputs": [],
   "source": []
  }
 ],
 "metadata": {
  "kernelspec": {
   "display_name": "Python 3",
   "language": "python",
   "name": "python3"
  },
  "language_info": {
   "codemirror_mode": {
    "name": "ipython",
    "version": 3
   },
   "file_extension": ".py",
   "mimetype": "text/x-python",
   "name": "python",
   "nbconvert_exporter": "python",
   "pygments_lexer": "ipython3",
   "version": "3.12.0"
  }
 },
 "nbformat": 4,
 "nbformat_minor": 2
}
