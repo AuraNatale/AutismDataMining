{
 "cells": [
  {
   "cell_type": "code",
   "execution_count": 38,
   "metadata": {},
   "outputs": [],
   "source": [
    "# general imports\n",
    "import os\n",
    "import numpy as np\n",
    "import pandas as pd\n",
    "from matplotlib import pyplot as plt \n",
    "from matplotlib.colors import ListedColormap\n",
    "import seaborn as sns\n",
    "\n",
    "# from our documents\n",
    "import OurFunctions as of\n",
    "\n",
    "# from Scikit Learn library\n",
    "from sklearn.model_selection import train_test_split, KFold, cross_val_score, GridSearchCV\n",
    "from sklearn.ensemble import RandomForestClassifier\n",
    "from sklearn.metrics import roc_curve, roc_auc_score, accuracy_score, make_scorer, precision_score, recall_score, f1_score, confusion_matrix\n",
    "from sklearn.preprocessing import StandardScaler, OneHotEncoder, RobustScaler\n",
    "from sklearn.compose import ColumnTransformer\n",
    "from sklearn.pipeline import Pipeline\n",
    "from sklearn.neighbors import KNeighborsClassifier\n",
    "from sklearn.linear_model import LogisticRegression\n",
    "from sklearn.svm import LinearSVC\n",
    "from sklearn.feature_selection import SelectKBest, f_classif, RFE\n",
    "from sklearn.decomposition import PCA\n",
    "from sklearn.feature_selection import SequentialFeatureSelector as SFS\n",
    "from sklearn.neighbors import LocalOutlierFactor\n",
    "from sklearn.tree import plot_tree\n",
    "from sklearn.calibration import CalibratedClassifierCV\n",
    "\n",
    "# from Imb Learn\n",
    "from imblearn.over_sampling import SMOTENC, SMOTE\n",
    "\n"
   ]
  },
  {
   "cell_type": "code",
   "execution_count": 39,
   "metadata": {},
   "outputs": [],
   "source": [
    "ASD_phenotypic_original = pd.read_csv(os.path.join('DataSets','Phenotypic Datasets','ASD_phenotypic.csv'))\n",
    "ASD_phenotypic = pd.read_csv(os.path.join('DataSets','Phenotypic Datasets','ASD_phenotypic_preprocessed.csv'))\n",
    "ASD_diagnosis = pd.read_csv(os.path.join('DataSets','Phenotypic Datasets','ASD_clinical.csv'))"
   ]
  },
  {
   "cell_type": "markdown",
   "metadata": {},
   "source": [
    "# CLASSIFICATION"
   ]
  },
  {
   "cell_type": "markdown",
   "metadata": {},
   "source": [
    "First of all, we split the data into train set and test set, to be sure that our classifier is evaluated on data that it had never seen before."
   ]
  },
  {
   "cell_type": "code",
   "execution_count": 40,
   "metadata": {},
   "outputs": [
    {
     "name": "stdout",
     "output_type": "stream",
     "text": [
      "Training set size: (467, 10)\n",
      "Test set size: (201, 10)\n"
     ]
    }
   ],
   "source": [
    "#ASD_phenotypic = ASD_phenotypic.drop(columns=[\"SITE_ID\", \"VIQ_TEST_TYPE\", \"FIQ_TEST_TYPE\", \"PIQ_TEST_TYPE\"])\n",
    "ASD_phenotypic = ASD_phenotypic.drop(columns=[\"SITE_ID\"])\n",
    "# Split the data into training and test sets\n",
    "X_train, X_test, y_train, y_test = train_test_split(ASD_phenotypic, ASD_diagnosis['DX_GROUP'], test_size=0.3, random_state=42)\n",
    "print(\"Training set size:\", X_train.shape)\n",
    "print(\"Test set size:\", X_test.shape)"
   ]
  },
  {
   "cell_type": "markdown",
   "metadata": {},
   "source": [
    "I want to check the balance between classes for each set, to  be sure we are training the classifier using a good split."
   ]
  },
  {
   "cell_type": "code",
   "execution_count": 41,
   "metadata": {},
   "outputs": [
    {
     "name": "stdout",
     "output_type": "stream",
     "text": [
      "Class proportions for:\n",
      "- test set: DX_GROUP\n",
      "1    0.60199\n",
      "2    0.39801\n",
      "Name: proportion, dtype: float64\n",
      "- train set: DX_GROUP\n",
      "1    0.603854\n",
      "2    0.396146\n",
      "Name: proportion, dtype: float64\n",
      "Num subjects involved per DX_GROUP\n",
      "1    282\n",
      "2    185\n",
      "Name: count, dtype: int64\n"
     ]
    }
   ],
   "source": [
    "class_counts_test = y_test.value_counts(normalize=True)\n",
    "class_counts_train = y_train.value_counts(normalize=True)\n",
    "class_count_train_num = y_train.value_counts()\n",
    "\n",
    "# Stampa il conteggio delle classi per DX_GROUP\n",
    "print(\"Class proportions for:\")\n",
    "print(\"- test set: \" + str(class_counts_test))\n",
    "print(\"- train set: \" + str(class_counts_train))\n",
    "print(\"Num subjects involved per \"+ str(class_count_train_num))"
   ]
  },
  {
   "cell_type": "markdown",
   "metadata": {},
   "source": [
    "# General pipeline"
   ]
  },
  {
   "cell_type": "markdown",
   "metadata": {},
   "source": [
    "To achieve a more reliable accuracy score we use k-fold cross validation. In this way we are performing the training on different train and validation fold and we avoid to have a better accuracy based only on the subjects we selected."
   ]
  },
  {
   "cell_type": "code",
   "execution_count": 42,
   "metadata": {},
   "outputs": [],
   "source": [
    "def general_pipeline(dataset, target, classifier, encoder = True, scaler = True, parameters_grid_search = None, cv = None, feature_selector=False):\n",
    "\n",
    "    # Definizione delle metriche da utilizzare come scoring\n",
    "    scoring = {\n",
    "        'accuracy': make_scorer(accuracy_score),\n",
    "        'precision': make_scorer(precision_score),\n",
    "        'recall': make_scorer(recall_score),\n",
    "        'f1_score': make_scorer(f1_score)\n",
    "    }\n",
    "\n",
    "    # Preprocess to make on the train data may include\n",
    "    # - normalization of the numerical columns\n",
    "    # - one hot encoding on the categorical columns\n",
    "    \n",
    "    categorical_columns = dataset.select_dtypes(include=['object']).columns\n",
    "\n",
    "    if not encoder:\n",
    "        transformers = [('num', RobustScaler(), ~dataset.columns.isin(categorical_columns))]\n",
    "    elif not scaler:\n",
    "        transformers = [('cat', OneHotEncoder(handle_unknown='ignore'), categorical_columns)]\n",
    "    elif not encoder and not scaler:\n",
    "        transformers = []\n",
    "    else:\n",
    "        transformers=[\n",
    "            ('num', RobustScaler(), ~dataset.columns.isin(categorical_columns)),\n",
    "            ('cat', OneHotEncoder(handle_unknown='ignore'), categorical_columns),\n",
    "        ]\n",
    "\n",
    "    preprocessor = ColumnTransformer(transformers=transformers)\n",
    "\n",
    "    if isinstance(classifier, KNeighborsClassifier):\n",
    "        parameter_type = 'classifier__n_neighbors'\n",
    "        if parameters_grid_search:\n",
    "            parameters = {parameter_type: parameters_grid_search}  # Valori di n_neighbors da esplorare\n",
    "        else:\n",
    "            parameters = {parameter_type: [3, 5, 7, 9, 11]}  # Valori di n_neighbors da esplorare\n",
    "\n",
    "        feature_selector_type = SFS(classifier)\n",
    "        selector_parameter = 'feature_selection__n_features_to_select'\n",
    "        # per default is forward, but if you need to change --> parameters.update({'sfs__direction': ['forward']})\n",
    "        #feature_selector_type = SelectKBest(score_func=f_classif)\n",
    "        #selector_parameter = 'feature_selection__k'\n",
    "        \n",
    "\n",
    "    if isinstance(classifier, RandomForestClassifier):\n",
    "        parameter_type = 'classifier__n_estimators'\n",
    "        if parameters_grid_search:\n",
    "            parameters = {parameter_type: parameters_grid_search}  \n",
    "        else:\n",
    "            parameters = {parameter_type: [10, 50, 200, 500, 1000]} \n",
    "\n",
    "        feature_selector_type = RFE(estimator=classifier)\n",
    "        selector_parameter = 'feature_selection__n_features_to_select'\n",
    "\n",
    "    if isinstance(classifier, CalibratedClassifierCV):\n",
    "        parameter_type = 'classifier__estimator__C'\n",
    "        if parameters_grid_search:\n",
    "            parameters = {parameter_type: parameters_grid_search}  \n",
    "        else:\n",
    "            parameters = {parameter_type: [1]}  \n",
    "\n",
    "        #feature_selector_type = SelectFromModel(LinearSVC(penalty='l1', dual=False))\n",
    "        #selector_parameter = 'feature_selection__max_features'\n",
    "        feature_selector_type = RFE(estimator=LinearSVC(dual=False))\n",
    "        selector_parameter = 'feature_selection__n_features_to_select'\n",
    "\n",
    "    if feature_selector:\n",
    "        # Initialize RFE with the fitted classifier\n",
    "\n",
    "        pipeline = Pipeline([\n",
    "        ('preprocessor', preprocessor),\n",
    "        ('feature_selection', feature_selector_type),\n",
    "        ('classifier', classifier)  \n",
    "        ])\n",
    "\n",
    "        parameters.update({selector_parameter: list(range(1, 23+1))})\n",
    "        \n",
    "    else:\n",
    "    # We define the pipeline\n",
    "        pipeline = Pipeline([\n",
    "            ('preprocessor', preprocessor),\n",
    "            ('classifier', classifier),\n",
    "            ])\n",
    "\n",
    "    if cv:\n",
    "        k_folds = cv\n",
    "    else:\n",
    "        k_folds = 5\n",
    "\n",
    "    # Creazione dell'oggetto GridSearchCV\n",
    "    grid_search = GridSearchCV(pipeline, parameters, cv= k_folds, scoring=scoring, refit='accuracy')\n",
    "\n",
    "    # Esecuzione della ricerca a griglia\n",
    "    grid_search.fit(dataset, target)\n",
    "\n",
    "    # Visualizzazione dei risultati\n",
    "    print(\"Risultati della cross-validation per tutte le combinazioni di iperparametri:\")\n",
    "\n",
    "    means_accuracy = grid_search.cv_results_['mean_test_accuracy']\n",
    "    stds_accuracy = grid_search.cv_results_['std_test_accuracy']\n",
    "    means_precision = grid_search.cv_results_['mean_test_precision']\n",
    "    means_recall = grid_search.cv_results_['mean_test_recall']\n",
    "    means_f1_score = grid_search.cv_results_['mean_test_f1_score']\n",
    "    params = grid_search.cv_results_['params']\n",
    "\n",
    "    for mean_acc, std_acc, mean_prec, mean_rec, mean_f1, params in zip(means_accuracy, stds_accuracy, means_precision, means_recall, means_f1_score, params):\n",
    "        print(f\"Parametri: {params}, Accuratezza media: {mean_acc:.3f} (±{std_acc:.3f}), Precision media: {mean_prec:.3f}, Richiamo medio: {mean_rec:.3f}, F1-score medio: {mean_f1:.3f}\")\n",
    "\n",
    "    best_model = grid_search.best_estimator_\n",
    "    best_parameter = grid_search.best_params_[parameter_type]\n",
    "    best_accuracy = grid_search.best_score_\n",
    "    print(\"\\nMiglior parametro trovato:\")\n",
    "    print(best_parameter)\n",
    "    print(\"Accuratezza media con il miglior parametro:\", best_accuracy)\n",
    "\n",
    "    if feature_selector:\n",
    "        # Get the support mask and selected feature names from the preprocessed data\n",
    "        selected_mask = best_model.named_steps['feature_selection'].get_support()\n",
    "        feature_names = best_model.named_steps['preprocessor'].get_feature_names_out()\n",
    "        selected_features = feature_names[selected_mask]\n",
    "        \n",
    "        print(\"\\nSelected features are:\")\n",
    "        print(f\"Number of selected features: {len(selected_features)}\")\n",
    "        print(\"Selected features:\", selected_features)\n",
    "\n",
    "        non_selected_mask = ~selected_mask\n",
    "        non_selected_features = feature_names[non_selected_mask]\n",
    "\n",
    "        print(\"\\nNon selected features are:\")\n",
    "        print(f\"Number of non selected features: {len(non_selected_features)}\")\n",
    "        print(\"Selected features:\", non_selected_features)\n",
    "\n",
    "        return best_model, best_parameter, best_accuracy, selected_features\n",
    "        \n",
    "    return best_model, best_parameter, best_accuracy, None\n",
    "    "
   ]
  },
  {
   "cell_type": "code",
   "execution_count": 43,
   "metadata": {},
   "outputs": [
    {
     "name": "stdout",
     "output_type": "stream",
     "text": [
      "DX_GROUP\n",
      "1    0.5\n",
      "2    0.5\n",
      "Name: proportion, dtype: float64\n",
      "Num subjects involved per\n",
      "DX_GROUP\n",
      "1    282\n",
      "2    282\n",
      "Name: count, dtype: int64\n",
      "DX_GROUP\n",
      "1    0.5\n",
      "2    0.5\n",
      "Name: proportion, dtype: float64\n",
      "Num subjects involved per\n",
      "DX_GROUP\n",
      "1    282\n",
      "2    282\n",
      "Name: count, dtype: int64\n"
     ]
    }
   ],
   "source": [
    "categorical_columns = X_train.select_dtypes(include=['object']).columns\n",
    "categorical_features = categorical_columns.tolist()\n",
    "\n",
    "# Inizializza l'oggetto SMOTE-NC specificando gli indici delle colonne categoriche\n",
    "sampler = SMOTENC(categorical_features=categorical_features, random_state=42)\n",
    "\n",
    "# Applica SMOTE-NC per generare nuovi esempi sintetici\n",
    "X_SMOTE, Y_SMOTE = sampler.fit_resample(X_train, y_train)\n",
    "\n",
    "# Stampa la distribuzione delle classi dopo l'applicazione di SMOTE-NC\n",
    "print(pd.Series(Y_SMOTE).value_counts(normalize=True))\n",
    "print(\"Num subjects involved per\")\n",
    "print(pd.Series(Y_SMOTE).value_counts())\n",
    "\n",
    "#sampler = SMOTE(random_state=42) --> in case we want to use only numeric\n",
    "\n",
    "# Applica SMOTE-NC per generare nuovi esempi sintetici\n",
    "X_SMOTE, Y_SMOTE = sampler.fit_resample(X_train, y_train)\n",
    "\n",
    "# Stampa la distribuzione delle classi dopo l'applicazione di SMOTE-NC\n",
    "print(pd.Series(Y_SMOTE).value_counts(normalize=True))\n",
    "print(\"Num subjects involved per\")\n",
    "print(pd.Series(Y_SMOTE).value_counts())"
   ]
  },
  {
   "cell_type": "markdown",
   "metadata": {},
   "source": [
    "# K-NEAREST NEIGHBOOR"
   ]
  },
  {
   "cell_type": "code",
   "execution_count": 44,
   "metadata": {},
   "outputs": [
    {
     "name": "stdout",
     "output_type": "stream",
     "text": [
      "Risultati della cross-validation per tutte le combinazioni di iperparametri:\n",
      "Parametri: {'classifier__n_neighbors': 3}, Accuratezza media: 0.865 (±0.021), Precision media: 0.950, Richiamo medio: 0.773, F1-score medio: 0.851\n",
      "Parametri: {'classifier__n_neighbors': 5}, Accuratezza media: 0.871 (±0.014), Precision media: 0.974, Richiamo medio: 0.763, F1-score medio: 0.855\n",
      "Parametri: {'classifier__n_neighbors': 7}, Accuratezza media: 0.858 (±0.027), Precision media: 0.968, Richiamo medio: 0.741, F1-score medio: 0.839\n",
      "Parametri: {'classifier__n_neighbors': 9}, Accuratezza media: 0.846 (±0.028), Precision media: 0.958, Richiamo medio: 0.724, F1-score medio: 0.823\n",
      "Parametri: {'classifier__n_neighbors': 11}, Accuratezza media: 0.848 (±0.024), Precision media: 0.976, Richiamo medio: 0.713, F1-score medio: 0.823\n",
      "\n",
      "Miglior parametro trovato:\n",
      "5\n",
      "Accuratezza media con il miglior parametro: 0.8705910240202275\n"
     ]
    }
   ],
   "source": [
    "classifier = KNeighborsClassifier()\n",
    "knn_model, knn_parameter, knn_accuracy, _= general_pipeline(X_SMOTE, Y_SMOTE, classifier)\n"
   ]
  },
  {
   "cell_type": "code",
   "execution_count": 45,
   "metadata": {},
   "outputs": [
    {
     "name": "stdout",
     "output_type": "stream",
     "text": [
      "\n",
      "Valutazione del modello sui dati di test:\n",
      "Accuratezza: 0.876\n",
      "Precisione: 0.936\n",
      "Richiamo: 0.851\n",
      "F1-score: 0.892\n"
     ]
    }
   ],
   "source": [
    "# Valutazione del modello sui dati di test\n",
    "y_pred = knn_model.predict(X_test)\n",
    "\n",
    "# Calcolo delle metriche sui dati di test\n",
    "accuracy = accuracy_score(y_test, y_pred)\n",
    "precision = precision_score(y_test, y_pred)\n",
    "recall = recall_score(y_test, y_pred)\n",
    "f1 = f1_score(y_test, y_pred)\n",
    "\n",
    "print(\"\\nValutazione del modello sui dati di test:\")\n",
    "print(f\"Accuratezza: {accuracy:.3f}\")\n",
    "print(f\"Precisione: {precision:.3f}\")\n",
    "print(f\"Richiamo: {recall:.3f}\")\n",
    "print(f\"F1-score: {f1:.3f}\")\n"
   ]
  },
  {
   "cell_type": "code",
   "execution_count": 46,
   "metadata": {},
   "outputs": [
    {
     "data": {
      "image/png": "[encoded data removed]",
      "text/plain": [
       "<Figure size 800x600 with 2 Axes>"
      ]
     },
     "metadata": {},
     "output_type": "display_data"
    }
   ],
   "source": [
    "# Calcola la matrice di confusione\n",
    "conf_matrix = confusion_matrix(y_test, y_pred)\n",
    "\n",
    "# Visualizzazione della matrice di confusione\n",
    "plt.figure(figsize=(8, 6))\n",
    "sns.heatmap(conf_matrix, annot=True, cmap=\"Blues\", fmt=\"d\", xticklabels=['Control', 'ASD'], yticklabels=['Control', 'ASD'])\n",
    "plt.xlabel('Predicted Label')\n",
    "plt.ylabel('True Label')\n",
    "plt.title('Confusion Matrix')\n",
    "plt.show()\n"
   ]
  },
  {
   "cell_type": "markdown",
   "metadata": {},
   "source": [
    "## Random Forest"
   ]
  },
  {
   "cell_type": "markdown",
   "metadata": {},
   "source": [
    "To use the Random Forest classifier, I need to have only numerical features, so we will use one-hot-encoding to turn the categorical features (which aren't ordinal) into numerical features. It's not necessary to perform any normalization, but as we want to compare the performance of this classifier with others that use normalization, we will also use normalized data to train this classifier (it's not harmfull for the Random Forest Classifier)."
   ]
  },
  {
   "cell_type": "code",
   "execution_count": 47,
   "metadata": {},
   "outputs": [
    {
     "name": "stdout",
     "output_type": "stream",
     "text": [
      "Risultati della cross-validation per tutte le combinazioni di iperparametri:\n",
      "Parametri: {'classifier__n_estimators': 10}, Accuratezza media: 0.920 (±0.019), Precision media: 0.935, Richiamo medio: 0.904, F1-score medio: 0.919\n",
      "Parametri: {'classifier__n_estimators': 50}, Accuratezza media: 0.920 (±0.017), Precision media: 0.953, Richiamo medio: 0.886, F1-score medio: 0.917\n",
      "Parametri: {'classifier__n_estimators': 200}, Accuratezza media: 0.922 (±0.019), Precision media: 0.956, Richiamo medio: 0.886, F1-score medio: 0.919\n",
      "Parametri: {'classifier__n_estimators': 500}, Accuratezza media: 0.920 (±0.020), Precision media: 0.956, Richiamo medio: 0.883, F1-score medio: 0.917\n",
      "Parametri: {'classifier__n_estimators': 1000}, Accuratezza media: 0.922 (±0.027), Precision media: 0.963, Richiamo medio: 0.879, F1-score medio: 0.918\n",
      "\n",
      "Miglior parametro trovato:\n",
      "200\n",
      "Accuratezza media con il miglior parametro: 0.9220132743362832\n"
     ]
    }
   ],
   "source": [
    "classifier = RandomForestClassifier(random_state=1234)\n",
    "rf_model, rf_parameter, rf_accuracy, _ = general_pipeline(X_SMOTE, Y_SMOTE, classifier)"
   ]
  },
  {
   "cell_type": "code",
   "execution_count": 48,
   "metadata": {},
   "outputs": [
    {
     "name": "stdout",
     "output_type": "stream",
     "text": [
      "\n",
      "Valutazione del modello sui dati di test:\n",
      "Accuratezza: 0.950\n",
      "Precisione: 0.951\n",
      "Richiamo: 0.967\n",
      "F1-score: 0.959\n"
     ]
    }
   ],
   "source": [
    "# Valutazione del modello sui dati di test\n",
    "y_pred = rf_model.predict(X_test)\n",
    "\n",
    "# Calcolo delle metriche sui dati di test\n",
    "accuracy = accuracy_score(y_test, y_pred)\n",
    "precision = precision_score(y_test, y_pred)\n",
    "recall = recall_score(y_test, y_pred)\n",
    "f1 = f1_score(y_test, y_pred)\n",
    "\n",
    "print(\"\\nValutazione del modello sui dati di test:\")\n",
    "print(f\"Accuratezza: {accuracy:.3f}\")\n",
    "print(f\"Precisione: {precision:.3f}\")\n",
    "print(f\"Richiamo: {recall:.3f}\")\n",
    "print(f\"F1-score: {f1:.3f}\")\n"
   ]
  },
  {
   "cell_type": "code",
   "execution_count": 49,
   "metadata": {},
   "outputs": [
    {
     "data": {
      "image/png": "[encoded data removed]",
      "text/plain": [
       "<Figure size 800x600 with 2 Axes>"
      ]
     },
     "metadata": {},
     "output_type": "display_data"
    }
   ],
   "source": [
    "conf_matrix = confusion_matrix(y_test, y_pred)\n",
    "\n",
    "# Visualizzazione della matrice di confusione\n",
    "plt.figure(figsize=(8, 6))\n",
    "sns.heatmap(conf_matrix, annot=True, cmap=\"Blues\", fmt=\"d\", xticklabels=['Control', 'ASD'], yticklabels=['Control', 'ASD'])\n",
    "plt.xlabel('Predicted Label')\n",
    "plt.ylabel('True Label')\n",
    "plt.title('Confusion Matrix')\n",
    "plt.show()\n"
   ]
  },
  {
   "cell_type": "markdown",
   "metadata": {},
   "source": [
    "# Support vector machine"
   ]
  },
  {
   "cell_type": "code",
   "execution_count": 50,
   "metadata": {},
   "outputs": [
    {
     "name": "stdout",
     "output_type": "stream",
     "text": [
      "Risultati della cross-validation per tutte le combinazioni di iperparametri:\n",
      "Parametri: {'classifier__estimator__C': 1}, Accuratezza media: 0.901 (±0.021), Precision media: 0.960, Richiamo medio: 0.837, F1-score medio: 0.894\n",
      "\n",
      "Miglior parametro trovato:\n",
      "1\n",
      "Accuratezza media con il miglior parametro: 0.9007743362831858\n"
     ]
    }
   ],
   "source": [
    "classifier = CalibratedClassifierCV(LinearSVC(dual=False))\n",
    "svc_model, svc_parameter, svc_accuracy, _ = general_pipeline(X_SMOTE, Y_SMOTE, classifier)"
   ]
  },
  {
   "cell_type": "code",
   "execution_count": 51,
   "metadata": {},
   "outputs": [
    {
     "name": "stdout",
     "output_type": "stream",
     "text": [
      "\n",
      "Valutazione del modello sui dati di test:\n",
      "Accuratezza: 0.925\n",
      "Precisione: 0.965\n",
      "Richiamo: 0.909\n",
      "F1-score: 0.936\n"
     ]
    }
   ],
   "source": [
    "# Valutazione del modello sui dati di test\n",
    "y_pred = svc_model.predict(X_test)\n",
    "\n",
    "# Calcolo delle metriche sui dati di test\n",
    "accuracy = accuracy_score(y_test, y_pred)\n",
    "precision = precision_score(y_test, y_pred)\n",
    "recall = recall_score(y_test, y_pred)\n",
    "f1 = f1_score(y_test, y_pred)\n",
    "\n",
    "print(\"\\nValutazione del modello sui dati di test:\")\n",
    "print(f\"Accuratezza: {accuracy:.3f}\")\n",
    "print(f\"Precisione: {precision:.3f}\")\n",
    "print(f\"Richiamo: {recall:.3f}\")\n",
    "print(f\"F1-score: {f1:.3f}\")\n"
   ]
  },
  {
   "cell_type": "code",
   "execution_count": 52,
   "metadata": {},
   "outputs": [
    {
     "data": {
      "image/png": "[encoded data removed]",
      "text/plain": [
       "<Figure size 800x600 with 2 Axes>"
      ]
     },
     "metadata": {},
     "output_type": "display_data"
    }
   ],
   "source": [
    "conf_matrix = confusion_matrix(y_test, y_pred)\n",
    "\n",
    "# Visualizzazione della matrice di confusione\n",
    "plt.figure(figsize=(8, 6))\n",
    "sns.heatmap(conf_matrix, annot=True, cmap=\"Blues\", fmt=\"d\", xticklabels=['Control', 'ASD'], yticklabels=['Control', 'ASD'])\n",
    "plt.xlabel('Predicted Label')\n",
    "plt.ylabel('True Label')\n",
    "plt.title('Confusion Matrix')\n",
    "plt.show()\n"
   ]
  },
  {
   "cell_type": "markdown",
   "metadata": {},
   "source": [
    "# Comparison Between Classifiers"
   ]
  },
  {
   "cell_type": "code",
   "execution_count": 53,
   "metadata": {},
   "outputs": [
    {
     "name": "stdout",
     "output_type": "stream",
     "text": [
      "K-Nearest Neighbors Classifier AUC-ROC: 0.9388946280991736\n",
      "Random Forest Classifier AUC-ROC: 0.983987603305785\n",
      "Support vector Classifier AUC-ROC: 0.9760330578512396\n"
     ]
    }
   ],
   "source": [
    "# Define a function to evaluate the AUC-ROC for a given model\n",
    "def evaluate_roc_auc(model, X_test, y_test):\n",
    "    y_proba = model.predict_proba(X_test)[:, 1]\n",
    "    auc_roc = roc_auc_score(y_test, y_proba)\n",
    "    return auc_roc\n",
    "\n",
    "knn_auc_roc = evaluate_roc_auc(knn_model, X_test, y_test)\n",
    "rf_auc_roc = evaluate_roc_auc(rf_model, X_test, y_test)\n",
    "svc_auc_roc = evaluate_roc_auc(svc_model, X_test, y_test)\n",
    "\n",
    "# Print the results\n",
    "print(\"K-Nearest Neighbors Classifier AUC-ROC:\", knn_auc_roc)\n",
    "print(\"Random Forest Classifier AUC-ROC:\", rf_auc_roc)\n",
    "print(\"Support vector Classifier AUC-ROC:\", svc_auc_roc)\n"
   ]
  },
  {
   "cell_type": "code",
   "execution_count": 54,
   "metadata": {},
   "outputs": [
    {
     "data": {
      "image/png": "[encoded data removed]",
      "text/plain": [
       "<Figure size 800x600 with 1 Axes>"
      ]
     },
     "metadata": {},
     "output_type": "display_data"
    }
   ],
   "source": [
    "# Define a function to plot the ROC curve for a given model\n",
    "def plot_roc_curve(model, X_test, y_test, model_name):\n",
    "    y_proba = model.predict_proba(X_test)[:, 1]\n",
    "    fpr, tpr, _ = roc_curve(y_test, y_proba)\n",
    "    plt.plot(fpr, tpr, label=model_name)\n",
    "    plt.xlabel('False Positive Rate')\n",
    "    plt.ylabel('True Positive Rate')\n",
    "    plt.title('ROC Curve')\n",
    "    plt.legend()\n",
    "    plt.grid(True)\n",
    "\n",
    "# Plot ROC curve for both models\n",
    "y_test_binary = (y_test == 2).astype(int)\n",
    "\n",
    "plt.figure(figsize=(8, 6))\n",
    "plot_roc_curve(knn_model, X_test, y_test_binary, 'K-Nearest Neighbors Classifier')\n",
    "plot_roc_curve(rf_model, X_test, y_test_binary, 'Random Forest Classifier')\n",
    "plot_roc_curve(svc_model, X_test, y_test_binary, 'Support vector Classifier')\n",
    "plt.show()\n"
   ]
  },
  {
   "cell_type": "markdown",
   "metadata": {},
   "source": [
    "# Feature selection"
   ]
  },
  {
   "cell_type": "code",
   "execution_count": 55,
   "metadata": {},
   "outputs": [
    {
     "ename": "KeyboardInterrupt",
     "evalue": "",
     "output_type": "error",
     "traceback": [
      "\u001b[1;31m---------------------------------------------------------------------------\u001b[0m",
      "\u001b[1;31mKeyboardInterrupt\u001b[0m                         Traceback (most recent call last)",
      "Cell \u001b[1;32mIn[55], line 3\u001b[0m\n\u001b[0;32m      1\u001b[0m classifier \u001b[38;5;241m=\u001b[39m KNeighborsClassifier()\n\u001b[1;32m----> 3\u001b[0m fs_KNN, fs_KNN_parameter, fs_KNN_accuracy, fs_KNN_selected_features \u001b[38;5;241m=\u001b[39m \u001b[43mgeneral_pipeline\u001b[49m\u001b[43m(\u001b[49m\u001b[43mX_SMOTE\u001b[49m\u001b[43m,\u001b[49m\u001b[43m \u001b[49m\u001b[43mY_SMOTE\u001b[49m\u001b[43m,\u001b[49m\u001b[43m \u001b[49m\u001b[43mclassifier\u001b[49m\u001b[43m,\u001b[49m\u001b[43m \u001b[49m\u001b[43mparameters_grid_search\u001b[49m\u001b[43m \u001b[49m\u001b[38;5;241;43m=\u001b[39;49m\u001b[43m \u001b[49m\u001b[43m[\u001b[49m\u001b[38;5;241;43m9\u001b[39;49m\u001b[43m]\u001b[49m\u001b[43m,\u001b[49m\u001b[43m \u001b[49m\u001b[43mfeature_selector\u001b[49m\u001b[38;5;241;43m=\u001b[39;49m\u001b[38;5;28;43;01mTrue\u001b[39;49;00m\u001b[43m)\u001b[49m\n",
      "Cell \u001b[1;32mIn[42], line 94\u001b[0m, in \u001b[0;36mgeneral_pipeline\u001b[1;34m(dataset, target, classifier, encoder, scaler, parameters_grid_search, cv, feature_selector)\u001b[0m\n\u001b[0;32m     91\u001b[0m grid_search \u001b[38;5;241m=\u001b[39m GridSearchCV(pipeline, parameters, cv\u001b[38;5;241m=\u001b[39m k_folds, scoring\u001b[38;5;241m=\u001b[39mscoring, refit\u001b[38;5;241m=\u001b[39m\u001b[38;5;124m'\u001b[39m\u001b[38;5;124maccuracy\u001b[39m\u001b[38;5;124m'\u001b[39m)\n\u001b[0;32m     93\u001b[0m \u001b[38;5;66;03m# Esecuzione della ricerca a griglia\u001b[39;00m\n\u001b[1;32m---> 94\u001b[0m \u001b[43mgrid_search\u001b[49m\u001b[38;5;241;43m.\u001b[39;49m\u001b[43mfit\u001b[49m\u001b[43m(\u001b[49m\u001b[43mdataset\u001b[49m\u001b[43m,\u001b[49m\u001b[43m \u001b[49m\u001b[43mtarget\u001b[49m\u001b[43m)\u001b[49m\n\u001b[0;32m     96\u001b[0m \u001b[38;5;66;03m# Visualizzazione dei risultati\u001b[39;00m\n\u001b[0;32m     97\u001b[0m \u001b[38;5;28mprint\u001b[39m(\u001b[38;5;124m\"\u001b[39m\u001b[38;5;124mRisultati della cross-validation per tutte le combinazioni di iperparametri:\u001b[39m\u001b[38;5;124m\"\u001b[39m)\n",
      "File \u001b[1;32m~\\AppData\\Local\\Packages\\PythonSoftwareFoundation.Python.3.10_qbz5n2kfra8p0\\LocalCache\\local-packages\\Python310\\site-packages\\sklearn\\base.py:1474\u001b[0m, in \u001b[0;36m_fit_context.<locals>.decorator.<locals>.wrapper\u001b[1;34m(estimator, *args, **kwargs)\u001b[0m\n\u001b[0;32m   1467\u001b[0m     estimator\u001b[38;5;241m.\u001b[39m_validate_params()\n\u001b[0;32m   1469\u001b[0m \u001b[38;5;28;01mwith\u001b[39;00m config_context(\n\u001b[0;32m   1470\u001b[0m     skip_parameter_validation\u001b[38;5;241m=\u001b[39m(\n\u001b[0;32m   1471\u001b[0m         prefer_skip_nested_validation \u001b[38;5;129;01mor\u001b[39;00m global_skip_validation\n\u001b[0;32m   1472\u001b[0m     )\n\u001b[0;32m   1473\u001b[0m ):\n\u001b[1;32m-> 1474\u001b[0m     \u001b[38;5;28;01mreturn\u001b[39;00m fit_method(estimator, \u001b[38;5;241m*\u001b[39margs, \u001b[38;5;241m*\u001b[39m\u001b[38;5;241m*\u001b[39mkwargs)\n",
      "File \u001b[1;32m~\\AppData\\Local\\Packages\\PythonSoftwareFoundation.Python.3.10_qbz5n2kfra8p0\\LocalCache\\local-packages\\Python310\\site-packages\\sklearn\\model_selection\\_search.py:970\u001b[0m, in \u001b[0;36mBaseSearchCV.fit\u001b[1;34m(self, X, y, **params)\u001b[0m\n\u001b[0;32m    964\u001b[0m     results \u001b[38;5;241m=\u001b[39m \u001b[38;5;28mself\u001b[39m\u001b[38;5;241m.\u001b[39m_format_results(\n\u001b[0;32m    965\u001b[0m         all_candidate_params, n_splits, all_out, all_more_results\n\u001b[0;32m    966\u001b[0m     )\n\u001b[0;32m    968\u001b[0m     \u001b[38;5;28;01mreturn\u001b[39;00m results\n\u001b[1;32m--> 970\u001b[0m \u001b[38;5;28;43mself\u001b[39;49m\u001b[38;5;241;43m.\u001b[39;49m\u001b[43m_run_search\u001b[49m\u001b[43m(\u001b[49m\u001b[43mevaluate_candidates\u001b[49m\u001b[43m)\u001b[49m\n\u001b[0;32m    972\u001b[0m \u001b[38;5;66;03m# multimetric is determined here because in the case of a callable\u001b[39;00m\n\u001b[0;32m    973\u001b[0m \u001b[38;5;66;03m# self.scoring the return type is only known after calling\u001b[39;00m\n\u001b[0;32m    974\u001b[0m first_test_score \u001b[38;5;241m=\u001b[39m all_out[\u001b[38;5;241m0\u001b[39m][\u001b[38;5;124m\"\u001b[39m\u001b[38;5;124mtest_scores\u001b[39m\u001b[38;5;124m\"\u001b[39m]\n",
      "File \u001b[1;32m~\\AppData\\Local\\Packages\\PythonSoftwareFoundation.Python.3.10_qbz5n2kfra8p0\\LocalCache\\local-packages\\Python310\\site-packages\\sklearn\\model_selection\\_search.py:1527\u001b[0m, in \u001b[0;36mGridSearchCV._run_search\u001b[1;34m(self, evaluate_candidates)\u001b[0m\n\u001b[0;32m   1525\u001b[0m \u001b[38;5;28;01mdef\u001b[39;00m \u001b[38;5;21m_run_search\u001b[39m(\u001b[38;5;28mself\u001b[39m, evaluate_candidates):\n\u001b[0;32m   1526\u001b[0m \u001b[38;5;250m    \u001b[39m\u001b[38;5;124;03m\"\"\"Search all candidates in param_grid\"\"\"\u001b[39;00m\n\u001b[1;32m-> 1527\u001b[0m     \u001b[43mevaluate_candidates\u001b[49m\u001b[43m(\u001b[49m\u001b[43mParameterGrid\u001b[49m\u001b[43m(\u001b[49m\u001b[38;5;28;43mself\u001b[39;49m\u001b[38;5;241;43m.\u001b[39;49m\u001b[43mparam_grid\u001b[49m\u001b[43m)\u001b[49m\u001b[43m)\u001b[49m\n",
      "File \u001b[1;32m~\\AppData\\Local\\Packages\\PythonSoftwareFoundation.Python.3.10_qbz5n2kfra8p0\\LocalCache\\local-packages\\Python310\\site-packages\\sklearn\\model_selection\\_search.py:916\u001b[0m, in \u001b[0;36mBaseSearchCV.fit.<locals>.evaluate_candidates\u001b[1;34m(candidate_params, cv, more_results)\u001b[0m\n\u001b[0;32m    908\u001b[0m \u001b[38;5;28;01mif\u001b[39;00m \u001b[38;5;28mself\u001b[39m\u001b[38;5;241m.\u001b[39mverbose \u001b[38;5;241m>\u001b[39m \u001b[38;5;241m0\u001b[39m:\n\u001b[0;32m    909\u001b[0m     \u001b[38;5;28mprint\u001b[39m(\n\u001b[0;32m    910\u001b[0m         \u001b[38;5;124m\"\u001b[39m\u001b[38;5;124mFitting \u001b[39m\u001b[38;5;132;01m{0}\u001b[39;00m\u001b[38;5;124m folds for each of \u001b[39m\u001b[38;5;132;01m{1}\u001b[39;00m\u001b[38;5;124m candidates,\u001b[39m\u001b[38;5;124m\"\u001b[39m\n\u001b[0;32m    911\u001b[0m         \u001b[38;5;124m\"\u001b[39m\u001b[38;5;124m totalling \u001b[39m\u001b[38;5;132;01m{2}\u001b[39;00m\u001b[38;5;124m fits\u001b[39m\u001b[38;5;124m\"\u001b[39m\u001b[38;5;241m.\u001b[39mformat(\n\u001b[0;32m    912\u001b[0m             n_splits, n_candidates, n_candidates \u001b[38;5;241m*\u001b[39m n_splits\n\u001b[0;32m    913\u001b[0m         )\n\u001b[0;32m    914\u001b[0m     )\n\u001b[1;32m--> 916\u001b[0m out \u001b[38;5;241m=\u001b[39m \u001b[43mparallel\u001b[49m\u001b[43m(\u001b[49m\n\u001b[0;32m    917\u001b[0m \u001b[43m    \u001b[49m\u001b[43mdelayed\u001b[49m\u001b[43m(\u001b[49m\u001b[43m_fit_and_score\u001b[49m\u001b[43m)\u001b[49m\u001b[43m(\u001b[49m\n\u001b[0;32m    918\u001b[0m \u001b[43m        \u001b[49m\u001b[43mclone\u001b[49m\u001b[43m(\u001b[49m\u001b[43mbase_estimator\u001b[49m\u001b[43m)\u001b[49m\u001b[43m,\u001b[49m\n\u001b[0;32m    919\u001b[0m \u001b[43m        \u001b[49m\u001b[43mX\u001b[49m\u001b[43m,\u001b[49m\n\u001b[0;32m    920\u001b[0m \u001b[43m        \u001b[49m\u001b[43my\u001b[49m\u001b[43m,\u001b[49m\n\u001b[0;32m    921\u001b[0m \u001b[43m        \u001b[49m\u001b[43mtrain\u001b[49m\u001b[38;5;241;43m=\u001b[39;49m\u001b[43mtrain\u001b[49m\u001b[43m,\u001b[49m\n\u001b[0;32m    922\u001b[0m \u001b[43m        \u001b[49m\u001b[43mtest\u001b[49m\u001b[38;5;241;43m=\u001b[39;49m\u001b[43mtest\u001b[49m\u001b[43m,\u001b[49m\n\u001b[0;32m    923\u001b[0m \u001b[43m        \u001b[49m\u001b[43mparameters\u001b[49m\u001b[38;5;241;43m=\u001b[39;49m\u001b[43mparameters\u001b[49m\u001b[43m,\u001b[49m\n\u001b[0;32m    924\u001b[0m \u001b[43m        \u001b[49m\u001b[43msplit_progress\u001b[49m\u001b[38;5;241;43m=\u001b[39;49m\u001b[43m(\u001b[49m\u001b[43msplit_idx\u001b[49m\u001b[43m,\u001b[49m\u001b[43m \u001b[49m\u001b[43mn_splits\u001b[49m\u001b[43m)\u001b[49m\u001b[43m,\u001b[49m\n\u001b[0;32m    925\u001b[0m \u001b[43m        \u001b[49m\u001b[43mcandidate_progress\u001b[49m\u001b[38;5;241;43m=\u001b[39;49m\u001b[43m(\u001b[49m\u001b[43mcand_idx\u001b[49m\u001b[43m,\u001b[49m\u001b[43m \u001b[49m\u001b[43mn_candidates\u001b[49m\u001b[43m)\u001b[49m\u001b[43m,\u001b[49m\n\u001b[0;32m    926\u001b[0m \u001b[43m        \u001b[49m\u001b[38;5;241;43m*\u001b[39;49m\u001b[38;5;241;43m*\u001b[39;49m\u001b[43mfit_and_score_kwargs\u001b[49m\u001b[43m,\u001b[49m\n\u001b[0;32m    927\u001b[0m \u001b[43m    \u001b[49m\u001b[43m)\u001b[49m\n\u001b[0;32m    928\u001b[0m \u001b[43m    \u001b[49m\u001b[38;5;28;43;01mfor\u001b[39;49;00m\u001b[43m \u001b[49m\u001b[43m(\u001b[49m\u001b[43mcand_idx\u001b[49m\u001b[43m,\u001b[49m\u001b[43m \u001b[49m\u001b[43mparameters\u001b[49m\u001b[43m)\u001b[49m\u001b[43m,\u001b[49m\u001b[43m \u001b[49m\u001b[43m(\u001b[49m\u001b[43msplit_idx\u001b[49m\u001b[43m,\u001b[49m\u001b[43m \u001b[49m\u001b[43m(\u001b[49m\u001b[43mtrain\u001b[49m\u001b[43m,\u001b[49m\u001b[43m \u001b[49m\u001b[43mtest\u001b[49m\u001b[43m)\u001b[49m\u001b[43m)\u001b[49m\u001b[43m \u001b[49m\u001b[38;5;129;43;01min\u001b[39;49;00m\u001b[43m \u001b[49m\u001b[43mproduct\u001b[49m\u001b[43m(\u001b[49m\n\u001b[0;32m    929\u001b[0m \u001b[43m        \u001b[49m\u001b[38;5;28;43menumerate\u001b[39;49m\u001b[43m(\u001b[49m\u001b[43mcandidate_params\u001b[49m\u001b[43m)\u001b[49m\u001b[43m,\u001b[49m\n\u001b[0;32m    930\u001b[0m \u001b[43m        \u001b[49m\u001b[38;5;28;43menumerate\u001b[39;49m\u001b[43m(\u001b[49m\u001b[43mcv\u001b[49m\u001b[38;5;241;43m.\u001b[39;49m\u001b[43msplit\u001b[49m\u001b[43m(\u001b[49m\u001b[43mX\u001b[49m\u001b[43m,\u001b[49m\u001b[43m \u001b[49m\u001b[43my\u001b[49m\u001b[43m,\u001b[49m\u001b[43m \u001b[49m\u001b[38;5;241;43m*\u001b[39;49m\u001b[38;5;241;43m*\u001b[39;49m\u001b[43mrouted_params\u001b[49m\u001b[38;5;241;43m.\u001b[39;49m\u001b[43msplitter\u001b[49m\u001b[38;5;241;43m.\u001b[39;49m\u001b[43msplit\u001b[49m\u001b[43m)\u001b[49m\u001b[43m)\u001b[49m\u001b[43m,\u001b[49m\n\u001b[0;32m    931\u001b[0m \u001b[43m    \u001b[49m\u001b[43m)\u001b[49m\n\u001b[0;32m    932\u001b[0m \u001b[43m\u001b[49m\u001b[43m)\u001b[49m\n\u001b[0;32m    934\u001b[0m \u001b[38;5;28;01mif\u001b[39;00m \u001b[38;5;28mlen\u001b[39m(out) \u001b[38;5;241m<\u001b[39m \u001b[38;5;241m1\u001b[39m:\n\u001b[0;32m    935\u001b[0m     \u001b[38;5;28;01mraise\u001b[39;00m \u001b[38;5;167;01mValueError\u001b[39;00m(\n\u001b[0;32m    936\u001b[0m         \u001b[38;5;124m\"\u001b[39m\u001b[38;5;124mNo fits were performed. \u001b[39m\u001b[38;5;124m\"\u001b[39m\n\u001b[0;32m    937\u001b[0m         \u001b[38;5;124m\"\u001b[39m\u001b[38;5;124mWas the CV iterator empty? \u001b[39m\u001b[38;5;124m\"\u001b[39m\n\u001b[0;32m    938\u001b[0m         \u001b[38;5;124m\"\u001b[39m\u001b[38;5;124mWere there no candidates?\u001b[39m\u001b[38;5;124m\"\u001b[39m\n\u001b[0;32m    939\u001b[0m     )\n",
      "File \u001b[1;32m~\\AppData\\Local\\Packages\\PythonSoftwareFoundation.Python.3.10_qbz5n2kfra8p0\\LocalCache\\local-packages\\Python310\\site-packages\\sklearn\\utils\\parallel.py:67\u001b[0m, in \u001b[0;36mParallel.__call__\u001b[1;34m(self, iterable)\u001b[0m\n\u001b[0;32m     62\u001b[0m config \u001b[38;5;241m=\u001b[39m get_config()\n\u001b[0;32m     63\u001b[0m iterable_with_config \u001b[38;5;241m=\u001b[39m (\n\u001b[0;32m     64\u001b[0m     (_with_config(delayed_func, config), args, kwargs)\n\u001b[0;32m     65\u001b[0m     \u001b[38;5;28;01mfor\u001b[39;00m delayed_func, args, kwargs \u001b[38;5;129;01min\u001b[39;00m iterable\n\u001b[0;32m     66\u001b[0m )\n\u001b[1;32m---> 67\u001b[0m \u001b[38;5;28;01mreturn\u001b[39;00m \u001b[38;5;28;43msuper\u001b[39;49m\u001b[43m(\u001b[49m\u001b[43m)\u001b[49m\u001b[38;5;241;43m.\u001b[39;49m\u001b[38;5;21;43m__call__\u001b[39;49m\u001b[43m(\u001b[49m\u001b[43miterable_with_config\u001b[49m\u001b[43m)\u001b[49m\n",
      "File \u001b[1;32m~\\AppData\\Local\\Packages\\PythonSoftwareFoundation.Python.3.10_qbz5n2kfra8p0\\LocalCache\\local-packages\\Python310\\site-packages\\joblib\\parallel.py:1918\u001b[0m, in \u001b[0;36mParallel.__call__\u001b[1;34m(self, iterable)\u001b[0m\n\u001b[0;32m   1916\u001b[0m     output \u001b[38;5;241m=\u001b[39m \u001b[38;5;28mself\u001b[39m\u001b[38;5;241m.\u001b[39m_get_sequential_output(iterable)\n\u001b[0;32m   1917\u001b[0m     \u001b[38;5;28mnext\u001b[39m(output)\n\u001b[1;32m-> 1918\u001b[0m     \u001b[38;5;28;01mreturn\u001b[39;00m output \u001b[38;5;28;01mif\u001b[39;00m \u001b[38;5;28mself\u001b[39m\u001b[38;5;241m.\u001b[39mreturn_generator \u001b[38;5;28;01melse\u001b[39;00m \u001b[38;5;28;43mlist\u001b[39;49m\u001b[43m(\u001b[49m\u001b[43moutput\u001b[49m\u001b[43m)\u001b[49m\n\u001b[0;32m   1920\u001b[0m \u001b[38;5;66;03m# Let's create an ID that uniquely identifies the current call. If the\u001b[39;00m\n\u001b[0;32m   1921\u001b[0m \u001b[38;5;66;03m# call is interrupted early and that the same instance is immediately\u001b[39;00m\n\u001b[0;32m   1922\u001b[0m \u001b[38;5;66;03m# re-used, this id will be used to prevent workers that were\u001b[39;00m\n\u001b[0;32m   1923\u001b[0m \u001b[38;5;66;03m# concurrently finalizing a task from the previous call to run the\u001b[39;00m\n\u001b[0;32m   1924\u001b[0m \u001b[38;5;66;03m# callback.\u001b[39;00m\n\u001b[0;32m   1925\u001b[0m \u001b[38;5;28;01mwith\u001b[39;00m \u001b[38;5;28mself\u001b[39m\u001b[38;5;241m.\u001b[39m_lock:\n",
      "File \u001b[1;32m~\\AppData\\Local\\Packages\\PythonSoftwareFoundation.Python.3.10_qbz5n2kfra8p0\\LocalCache\\local-packages\\Python310\\site-packages\\joblib\\parallel.py:1847\u001b[0m, in \u001b[0;36mParallel._get_sequential_output\u001b[1;34m(self, iterable)\u001b[0m\n\u001b[0;32m   1845\u001b[0m \u001b[38;5;28mself\u001b[39m\u001b[38;5;241m.\u001b[39mn_dispatched_batches \u001b[38;5;241m+\u001b[39m\u001b[38;5;241m=\u001b[39m \u001b[38;5;241m1\u001b[39m\n\u001b[0;32m   1846\u001b[0m \u001b[38;5;28mself\u001b[39m\u001b[38;5;241m.\u001b[39mn_dispatched_tasks \u001b[38;5;241m+\u001b[39m\u001b[38;5;241m=\u001b[39m \u001b[38;5;241m1\u001b[39m\n\u001b[1;32m-> 1847\u001b[0m res \u001b[38;5;241m=\u001b[39m func(\u001b[38;5;241m*\u001b[39margs, \u001b[38;5;241m*\u001b[39m\u001b[38;5;241m*\u001b[39mkwargs)\n\u001b[0;32m   1848\u001b[0m \u001b[38;5;28mself\u001b[39m\u001b[38;5;241m.\u001b[39mn_completed_tasks \u001b[38;5;241m+\u001b[39m\u001b[38;5;241m=\u001b[39m \u001b[38;5;241m1\u001b[39m\n\u001b[0;32m   1849\u001b[0m \u001b[38;5;28mself\u001b[39m\u001b[38;5;241m.\u001b[39mprint_progress()\n",
      "File \u001b[1;32m~\\AppData\\Local\\Packages\\PythonSoftwareFoundation.Python.3.10_qbz5n2kfra8p0\\LocalCache\\local-packages\\Python310\\site-packages\\sklearn\\utils\\parallel.py:129\u001b[0m, in \u001b[0;36m_FuncWrapper.__call__\u001b[1;34m(self, *args, **kwargs)\u001b[0m\n\u001b[0;32m    127\u001b[0m     config \u001b[38;5;241m=\u001b[39m {}\n\u001b[0;32m    128\u001b[0m \u001b[38;5;28;01mwith\u001b[39;00m config_context(\u001b[38;5;241m*\u001b[39m\u001b[38;5;241m*\u001b[39mconfig):\n\u001b[1;32m--> 129\u001b[0m     \u001b[38;5;28;01mreturn\u001b[39;00m \u001b[38;5;28mself\u001b[39m\u001b[38;5;241m.\u001b[39mfunction(\u001b[38;5;241m*\u001b[39margs, \u001b[38;5;241m*\u001b[39m\u001b[38;5;241m*\u001b[39mkwargs)\n",
      "File \u001b[1;32m~\\AppData\\Local\\Packages\\PythonSoftwareFoundation.Python.3.10_qbz5n2kfra8p0\\LocalCache\\local-packages\\Python310\\site-packages\\sklearn\\model_selection\\_validation.py:895\u001b[0m, in \u001b[0;36m_fit_and_score\u001b[1;34m(estimator, X, y, scorer, train, test, verbose, parameters, fit_params, score_params, return_train_score, return_parameters, return_n_test_samples, return_times, return_estimator, split_progress, candidate_progress, error_score)\u001b[0m\n\u001b[0;32m    893\u001b[0m         estimator\u001b[38;5;241m.\u001b[39mfit(X_train, \u001b[38;5;241m*\u001b[39m\u001b[38;5;241m*\u001b[39mfit_params)\n\u001b[0;32m    894\u001b[0m     \u001b[38;5;28;01melse\u001b[39;00m:\n\u001b[1;32m--> 895\u001b[0m         estimator\u001b[38;5;241m.\u001b[39mfit(X_train, y_train, \u001b[38;5;241m*\u001b[39m\u001b[38;5;241m*\u001b[39mfit_params)\n\u001b[0;32m    897\u001b[0m \u001b[38;5;28;01mexcept\u001b[39;00m \u001b[38;5;167;01mException\u001b[39;00m:\n\u001b[0;32m    898\u001b[0m     \u001b[38;5;66;03m# Note fit time as time until error\u001b[39;00m\n\u001b[0;32m    899\u001b[0m     fit_time \u001b[38;5;241m=\u001b[39m time\u001b[38;5;241m.\u001b[39mtime() \u001b[38;5;241m-\u001b[39m start_time\n",
      "File \u001b[1;32m~\\AppData\\Local\\Packages\\PythonSoftwareFoundation.Python.3.10_qbz5n2kfra8p0\\LocalCache\\local-packages\\Python310\\site-packages\\sklearn\\base.py:1474\u001b[0m, in \u001b[0;36m_fit_context.<locals>.decorator.<locals>.wrapper\u001b[1;34m(estimator, *args, **kwargs)\u001b[0m\n\u001b[0;32m   1467\u001b[0m     estimator\u001b[38;5;241m.\u001b[39m_validate_params()\n\u001b[0;32m   1469\u001b[0m \u001b[38;5;28;01mwith\u001b[39;00m config_context(\n\u001b[0;32m   1470\u001b[0m     skip_parameter_validation\u001b[38;5;241m=\u001b[39m(\n\u001b[0;32m   1471\u001b[0m         prefer_skip_nested_validation \u001b[38;5;129;01mor\u001b[39;00m global_skip_validation\n\u001b[0;32m   1472\u001b[0m     )\n\u001b[0;32m   1473\u001b[0m ):\n\u001b[1;32m-> 1474\u001b[0m     \u001b[38;5;28;01mreturn\u001b[39;00m fit_method(estimator, \u001b[38;5;241m*\u001b[39margs, \u001b[38;5;241m*\u001b[39m\u001b[38;5;241m*\u001b[39mkwargs)\n",
      "File \u001b[1;32m~\\AppData\\Local\\Packages\\PythonSoftwareFoundation.Python.3.10_qbz5n2kfra8p0\\LocalCache\\local-packages\\Python310\\site-packages\\sklearn\\pipeline.py:471\u001b[0m, in \u001b[0;36mPipeline.fit\u001b[1;34m(self, X, y, **params)\u001b[0m\n\u001b[0;32m    428\u001b[0m \u001b[38;5;250m\u001b[39m\u001b[38;5;124;03m\"\"\"Fit the model.\u001b[39;00m\n\u001b[0;32m    429\u001b[0m \n\u001b[0;32m    430\u001b[0m \u001b[38;5;124;03mFit all the transformers one after the other and sequentially transform the\u001b[39;00m\n\u001b[1;32m   (...)\u001b[0m\n\u001b[0;32m    468\u001b[0m \u001b[38;5;124;03m    Pipeline with fitted steps.\u001b[39;00m\n\u001b[0;32m    469\u001b[0m \u001b[38;5;124;03m\"\"\"\u001b[39;00m\n\u001b[0;32m    470\u001b[0m routed_params \u001b[38;5;241m=\u001b[39m \u001b[38;5;28mself\u001b[39m\u001b[38;5;241m.\u001b[39m_check_method_params(method\u001b[38;5;241m=\u001b[39m\u001b[38;5;124m\"\u001b[39m\u001b[38;5;124mfit\u001b[39m\u001b[38;5;124m\"\u001b[39m, props\u001b[38;5;241m=\u001b[39mparams)\n\u001b[1;32m--> 471\u001b[0m Xt \u001b[38;5;241m=\u001b[39m \u001b[38;5;28;43mself\u001b[39;49m\u001b[38;5;241;43m.\u001b[39;49m\u001b[43m_fit\u001b[49m\u001b[43m(\u001b[49m\u001b[43mX\u001b[49m\u001b[43m,\u001b[49m\u001b[43m \u001b[49m\u001b[43my\u001b[49m\u001b[43m,\u001b[49m\u001b[43m \u001b[49m\u001b[43mrouted_params\u001b[49m\u001b[43m)\u001b[49m\n\u001b[0;32m    472\u001b[0m \u001b[38;5;28;01mwith\u001b[39;00m _print_elapsed_time(\u001b[38;5;124m\"\u001b[39m\u001b[38;5;124mPipeline\u001b[39m\u001b[38;5;124m\"\u001b[39m, \u001b[38;5;28mself\u001b[39m\u001b[38;5;241m.\u001b[39m_log_message(\u001b[38;5;28mlen\u001b[39m(\u001b[38;5;28mself\u001b[39m\u001b[38;5;241m.\u001b[39msteps) \u001b[38;5;241m-\u001b[39m \u001b[38;5;241m1\u001b[39m)):\n\u001b[0;32m    473\u001b[0m     \u001b[38;5;28;01mif\u001b[39;00m \u001b[38;5;28mself\u001b[39m\u001b[38;5;241m.\u001b[39m_final_estimator \u001b[38;5;241m!=\u001b[39m \u001b[38;5;124m\"\u001b[39m\u001b[38;5;124mpassthrough\u001b[39m\u001b[38;5;124m\"\u001b[39m:\n",
      "File \u001b[1;32m~\\AppData\\Local\\Packages\\PythonSoftwareFoundation.Python.3.10_qbz5n2kfra8p0\\LocalCache\\local-packages\\Python310\\site-packages\\sklearn\\pipeline.py:408\u001b[0m, in \u001b[0;36mPipeline._fit\u001b[1;34m(self, X, y, routed_params)\u001b[0m\n\u001b[0;32m    406\u001b[0m     cloned_transformer \u001b[38;5;241m=\u001b[39m clone(transformer)\n\u001b[0;32m    407\u001b[0m \u001b[38;5;66;03m# Fit or load from cache the current transformer\u001b[39;00m\n\u001b[1;32m--> 408\u001b[0m X, fitted_transformer \u001b[38;5;241m=\u001b[39m \u001b[43mfit_transform_one_cached\u001b[49m\u001b[43m(\u001b[49m\n\u001b[0;32m    409\u001b[0m \u001b[43m    \u001b[49m\u001b[43mcloned_transformer\u001b[49m\u001b[43m,\u001b[49m\n\u001b[0;32m    410\u001b[0m \u001b[43m    \u001b[49m\u001b[43mX\u001b[49m\u001b[43m,\u001b[49m\n\u001b[0;32m    411\u001b[0m \u001b[43m    \u001b[49m\u001b[43my\u001b[49m\u001b[43m,\u001b[49m\n\u001b[0;32m    412\u001b[0m \u001b[43m    \u001b[49m\u001b[38;5;28;43;01mNone\u001b[39;49;00m\u001b[43m,\u001b[49m\n\u001b[0;32m    413\u001b[0m \u001b[43m    \u001b[49m\u001b[43mmessage_clsname\u001b[49m\u001b[38;5;241;43m=\u001b[39;49m\u001b[38;5;124;43m\"\u001b[39;49m\u001b[38;5;124;43mPipeline\u001b[39;49m\u001b[38;5;124;43m\"\u001b[39;49m\u001b[43m,\u001b[49m\n\u001b[0;32m    414\u001b[0m \u001b[43m    \u001b[49m\u001b[43mmessage\u001b[49m\u001b[38;5;241;43m=\u001b[39;49m\u001b[38;5;28;43mself\u001b[39;49m\u001b[38;5;241;43m.\u001b[39;49m\u001b[43m_log_message\u001b[49m\u001b[43m(\u001b[49m\u001b[43mstep_idx\u001b[49m\u001b[43m)\u001b[49m\u001b[43m,\u001b[49m\n\u001b[0;32m    415\u001b[0m \u001b[43m    \u001b[49m\u001b[43mparams\u001b[49m\u001b[38;5;241;43m=\u001b[39;49m\u001b[43mrouted_params\u001b[49m\u001b[43m[\u001b[49m\u001b[43mname\u001b[49m\u001b[43m]\u001b[49m\u001b[43m,\u001b[49m\n\u001b[0;32m    416\u001b[0m \u001b[43m\u001b[49m\u001b[43m)\u001b[49m\n\u001b[0;32m    417\u001b[0m \u001b[38;5;66;03m# Replace the transformer of the step with the fitted\u001b[39;00m\n\u001b[0;32m    418\u001b[0m \u001b[38;5;66;03m# transformer. This is necessary when loading the transformer\u001b[39;00m\n\u001b[0;32m    419\u001b[0m \u001b[38;5;66;03m# from the cache.\u001b[39;00m\n\u001b[0;32m    420\u001b[0m \u001b[38;5;28mself\u001b[39m\u001b[38;5;241m.\u001b[39msteps[step_idx] \u001b[38;5;241m=\u001b[39m (name, fitted_transformer)\n",
      "File \u001b[1;32m~\\AppData\\Local\\Packages\\PythonSoftwareFoundation.Python.3.10_qbz5n2kfra8p0\\LocalCache\\local-packages\\Python310\\site-packages\\joblib\\memory.py:312\u001b[0m, in \u001b[0;36mNotMemorizedFunc.__call__\u001b[1;34m(self, *args, **kwargs)\u001b[0m\n\u001b[0;32m    311\u001b[0m \u001b[38;5;28;01mdef\u001b[39;00m \u001b[38;5;21m__call__\u001b[39m(\u001b[38;5;28mself\u001b[39m, \u001b[38;5;241m*\u001b[39margs, \u001b[38;5;241m*\u001b[39m\u001b[38;5;241m*\u001b[39mkwargs):\n\u001b[1;32m--> 312\u001b[0m     \u001b[38;5;28;01mreturn\u001b[39;00m \u001b[38;5;28mself\u001b[39m\u001b[38;5;241m.\u001b[39mfunc(\u001b[38;5;241m*\u001b[39margs, \u001b[38;5;241m*\u001b[39m\u001b[38;5;241m*\u001b[39mkwargs)\n",
      "File \u001b[1;32m~\\AppData\\Local\\Packages\\PythonSoftwareFoundation.Python.3.10_qbz5n2kfra8p0\\LocalCache\\local-packages\\Python310\\site-packages\\sklearn\\pipeline.py:1303\u001b[0m, in \u001b[0;36m_fit_transform_one\u001b[1;34m(transformer, X, y, weight, message_clsname, message, params)\u001b[0m\n\u001b[0;32m   1301\u001b[0m \u001b[38;5;28;01mwith\u001b[39;00m _print_elapsed_time(message_clsname, message):\n\u001b[0;32m   1302\u001b[0m     \u001b[38;5;28;01mif\u001b[39;00m \u001b[38;5;28mhasattr\u001b[39m(transformer, \u001b[38;5;124m\"\u001b[39m\u001b[38;5;124mfit_transform\u001b[39m\u001b[38;5;124m\"\u001b[39m):\n\u001b[1;32m-> 1303\u001b[0m         res \u001b[38;5;241m=\u001b[39m transformer\u001b[38;5;241m.\u001b[39mfit_transform(X, y, \u001b[38;5;241m*\u001b[39m\u001b[38;5;241m*\u001b[39mparams\u001b[38;5;241m.\u001b[39mget(\u001b[38;5;124m\"\u001b[39m\u001b[38;5;124mfit_transform\u001b[39m\u001b[38;5;124m\"\u001b[39m, {}))\n\u001b[0;32m   1304\u001b[0m     \u001b[38;5;28;01melse\u001b[39;00m:\n\u001b[0;32m   1305\u001b[0m         res \u001b[38;5;241m=\u001b[39m transformer\u001b[38;5;241m.\u001b[39mfit(X, y, \u001b[38;5;241m*\u001b[39m\u001b[38;5;241m*\u001b[39mparams\u001b[38;5;241m.\u001b[39mget(\u001b[38;5;124m\"\u001b[39m\u001b[38;5;124mfit\u001b[39m\u001b[38;5;124m\"\u001b[39m, {}))\u001b[38;5;241m.\u001b[39mtransform(\n\u001b[0;32m   1306\u001b[0m             X, \u001b[38;5;241m*\u001b[39m\u001b[38;5;241m*\u001b[39mparams\u001b[38;5;241m.\u001b[39mget(\u001b[38;5;124m\"\u001b[39m\u001b[38;5;124mtransform\u001b[39m\u001b[38;5;124m\"\u001b[39m, {})\n\u001b[0;32m   1307\u001b[0m         )\n",
      "File \u001b[1;32m~\\AppData\\Local\\Packages\\PythonSoftwareFoundation.Python.3.10_qbz5n2kfra8p0\\LocalCache\\local-packages\\Python310\\site-packages\\sklearn\\utils\\_set_output.py:295\u001b[0m, in \u001b[0;36m_wrap_method_output.<locals>.wrapped\u001b[1;34m(self, X, *args, **kwargs)\u001b[0m\n\u001b[0;32m    293\u001b[0m \u001b[38;5;129m@wraps\u001b[39m(f)\n\u001b[0;32m    294\u001b[0m \u001b[38;5;28;01mdef\u001b[39;00m \u001b[38;5;21mwrapped\u001b[39m(\u001b[38;5;28mself\u001b[39m, X, \u001b[38;5;241m*\u001b[39margs, \u001b[38;5;241m*\u001b[39m\u001b[38;5;241m*\u001b[39mkwargs):\n\u001b[1;32m--> 295\u001b[0m     data_to_wrap \u001b[38;5;241m=\u001b[39m f(\u001b[38;5;28mself\u001b[39m, X, \u001b[38;5;241m*\u001b[39margs, \u001b[38;5;241m*\u001b[39m\u001b[38;5;241m*\u001b[39mkwargs)\n\u001b[0;32m    296\u001b[0m     \u001b[38;5;28;01mif\u001b[39;00m \u001b[38;5;28misinstance\u001b[39m(data_to_wrap, \u001b[38;5;28mtuple\u001b[39m):\n\u001b[0;32m    297\u001b[0m         \u001b[38;5;66;03m# only wrap the first output for cross decomposition\u001b[39;00m\n\u001b[0;32m    298\u001b[0m         return_tuple \u001b[38;5;241m=\u001b[39m (\n\u001b[0;32m    299\u001b[0m             _wrap_data_with_container(method, data_to_wrap[\u001b[38;5;241m0\u001b[39m], X, \u001b[38;5;28mself\u001b[39m),\n\u001b[0;32m    300\u001b[0m             \u001b[38;5;241m*\u001b[39mdata_to_wrap[\u001b[38;5;241m1\u001b[39m:],\n\u001b[0;32m    301\u001b[0m         )\n",
      "File \u001b[1;32m~\\AppData\\Local\\Packages\\PythonSoftwareFoundation.Python.3.10_qbz5n2kfra8p0\\LocalCache\\local-packages\\Python310\\site-packages\\sklearn\\base.py:1101\u001b[0m, in \u001b[0;36mTransformerMixin.fit_transform\u001b[1;34m(self, X, y, **fit_params)\u001b[0m\n\u001b[0;32m   1098\u001b[0m     \u001b[38;5;28;01mreturn\u001b[39;00m \u001b[38;5;28mself\u001b[39m\u001b[38;5;241m.\u001b[39mfit(X, \u001b[38;5;241m*\u001b[39m\u001b[38;5;241m*\u001b[39mfit_params)\u001b[38;5;241m.\u001b[39mtransform(X)\n\u001b[0;32m   1099\u001b[0m \u001b[38;5;28;01melse\u001b[39;00m:\n\u001b[0;32m   1100\u001b[0m     \u001b[38;5;66;03m# fit method of arity 2 (supervised transformation)\u001b[39;00m\n\u001b[1;32m-> 1101\u001b[0m     \u001b[38;5;28;01mreturn\u001b[39;00m \u001b[38;5;28mself\u001b[39m\u001b[38;5;241m.\u001b[39mfit(X, y, \u001b[38;5;241m*\u001b[39m\u001b[38;5;241m*\u001b[39mfit_params)\u001b[38;5;241m.\u001b[39mtransform(X)\n",
      "File \u001b[1;32m~\\AppData\\Local\\Packages\\PythonSoftwareFoundation.Python.3.10_qbz5n2kfra8p0\\LocalCache\\local-packages\\Python310\\site-packages\\sklearn\\base.py:1474\u001b[0m, in \u001b[0;36m_fit_context.<locals>.decorator.<locals>.wrapper\u001b[1;34m(estimator, *args, **kwargs)\u001b[0m\n\u001b[0;32m   1467\u001b[0m     estimator\u001b[38;5;241m.\u001b[39m_validate_params()\n\u001b[0;32m   1469\u001b[0m \u001b[38;5;28;01mwith\u001b[39;00m config_context(\n\u001b[0;32m   1470\u001b[0m     skip_parameter_validation\u001b[38;5;241m=\u001b[39m(\n\u001b[0;32m   1471\u001b[0m         prefer_skip_nested_validation \u001b[38;5;129;01mor\u001b[39;00m global_skip_validation\n\u001b[0;32m   1472\u001b[0m     )\n\u001b[0;32m   1473\u001b[0m ):\n\u001b[1;32m-> 1474\u001b[0m     \u001b[38;5;28;01mreturn\u001b[39;00m fit_method(estimator, \u001b[38;5;241m*\u001b[39margs, \u001b[38;5;241m*\u001b[39m\u001b[38;5;241m*\u001b[39mkwargs)\n",
      "File \u001b[1;32m~\\AppData\\Local\\Packages\\PythonSoftwareFoundation.Python.3.10_qbz5n2kfra8p0\\LocalCache\\local-packages\\Python310\\site-packages\\sklearn\\feature_selection\\_sequential.py:251\u001b[0m, in \u001b[0;36mSequentialFeatureSelector.fit\u001b[1;34m(self, X, y)\u001b[0m\n\u001b[0;32m    249\u001b[0m is_auto_select \u001b[38;5;241m=\u001b[39m \u001b[38;5;28mself\u001b[39m\u001b[38;5;241m.\u001b[39mtol \u001b[38;5;129;01mis\u001b[39;00m \u001b[38;5;129;01mnot\u001b[39;00m \u001b[38;5;28;01mNone\u001b[39;00m \u001b[38;5;129;01mand\u001b[39;00m \u001b[38;5;28mself\u001b[39m\u001b[38;5;241m.\u001b[39mn_features_to_select \u001b[38;5;241m==\u001b[39m \u001b[38;5;124m\"\u001b[39m\u001b[38;5;124mauto\u001b[39m\u001b[38;5;124m\"\u001b[39m\n\u001b[0;32m    250\u001b[0m \u001b[38;5;28;01mfor\u001b[39;00m _ \u001b[38;5;129;01min\u001b[39;00m \u001b[38;5;28mrange\u001b[39m(n_iterations):\n\u001b[1;32m--> 251\u001b[0m     new_feature_idx, new_score \u001b[38;5;241m=\u001b[39m \u001b[38;5;28;43mself\u001b[39;49m\u001b[38;5;241;43m.\u001b[39;49m\u001b[43m_get_best_new_feature_score\u001b[49m\u001b[43m(\u001b[49m\n\u001b[0;32m    252\u001b[0m \u001b[43m        \u001b[49m\u001b[43mcloned_estimator\u001b[49m\u001b[43m,\u001b[49m\u001b[43m \u001b[49m\u001b[43mX\u001b[49m\u001b[43m,\u001b[49m\u001b[43m \u001b[49m\u001b[43my\u001b[49m\u001b[43m,\u001b[49m\u001b[43m \u001b[49m\u001b[43mcv\u001b[49m\u001b[43m,\u001b[49m\u001b[43m \u001b[49m\u001b[43mcurrent_mask\u001b[49m\n\u001b[0;32m    253\u001b[0m \u001b[43m    \u001b[49m\u001b[43m)\u001b[49m\n\u001b[0;32m    254\u001b[0m     \u001b[38;5;28;01mif\u001b[39;00m is_auto_select \u001b[38;5;129;01mand\u001b[39;00m ((new_score \u001b[38;5;241m-\u001b[39m old_score) \u001b[38;5;241m<\u001b[39m \u001b[38;5;28mself\u001b[39m\u001b[38;5;241m.\u001b[39mtol):\n\u001b[0;32m    255\u001b[0m         \u001b[38;5;28;01mbreak\u001b[39;00m\n",
      "File \u001b[1;32m~\\AppData\\Local\\Packages\\PythonSoftwareFoundation.Python.3.10_qbz5n2kfra8p0\\LocalCache\\local-packages\\Python310\\site-packages\\sklearn\\feature_selection\\_sequential.py:282\u001b[0m, in \u001b[0;36mSequentialFeatureSelector._get_best_new_feature_score\u001b[1;34m(self, estimator, X, y, cv, current_mask)\u001b[0m\n\u001b[0;32m    280\u001b[0m         candidate_mask \u001b[38;5;241m=\u001b[39m \u001b[38;5;241m~\u001b[39mcandidate_mask\n\u001b[0;32m    281\u001b[0m     X_new \u001b[38;5;241m=\u001b[39m X[:, candidate_mask]\n\u001b[1;32m--> 282\u001b[0m     scores[feature_idx] \u001b[38;5;241m=\u001b[39m \u001b[43mcross_val_score\u001b[49m\u001b[43m(\u001b[49m\n\u001b[0;32m    283\u001b[0m \u001b[43m        \u001b[49m\u001b[43mestimator\u001b[49m\u001b[43m,\u001b[49m\n\u001b[0;32m    284\u001b[0m \u001b[43m        \u001b[49m\u001b[43mX_new\u001b[49m\u001b[43m,\u001b[49m\n\u001b[0;32m    285\u001b[0m \u001b[43m        \u001b[49m\u001b[43my\u001b[49m\u001b[43m,\u001b[49m\n\u001b[0;32m    286\u001b[0m \u001b[43m        \u001b[49m\u001b[43mcv\u001b[49m\u001b[38;5;241;43m=\u001b[39;49m\u001b[43mcv\u001b[49m\u001b[43m,\u001b[49m\n\u001b[0;32m    287\u001b[0m \u001b[43m        \u001b[49m\u001b[43mscoring\u001b[49m\u001b[38;5;241;43m=\u001b[39;49m\u001b[38;5;28;43mself\u001b[39;49m\u001b[38;5;241;43m.\u001b[39;49m\u001b[43mscoring\u001b[49m\u001b[43m,\u001b[49m\n\u001b[0;32m    288\u001b[0m \u001b[43m        \u001b[49m\u001b[43mn_jobs\u001b[49m\u001b[38;5;241;43m=\u001b[39;49m\u001b[38;5;28;43mself\u001b[39;49m\u001b[38;5;241;43m.\u001b[39;49m\u001b[43mn_jobs\u001b[49m\u001b[43m,\u001b[49m\n\u001b[0;32m    289\u001b[0m \u001b[43m    \u001b[49m\u001b[43m)\u001b[49m\u001b[38;5;241m.\u001b[39mmean()\n\u001b[0;32m    290\u001b[0m new_feature_idx \u001b[38;5;241m=\u001b[39m \u001b[38;5;28mmax\u001b[39m(scores, key\u001b[38;5;241m=\u001b[39m\u001b[38;5;28;01mlambda\u001b[39;00m feature_idx: scores[feature_idx])\n\u001b[0;32m    291\u001b[0m \u001b[38;5;28;01mreturn\u001b[39;00m new_feature_idx, scores[new_feature_idx]\n",
      "File \u001b[1;32m~\\AppData\\Local\\Packages\\PythonSoftwareFoundation.Python.3.10_qbz5n2kfra8p0\\LocalCache\\local-packages\\Python310\\site-packages\\sklearn\\utils\\_param_validation.py:213\u001b[0m, in \u001b[0;36mvalidate_params.<locals>.decorator.<locals>.wrapper\u001b[1;34m(*args, **kwargs)\u001b[0m\n\u001b[0;32m    207\u001b[0m \u001b[38;5;28;01mtry\u001b[39;00m:\n\u001b[0;32m    208\u001b[0m     \u001b[38;5;28;01mwith\u001b[39;00m config_context(\n\u001b[0;32m    209\u001b[0m         skip_parameter_validation\u001b[38;5;241m=\u001b[39m(\n\u001b[0;32m    210\u001b[0m             prefer_skip_nested_validation \u001b[38;5;129;01mor\u001b[39;00m global_skip_validation\n\u001b[0;32m    211\u001b[0m         )\n\u001b[0;32m    212\u001b[0m     ):\n\u001b[1;32m--> 213\u001b[0m         \u001b[38;5;28;01mreturn\u001b[39;00m func(\u001b[38;5;241m*\u001b[39margs, \u001b[38;5;241m*\u001b[39m\u001b[38;5;241m*\u001b[39mkwargs)\n\u001b[0;32m    214\u001b[0m \u001b[38;5;28;01mexcept\u001b[39;00m InvalidParameterError \u001b[38;5;28;01mas\u001b[39;00m e:\n\u001b[0;32m    215\u001b[0m     \u001b[38;5;66;03m# When the function is just a wrapper around an estimator, we allow\u001b[39;00m\n\u001b[0;32m    216\u001b[0m     \u001b[38;5;66;03m# the function to delegate validation to the estimator, but we replace\u001b[39;00m\n\u001b[0;32m    217\u001b[0m     \u001b[38;5;66;03m# the name of the estimator by the name of the function in the error\u001b[39;00m\n\u001b[0;32m    218\u001b[0m     \u001b[38;5;66;03m# message to avoid confusion.\u001b[39;00m\n\u001b[0;32m    219\u001b[0m     msg \u001b[38;5;241m=\u001b[39m re\u001b[38;5;241m.\u001b[39msub(\n\u001b[0;32m    220\u001b[0m         \u001b[38;5;124mr\u001b[39m\u001b[38;5;124m\"\u001b[39m\u001b[38;5;124mparameter of \u001b[39m\u001b[38;5;124m\\\u001b[39m\u001b[38;5;124mw+ must be\u001b[39m\u001b[38;5;124m\"\u001b[39m,\n\u001b[0;32m    221\u001b[0m         \u001b[38;5;124mf\u001b[39m\u001b[38;5;124m\"\u001b[39m\u001b[38;5;124mparameter of \u001b[39m\u001b[38;5;132;01m{\u001b[39;00mfunc\u001b[38;5;241m.\u001b[39m\u001b[38;5;18m__qualname__\u001b[39m\u001b[38;5;132;01m}\u001b[39;00m\u001b[38;5;124m must be\u001b[39m\u001b[38;5;124m\"\u001b[39m,\n\u001b[0;32m    222\u001b[0m         \u001b[38;5;28mstr\u001b[39m(e),\n\u001b[0;32m    223\u001b[0m     )\n",
      "File \u001b[1;32m~\\AppData\\Local\\Packages\\PythonSoftwareFoundation.Python.3.10_qbz5n2kfra8p0\\LocalCache\\local-packages\\Python310\\site-packages\\sklearn\\model_selection\\_validation.py:719\u001b[0m, in \u001b[0;36mcross_val_score\u001b[1;34m(estimator, X, y, groups, scoring, cv, n_jobs, verbose, fit_params, params, pre_dispatch, error_score)\u001b[0m\n\u001b[0;32m    716\u001b[0m \u001b[38;5;66;03m# To ensure multimetric format is not supported\u001b[39;00m\n\u001b[0;32m    717\u001b[0m scorer \u001b[38;5;241m=\u001b[39m check_scoring(estimator, scoring\u001b[38;5;241m=\u001b[39mscoring)\n\u001b[1;32m--> 719\u001b[0m cv_results \u001b[38;5;241m=\u001b[39m \u001b[43mcross_validate\u001b[49m\u001b[43m(\u001b[49m\n\u001b[0;32m    720\u001b[0m \u001b[43m    \u001b[49m\u001b[43mestimator\u001b[49m\u001b[38;5;241;43m=\u001b[39;49m\u001b[43mestimator\u001b[49m\u001b[43m,\u001b[49m\n\u001b[0;32m    721\u001b[0m \u001b[43m    \u001b[49m\u001b[43mX\u001b[49m\u001b[38;5;241;43m=\u001b[39;49m\u001b[43mX\u001b[49m\u001b[43m,\u001b[49m\n\u001b[0;32m    722\u001b[0m \u001b[43m    \u001b[49m\u001b[43my\u001b[49m\u001b[38;5;241;43m=\u001b[39;49m\u001b[43my\u001b[49m\u001b[43m,\u001b[49m\n\u001b[0;32m    723\u001b[0m \u001b[43m    \u001b[49m\u001b[43mgroups\u001b[49m\u001b[38;5;241;43m=\u001b[39;49m\u001b[43mgroups\u001b[49m\u001b[43m,\u001b[49m\n\u001b[0;32m    724\u001b[0m \u001b[43m    \u001b[49m\u001b[43mscoring\u001b[49m\u001b[38;5;241;43m=\u001b[39;49m\u001b[43m{\u001b[49m\u001b[38;5;124;43m\"\u001b[39;49m\u001b[38;5;124;43mscore\u001b[39;49m\u001b[38;5;124;43m\"\u001b[39;49m\u001b[43m:\u001b[49m\u001b[43m \u001b[49m\u001b[43mscorer\u001b[49m\u001b[43m}\u001b[49m\u001b[43m,\u001b[49m\n\u001b[0;32m    725\u001b[0m \u001b[43m    \u001b[49m\u001b[43mcv\u001b[49m\u001b[38;5;241;43m=\u001b[39;49m\u001b[43mcv\u001b[49m\u001b[43m,\u001b[49m\n\u001b[0;32m    726\u001b[0m \u001b[43m    \u001b[49m\u001b[43mn_jobs\u001b[49m\u001b[38;5;241;43m=\u001b[39;49m\u001b[43mn_jobs\u001b[49m\u001b[43m,\u001b[49m\n\u001b[0;32m    727\u001b[0m \u001b[43m    \u001b[49m\u001b[43mverbose\u001b[49m\u001b[38;5;241;43m=\u001b[39;49m\u001b[43mverbose\u001b[49m\u001b[43m,\u001b[49m\n\u001b[0;32m    728\u001b[0m \u001b[43m    \u001b[49m\u001b[43mfit_params\u001b[49m\u001b[38;5;241;43m=\u001b[39;49m\u001b[43mfit_params\u001b[49m\u001b[43m,\u001b[49m\n\u001b[0;32m    729\u001b[0m \u001b[43m    \u001b[49m\u001b[43mparams\u001b[49m\u001b[38;5;241;43m=\u001b[39;49m\u001b[43mparams\u001b[49m\u001b[43m,\u001b[49m\n\u001b[0;32m    730\u001b[0m \u001b[43m    \u001b[49m\u001b[43mpre_dispatch\u001b[49m\u001b[38;5;241;43m=\u001b[39;49m\u001b[43mpre_dispatch\u001b[49m\u001b[43m,\u001b[49m\n\u001b[0;32m    731\u001b[0m \u001b[43m    \u001b[49m\u001b[43merror_score\u001b[49m\u001b[38;5;241;43m=\u001b[39;49m\u001b[43merror_score\u001b[49m\u001b[43m,\u001b[49m\n\u001b[0;32m    732\u001b[0m \u001b[43m\u001b[49m\u001b[43m)\u001b[49m\n\u001b[0;32m    733\u001b[0m \u001b[38;5;28;01mreturn\u001b[39;00m cv_results[\u001b[38;5;124m\"\u001b[39m\u001b[38;5;124mtest_score\u001b[39m\u001b[38;5;124m\"\u001b[39m]\n",
      "File \u001b[1;32m~\\AppData\\Local\\Packages\\PythonSoftwareFoundation.Python.3.10_qbz5n2kfra8p0\\LocalCache\\local-packages\\Python310\\site-packages\\sklearn\\utils\\_param_validation.py:213\u001b[0m, in \u001b[0;36mvalidate_params.<locals>.decorator.<locals>.wrapper\u001b[1;34m(*args, **kwargs)\u001b[0m\n\u001b[0;32m    207\u001b[0m \u001b[38;5;28;01mtry\u001b[39;00m:\n\u001b[0;32m    208\u001b[0m     \u001b[38;5;28;01mwith\u001b[39;00m config_context(\n\u001b[0;32m    209\u001b[0m         skip_parameter_validation\u001b[38;5;241m=\u001b[39m(\n\u001b[0;32m    210\u001b[0m             prefer_skip_nested_validation \u001b[38;5;129;01mor\u001b[39;00m global_skip_validation\n\u001b[0;32m    211\u001b[0m         )\n\u001b[0;32m    212\u001b[0m     ):\n\u001b[1;32m--> 213\u001b[0m         \u001b[38;5;28;01mreturn\u001b[39;00m func(\u001b[38;5;241m*\u001b[39margs, \u001b[38;5;241m*\u001b[39m\u001b[38;5;241m*\u001b[39mkwargs)\n\u001b[0;32m    214\u001b[0m \u001b[38;5;28;01mexcept\u001b[39;00m InvalidParameterError \u001b[38;5;28;01mas\u001b[39;00m e:\n\u001b[0;32m    215\u001b[0m     \u001b[38;5;66;03m# When the function is just a wrapper around an estimator, we allow\u001b[39;00m\n\u001b[0;32m    216\u001b[0m     \u001b[38;5;66;03m# the function to delegate validation to the estimator, but we replace\u001b[39;00m\n\u001b[0;32m    217\u001b[0m     \u001b[38;5;66;03m# the name of the estimator by the name of the function in the error\u001b[39;00m\n\u001b[0;32m    218\u001b[0m     \u001b[38;5;66;03m# message to avoid confusion.\u001b[39;00m\n\u001b[0;32m    219\u001b[0m     msg \u001b[38;5;241m=\u001b[39m re\u001b[38;5;241m.\u001b[39msub(\n\u001b[0;32m    220\u001b[0m         \u001b[38;5;124mr\u001b[39m\u001b[38;5;124m\"\u001b[39m\u001b[38;5;124mparameter of \u001b[39m\u001b[38;5;124m\\\u001b[39m\u001b[38;5;124mw+ must be\u001b[39m\u001b[38;5;124m\"\u001b[39m,\n\u001b[0;32m    221\u001b[0m         \u001b[38;5;124mf\u001b[39m\u001b[38;5;124m\"\u001b[39m\u001b[38;5;124mparameter of \u001b[39m\u001b[38;5;132;01m{\u001b[39;00mfunc\u001b[38;5;241m.\u001b[39m\u001b[38;5;18m__qualname__\u001b[39m\u001b[38;5;132;01m}\u001b[39;00m\u001b[38;5;124m must be\u001b[39m\u001b[38;5;124m\"\u001b[39m,\n\u001b[0;32m    222\u001b[0m         \u001b[38;5;28mstr\u001b[39m(e),\n\u001b[0;32m    223\u001b[0m     )\n",
      "File \u001b[1;32m~\\AppData\\Local\\Packages\\PythonSoftwareFoundation.Python.3.10_qbz5n2kfra8p0\\LocalCache\\local-packages\\Python310\\site-packages\\sklearn\\model_selection\\_validation.py:430\u001b[0m, in \u001b[0;36mcross_validate\u001b[1;34m(estimator, X, y, groups, scoring, cv, n_jobs, verbose, fit_params, params, pre_dispatch, return_train_score, return_estimator, return_indices, error_score)\u001b[0m\n\u001b[0;32m    427\u001b[0m \u001b[38;5;66;03m# We clone the estimator to make sure that all the folds are\u001b[39;00m\n\u001b[0;32m    428\u001b[0m \u001b[38;5;66;03m# independent, and that it is pickle-able.\u001b[39;00m\n\u001b[0;32m    429\u001b[0m parallel \u001b[38;5;241m=\u001b[39m Parallel(n_jobs\u001b[38;5;241m=\u001b[39mn_jobs, verbose\u001b[38;5;241m=\u001b[39mverbose, pre_dispatch\u001b[38;5;241m=\u001b[39mpre_dispatch)\n\u001b[1;32m--> 430\u001b[0m results \u001b[38;5;241m=\u001b[39m \u001b[43mparallel\u001b[49m\u001b[43m(\u001b[49m\n\u001b[0;32m    431\u001b[0m \u001b[43m    \u001b[49m\u001b[43mdelayed\u001b[49m\u001b[43m(\u001b[49m\u001b[43m_fit_and_score\u001b[49m\u001b[43m)\u001b[49m\u001b[43m(\u001b[49m\n\u001b[0;32m    432\u001b[0m \u001b[43m        \u001b[49m\u001b[43mclone\u001b[49m\u001b[43m(\u001b[49m\u001b[43mestimator\u001b[49m\u001b[43m)\u001b[49m\u001b[43m,\u001b[49m\n\u001b[0;32m    433\u001b[0m \u001b[43m        \u001b[49m\u001b[43mX\u001b[49m\u001b[43m,\u001b[49m\n\u001b[0;32m    434\u001b[0m \u001b[43m        \u001b[49m\u001b[43my\u001b[49m\u001b[43m,\u001b[49m\n\u001b[0;32m    435\u001b[0m \u001b[43m        \u001b[49m\u001b[43mscorer\u001b[49m\u001b[38;5;241;43m=\u001b[39;49m\u001b[43mscorers\u001b[49m\u001b[43m,\u001b[49m\n\u001b[0;32m    436\u001b[0m \u001b[43m        \u001b[49m\u001b[43mtrain\u001b[49m\u001b[38;5;241;43m=\u001b[39;49m\u001b[43mtrain\u001b[49m\u001b[43m,\u001b[49m\n\u001b[0;32m    437\u001b[0m \u001b[43m        \u001b[49m\u001b[43mtest\u001b[49m\u001b[38;5;241;43m=\u001b[39;49m\u001b[43mtest\u001b[49m\u001b[43m,\u001b[49m\n\u001b[0;32m    438\u001b[0m \u001b[43m        \u001b[49m\u001b[43mverbose\u001b[49m\u001b[38;5;241;43m=\u001b[39;49m\u001b[43mverbose\u001b[49m\u001b[43m,\u001b[49m\n\u001b[0;32m    439\u001b[0m \u001b[43m        \u001b[49m\u001b[43mparameters\u001b[49m\u001b[38;5;241;43m=\u001b[39;49m\u001b[38;5;28;43;01mNone\u001b[39;49;00m\u001b[43m,\u001b[49m\n\u001b[0;32m    440\u001b[0m \u001b[43m        \u001b[49m\u001b[43mfit_params\u001b[49m\u001b[38;5;241;43m=\u001b[39;49m\u001b[43mrouted_params\u001b[49m\u001b[38;5;241;43m.\u001b[39;49m\u001b[43mestimator\u001b[49m\u001b[38;5;241;43m.\u001b[39;49m\u001b[43mfit\u001b[49m\u001b[43m,\u001b[49m\n\u001b[0;32m    441\u001b[0m \u001b[43m        \u001b[49m\u001b[43mscore_params\u001b[49m\u001b[38;5;241;43m=\u001b[39;49m\u001b[43mrouted_params\u001b[49m\u001b[38;5;241;43m.\u001b[39;49m\u001b[43mscorer\u001b[49m\u001b[38;5;241;43m.\u001b[39;49m\u001b[43mscore\u001b[49m\u001b[43m,\u001b[49m\n\u001b[0;32m    442\u001b[0m \u001b[43m        \u001b[49m\u001b[43mreturn_train_score\u001b[49m\u001b[38;5;241;43m=\u001b[39;49m\u001b[43mreturn_train_score\u001b[49m\u001b[43m,\u001b[49m\n\u001b[0;32m    443\u001b[0m \u001b[43m        \u001b[49m\u001b[43mreturn_times\u001b[49m\u001b[38;5;241;43m=\u001b[39;49m\u001b[38;5;28;43;01mTrue\u001b[39;49;00m\u001b[43m,\u001b[49m\n\u001b[0;32m    444\u001b[0m \u001b[43m        \u001b[49m\u001b[43mreturn_estimator\u001b[49m\u001b[38;5;241;43m=\u001b[39;49m\u001b[43mreturn_estimator\u001b[49m\u001b[43m,\u001b[49m\n\u001b[0;32m    445\u001b[0m \u001b[43m        \u001b[49m\u001b[43merror_score\u001b[49m\u001b[38;5;241;43m=\u001b[39;49m\u001b[43merror_score\u001b[49m\u001b[43m,\u001b[49m\n\u001b[0;32m    446\u001b[0m \u001b[43m    \u001b[49m\u001b[43m)\u001b[49m\n\u001b[0;32m    447\u001b[0m \u001b[43m    \u001b[49m\u001b[38;5;28;43;01mfor\u001b[39;49;00m\u001b[43m \u001b[49m\u001b[43mtrain\u001b[49m\u001b[43m,\u001b[49m\u001b[43m \u001b[49m\u001b[43mtest\u001b[49m\u001b[43m \u001b[49m\u001b[38;5;129;43;01min\u001b[39;49;00m\u001b[43m \u001b[49m\u001b[43mindices\u001b[49m\n\u001b[0;32m    448\u001b[0m \u001b[43m\u001b[49m\u001b[43m)\u001b[49m\n\u001b[0;32m    450\u001b[0m _warn_or_raise_about_fit_failures(results, error_score)\n\u001b[0;32m    452\u001b[0m \u001b[38;5;66;03m# For callable scoring, the return type is only know after calling. If the\u001b[39;00m\n\u001b[0;32m    453\u001b[0m \u001b[38;5;66;03m# return type is a dictionary, the error scores can now be inserted with\u001b[39;00m\n\u001b[0;32m    454\u001b[0m \u001b[38;5;66;03m# the correct key.\u001b[39;00m\n",
      "File \u001b[1;32m~\\AppData\\Local\\Packages\\PythonSoftwareFoundation.Python.3.10_qbz5n2kfra8p0\\LocalCache\\local-packages\\Python310\\site-packages\\sklearn\\utils\\parallel.py:67\u001b[0m, in \u001b[0;36mParallel.__call__\u001b[1;34m(self, iterable)\u001b[0m\n\u001b[0;32m     62\u001b[0m config \u001b[38;5;241m=\u001b[39m get_config()\n\u001b[0;32m     63\u001b[0m iterable_with_config \u001b[38;5;241m=\u001b[39m (\n\u001b[0;32m     64\u001b[0m     (_with_config(delayed_func, config), args, kwargs)\n\u001b[0;32m     65\u001b[0m     \u001b[38;5;28;01mfor\u001b[39;00m delayed_func, args, kwargs \u001b[38;5;129;01min\u001b[39;00m iterable\n\u001b[0;32m     66\u001b[0m )\n\u001b[1;32m---> 67\u001b[0m \u001b[38;5;28;01mreturn\u001b[39;00m \u001b[38;5;28;43msuper\u001b[39;49m\u001b[43m(\u001b[49m\u001b[43m)\u001b[49m\u001b[38;5;241;43m.\u001b[39;49m\u001b[38;5;21;43m__call__\u001b[39;49m\u001b[43m(\u001b[49m\u001b[43miterable_with_config\u001b[49m\u001b[43m)\u001b[49m\n",
      "File \u001b[1;32m~\\AppData\\Local\\Packages\\PythonSoftwareFoundation.Python.3.10_qbz5n2kfra8p0\\LocalCache\\local-packages\\Python310\\site-packages\\joblib\\parallel.py:1918\u001b[0m, in \u001b[0;36mParallel.__call__\u001b[1;34m(self, iterable)\u001b[0m\n\u001b[0;32m   1916\u001b[0m     output \u001b[38;5;241m=\u001b[39m \u001b[38;5;28mself\u001b[39m\u001b[38;5;241m.\u001b[39m_get_sequential_output(iterable)\n\u001b[0;32m   1917\u001b[0m     \u001b[38;5;28mnext\u001b[39m(output)\n\u001b[1;32m-> 1918\u001b[0m     \u001b[38;5;28;01mreturn\u001b[39;00m output \u001b[38;5;28;01mif\u001b[39;00m \u001b[38;5;28mself\u001b[39m\u001b[38;5;241m.\u001b[39mreturn_generator \u001b[38;5;28;01melse\u001b[39;00m \u001b[38;5;28;43mlist\u001b[39;49m\u001b[43m(\u001b[49m\u001b[43moutput\u001b[49m\u001b[43m)\u001b[49m\n\u001b[0;32m   1920\u001b[0m \u001b[38;5;66;03m# Let's create an ID that uniquely identifies the current call. If the\u001b[39;00m\n\u001b[0;32m   1921\u001b[0m \u001b[38;5;66;03m# call is interrupted early and that the same instance is immediately\u001b[39;00m\n\u001b[0;32m   1922\u001b[0m \u001b[38;5;66;03m# re-used, this id will be used to prevent workers that were\u001b[39;00m\n\u001b[0;32m   1923\u001b[0m \u001b[38;5;66;03m# concurrently finalizing a task from the previous call to run the\u001b[39;00m\n\u001b[0;32m   1924\u001b[0m \u001b[38;5;66;03m# callback.\u001b[39;00m\n\u001b[0;32m   1925\u001b[0m \u001b[38;5;28;01mwith\u001b[39;00m \u001b[38;5;28mself\u001b[39m\u001b[38;5;241m.\u001b[39m_lock:\n",
      "File \u001b[1;32m~\\AppData\\Local\\Packages\\PythonSoftwareFoundation.Python.3.10_qbz5n2kfra8p0\\LocalCache\\local-packages\\Python310\\site-packages\\joblib\\parallel.py:1847\u001b[0m, in \u001b[0;36mParallel._get_sequential_output\u001b[1;34m(self, iterable)\u001b[0m\n\u001b[0;32m   1845\u001b[0m \u001b[38;5;28mself\u001b[39m\u001b[38;5;241m.\u001b[39mn_dispatched_batches \u001b[38;5;241m+\u001b[39m\u001b[38;5;241m=\u001b[39m \u001b[38;5;241m1\u001b[39m\n\u001b[0;32m   1846\u001b[0m \u001b[38;5;28mself\u001b[39m\u001b[38;5;241m.\u001b[39mn_dispatched_tasks \u001b[38;5;241m+\u001b[39m\u001b[38;5;241m=\u001b[39m \u001b[38;5;241m1\u001b[39m\n\u001b[1;32m-> 1847\u001b[0m res \u001b[38;5;241m=\u001b[39m func(\u001b[38;5;241m*\u001b[39margs, \u001b[38;5;241m*\u001b[39m\u001b[38;5;241m*\u001b[39mkwargs)\n\u001b[0;32m   1848\u001b[0m \u001b[38;5;28mself\u001b[39m\u001b[38;5;241m.\u001b[39mn_completed_tasks \u001b[38;5;241m+\u001b[39m\u001b[38;5;241m=\u001b[39m \u001b[38;5;241m1\u001b[39m\n\u001b[0;32m   1849\u001b[0m \u001b[38;5;28mself\u001b[39m\u001b[38;5;241m.\u001b[39mprint_progress()\n",
      "File \u001b[1;32m~\\AppData\\Local\\Packages\\PythonSoftwareFoundation.Python.3.10_qbz5n2kfra8p0\\LocalCache\\local-packages\\Python310\\site-packages\\sklearn\\utils\\parallel.py:129\u001b[0m, in \u001b[0;36m_FuncWrapper.__call__\u001b[1;34m(self, *args, **kwargs)\u001b[0m\n\u001b[0;32m    127\u001b[0m     config \u001b[38;5;241m=\u001b[39m {}\n\u001b[0;32m    128\u001b[0m \u001b[38;5;28;01mwith\u001b[39;00m config_context(\u001b[38;5;241m*\u001b[39m\u001b[38;5;241m*\u001b[39mconfig):\n\u001b[1;32m--> 129\u001b[0m     \u001b[38;5;28;01mreturn\u001b[39;00m \u001b[38;5;28mself\u001b[39m\u001b[38;5;241m.\u001b[39mfunction(\u001b[38;5;241m*\u001b[39margs, \u001b[38;5;241m*\u001b[39m\u001b[38;5;241m*\u001b[39mkwargs)\n",
      "File \u001b[1;32m~\\AppData\\Local\\Packages\\PythonSoftwareFoundation.Python.3.10_qbz5n2kfra8p0\\LocalCache\\local-packages\\Python310\\site-packages\\sklearn\\model_selection\\_validation.py:917\u001b[0m, in \u001b[0;36m_fit_and_score\u001b[1;34m(estimator, X, y, scorer, train, test, verbose, parameters, fit_params, score_params, return_train_score, return_parameters, return_n_test_samples, return_times, return_estimator, split_progress, candidate_progress, error_score)\u001b[0m\n\u001b[0;32m    914\u001b[0m result[\u001b[38;5;124m\"\u001b[39m\u001b[38;5;124mfit_error\u001b[39m\u001b[38;5;124m\"\u001b[39m] \u001b[38;5;241m=\u001b[39m \u001b[38;5;28;01mNone\u001b[39;00m\n\u001b[0;32m    916\u001b[0m fit_time \u001b[38;5;241m=\u001b[39m time\u001b[38;5;241m.\u001b[39mtime() \u001b[38;5;241m-\u001b[39m start_time\n\u001b[1;32m--> 917\u001b[0m test_scores \u001b[38;5;241m=\u001b[39m \u001b[43m_score\u001b[49m\u001b[43m(\u001b[49m\n\u001b[0;32m    918\u001b[0m \u001b[43m    \u001b[49m\u001b[43mestimator\u001b[49m\u001b[43m,\u001b[49m\u001b[43m \u001b[49m\u001b[43mX_test\u001b[49m\u001b[43m,\u001b[49m\u001b[43m \u001b[49m\u001b[43my_test\u001b[49m\u001b[43m,\u001b[49m\u001b[43m \u001b[49m\u001b[43mscorer\u001b[49m\u001b[43m,\u001b[49m\u001b[43m \u001b[49m\u001b[43mscore_params_test\u001b[49m\u001b[43m,\u001b[49m\u001b[43m \u001b[49m\u001b[43merror_score\u001b[49m\n\u001b[0;32m    919\u001b[0m \u001b[43m\u001b[49m\u001b[43m)\u001b[49m\n\u001b[0;32m    920\u001b[0m score_time \u001b[38;5;241m=\u001b[39m time\u001b[38;5;241m.\u001b[39mtime() \u001b[38;5;241m-\u001b[39m start_time \u001b[38;5;241m-\u001b[39m fit_time\n\u001b[0;32m    921\u001b[0m \u001b[38;5;28;01mif\u001b[39;00m return_train_score:\n",
      "File \u001b[1;32m~\\AppData\\Local\\Packages\\PythonSoftwareFoundation.Python.3.10_qbz5n2kfra8p0\\LocalCache\\local-packages\\Python310\\site-packages\\sklearn\\model_selection\\_validation.py:982\u001b[0m, in \u001b[0;36m_score\u001b[1;34m(estimator, X_test, y_test, scorer, score_params, error_score)\u001b[0m\n\u001b[0;32m    980\u001b[0m         scores \u001b[38;5;241m=\u001b[39m scorer(estimator, X_test, \u001b[38;5;241m*\u001b[39m\u001b[38;5;241m*\u001b[39mscore_params)\n\u001b[0;32m    981\u001b[0m     \u001b[38;5;28;01melse\u001b[39;00m:\n\u001b[1;32m--> 982\u001b[0m         scores \u001b[38;5;241m=\u001b[39m scorer(estimator, X_test, y_test, \u001b[38;5;241m*\u001b[39m\u001b[38;5;241m*\u001b[39mscore_params)\n\u001b[0;32m    983\u001b[0m \u001b[38;5;28;01mexcept\u001b[39;00m \u001b[38;5;167;01mException\u001b[39;00m:\n\u001b[0;32m    984\u001b[0m     \u001b[38;5;28;01mif\u001b[39;00m \u001b[38;5;28misinstance\u001b[39m(scorer, _MultimetricScorer):\n\u001b[0;32m    985\u001b[0m         \u001b[38;5;66;03m# If `_MultimetricScorer` raises exception, the `error_score`\u001b[39;00m\n\u001b[0;32m    986\u001b[0m         \u001b[38;5;66;03m# parameter is equal to \"raise\".\u001b[39;00m\n",
      "File \u001b[1;32m~\\AppData\\Local\\Packages\\PythonSoftwareFoundation.Python.3.10_qbz5n2kfra8p0\\LocalCache\\local-packages\\Python310\\site-packages\\sklearn\\metrics\\_scorer.py:141\u001b[0m, in \u001b[0;36m_MultimetricScorer.__call__\u001b[1;34m(self, estimator, *args, **kwargs)\u001b[0m\n\u001b[0;32m    137\u001b[0m         score \u001b[38;5;241m=\u001b[39m scorer\u001b[38;5;241m.\u001b[39m_score(\n\u001b[0;32m    138\u001b[0m             cached_call, estimator, \u001b[38;5;241m*\u001b[39margs, \u001b[38;5;241m*\u001b[39m\u001b[38;5;241m*\u001b[39mrouted_params\u001b[38;5;241m.\u001b[39mget(name)\u001b[38;5;241m.\u001b[39mscore\n\u001b[0;32m    139\u001b[0m         )\n\u001b[0;32m    140\u001b[0m     \u001b[38;5;28;01melse\u001b[39;00m:\n\u001b[1;32m--> 141\u001b[0m         score \u001b[38;5;241m=\u001b[39m scorer(estimator, \u001b[38;5;241m*\u001b[39margs, \u001b[38;5;241m*\u001b[39m\u001b[38;5;241m*\u001b[39mrouted_params\u001b[38;5;241m.\u001b[39mget(name)\u001b[38;5;241m.\u001b[39mscore)\n\u001b[0;32m    142\u001b[0m     scores[name] \u001b[38;5;241m=\u001b[39m score\n\u001b[0;32m    143\u001b[0m \u001b[38;5;28;01mexcept\u001b[39;00m \u001b[38;5;167;01mException\u001b[39;00m \u001b[38;5;28;01mas\u001b[39;00m e:\n",
      "File \u001b[1;32m~\\AppData\\Local\\Packages\\PythonSoftwareFoundation.Python.3.10_qbz5n2kfra8p0\\LocalCache\\local-packages\\Python310\\site-packages\\sklearn\\metrics\\_scorer.py:415\u001b[0m, in \u001b[0;36m_PassthroughScorer.__call__\u001b[1;34m(self, estimator, *args, **kwargs)\u001b[0m\n\u001b[0;32m    413\u001b[0m \u001b[38;5;28;01mdef\u001b[39;00m \u001b[38;5;21m__call__\u001b[39m(\u001b[38;5;28mself\u001b[39m, estimator, \u001b[38;5;241m*\u001b[39margs, \u001b[38;5;241m*\u001b[39m\u001b[38;5;241m*\u001b[39mkwargs):\n\u001b[0;32m    414\u001b[0m \u001b[38;5;250m    \u001b[39m\u001b[38;5;124;03m\"\"\"Method that wraps estimator.score\"\"\"\u001b[39;00m\n\u001b[1;32m--> 415\u001b[0m     \u001b[38;5;28;01mreturn\u001b[39;00m estimator\u001b[38;5;241m.\u001b[39mscore(\u001b[38;5;241m*\u001b[39margs, \u001b[38;5;241m*\u001b[39m\u001b[38;5;241m*\u001b[39mkwargs)\n",
      "File \u001b[1;32m~\\AppData\\Local\\Packages\\PythonSoftwareFoundation.Python.3.10_qbz5n2kfra8p0\\LocalCache\\local-packages\\Python310\\site-packages\\sklearn\\base.py:764\u001b[0m, in \u001b[0;36mClassifierMixin.score\u001b[1;34m(self, X, y, sample_weight)\u001b[0m\n\u001b[0;32m    739\u001b[0m \u001b[38;5;250m\u001b[39m\u001b[38;5;124;03m\"\"\"\u001b[39;00m\n\u001b[0;32m    740\u001b[0m \u001b[38;5;124;03mReturn the mean accuracy on the given test data and labels.\u001b[39;00m\n\u001b[0;32m    741\u001b[0m \n\u001b[1;32m   (...)\u001b[0m\n\u001b[0;32m    760\u001b[0m \u001b[38;5;124;03m    Mean accuracy of ``self.predict(X)`` w.r.t. `y`.\u001b[39;00m\n\u001b[0;32m    761\u001b[0m \u001b[38;5;124;03m\"\"\"\u001b[39;00m\n\u001b[0;32m    762\u001b[0m \u001b[38;5;28;01mfrom\u001b[39;00m \u001b[38;5;21;01m.\u001b[39;00m\u001b[38;5;21;01mmetrics\u001b[39;00m \u001b[38;5;28;01mimport\u001b[39;00m accuracy_score\n\u001b[1;32m--> 764\u001b[0m \u001b[38;5;28;01mreturn\u001b[39;00m \u001b[43maccuracy_score\u001b[49m\u001b[43m(\u001b[49m\u001b[43my\u001b[49m\u001b[43m,\u001b[49m\u001b[43m \u001b[49m\u001b[38;5;28;43mself\u001b[39;49m\u001b[38;5;241;43m.\u001b[39;49m\u001b[43mpredict\u001b[49m\u001b[43m(\u001b[49m\u001b[43mX\u001b[49m\u001b[43m)\u001b[49m\u001b[43m,\u001b[49m\u001b[43m \u001b[49m\u001b[43msample_weight\u001b[49m\u001b[38;5;241;43m=\u001b[39;49m\u001b[43msample_weight\u001b[49m\u001b[43m)\u001b[49m\n",
      "File \u001b[1;32m~\\AppData\\Local\\Packages\\PythonSoftwareFoundation.Python.3.10_qbz5n2kfra8p0\\LocalCache\\local-packages\\Python310\\site-packages\\sklearn\\utils\\_param_validation.py:213\u001b[0m, in \u001b[0;36mvalidate_params.<locals>.decorator.<locals>.wrapper\u001b[1;34m(*args, **kwargs)\u001b[0m\n\u001b[0;32m    207\u001b[0m \u001b[38;5;28;01mtry\u001b[39;00m:\n\u001b[0;32m    208\u001b[0m     \u001b[38;5;28;01mwith\u001b[39;00m config_context(\n\u001b[0;32m    209\u001b[0m         skip_parameter_validation\u001b[38;5;241m=\u001b[39m(\n\u001b[0;32m    210\u001b[0m             prefer_skip_nested_validation \u001b[38;5;129;01mor\u001b[39;00m global_skip_validation\n\u001b[0;32m    211\u001b[0m         )\n\u001b[0;32m    212\u001b[0m     ):\n\u001b[1;32m--> 213\u001b[0m         \u001b[38;5;28;01mreturn\u001b[39;00m func(\u001b[38;5;241m*\u001b[39margs, \u001b[38;5;241m*\u001b[39m\u001b[38;5;241m*\u001b[39mkwargs)\n\u001b[0;32m    214\u001b[0m \u001b[38;5;28;01mexcept\u001b[39;00m InvalidParameterError \u001b[38;5;28;01mas\u001b[39;00m e:\n\u001b[0;32m    215\u001b[0m     \u001b[38;5;66;03m# When the function is just a wrapper around an estimator, we allow\u001b[39;00m\n\u001b[0;32m    216\u001b[0m     \u001b[38;5;66;03m# the function to delegate validation to the estimator, but we replace\u001b[39;00m\n\u001b[0;32m    217\u001b[0m     \u001b[38;5;66;03m# the name of the estimator by the name of the function in the error\u001b[39;00m\n\u001b[0;32m    218\u001b[0m     \u001b[38;5;66;03m# message to avoid confusion.\u001b[39;00m\n\u001b[0;32m    219\u001b[0m     msg \u001b[38;5;241m=\u001b[39m re\u001b[38;5;241m.\u001b[39msub(\n\u001b[0;32m    220\u001b[0m         \u001b[38;5;124mr\u001b[39m\u001b[38;5;124m\"\u001b[39m\u001b[38;5;124mparameter of \u001b[39m\u001b[38;5;124m\\\u001b[39m\u001b[38;5;124mw+ must be\u001b[39m\u001b[38;5;124m\"\u001b[39m,\n\u001b[0;32m    221\u001b[0m         \u001b[38;5;124mf\u001b[39m\u001b[38;5;124m\"\u001b[39m\u001b[38;5;124mparameter of \u001b[39m\u001b[38;5;132;01m{\u001b[39;00mfunc\u001b[38;5;241m.\u001b[39m\u001b[38;5;18m__qualname__\u001b[39m\u001b[38;5;132;01m}\u001b[39;00m\u001b[38;5;124m must be\u001b[39m\u001b[38;5;124m\"\u001b[39m,\n\u001b[0;32m    222\u001b[0m         \u001b[38;5;28mstr\u001b[39m(e),\n\u001b[0;32m    223\u001b[0m     )\n",
      "File \u001b[1;32m~\\AppData\\Local\\Packages\\PythonSoftwareFoundation.Python.3.10_qbz5n2kfra8p0\\LocalCache\\local-packages\\Python310\\site-packages\\sklearn\\metrics\\_classification.py:213\u001b[0m, in \u001b[0;36maccuracy_score\u001b[1;34m(y_true, y_pred, normalize, sample_weight)\u001b[0m\n\u001b[0;32m    147\u001b[0m \u001b[38;5;250m\u001b[39m\u001b[38;5;124;03m\"\"\"Accuracy classification score.\u001b[39;00m\n\u001b[0;32m    148\u001b[0m \n\u001b[0;32m    149\u001b[0m \u001b[38;5;124;03mIn multilabel classification, this function computes subset accuracy:\u001b[39;00m\n\u001b[1;32m   (...)\u001b[0m\n\u001b[0;32m    209\u001b[0m \u001b[38;5;124;03m0.5\u001b[39;00m\n\u001b[0;32m    210\u001b[0m \u001b[38;5;124;03m\"\"\"\u001b[39;00m\n\u001b[0;32m    212\u001b[0m \u001b[38;5;66;03m# Compute accuracy for each possible representation\u001b[39;00m\n\u001b[1;32m--> 213\u001b[0m y_type, y_true, y_pred \u001b[38;5;241m=\u001b[39m \u001b[43m_check_targets\u001b[49m\u001b[43m(\u001b[49m\u001b[43my_true\u001b[49m\u001b[43m,\u001b[49m\u001b[43m \u001b[49m\u001b[43my_pred\u001b[49m\u001b[43m)\u001b[49m\n\u001b[0;32m    214\u001b[0m check_consistent_length(y_true, y_pred, sample_weight)\n\u001b[0;32m    215\u001b[0m \u001b[38;5;28;01mif\u001b[39;00m y_type\u001b[38;5;241m.\u001b[39mstartswith(\u001b[38;5;124m\"\u001b[39m\u001b[38;5;124mmultilabel\u001b[39m\u001b[38;5;124m\"\u001b[39m):\n",
      "File \u001b[1;32m~\\AppData\\Local\\Packages\\PythonSoftwareFoundation.Python.3.10_qbz5n2kfra8p0\\LocalCache\\local-packages\\Python310\\site-packages\\sklearn\\metrics\\_classification.py:86\u001b[0m, in \u001b[0;36m_check_targets\u001b[1;34m(y_true, y_pred)\u001b[0m\n\u001b[0;32m     59\u001b[0m \u001b[38;5;250m\u001b[39m\u001b[38;5;124;03m\"\"\"Check that y_true and y_pred belong to the same classification task.\u001b[39;00m\n\u001b[0;32m     60\u001b[0m \n\u001b[0;32m     61\u001b[0m \u001b[38;5;124;03mThis converts multiclass or binary types to a common shape, and raises a\u001b[39;00m\n\u001b[1;32m   (...)\u001b[0m\n\u001b[0;32m     83\u001b[0m \u001b[38;5;124;03my_pred : array or indicator matrix\u001b[39;00m\n\u001b[0;32m     84\u001b[0m \u001b[38;5;124;03m\"\"\"\u001b[39;00m\n\u001b[0;32m     85\u001b[0m check_consistent_length(y_true, y_pred)\n\u001b[1;32m---> 86\u001b[0m type_true \u001b[38;5;241m=\u001b[39m \u001b[43mtype_of_target\u001b[49m\u001b[43m(\u001b[49m\u001b[43my_true\u001b[49m\u001b[43m,\u001b[49m\u001b[43m \u001b[49m\u001b[43minput_name\u001b[49m\u001b[38;5;241;43m=\u001b[39;49m\u001b[38;5;124;43m\"\u001b[39;49m\u001b[38;5;124;43my_true\u001b[39;49m\u001b[38;5;124;43m\"\u001b[39;49m\u001b[43m)\u001b[49m\n\u001b[0;32m     87\u001b[0m type_pred \u001b[38;5;241m=\u001b[39m type_of_target(y_pred, input_name\u001b[38;5;241m=\u001b[39m\u001b[38;5;124m\"\u001b[39m\u001b[38;5;124my_pred\u001b[39m\u001b[38;5;124m\"\u001b[39m)\n\u001b[0;32m     89\u001b[0m y_type \u001b[38;5;241m=\u001b[39m {type_true, type_pred}\n",
      "File \u001b[1;32m~\\AppData\\Local\\Packages\\PythonSoftwareFoundation.Python.3.10_qbz5n2kfra8p0\\LocalCache\\local-packages\\Python310\\site-packages\\sklearn\\utils\\multiclass.py:395\u001b[0m, in \u001b[0;36mtype_of_target\u001b[1;34m(y, input_name)\u001b[0m\n\u001b[0;32m    393\u001b[0m \u001b[38;5;28;01mif\u001b[39;00m issparse(first_row):\n\u001b[0;32m    394\u001b[0m     first_row \u001b[38;5;241m=\u001b[39m first_row\u001b[38;5;241m.\u001b[39mdata\n\u001b[1;32m--> 395\u001b[0m \u001b[38;5;28;01mif\u001b[39;00m \u001b[43mxp\u001b[49m\u001b[38;5;241;43m.\u001b[39;49m\u001b[43munique_values\u001b[49m\u001b[43m(\u001b[49m\u001b[43my\u001b[49m\u001b[43m)\u001b[49m\u001b[38;5;241m.\u001b[39mshape[\u001b[38;5;241m0\u001b[39m] \u001b[38;5;241m>\u001b[39m \u001b[38;5;241m2\u001b[39m \u001b[38;5;129;01mor\u001b[39;00m (y\u001b[38;5;241m.\u001b[39mndim \u001b[38;5;241m==\u001b[39m \u001b[38;5;241m2\u001b[39m \u001b[38;5;129;01mand\u001b[39;00m \u001b[38;5;28mlen\u001b[39m(first_row) \u001b[38;5;241m>\u001b[39m \u001b[38;5;241m1\u001b[39m):\n\u001b[0;32m    396\u001b[0m     \u001b[38;5;66;03m# [1, 2, 3] or [[1., 2., 3]] or [[1, 2]]\u001b[39;00m\n\u001b[0;32m    397\u001b[0m     \u001b[38;5;28;01mreturn\u001b[39;00m \u001b[38;5;124m\"\u001b[39m\u001b[38;5;124mmulticlass\u001b[39m\u001b[38;5;124m\"\u001b[39m \u001b[38;5;241m+\u001b[39m suffix\n\u001b[0;32m    398\u001b[0m \u001b[38;5;28;01melse\u001b[39;00m:\n",
      "File \u001b[1;32m~\\AppData\\Local\\Packages\\PythonSoftwareFoundation.Python.3.10_qbz5n2kfra8p0\\LocalCache\\local-packages\\Python310\\site-packages\\sklearn\\utils\\_array_api.py:307\u001b[0m, in \u001b[0;36m_NumPyAPIWrapper.unique_values\u001b[1;34m(self, x)\u001b[0m\n\u001b[0;32m    306\u001b[0m \u001b[38;5;28;01mdef\u001b[39;00m \u001b[38;5;21munique_values\u001b[39m(\u001b[38;5;28mself\u001b[39m, x):\n\u001b[1;32m--> 307\u001b[0m     \u001b[38;5;28;01mreturn\u001b[39;00m \u001b[43mnumpy\u001b[49m\u001b[38;5;241;43m.\u001b[39;49m\u001b[43munique\u001b[49m\u001b[43m(\u001b[49m\u001b[43mx\u001b[49m\u001b[43m)\u001b[49m\n",
      "File \u001b[1;32m<__array_function__ internals>:200\u001b[0m, in \u001b[0;36munique\u001b[1;34m(*args, **kwargs)\u001b[0m\n",
      "File \u001b[1;32m~\\AppData\\Local\\Packages\\PythonSoftwareFoundation.Python.3.10_qbz5n2kfra8p0\\LocalCache\\local-packages\\Python310\\site-packages\\numpy\\lib\\arraysetops.py:274\u001b[0m, in \u001b[0;36munique\u001b[1;34m(ar, return_index, return_inverse, return_counts, axis, equal_nan)\u001b[0m\n\u001b[0;32m    272\u001b[0m ar \u001b[38;5;241m=\u001b[39m np\u001b[38;5;241m.\u001b[39masanyarray(ar)\n\u001b[0;32m    273\u001b[0m \u001b[38;5;28;01mif\u001b[39;00m axis \u001b[38;5;129;01mis\u001b[39;00m \u001b[38;5;28;01mNone\u001b[39;00m:\n\u001b[1;32m--> 274\u001b[0m     ret \u001b[38;5;241m=\u001b[39m \u001b[43m_unique1d\u001b[49m\u001b[43m(\u001b[49m\u001b[43mar\u001b[49m\u001b[43m,\u001b[49m\u001b[43m \u001b[49m\u001b[43mreturn_index\u001b[49m\u001b[43m,\u001b[49m\u001b[43m \u001b[49m\u001b[43mreturn_inverse\u001b[49m\u001b[43m,\u001b[49m\u001b[43m \u001b[49m\u001b[43mreturn_counts\u001b[49m\u001b[43m,\u001b[49m\u001b[43m \u001b[49m\n\u001b[0;32m    275\u001b[0m \u001b[43m                    \u001b[49m\u001b[43mequal_nan\u001b[49m\u001b[38;5;241;43m=\u001b[39;49m\u001b[43mequal_nan\u001b[49m\u001b[43m)\u001b[49m\n\u001b[0;32m    276\u001b[0m     \u001b[38;5;28;01mreturn\u001b[39;00m _unpack_tuple(ret)\n\u001b[0;32m    278\u001b[0m \u001b[38;5;66;03m# axis was specified and not None\u001b[39;00m\n",
      "File \u001b[1;32m~\\AppData\\Local\\Packages\\PythonSoftwareFoundation.Python.3.10_qbz5n2kfra8p0\\LocalCache\\local-packages\\Python310\\site-packages\\numpy\\lib\\arraysetops.py:336\u001b[0m, in \u001b[0;36m_unique1d\u001b[1;34m(ar, return_index, return_inverse, return_counts, equal_nan)\u001b[0m\n\u001b[0;32m    334\u001b[0m     aux \u001b[38;5;241m=\u001b[39m ar[perm]\n\u001b[0;32m    335\u001b[0m \u001b[38;5;28;01melse\u001b[39;00m:\n\u001b[1;32m--> 336\u001b[0m     \u001b[43mar\u001b[49m\u001b[38;5;241;43m.\u001b[39;49m\u001b[43msort\u001b[49m\u001b[43m(\u001b[49m\u001b[43m)\u001b[49m\n\u001b[0;32m    337\u001b[0m     aux \u001b[38;5;241m=\u001b[39m ar\n\u001b[0;32m    338\u001b[0m mask \u001b[38;5;241m=\u001b[39m np\u001b[38;5;241m.\u001b[39mempty(aux\u001b[38;5;241m.\u001b[39mshape, dtype\u001b[38;5;241m=\u001b[39mnp\u001b[38;5;241m.\u001b[39mbool_)\n",
      "\u001b[1;31mKeyboardInterrupt\u001b[0m: "
     ]
    }
   ],
   "source": [
    "classifier = KNeighborsClassifier()\n",
    "\n",
    "fs_KNN, fs_KNN_parameter, fs_KNN_accuracy, fs_KNN_selected_features = general_pipeline(X_SMOTE, Y_SMOTE, classifier, parameters_grid_search = [9], feature_selector=True)"
   ]
  },
  {
   "cell_type": "code",
   "execution_count": null,
   "metadata": {},
   "outputs": [
    {
     "name": "stdout",
     "output_type": "stream",
     "text": [
      "\n",
      "Valutazione del modello sui dati di test:\n",
      "Accuratezza: 0.905\n",
      "Precisione: 0.964\n",
      "Richiamo: 0.876\n",
      "F1-score: 0.918\n"
     ]
    }
   ],
   "source": [
    "# Valutazione del modello sui dati di test\n",
    "y_pred = fs_KNN.predict(X_test)\n",
    "\n",
    "# Calcolo delle metriche sui dati di test\n",
    "accuracy = accuracy_score(y_test, y_pred)\n",
    "precision = precision_score(y_test, y_pred)\n",
    "recall = recall_score(y_test, y_pred)\n",
    "f1 = f1_score(y_test, y_pred)\n",
    "\n",
    "print(\"\\nValutazione del modello sui dati di test:\")\n",
    "print(f\"Accuratezza: {accuracy:.3f}\")\n",
    "print(f\"Precisione: {precision:.3f}\")\n",
    "print(f\"Richiamo: {recall:.3f}\")\n",
    "print(f\"F1-score: {f1:.3f}\")"
   ]
  },
  {
   "cell_type": "code",
   "execution_count": null,
   "metadata": {},
   "outputs": [
    {
     "name": "stdout",
     "output_type": "stream",
     "text": [
      "Risultati della cross-validation per tutte le combinazioni di iperparametri:\n",
      "Parametri: {'classifier__n_estimators': 10, 'feature_selection__n_features_to_select': 1}, Accuratezza media: 0.851 (±0.020), Precision media: 1.000, Richiamo medio: 0.702, F1-score medio: 0.824\n",
      "Parametri: {'classifier__n_estimators': 10, 'feature_selection__n_features_to_select': 2}, Accuratezza media: 0.910 (±0.015), Precision media: 0.951, Richiamo medio: 0.869, F1-score medio: 0.905\n",
      "Parametri: {'classifier__n_estimators': 10, 'feature_selection__n_features_to_select': 3}, Accuratezza media: 0.887 (±0.024), Precision media: 0.901, Richiamo medio: 0.872, F1-score medio: 0.885\n",
      "Parametri: {'classifier__n_estimators': 10, 'feature_selection__n_features_to_select': 4}, Accuratezza media: 0.903 (±0.019), Precision media: 0.931, Richiamo medio: 0.872, F1-score medio: 0.900\n",
      "Parametri: {'classifier__n_estimators': 10, 'feature_selection__n_features_to_select': 5}, Accuratezza media: 0.904 (±0.029), Precision media: 0.930, Richiamo medio: 0.879, F1-score medio: 0.902\n",
      "Parametri: {'classifier__n_estimators': 10, 'feature_selection__n_features_to_select': 6}, Accuratezza media: 0.911 (±0.023), Precision media: 0.929, Richiamo medio: 0.893, F1-score medio: 0.910\n",
      "Parametri: {'classifier__n_estimators': 10, 'feature_selection__n_features_to_select': 7}, Accuratezza media: 0.906 (±0.029), Precision media: 0.920, Richiamo medio: 0.893, F1-score medio: 0.905\n",
      "Parametri: {'classifier__n_estimators': 10, 'feature_selection__n_features_to_select': 8}, Accuratezza media: 0.904 (±0.028), Precision media: 0.923, Richiamo medio: 0.886, F1-score medio: 0.903\n",
      "Parametri: {'classifier__n_estimators': 10, 'feature_selection__n_features_to_select': 9}, Accuratezza media: 0.897 (±0.023), Precision media: 0.906, Richiamo medio: 0.893, F1-score medio: 0.898\n",
      "Parametri: {'classifier__n_estimators': 10, 'feature_selection__n_features_to_select': 10}, Accuratezza media: 0.917 (±0.016), Precision media: 0.942, Richiamo medio: 0.890, F1-score medio: 0.915\n",
      "Parametri: {'classifier__n_estimators': 10, 'feature_selection__n_features_to_select': 11}, Accuratezza media: 0.918 (±0.013), Precision media: 0.933, Richiamo medio: 0.904, F1-score medio: 0.917\n",
      "Parametri: {'classifier__n_estimators': 10, 'feature_selection__n_features_to_select': 12}, Accuratezza media: 0.913 (±0.015), Precision media: 0.931, Richiamo medio: 0.893, F1-score medio: 0.911\n",
      "Parametri: {'classifier__n_estimators': 10, 'feature_selection__n_features_to_select': 13}, Accuratezza media: 0.908 (±0.018), Precision media: 0.932, Richiamo medio: 0.883, F1-score medio: 0.905\n",
      "Parametri: {'classifier__n_estimators': 10, 'feature_selection__n_features_to_select': 14}, Accuratezza media: 0.918 (±0.022), Precision media: 0.922, Richiamo medio: 0.915, F1-score medio: 0.918\n",
      "Parametri: {'classifier__n_estimators': 10, 'feature_selection__n_features_to_select': 15}, Accuratezza media: 0.908 (±0.018), Precision media: 0.925, Richiamo medio: 0.890, F1-score medio: 0.906\n",
      "Parametri: {'classifier__n_estimators': 10, 'feature_selection__n_features_to_select': 16}, Accuratezza media: 0.920 (±0.016), Precision media: 0.937, Richiamo medio: 0.904, F1-score medio: 0.919\n",
      "Parametri: {'classifier__n_estimators': 10, 'feature_selection__n_features_to_select': 17}, Accuratezza media: 0.915 (±0.016), Precision media: 0.935, Richiamo medio: 0.894, F1-score medio: 0.913\n",
      "Parametri: {'classifier__n_estimators': 10, 'feature_selection__n_features_to_select': 18}, Accuratezza media: 0.913 (±0.019), Precision media: 0.936, Richiamo medio: 0.890, F1-score medio: 0.911\n",
      "Parametri: {'classifier__n_estimators': 10, 'feature_selection__n_features_to_select': 19}, Accuratezza media: 0.922 (±0.018), Precision media: 0.946, Richiamo medio: 0.897, F1-score medio: 0.920\n",
      "Parametri: {'classifier__n_estimators': 10, 'feature_selection__n_features_to_select': 20}, Accuratezza media: 0.917 (±0.029), Precision media: 0.916, Richiamo medio: 0.918, F1-score medio: 0.917\n",
      "Parametri: {'classifier__n_estimators': 10, 'feature_selection__n_features_to_select': 21}, Accuratezza media: 0.911 (±0.020), Precision media: 0.927, Richiamo medio: 0.897, F1-score medio: 0.910\n",
      "Parametri: {'classifier__n_estimators': 10, 'feature_selection__n_features_to_select': 22}, Accuratezza media: 0.913 (±0.019), Precision media: 0.925, Richiamo medio: 0.901, F1-score medio: 0.912\n",
      "Parametri: {'classifier__n_estimators': 10, 'feature_selection__n_features_to_select': 23}, Accuratezza media: 0.920 (±0.019), Precision media: 0.935, Richiamo medio: 0.904, F1-score medio: 0.919\n",
      "\n",
      "Miglior parametro trovato:\n",
      "10\n",
      "Accuratezza media con il miglior parametro: 0.9220132743362832\n",
      "\n",
      "Selected features are:\n",
      "Number of selected features: 19\n",
      "Selected features: ['num__AGE_AT_SCAN' 'num__SEX' 'num__FIQ' 'num__VIQ' 'num__PIQ'\n",
      " 'num__ADI_R_VERBAL_TOTAL_BV' 'num__ADOS_TOTAL' 'cat__FIQ_TEST_TYPE_DAS'\n",
      " 'cat__FIQ_TEST_TYPE_WAIS' 'cat__FIQ_TEST_TYPE_WASI'\n",
      " 'cat__FIQ_TEST_TYPE_WISC' 'cat__VIQ_TEST_TYPE_DAS'\n",
      " 'cat__VIQ_TEST_TYPE_PPVT' 'cat__VIQ_TEST_TYPE_WASI'\n",
      " 'cat__VIQ_TEST_TYPE_WISC' 'cat__PIQ_TEST_TYPE_DAS'\n",
      " 'cat__PIQ_TEST_TYPE_RAVENS' 'cat__PIQ_TEST_TYPE_WASI'\n",
      " 'cat__PIQ_TEST_TYPE_WISC']\n",
      "\n",
      "Non selected features are:\n",
      "Number of non selected features: 4\n",
      "Selected features: ['cat__VIQ_TEST_TYPE_STANFORD' 'cat__VIQ_TEST_TYPE_WAIS'\n",
      " 'cat__PIQ_TEST_TYPE_STANFORD' 'cat__PIQ_TEST_TYPE_WAIS']\n"
     ]
    }
   ],
   "source": [
    "classifier = RandomForestClassifier(random_state=1234)\n",
    "\n",
    "fs_RF, fs_RF_parameter, fs_RF_accuracy, fs_RF_selected_features = general_pipeline(X_SMOTE, Y_SMOTE, classifier, parameters_grid_search = [10], feature_selector=True)"
   ]
  },
  {
   "cell_type": "code",
   "execution_count": null,
   "metadata": {},
   "outputs": [
    {
     "name": "stdout",
     "output_type": "stream",
     "text": [
      "\n",
      "Valutazione del modello sui dati di test:\n",
      "Accuratezza: 0.935\n",
      "Precisione: 0.929\n",
      "Richiamo: 0.967\n",
      "F1-score: 0.947\n"
     ]
    }
   ],
   "source": [
    "# Valutazione del modello sui dati di test\n",
    "y_pred = fs_RF.predict(X_test)\n",
    "\n",
    "# Calcolo delle metriche sui dati di test\n",
    "accuracy = accuracy_score(y_test, y_pred)\n",
    "precision = precision_score(y_test, y_pred)\n",
    "recall = recall_score(y_test, y_pred)\n",
    "f1 = f1_score(y_test, y_pred)\n",
    "\n",
    "print(\"\\nValutazione del modello sui dati di test:\")\n",
    "print(f\"Accuratezza: {accuracy:.3f}\")\n",
    "print(f\"Precisione: {precision:.3f}\")\n",
    "print(f\"Richiamo: {recall:.3f}\")\n",
    "print(f\"F1-score: {f1:.3f}\")"
   ]
  },
  {
   "cell_type": "code",
   "execution_count": null,
   "metadata": {},
   "outputs": [
    {
     "name": "stdout",
     "output_type": "stream",
     "text": [
      "Risultati della cross-validation per tutte le combinazioni di iperparametri:\n",
      "Parametri: {'classifier__estimator__C': 1, 'feature_selection__n_features_to_select': 1}, Accuratezza media: 0.796 (±0.116), Precision media: 0.978, Richiamo medio: 0.595, F1-score medio: 0.712\n",
      "Parametri: {'classifier__estimator__C': 1, 'feature_selection__n_features_to_select': 2}, Accuratezza media: 0.837 (±0.025), Precision media: 0.985, Richiamo medio: 0.685, F1-score medio: 0.807\n",
      "Parametri: {'classifier__estimator__C': 1, 'feature_selection__n_features_to_select': 3}, Accuratezza media: 0.839 (±0.010), Precision media: 0.961, Richiamo medio: 0.709, F1-score medio: 0.814\n",
      "Parametri: {'classifier__estimator__C': 1, 'feature_selection__n_features_to_select': 4}, Accuratezza media: 0.832 (±0.024), Precision media: 0.946, Richiamo medio: 0.709, F1-score medio: 0.809\n",
      "Parametri: {'classifier__estimator__C': 1, 'feature_selection__n_features_to_select': 5}, Accuratezza media: 0.849 (±0.020), Precision media: 0.977, Richiamo medio: 0.716, F1-score medio: 0.825\n",
      "Parametri: {'classifier__estimator__C': 1, 'feature_selection__n_features_to_select': 6}, Accuratezza media: 0.871 (±0.030), Precision media: 0.973, Richiamo medio: 0.762, F1-score medio: 0.854\n",
      "Parametri: {'classifier__estimator__C': 1, 'feature_selection__n_features_to_select': 7}, Accuratezza media: 0.872 (±0.031), Precision media: 0.977, Richiamo medio: 0.762, F1-score medio: 0.856\n",
      "Parametri: {'classifier__estimator__C': 1, 'feature_selection__n_features_to_select': 8}, Accuratezza media: 0.874 (±0.029), Precision media: 0.977, Richiamo medio: 0.766, F1-score medio: 0.858\n",
      "Parametri: {'classifier__estimator__C': 1, 'feature_selection__n_features_to_select': 9}, Accuratezza media: 0.881 (±0.020), Precision media: 0.974, Richiamo medio: 0.784, F1-score medio: 0.868\n",
      "Parametri: {'classifier__estimator__C': 1, 'feature_selection__n_features_to_select': 10}, Accuratezza media: 0.880 (±0.025), Precision media: 0.962, Richiamo medio: 0.791, F1-score medio: 0.868\n",
      "Parametri: {'classifier__estimator__C': 1, 'feature_selection__n_features_to_select': 11}, Accuratezza media: 0.879 (±0.023), Precision media: 0.967, Richiamo medio: 0.787, F1-score medio: 0.867\n",
      "Parametri: {'classifier__estimator__C': 1, 'feature_selection__n_features_to_select': 12}, Accuratezza media: 0.879 (±0.023), Precision media: 0.967, Richiamo medio: 0.787, F1-score medio: 0.867\n",
      "Parametri: {'classifier__estimator__C': 1, 'feature_selection__n_features_to_select': 13}, Accuratezza media: 0.879 (±0.020), Precision media: 0.960, Richiamo medio: 0.794, F1-score medio: 0.869\n",
      "Parametri: {'classifier__estimator__C': 1, 'feature_selection__n_features_to_select': 14}, Accuratezza media: 0.878 (±0.020), Precision media: 0.951, Richiamo medio: 0.798, F1-score medio: 0.867\n",
      "Parametri: {'classifier__estimator__C': 1, 'feature_selection__n_features_to_select': 15}, Accuratezza media: 0.879 (±0.018), Precision media: 0.958, Richiamo medio: 0.794, F1-score medio: 0.868\n",
      "Parametri: {'classifier__estimator__C': 1, 'feature_selection__n_features_to_select': 16}, Accuratezza media: 0.888 (±0.028), Precision media: 0.948, Richiamo medio: 0.823, F1-score medio: 0.880\n",
      "Parametri: {'classifier__estimator__C': 1, 'feature_selection__n_features_to_select': 17}, Accuratezza media: 0.895 (±0.026), Precision media: 0.956, Richiamo medio: 0.830, F1-score medio: 0.888\n",
      "Parametri: {'classifier__estimator__C': 1, 'feature_selection__n_features_to_select': 18}, Accuratezza media: 0.895 (±0.026), Precision media: 0.956, Richiamo medio: 0.830, F1-score medio: 0.888\n",
      "Parametri: {'classifier__estimator__C': 1, 'feature_selection__n_features_to_select': 19}, Accuratezza media: 0.897 (±0.026), Precision media: 0.956, Richiamo medio: 0.834, F1-score medio: 0.890\n",
      "Parametri: {'classifier__estimator__C': 1, 'feature_selection__n_features_to_select': 20}, Accuratezza media: 0.899 (±0.023), Precision media: 0.956, Richiamo medio: 0.837, F1-score medio: 0.892\n",
      "Parametri: {'classifier__estimator__C': 1, 'feature_selection__n_features_to_select': 21}, Accuratezza media: 0.901 (±0.021), Precision media: 0.960, Richiamo medio: 0.837, F1-score medio: 0.894\n",
      "Parametri: {'classifier__estimator__C': 1, 'feature_selection__n_features_to_select': 22}, Accuratezza media: 0.901 (±0.021), Precision media: 0.960, Richiamo medio: 0.837, F1-score medio: 0.894\n",
      "Parametri: {'classifier__estimator__C': 1, 'feature_selection__n_features_to_select': 23}, Accuratezza media: 0.901 (±0.021), Precision media: 0.960, Richiamo medio: 0.837, F1-score medio: 0.894\n",
      "\n",
      "Miglior parametro trovato:\n",
      "1\n",
      "Accuratezza media con il miglior parametro: 0.9007743362831858\n",
      "\n",
      "Selected features are:\n",
      "Number of selected features: 21\n",
      "Selected features: ['num__AGE_AT_SCAN' 'num__SEX' 'num__FIQ' 'num__PIQ'\n",
      " 'num__ADI_R_VERBAL_TOTAL_BV' 'num__ADOS_TOTAL' 'cat__FIQ_TEST_TYPE_DAS'\n",
      " 'cat__FIQ_TEST_TYPE_WAIS' 'cat__FIQ_TEST_TYPE_WASI'\n",
      " 'cat__FIQ_TEST_TYPE_WISC' 'cat__VIQ_TEST_TYPE_DAS'\n",
      " 'cat__VIQ_TEST_TYPE_PPVT' 'cat__VIQ_TEST_TYPE_STANFORD'\n",
      " 'cat__VIQ_TEST_TYPE_WAIS' 'cat__VIQ_TEST_TYPE_WASI'\n",
      " 'cat__VIQ_TEST_TYPE_WISC' 'cat__PIQ_TEST_TYPE_DAS'\n",
      " 'cat__PIQ_TEST_TYPE_RAVENS' 'cat__PIQ_TEST_TYPE_WAIS'\n",
      " 'cat__PIQ_TEST_TYPE_WASI' 'cat__PIQ_TEST_TYPE_WISC']\n",
      "\n",
      "Non selected features are:\n",
      "Number of non selected features: 2\n",
      "Selected features: ['num__VIQ' 'cat__PIQ_TEST_TYPE_STANFORD']\n"
     ]
    }
   ],
   "source": [
    "classifier = CalibratedClassifierCV(LinearSVC(dual=False))\n",
    "\n",
    "fs_SVM, fs_SVM_parameter, fs_SVM_accuracy, fs_SVM_selected_features = general_pipeline(X_SMOTE, Y_SMOTE, classifier, feature_selector=True)"
   ]
  },
  {
   "cell_type": "code",
   "execution_count": null,
   "metadata": {},
   "outputs": [
    {
     "name": "stdout",
     "output_type": "stream",
     "text": [
      "\n",
      "Valutazione del modello sui dati di test:\n",
      "Accuratezza: 0.925\n",
      "Precisione: 0.965\n",
      "Richiamo: 0.909\n",
      "F1-score: 0.936\n"
     ]
    }
   ],
   "source": [
    "# Valutazione del modello sui dati di test\n",
    "y_pred = fs_SVM.predict(X_test)\n",
    "\n",
    "# Calcolo delle metriche sui dati di test\n",
    "accuracy = accuracy_score(y_test, y_pred)\n",
    "precision = precision_score(y_test, y_pred)\n",
    "recall = recall_score(y_test, y_pred)\n",
    "f1 = f1_score(y_test, y_pred)\n",
    "\n",
    "print(\"\\nValutazione del modello sui dati di test:\")\n",
    "print(f\"Accuratezza: {accuracy:.3f}\")\n",
    "print(f\"Precisione: {precision:.3f}\")\n",
    "print(f\"Richiamo: {recall:.3f}\")\n",
    "print(f\"F1-score: {f1:.3f}\")"
   ]
  },
  {
   "cell_type": "markdown",
   "metadata": {},
   "source": [
    "# Outliers detection"
   ]
  },
  {
   "cell_type": "code",
   "execution_count": null,
   "metadata": {},
   "outputs": [
    {
     "data": {
      "text/html": [
       "<div>\n",
       "<style scoped>\n",
       "    .dataframe tbody tr th:only-of-type {\n",
       "        vertical-align: middle;\n",
       "    }\n",
       "\n",
       "    .dataframe tbody tr th {\n",
       "        vertical-align: top;\n",
       "    }\n",
       "\n",
       "    .dataframe thead th {\n",
       "        text-align: right;\n",
       "    }\n",
       "</style>\n",
       "<table border=\"1\" class=\"dataframe\">\n",
       "  <thead>\n",
       "    <tr style=\"text-align: right;\">\n",
       "      <th></th>\n",
       "      <th>AGE_AT_SCAN</th>\n",
       "      <th>SEX</th>\n",
       "      <th>FIQ</th>\n",
       "      <th>VIQ</th>\n",
       "      <th>PIQ</th>\n",
       "      <th>ADI_R_VERBAL_TOTAL_BV</th>\n",
       "      <th>ADOS_TOTAL</th>\n",
       "    </tr>\n",
       "  </thead>\n",
       "  <tbody>\n",
       "    <tr>\n",
       "      <th>count</th>\n",
       "      <td>668.000000</td>\n",
       "      <td>668.000000</td>\n",
       "      <td>668.000000</td>\n",
       "      <td>668.000000</td>\n",
       "      <td>668.000000</td>\n",
       "      <td>668.000000</td>\n",
       "      <td>668.000000</td>\n",
       "    </tr>\n",
       "    <tr>\n",
       "      <th>mean</th>\n",
       "      <td>16.276463</td>\n",
       "      <td>1.118263</td>\n",
       "      <td>107.514649</td>\n",
       "      <td>106.976190</td>\n",
       "      <td>106.287425</td>\n",
       "      <td>11.812874</td>\n",
       "      <td>9.679641</td>\n",
       "    </tr>\n",
       "    <tr>\n",
       "      <th>std</th>\n",
       "      <td>7.183633</td>\n",
       "      <td>0.323162</td>\n",
       "      <td>15.333876</td>\n",
       "      <td>15.782631</td>\n",
       "      <td>16.113020</td>\n",
       "      <td>5.027005</td>\n",
       "      <td>3.751550</td>\n",
       "    </tr>\n",
       "    <tr>\n",
       "      <th>min</th>\n",
       "      <td>6.470000</td>\n",
       "      <td>1.000000</td>\n",
       "      <td>58.642857</td>\n",
       "      <td>54.888889</td>\n",
       "      <td>37.000000</td>\n",
       "      <td>4.000000</td>\n",
       "      <td>0.000000</td>\n",
       "    </tr>\n",
       "    <tr>\n",
       "      <th>25%</th>\n",
       "      <td>11.658575</td>\n",
       "      <td>1.000000</td>\n",
       "      <td>97.000000</td>\n",
       "      <td>97.000000</td>\n",
       "      <td>96.000000</td>\n",
       "      <td>8.000000</td>\n",
       "      <td>7.000000</td>\n",
       "    </tr>\n",
       "    <tr>\n",
       "      <th>50%</th>\n",
       "      <td>14.260000</td>\n",
       "      <td>1.000000</td>\n",
       "      <td>107.428571</td>\n",
       "      <td>108.000000</td>\n",
       "      <td>107.000000</td>\n",
       "      <td>9.000000</td>\n",
       "      <td>9.000000</td>\n",
       "    </tr>\n",
       "    <tr>\n",
       "      <th>75%</th>\n",
       "      <td>18.495100</td>\n",
       "      <td>1.000000</td>\n",
       "      <td>119.000000</td>\n",
       "      <td>118.000000</td>\n",
       "      <td>118.000000</td>\n",
       "      <td>16.000000</td>\n",
       "      <td>11.000000</td>\n",
       "    </tr>\n",
       "    <tr>\n",
       "      <th>max</th>\n",
       "      <td>64.000000</td>\n",
       "      <td>2.000000</td>\n",
       "      <td>148.000000</td>\n",
       "      <td>168.768116</td>\n",
       "      <td>157.000000</td>\n",
       "      <td>26.000000</td>\n",
       "      <td>22.000000</td>\n",
       "    </tr>\n",
       "  </tbody>\n",
       "</table>\n",
       "</div>"
      ],
      "text/plain": [
       "       AGE_AT_SCAN         SEX         FIQ         VIQ         PIQ  \\\n",
       "count   668.000000  668.000000  668.000000  668.000000  668.000000   \n",
       "mean     16.276463    1.118263  107.514649  106.976190  106.287425   \n",
       "std       7.183633    0.323162   15.333876   15.782631   16.113020   \n",
       "min       6.470000    1.000000   58.642857   54.888889   37.000000   \n",
       "25%      11.658575    1.000000   97.000000   97.000000   96.000000   \n",
       "50%      14.260000    1.000000  107.428571  108.000000  107.000000   \n",
       "75%      18.495100    1.000000  119.000000  118.000000  118.000000   \n",
       "max      64.000000    2.000000  148.000000  168.768116  157.000000   \n",
       "\n",
       "       ADI_R_VERBAL_TOTAL_BV  ADOS_TOTAL  \n",
       "count             668.000000  668.000000  \n",
       "mean               11.812874    9.679641  \n",
       "std                 5.027005    3.751550  \n",
       "min                 4.000000    0.000000  \n",
       "25%                 8.000000    7.000000  \n",
       "50%                 9.000000    9.000000  \n",
       "75%                16.000000   11.000000  \n",
       "max                26.000000   22.000000  "
      ]
     },
     "execution_count": 26,
     "metadata": {},
     "output_type": "execute_result"
    }
   ],
   "source": [
    "ASD_phenotypic.describe()"
   ]
  },
  {
   "cell_type": "code",
   "execution_count": null,
   "metadata": {},
   "outputs": [],
   "source": [
    "#outlier_subjects.describe()"
   ]
  },
  {
   "cell_type": "code",
   "execution_count": null,
   "metadata": {},
   "outputs": [
    {
     "data": {
      "text/plain": [
       "\"from sklearn.decomposition import PCA\\nimport matplotlib.pyplot as plt\\n\\n# Perform PCA for dimensionality reduction\\npca = PCA(n_components=2)\\nX_reduced = pca.fit_transform(X)\\noutliers = X_reduced[ASD_phenotypic_outliers['outlier'] == -1]\\n\\nlof_scores = lof.negative_outlier_factor_\\n\\n# Plot the data points with color indicating LOF scores\\nplt.figure(figsize=(10, 6))\\nplt.scatter(X_reduced[:, 0], X_reduced[:, 1], c=-lof_scores, cmap='hot_r', edgecolor='k', label='Inliers')\\nplt.colorbar(label='LOF Score')\\nplt.scatter(outliers[:, 0], outliers[:, 1], c='blue', edgecolor='k', marker='x', s=100, label='Outliers')  # Highlight outliers\\nplt.xlabel('PCA Component 1')\\nplt.ylabel('PCA Component 2')\\nplt.title('Data points with LOF scores')\\nplt.show()\""
      ]
     },
     "execution_count": 28,
     "metadata": {},
     "output_type": "execute_result"
    }
   ],
   "source": [
    "'''from sklearn.decomposition import PCA\n",
    "import matplotlib.pyplot as plt\n",
    "\n",
    "# Perform PCA for dimensionality reduction\n",
    "pca = PCA(n_components=2)\n",
    "X_reduced = pca.fit_transform(X)\n",
    "outliers = X_reduced[ASD_phenotypic_outliers['outlier'] == -1]\n",
    "\n",
    "lof_scores = lof.negative_outlier_factor_\n",
    "\n",
    "# Plot the data points with color indicating LOF scores\n",
    "plt.figure(figsize=(10, 6))\n",
    "plt.scatter(X_reduced[:, 0], X_reduced[:, 1], c=-lof_scores, cmap='hot_r', edgecolor='k', label='Inliers')\n",
    "plt.colorbar(label='LOF Score')\n",
    "plt.scatter(outliers[:, 0], outliers[:, 1], c='blue', edgecolor='k', marker='x', s=100, label='Outliers')  # Highlight outliers\n",
    "plt.xlabel('PCA Component 1')\n",
    "plt.ylabel('PCA Component 2')\n",
    "plt.title('Data points with LOF scores')\n",
    "plt.show()'''\n"
   ]
  },
  {
   "cell_type": "markdown",
   "metadata": {},
   "source": [
    "Let's see the changes in the data distribution per each feature"
   ]
  },
  {
   "cell_type": "code",
   "execution_count": null,
   "metadata": {},
   "outputs": [
    {
     "data": {
      "text/plain": [
       "\"ASD_phenotypic_without_outliers = ASD_phenotypic[ASD_phenotypic_outliers['outlier'] == 1]\\nASD_diagnosis_without_outliers = ASD_diagnosis[ASD_phenotypic_outliers['outlier'] == 1]\\nof.plot_distributions(ASD_phenotypic_without_outliers)\""
      ]
     },
     "execution_count": 29,
     "metadata": {},
     "output_type": "execute_result"
    }
   ],
   "source": [
    "'''ASD_phenotypic_without_outliers = ASD_phenotypic[ASD_phenotypic_outliers['outlier'] == 1]\n",
    "ASD_diagnosis_without_outliers = ASD_diagnosis[ASD_phenotypic_outliers['outlier'] == 1]\n",
    "of.plot_distributions(ASD_phenotypic_without_outliers)'''"
   ]
  },
  {
   "cell_type": "code",
   "execution_count": null,
   "metadata": {},
   "outputs": [],
   "source": [
    "#of.plot_distributions(ASD_phenotypic)"
   ]
  },
  {
   "cell_type": "markdown",
   "metadata": {},
   "source": [
    "let's see if this make a better training"
   ]
  },
  {
   "cell_type": "markdown",
   "metadata": {},
   "source": [
    "# Outlier Detection"
   ]
  },
  {
   "cell_type": "code",
   "execution_count": null,
   "metadata": {},
   "outputs": [],
   "source": [
    "contamination_factor = [0.001, 0.0015, 0.006, 0.008]"
   ]
  },
  {
   "cell_type": "code",
   "execution_count": null,
   "metadata": {},
   "outputs": [],
   "source": [
    "def outlier_detector(dataset, diagnosis, contamination_factor):\n",
    "    dataset_outliers = dataset.select_dtypes(include=[np.number])\n",
    "    X = dataset_outliers.values\n",
    "\n",
    "    # Initialize Local Outlier Factor\n",
    "    lof = LocalOutlierFactor(n_neighbors=10, contamination=contamination_factor)  # Adjust parameters as needed\n",
    "    '''n_neighbors | if too small: model sensible to noise and random outliers\n",
    "                 if too large: diculties in local outliers detection, in particular if in absence oa a uniform distribution\n",
    "       contamination | data portion expected as outliers'''\n",
    "    # Fit the model and predict outliers\n",
    "    outliers = lof.fit_predict(X)\n",
    "\n",
    "    # Print number of detected outliers\n",
    "    print(f\"___________________\\nNumber of outliers detected: {np.sum(outliers == -1)}\")\n",
    "\n",
    "    # outliers == -1 indicates outliers, 1 indicates inliers\n",
    "    dataset_outliers['outlier'] = outliers\n",
    "\n",
    "    outlier_subjects = dataset_outliers[dataset_outliers['outlier'] == -1]\n",
    "\n",
    "    pd.set_option('display.max_columns', None); outlier_subjects.T\n",
    "\n",
    "    dataset_without_outliers = dataset[dataset_outliers['outlier'] == 1]\n",
    "         \n",
    "    diagnosis_without_outliers = diagnosis[dataset_outliers['outlier'] == 1]\n",
    "\n",
    "    return dataset_without_outliers, diagnosis_without_outliers"
   ]
  },
  {
   "cell_type": "code",
   "execution_count": null,
   "metadata": {},
   "outputs": [],
   "source": [
    "def evaluate_model(X_SMOTE, Y_SMOTE, X_test, y_test, classifier):\n",
    "    model, _, _, _ = general_pipeline(X_SMOTE, Y_SMOTE, classifier)\n",
    "    y_pred = model.predict(X_test)\n",
    "    accuracy = accuracy_score(y_test, y_pred)\n",
    "    return accuracy"
   ]
  },
  {
   "cell_type": "code",
   "execution_count": null,
   "metadata": {},
   "outputs": [
    {
     "name": "stdout",
     "output_type": "stream",
     "text": [
      "___________________\n",
      "Number of outliers detected: 1\n",
      "\n",
      "_____\n",
      "Evaluating classifier: KNeighborsClassifier\n",
      "Risultati della cross-validation per tutte le combinazioni di iperparametri:\n",
      "Parameters: {'classifier__n_neighbors': 3}, Accuracy: 0.869 (±0.021), Precision: 0.946, Recall: 0.785, F1-score: 0.856\n",
      "Parameters: {'classifier__n_neighbors': 5}, Accuracy: 0.863 (±0.037), Precision: 0.969, Recall: 0.752, F1-score: 0.844\n",
      "Parameters: {'classifier__n_neighbors': 7}, Accuracy: 0.858 (±0.037), Precision: 0.979, Recall: 0.734, F1-score: 0.835\n",
      "Parameters: {'classifier__n_neighbors': 9}, Accuracy: 0.858 (±0.037), Precision: 0.987, Recall: 0.727, F1-score: 0.834\n",
      "Parameters: {'classifier__n_neighbors': 11}, Accuracy: 0.863 (±0.036), Precision: 0.991, Recall: 0.734, F1-score: 0.841\n",
      "\n",
      "Best Parameter founded:\n",
      "3\n",
      "Accuracy with theBest Parameter: 0.8687580437580437\n",
      "\n",
      "_____\n",
      "Evaluating classifier: RandomForestClassifier\n",
      "Risultati della cross-validation per tutte le combinazioni di iperparametri:\n",
      "Parameters: {'classifier__n_estimators': 10}, Accuracy: 0.914 (±0.031), Precision: 0.930, Recall: 0.896, F1-score: 0.912\n",
      "Parameters: {'classifier__n_estimators': 50}, Accuracy: 0.926 (±0.024), Precision: 0.968, Recall: 0.882, F1-score: 0.923\n",
      "Parameters: {'classifier__n_estimators': 200}, Accuracy: 0.928 (±0.025), Precision: 0.976, Recall: 0.878, F1-score: 0.924\n",
      "Parameters: {'classifier__n_estimators': 500}, Accuracy: 0.925 (±0.022), Precision: 0.969, Recall: 0.878, F1-score: 0.921\n",
      "Parameters: {'classifier__n_estimators': 1000}, Accuracy: 0.923 (±0.024), Precision: 0.969, Recall: 0.874, F1-score: 0.918\n",
      "\n",
      "Best Parameter founded:\n",
      "200\n",
      "Accuracy with theBest Parameter: 0.9281048906048908\n",
      "\n",
      "_____\n",
      "Evaluating classifier: CalibratedClassifierCV\n",
      "Risultati della cross-validation per tutte le combinazioni di iperparametri:\n",
      "Parameters: {'classifier__estimator__C': 1}, Accuracy: 0.910 (±0.023), Precision: 0.967, Recall: 0.849, F1-score: 0.904\n",
      "\n",
      "Best Parameter founded:\n",
      "1\n",
      "Accuracy with theBest Parameter: 0.9101351351351351\n",
      "___________________\n",
      "Number of outliers detected: 2\n",
      "\n",
      "_____\n",
      "Evaluating classifier: KNeighborsClassifier\n",
      "Risultati della cross-validation per tutte le combinazioni di iperparametri:\n",
      "Parameters: {'classifier__n_neighbors': 3}, Accuracy: 0.873 (±0.025), Precision: 0.948, Recall: 0.792, F1-score: 0.861\n",
      "Parameters: {'classifier__n_neighbors': 5}, Accuracy: 0.875 (±0.032), Precision: 0.970, Recall: 0.774, F1-score: 0.859\n",
      "Parameters: {'classifier__n_neighbors': 7}, Accuracy: 0.878 (±0.034), Precision: 0.973, Recall: 0.778, F1-score: 0.863\n",
      "Parameters: {'classifier__n_neighbors': 9}, Accuracy: 0.867 (±0.034), Precision: 0.969, Recall: 0.760, F1-score: 0.850\n",
      "Parameters: {'classifier__n_neighbors': 11}, Accuracy: 0.867 (±0.042), Precision: 0.969, Recall: 0.760, F1-score: 0.849\n",
      "\n",
      "Best Parameter founded:\n",
      "7\n",
      "Accuracy with theBest Parameter: 0.8782175032175032\n",
      "\n",
      "_____\n",
      "Evaluating classifier: RandomForestClassifier\n",
      "Risultati della cross-validation per tutte le combinazioni di iperparametri:\n",
      "Parameters: {'classifier__n_estimators': 10}, Accuracy: 0.927 (±0.027), Precision: 0.958, Recall: 0.893, F1-score: 0.924\n",
      "Parameters: {'classifier__n_estimators': 50}, Accuracy: 0.919 (±0.020), Precision: 0.959, Recall: 0.878, F1-score: 0.915\n",
      "Parameters: {'classifier__n_estimators': 200}, Accuracy: 0.918 (±0.017), Precision: 0.955, Recall: 0.878, F1-score: 0.914\n",
      "Parameters: {'classifier__n_estimators': 500}, Accuracy: 0.918 (±0.016), Precision: 0.955, Recall: 0.878, F1-score: 0.914\n",
      "Parameters: {'classifier__n_estimators': 1000}, Accuracy: 0.916 (±0.015), Precision: 0.955, Recall: 0.874, F1-score: 0.912\n",
      "\n",
      "Best Parameter founded:\n",
      "10\n",
      "Accuracy with theBest Parameter: 0.9265283140283141\n",
      "\n",
      "_____\n",
      "Evaluating classifier: CalibratedClassifierCV\n",
      "Risultati della cross-validation per tutte le combinazioni di iperparametri:\n",
      "Parameters: {'classifier__estimator__C': 1}, Accuracy: 0.909 (±0.029), Precision: 0.971, Recall: 0.842, F1-score: 0.902\n",
      "\n",
      "Best Parameter founded:\n",
      "1\n",
      "Accuracy with theBest Parameter: 0.9086550836550836\n",
      "___________________\n",
      "Number of outliers detected: 5\n",
      "\n",
      "_____\n",
      "Evaluating classifier: KNeighborsClassifier\n",
      "Risultati della cross-validation per tutte le combinazioni di iperparametri:\n",
      "Parameters: {'classifier__n_neighbors': 3}, Accuracy: 0.868 (±0.040), Precision: 0.945, Recall: 0.784, F1-score: 0.856\n",
      "Parameters: {'classifier__n_neighbors': 5}, Accuracy: 0.866 (±0.035), Precision: 0.952, Recall: 0.773, F1-score: 0.852\n",
      "Parameters: {'classifier__n_neighbors': 7}, Accuracy: 0.861 (±0.035), Precision: 0.952, Recall: 0.762, F1-score: 0.845\n",
      "Parameters: {'classifier__n_neighbors': 9}, Accuracy: 0.870 (±0.027), Precision: 0.975, Recall: 0.762, F1-score: 0.854\n",
      "Parameters: {'classifier__n_neighbors': 11}, Accuracy: 0.870 (±0.030), Precision: 0.973, Recall: 0.762, F1-score: 0.854\n",
      "\n",
      "Best Parameter founded:\n",
      "11\n",
      "Accuracy with theBest Parameter: 0.8700583819849875\n",
      "\n",
      "_____\n",
      "Evaluating classifier: RandomForestClassifier\n",
      "Risultati della cross-validation per tutte le combinazioni di iperparametri:\n",
      "Parameters: {'classifier__n_estimators': 10}, Accuracy: 0.912 (±0.016), Precision: 0.936, Recall: 0.886, F1-score: 0.910\n",
      "Parameters: {'classifier__n_estimators': 50}, Accuracy: 0.923 (±0.017), Precision: 0.955, Recall: 0.890, F1-score: 0.921\n",
      "Parameters: {'classifier__n_estimators': 200}, Accuracy: 0.930 (±0.009), Precision: 0.977, Recall: 0.883, F1-score: 0.927\n",
      "Parameters: {'classifier__n_estimators': 500}, Accuracy: 0.930 (±0.012), Precision: 0.973, Recall: 0.886, F1-score: 0.927\n",
      "Parameters: {'classifier__n_estimators': 1000}, Accuracy: 0.936 (±0.013), Precision: 0.981, Recall: 0.890, F1-score: 0.933\n",
      "\n",
      "Best Parameter founded:\n",
      "1000\n",
      "Accuracy with theBest Parameter: 0.9358965804837365\n",
      "\n",
      "_____\n",
      "Evaluating classifier: CalibratedClassifierCV\n",
      "Risultati della cross-validation per tutte le combinazioni di iperparametri:\n",
      "Parameters: {'classifier__estimator__C': 1}, Accuracy: 0.903 (±0.029), Precision: 0.952, Recall: 0.853, F1-score: 0.899\n",
      "\n",
      "Best Parameter founded:\n",
      "1\n",
      "Accuracy with theBest Parameter: 0.9030358632193496\n",
      "___________________\n",
      "Number of outliers detected: 6\n",
      "\n",
      "_____\n",
      "Evaluating classifier: KNeighborsClassifier\n",
      "Risultati della cross-validation per tutte le combinazioni di iperparametri:\n",
      "Parameters: {'classifier__n_neighbors': 3}, Accuracy: 0.864 (±0.031), Precision: 0.928, Recall: 0.794, F1-score: 0.854\n",
      "Parameters: {'classifier__n_neighbors': 5}, Accuracy: 0.860 (±0.017), Precision: 0.939, Recall: 0.772, F1-score: 0.847\n",
      "Parameters: {'classifier__n_neighbors': 7}, Accuracy: 0.862 (±0.023), Precision: 0.940, Recall: 0.776, F1-score: 0.849\n",
      "Parameters: {'classifier__n_neighbors': 9}, Accuracy: 0.860 (±0.019), Precision: 0.947, Recall: 0.765, F1-score: 0.846\n",
      "Parameters: {'classifier__n_neighbors': 11}, Accuracy: 0.868 (±0.009), Precision: 0.973, Recall: 0.757, F1-score: 0.851\n",
      "\n",
      "Best Parameter founded:\n",
      "11\n",
      "Accuracy with theBest Parameter: 0.8676520557254502\n",
      "\n",
      "_____\n",
      "Evaluating classifier: RandomForestClassifier\n",
      "Risultati della cross-validation per tutte le combinazioni di iperparametri:\n",
      "Parameters: {'classifier__n_estimators': 10}, Accuracy: 0.899 (±0.021), Precision: 0.906, Recall: 0.893, F1-score: 0.899\n",
      "Parameters: {'classifier__n_estimators': 50}, Accuracy: 0.906 (±0.022), Precision: 0.935, Recall: 0.875, F1-score: 0.903\n",
      "Parameters: {'classifier__n_estimators': 200}, Accuracy: 0.904 (±0.020), Precision: 0.932, Recall: 0.875, F1-score: 0.901\n",
      "Parameters: {'classifier__n_estimators': 500}, Accuracy: 0.908 (±0.021), Precision: 0.936, Recall: 0.878, F1-score: 0.905\n",
      "Parameters: {'classifier__n_estimators': 1000}, Accuracy: 0.904 (±0.025), Precision: 0.929, Recall: 0.878, F1-score: 0.902\n",
      "\n",
      "Best Parameter founded:\n",
      "500\n",
      "Accuracy with theBest Parameter: 0.9081209650016989\n",
      "\n",
      "_____\n",
      "Evaluating classifier: CalibratedClassifierCV\n",
      "Risultati della cross-validation per tutte le combinazioni di iperparametri:\n",
      "Parameters: {'classifier__estimator__C': 1}, Accuracy: 0.903 (±0.012), Precision: 0.959, Recall: 0.842, F1-score: 0.896\n",
      "\n",
      "Best Parameter founded:\n",
      "1\n",
      "Accuracy with theBest Parameter: 0.9025823989126742\n",
      "\n",
      "Best contamination factor for KNeighborsClassifier: 0.001 with accuracy: 0.8557213930348259\n",
      "\n",
      "Best contamination factor for RandomForestClassifier: 0.008 with accuracy: 0.9597989949748744\n",
      "\n",
      "Best contamination factor for CalibratedClassifierCV: 0.001 with accuracy: 0.900497512437811\n",
      "\n",
      "Best overall contamination factor: 0.008 with accuracy: 0.9597989949748744 for classifier: RandomForestClassifier\n"
     ]
    }
   ],
   "source": [
    "# Initialize dictionaries to store best accuracy and contamination for each classifier\n",
    "best_accuracies = {KNeighborsClassifier: 0, RandomForestClassifier: 0, CalibratedClassifierCV: 0}\n",
    "best_contaminations = {KNeighborsClassifier: None, RandomForestClassifier: None, CalibratedClassifierCV: None}\n",
    "#best_accuracy = 0\n",
    "#best_contamination = None\n",
    "\n",
    "# Initialize a variable to store the best overall accuracy and corresponding classifier\n",
    "best_overall_accuracy = 0\n",
    "best_overall_classifier = None\n",
    "best_overall_contamination = None\n",
    "\n",
    "for value in contamination_factor:\n",
    "\n",
    "    ASD_phenotypic_without_outliers, ASD_diagnosis_without_outliers = outlier_detector(ASD_phenotypic, ASD_diagnosis,value)\n",
    "\n",
    "    X_train, X_test, y_train, y_test = train_test_split(ASD_phenotypic_without_outliers, ASD_diagnosis_without_outliers['DX_GROUP'], test_size=0.3, random_state=42)\n",
    "\n",
    "    categorical_columns = X_train.select_dtypes(include=['object']).columns\n",
    "    categorical_features = categorical_columns.tolist()\n",
    "\n",
    "    # Inizializza l'oggetto SMOTE-NC specificando gli indici delle colonne categoriche\n",
    "    sampler = SMOTENC(categorical_features=categorical_features, random_state=42)\n",
    "\n",
    "    # Applica SMOTE-NC per generare nuovi esempi sintetici\n",
    "    X_SMOTE, Y_SMOTE = sampler.fit_resample(X_train, y_train)\n",
    "    sampler = SMOTENC(categorical_features=categorical_features, random_state=42)\n",
    "\n",
    "    # Applica SMOTE-NC per generare nuovi esempi sintetici\n",
    "    X_SMOTE, Y_SMOTE = sampler.fit_resample(X_train, y_train)\n",
    "\n",
    "    classifiers = [KNeighborsClassifier(), RandomForestClassifier(random_state=1234), CalibratedClassifierCV(LinearSVC(dual=False))]\n",
    "    for classifier in classifiers:\n",
    "        print(f\"\\n_____\\nEvaluating classifier: {type(classifier).__name__}\")\n",
    "        \n",
    "        accuracy = evaluate_model(X_SMOTE, Y_SMOTE, X_test, y_test, classifier)\n",
    "        # Update best accuracy and contamination for the specific classifier\n",
    "        classifier_type = type(classifier)\n",
    "\n",
    "        if accuracy > best_accuracies[classifier_type]:\n",
    "            best_accuracies[classifier_type] = accuracy\n",
    "            best_contaminations[classifier_type] = value\n",
    "        \n",
    "        # Update best overall accuracy and corresponding classifier and contamination\n",
    "        if accuracy > best_overall_accuracy:\n",
    "            best_overall_accuracy = accuracy\n",
    "            best_overall_classifier = classifier_type\n",
    "            best_overall_contamination = value\n",
    "\n",
    "# Print the best results for each classifier\n",
    "for classifier_type in best_accuracies:\n",
    "    print(f\"\\nBest contamination factor for {classifier_type.__name__}: {best_contaminations[classifier_type]} with accuracy: {best_accuracies[classifier_type]}\")\n",
    "\n",
    "# Print the best overall result\n",
    "print(f\"\\nBest overall contamination factor: {best_overall_contamination} with accuracy: {best_overall_accuracy} for classifier: {best_overall_classifier.__name__}\")"
   ]
  },
  {
   "cell_type": "code",
   "execution_count": null,
   "metadata": {},
   "outputs": [],
   "source": []
  },
  {
   "cell_type": "code",
   "execution_count": null,
   "metadata": {},
   "outputs": [
    {
     "data": {
      "text/plain": [
       "\"X_train, X_test, y_train, y_test = train_test_split(ASD_phenotypic_without_outliers, ASD_diagnosis_without_outliers['DX_GROUP'], test_size=0.3, random_state=42)\\n\\ncategorical_columns = X_train.select_dtypes(include=['object']).columns\\ncategorical_features = categorical_columns.tolist()\\n\\n# Inizializza l'oggetto SMOTE-NC specificando gli indici delle colonne categoriche\\nsampler = SMOTENC(categorical_features=categorical_features, random_state=42)\\n\\n# Applica SMOTE-NC per generare nuovi esempi sintetici\\nX_SMOTE, Y_SMOTE = sampler.fit_resample(X_train, y_train)\\nsampler = SMOTENC(categorical_features=categorical_features, random_state=42)\\n\\n# Applica SMOTE-NC per generare nuovi esempi sintetici\\nX_SMOTE, Y_SMOTE = sampler.fit_resample(X_train, y_train)\""
      ]
     },
     "execution_count": 31,
     "metadata": {},
     "output_type": "execute_result"
    }
   ],
   "source": [
    "'''X_train, X_test, y_train, y_test = train_test_split(ASD_phenotypic_without_outliers, ASD_diagnosis_without_outliers['DX_GROUP'], test_size=0.3, random_state=42)\n",
    "\n",
    "categorical_columns = X_train.select_dtypes(include=['object']).columns\n",
    "categorical_features = categorical_columns.tolist()\n",
    "\n",
    "# Inizializza l'oggetto SMOTE-NC specificando gli indici delle colonne categoriche\n",
    "sampler = SMOTENC(categorical_features=categorical_features, random_state=42)\n",
    "\n",
    "# Applica SMOTE-NC per generare nuovi esempi sintetici\n",
    "X_SMOTE, Y_SMOTE = sampler.fit_resample(X_train, y_train)\n",
    "sampler = SMOTENC(categorical_features=categorical_features, random_state=42)\n",
    "\n",
    "# Applica SMOTE-NC per generare nuovi esempi sintetici\n",
    "X_SMOTE, Y_SMOTE = sampler.fit_resample(X_train, y_train)'''"
   ]
  },
  {
   "cell_type": "markdown",
   "metadata": {},
   "source": [
    "QUI STIAMO VALUTANDO CON LA FEATURE SELECTION! ASPETTA CHE AURA FINISCA"
   ]
  },
  {
   "cell_type": "code",
   "execution_count": null,
   "metadata": {},
   "outputs": [
    {
     "data": {
      "text/plain": [
       "'knn_model = general_pipeline(X_SMOTE, Y_SMOTE, KNeighborsClassifier())\\nrf_model = general_pipeline(X_SMOTE, Y_SMOTE, RandomForestClassifier(random_state=1234))\\nsvc_model = general_pipeline(X_SMOTE, Y_SMOTE, svm.SVC(probability=True))'"
      ]
     },
     "execution_count": 32,
     "metadata": {},
     "output_type": "execute_result"
    }
   ],
   "source": [
    "'''knn_model = general_pipeline(X_SMOTE, Y_SMOTE, KNeighborsClassifier())\n",
    "rf_model = general_pipeline(X_SMOTE, Y_SMOTE, RandomForestClassifier(random_state=1234))\n",
    "svc_model = general_pipeline(X_SMOTE, Y_SMOTE, svm.SVC(probability=True))'''"
   ]
  },
  {
   "cell_type": "code",
   "execution_count": null,
   "metadata": {},
   "outputs": [],
   "source": [
    "#rf_model = general_pipeline(X_SMOTE, Y_SMOTE, RandomForestClassifier(random_state=1234))"
   ]
  },
  {
   "cell_type": "markdown",
   "metadata": {},
   "source": [
    "# Find best sensibility"
   ]
  },
  {
   "cell_type": "code",
   "execution_count": null,
   "metadata": {},
   "outputs": [],
   "source": [
    "contamination_factor = [0.001, 0.0015, 0.006, 0.008, ]"
   ]
  },
  {
   "cell_type": "code",
   "execution_count": null,
   "metadata": {},
   "outputs": [],
   "source": [
    "def outlier_detector(dataset, diagnosis, contamination_factor):\n",
    "    dataset_outliers = dataset.select_dtypes(include=[np.number])\n",
    "    X = dataset_outliers.values\n",
    "\n",
    "    # Initialize Local Outlier Factor\n",
    "    lof = LocalOutlierFactor(n_neighbors=10, contamination=contamination_factor)  # Adjust parameters as needed\n",
    "    '''n_neighbors | if too small: model sensible to noise and random outliers\n",
    "                 if too large: diculties in local outliers detection, in particular if in absence oa a uniform distribution\n",
    "       contamination | data portion expected as outliers'''\n",
    "    # Fit the model and predict outliers\n",
    "    outliers = lof.fit_predict(X)\n",
    "\n",
    "    # Print number of detected outliers\n",
    "    print(f\"Number of outliers detected: {np.sum(outliers == -1)}\")\n",
    "\n",
    "    # outliers == -1 indicates outliers, 1 indicates inliers\n",
    "    dataset_outliers['outlier'] = outliers\n",
    "\n",
    "    outlier_subjects = dataset_outliers[dataset_outliers['outlier'] == -1]\n",
    "\n",
    "    pd.set_option('display.max_columns', None); outlier_subjects.T\n",
    "\n",
    "    dataset_without_outliers = dataset[dataset_outliers['outlier'] == 1]\n",
    "         \n",
    "    diagnosis_without_outliers = diagnosis[dataset_outliers['outlier'] == 1]\n",
    "\n",
    "    return dataset_without_outliers, diagnosis_without_outliers"
   ]
  },
  {
   "cell_type": "code",
   "execution_count": null,
   "metadata": {},
   "outputs": [
    {
     "name": "stdout",
     "output_type": "stream",
     "text": [
      "Number of outliers detected: 1\n",
      "Risultati della cross-validation per tutte le combinazioni di iperparametri:\n",
      "Parametri: {'classifier__n_neighbors': 3}, Accuratezza media: 0.867 (±0.019), Precision media: 0.941, Richiamo medio: 0.785, F1-score medio: 0.854\n",
      "Parametri: {'classifier__n_neighbors': 5}, Accuratezza media: 0.862 (±0.038), Precision media: 0.964, Richiamo medio: 0.752, F1-score medio: 0.842\n",
      "Parametri: {'classifier__n_neighbors': 7}, Accuratezza media: 0.856 (±0.037), Precision media: 0.975, Richiamo medio: 0.734, F1-score medio: 0.833\n",
      "Parametri: {'classifier__n_neighbors': 9}, Accuratezza media: 0.860 (±0.034), Precision media: 0.987, Richiamo medio: 0.731, F1-score medio: 0.837\n",
      "Parametri: {'classifier__n_neighbors': 11}, Accuratezza media: 0.865 (±0.037), Precision media: 0.991, Richiamo medio: 0.738, F1-score medio: 0.843\n",
      "\n",
      "Miglior parametro trovato:\n",
      "3\n",
      "Accuratezza media con il miglior parametro: 0.866956241956242\n",
      "Risultati della cross-validation per tutte le combinazioni di iperparametri:\n",
      "Parametri: {'classifier__n_estimators': 10}, Accuratezza media: 0.912 (±0.034), Precision media: 0.934, Richiamo medio: 0.889, F1-score medio: 0.910\n",
      "Parametri: {'classifier__n_estimators': 50}, Accuratezza media: 0.925 (±0.022), Precision media: 0.965, Richiamo medio: 0.882, F1-score medio: 0.921\n",
      "Parametri: {'classifier__n_estimators': 200}, Accuratezza media: 0.925 (±0.021), Precision media: 0.969, Richiamo medio: 0.878, F1-score medio: 0.920\n",
      "Parametri: {'classifier__n_estimators': 500}, Accuratezza media: 0.926 (±0.021), Precision media: 0.973, Richiamo medio: 0.878, F1-score medio: 0.922\n",
      "Parametri: {'classifier__n_estimators': 1000}, Accuratezza media: 0.926 (±0.021), Precision media: 0.973, Richiamo medio: 0.878, F1-score medio: 0.922\n",
      "\n",
      "Miglior parametro trovato:\n",
      "500\n",
      "Accuratezza media con il miglior parametro: 0.9262870012870014\n"
     ]
    },
    {
     "ename": "TypeError",
     "evalue": "LinearSVC.__init__() got an unexpected keyword argument 'probability'",
     "output_type": "error",
     "traceback": [
      "\u001b[1;31m---------------------------------------------------------------------------\u001b[0m",
      "\u001b[1;31mTypeError\u001b[0m                                 Traceback (most recent call last)",
      "Cell \u001b[1;32mIn[37], line 37\u001b[0m\n\u001b[0;32m     34\u001b[0m     best_accuracy \u001b[38;5;241m=\u001b[39m accuracy\n\u001b[0;32m     35\u001b[0m     best_contamination \u001b[38;5;241m=\u001b[39m value\n\u001b[1;32m---> 37\u001b[0m svc_model, _, _, _ \u001b[38;5;241m=\u001b[39m general_pipeline(X_SMOTE, Y_SMOTE, \u001b[43mLinearSVC\u001b[49m\u001b[43m(\u001b[49m\u001b[43mprobability\u001b[49m\u001b[38;5;241;43m=\u001b[39;49m\u001b[38;5;28;43;01mTrue\u001b[39;49;00m\u001b[43m)\u001b[49m)\n\u001b[0;32m     38\u001b[0m y_pred \u001b[38;5;241m=\u001b[39m svc_model\u001b[38;5;241m.\u001b[39mpredict(X_test)\n\u001b[0;32m     39\u001b[0m accuracy \u001b[38;5;241m=\u001b[39m accuracy_score(y_test, y_pred)\n",
      "\u001b[1;31mTypeError\u001b[0m: LinearSVC.__init__() got an unexpected keyword argument 'probability'"
     ]
    }
   ],
   "source": [
    "best_accuracy = 0\n",
    "best_contamination = None\n",
    "for value in contamination_factor:\n",
    "\n",
    "    ASD_phenotypic_without_outliers, ASD_diagnosis_without_outliers = outlier_detector(ASD_phenotypic, ASD_diagnosis,value)\n",
    "\n",
    "    X_train, X_test, y_train, y_test = train_test_split(ASD_phenotypic_without_outliers, ASD_diagnosis_without_outliers['DX_GROUP'], test_size=0.3, random_state=42)\n",
    "\n",
    "    categorical_columns = X_train.select_dtypes(include=['object']).columns\n",
    "    categorical_features = categorical_columns.tolist()\n",
    "\n",
    "    # Inizializza l'oggetto SMOTE-NC specificando gli indici delle colonne categoriche\n",
    "    sampler = SMOTENC(categorical_features=categorical_features, random_state=42)\n",
    "\n",
    "    # Applica SMOTE-NC per generare nuovi esempi sintetici\n",
    "    X_SMOTE, Y_SMOTE = sampler.fit_resample(X_train, y_train)\n",
    "    sampler = SMOTENC(categorical_features=categorical_features, random_state=42)\n",
    "\n",
    "    # Applica SMOTE-NC per generare nuovi esempi sintetici\n",
    "    X_SMOTE, Y_SMOTE = sampler.fit_resample(X_train, y_train)\n",
    "    knn_model, _, _, _ = general_pipeline(X_SMOTE, Y_SMOTE, KNeighborsClassifier())\n",
    "    y_pred = knn_model.predict(X_test)\n",
    "    accuracy = accuracy_score(y_test, y_pred)\n",
    "   \n",
    "    if accuracy > best_accuracy:\n",
    "        best_accuracy = accuracy\n",
    "        best_contamination = value\n",
    "\n",
    "    rf_model, _, _, _ = general_pipeline(X_SMOTE, Y_SMOTE, RandomForestClassifier(random_state=1234))\n",
    "    y_pred = rf_model.predict(X_test)\n",
    "    accuracy = accuracy_score(y_test, y_pred)\n",
    "    \n",
    "    if accuracy > best_accuracy:\n",
    "        best_accuracy = accuracy\n",
    "        best_contamination = value\n",
    "\n",
    "    svc_model, _, _, _ = general_pipeline(X_SMOTE, Y_SMOTE, svm.SVC(probability=True))\n",
    "    y_pred = svc_model.predict(X_test)\n",
    "    accuracy = accuracy_score(y_test, y_pred)\n",
    "    \n",
    "    if accuracy > best_accuracy:\n",
    "        best_accuracy = accuracy\n",
    "        best_contamination = value\n",
    "        \n",
    "print(f\"Best contamination factor: {best_contamination} with accuracy: {best_accuracy}\")\n",
    "    \n",
    "    \n",
    "    \n",
    "    \n",
    "\n",
    "    \n",
    "\n",
    "\n",
    "\n",
    "    "
   ]
  },
  {
   "cell_type": "markdown",
   "metadata": {},
   "source": [
    "grid search"
   ]
  },
  {
   "cell_type": "code",
   "execution_count": null,
   "metadata": {},
   "outputs": [],
   "source": [
    "\n",
    "\n",
    "def outlier_detector(dataset, diagnosis, contamination_factor):\n",
    "    dataset_outliers = dataset.select_dtypes(include=[np.number])\n",
    "    X = dataset_outliers.values\n",
    "\n",
    "    # Initialize Local Outlier Factor\n",
    "    lof = LocalOutlierFactor(n_neighbors=10, contamination=contamination_factor)  # Adjust parameters as needed\n",
    "\n",
    "    # Fit the model and predict outliers\n",
    "    outliers = lof.fit_predict(X)\n",
    "\n",
    "    # Print number of detected outliers\n",
    "    print(f\"Number of outliers detected: {np.sum(outliers == -1)}\")\n",
    "\n",
    "    dataset_without_outliers = dataset[outliers == 1]\n",
    "    diagnosis_without_outliers = diagnosis[outliers == 1]\n",
    "\n",
    "    return dataset_without_outliers, diagnosis_without_outliers\n",
    "\n",
    "def perform_grid_search(ASD_phenotypic, ASD_diagnosis, contamination_values):\n",
    "    best_accuracy = 0\n",
    "    best_contamination = None\n",
    "    \n",
    "    for contamination in contamination_values:\n",
    "        print(f\"Testing contamination factor: {contamination}\")\n",
    "\n",
    "        ASD_phenotypic_without_outliers, ASD_diagnosis_without_outliers = outlier_detector(ASD_phenotypic, ASD_diagnosis, contamination)\n",
    "\n",
    "        X_train, X_test, y_train, y_test = train_test_split(ASD_phenotypic_without_outliers, ASD_diagnosis_without_outliers['DX_GROUP'], test_size=0.3, random_state=42)\n",
    "\n",
    "        categorical_columns = X_train.select_dtypes(include=['object']).columns\n",
    "        categorical_features = categorical_columns.tolist()\n",
    "\n",
    "        sampler = SMOTENC(categorical_features=categorical_features, random_state=42)\n",
    "        X_SMOTE, Y_SMOTE = sampler.fit_resample(X_train, y_train)\n",
    "\n",
    "        knn_model = general_pipeline(X_SMOTE, Y_SMOTE, KNeighborsClassifier())\n",
    "        y_pred = knn_model.predict(X_test)\n",
    "        accuracy = accuracy_score(y_test, y_pred)\n",
    "\n",
    "        print(f\"Accuracy with contamination {contamination}: {accuracy}\")\n",
    "\n",
    "        if accuracy > best_accuracy:\n",
    "            best_accuracy = accuracy\n",
    "            best_contamination = contamination\n",
    "\n",
    "    print(f\"Best contamination factor: {best_contamination} with accuracy: {best_accuracy}\")\n",
    "    return best_contamination\n",
    "\n",
    "# Define the contamination values to test\n",
    "contamination_values = [0.001, 0.0015, 0.006, 0.008]\n",
    "\n",
    "# Perform grid search to find the best contamination factor\n",
    "best_contamination = perform_grid_search(ASD_phenotypic, ASD_diagnosis, contamination_values)\n",
    "\n",
    "# Use the best contamination factor to create the final dataset\n",
    "ASD_phenotypic_without_outliers, ASD_diagnosis_without_outliers = outlier_detector(ASD_phenotypic, ASD_diagnosis, best_contamination)\n",
    "\n",
    "# Now, train the final models using the best contamination factor\n",
    "X_train, X_test, y_train, y_test = train_test_split(ASD_phenotypic_without_outliers, ASD_diagnosis_without_outliers['DX_GROUP'], test_size=0.3, random_state=42)\n",
    "\n",
    "categorical_columns = X_train.select_dtypes(include=['object']).columns\n",
    "categorical_features = categorical_columns.tolist()\n",
    "\n",
    "sampler = SMOTENC(categorical_features=categorical_features, random_state=42)\n",
    "X_SMOTE, Y_SMOTE = sampler.fit_resample(X_train, y_train)\n",
    "\n",
    "knn_model = general_pipeline(X_SMOTE, Y_SMOTE, KNeighborsClassifier())\n",
    "rf_model = general_pipeline(X_SMOTE, Y_SMOTE, RandomForestClassifier(random_state=1234))\n",
    "svc_model = general_pipeline(X_SMOTE, Y_SMOTE, svm.SVC(probability=True))\n",
    "\n",
    "# Evaluate models on the test set\n",
    "knn_accuracy = accuracy_score(y_test, knn_model.predict(X_test))\n",
    "rf_accuracy = accuracy_score(y_test, rf_model.predict(X_test))\n",
    "svc_accuracy = accuracy_score(y_test, svc_model.predict(X_test))\n",
    "\n",
    "print(f\"KNN accuracy: {knn_accuracy}\")\n",
    "print(f\"Random Forest accuracy: {rf_accuracy}\")\n",
    "print(f\"SVM accuracy: {svc_accuracy}\")\n"
   ]
  }
 ],
 "metadata": {
  "kernelspec": {
   "display_name": "Python 3",
   "language": "python",
   "name": "python3"
  },
  "language_info": {
   "codemirror_mode": {
    "name": "ipython",
    "version": 3
   },
   "file_extension": ".py",
   "mimetype": "text/x-python",
   "name": "python",
   "nbconvert_exporter": "python",
   "pygments_lexer": "ipython3",
   "version": "3.10.11"
  }
 },
 "nbformat": 4,
 "nbformat_minor": 2
}
