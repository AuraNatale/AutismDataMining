{
 "cells": [
  {
   "cell_type": "markdown",
   "metadata": {},
   "source": [
    "# Table of Contents | ASD DATA \n",
    "\n",
    "- [The BREAST-CANCER dataset](#The-BREAST-CANCER-dataset):\n",
    "    - [Load the dataset](#Load-the-Dataset)\n",
    "    - [Explore the dataset: Descriptive statistics](#Explore-the-dataset:-Descriptive-statistics)\n",
    "    - [Explore the dataset: Visualization](#Explore-the-dataset:-Visualization)\n",
    "    \n"
   ]
  },
  {
   "cell_type": "markdown",
   "metadata": {},
   "source": [
    "\n",
    "The entire project has been based on the following study [Investigating the Correspondence of Clinical  Diagnostic Grouping With Underlying Neurobiological and Phenotypic Clusters Using Unsupervised Machine Learning](https://doi.org/10.1016/j.dib.2018.01.080).\n",
    "\n",
    "The work focuses on two different pathologies in brain disorders: ASD and ADHD\n",
    "\n",
    "## The ASD dataset\n",
    "\n",
    "available at [ABIDE I database](https://fcon_1000.projects.nitrc.org/indi/abide/abide_I.html).\n",
    "\n",
    "\n",
    "This is .......\n",
    " \n",
    "This data set includes 286 intances (201 of one class, 85 of another class).  The instances are described by 9 attributes, some of which are ordinal and some are nominal.\n",
    " \n",
    "Attribute information\n",
    "\n",
    "| column | values |\n",
    "| --- | --- |\n",
    "| Class | no-recurrence-events, recurrence-events |\n",
    "| age | 10-19, 20-29, 30-39, 40-49, 50-59, 60-69, 70-79, 80-89, 90-99|\n",
    "| menopause | lt40, ge40, premeno|\n",
    "| tumor-size | 0-4, 5-9, 10-14, 15-19, 20-24, 25-29, 30-34, 35-39, 40-44, 45-49, 50-54, 55-59|\n",
    "| inv-nodes | 0-2, 3-5, 6-8, 9-11, 12-14, 15-17, 18-20, 21-23, 24-26, 27-29, 30-32, 33-35, 36-39|\n",
    "| node-caps | yes, no|\n",
    "| deg-malig | 1, 2, 3|\n",
    "| breast | left, right|\n",
    "| breast-quad | left-up, left-low, right-up, right-low, central|\n",
    "| irradiat | yes, no|\n",
    " \n",
    "There are 9 Missing Attribute Values (denoted by \"?\") \n"
   ]
  },
  {
   "cell_type": "code",
   "execution_count": 18,
   "metadata": {},
   "outputs": [],
   "source": [
    "import os\n",
    "import numpy as np\n",
    "import pandas as pd\n",
    "from matplotlib import pyplot as plt #for the plots\n",
    "import seaborn as sns "
   ]
  },
  {
   "cell_type": "markdown",
   "metadata": {},
   "source": [
    "We start opening the dataset. \n",
    "\n",
    "pd. We know from  the datasheets of the dataset provided by ABIDE which are the ranges of the categories and we noted that there are some values in the data categorized as -9999, which is a way to denoted missing data or values out of range, so we are going to consider them as NaN."
   ]
  },
  {
   "cell_type": "code",
   "execution_count": 19,
   "metadata": {},
   "outputs": [],
   "source": [
    "ASD_phenotypic = pd.read_csv(os.path.join('DataSets','Phenotypic Datasets','ASD','ASD_phenotypic.csv'), na_values='-9999')\n"
   ]
  },
  {
   "cell_type": "code",
   "execution_count": 20,
   "metadata": {},
   "outputs": [
    {
     "data": {
      "text/plain": [
       "'#restituiamo il percorso completo del nostro file\\nASD_phenotypic = pd.read_csv(os.path.join(\\'Datasets\\',\\'Phenotypic Datasets\\',\\'ASD\\',\\'ASD_phenotypic.csv\\'),na_values = \\'-9999\\')\\n#contiamo questi errori di registrazione \\nerrors = \\'-9999\\'\\n#dizionario per memorizzare risultati per ogni colonna\\nerrors_per_feature = {}\\n#Iterazione su tutte le colonne\\nfor col in ASD_phenotypic.columns:\\n    # Conta i valori nella colonna e memorizza il risultato nel dizionario\\n    errors_per_feature[col] = (ASD_phenotypic[col] == errors).sum()\\n\\n# Stampa i risultati\\nfor col, conteggio in errors_per_feature.items():\\n    print(f\"Numero di elementi con valore \\'{errors}\\' nella colonna \\'{col}\\': {conteggio}\")'"
      ]
     },
     "execution_count": 20,
     "metadata": {},
     "output_type": "execute_result"
    }
   ],
   "source": [
    "'''#restituiamo il percorso completo del nostro file\n",
    "ASD_phenotypic = pd.read_csv(os.path.join('Datasets','Phenotypic Datasets','ASD','ASD_phenotypic.csv'),na_values = '-9999')\n",
    "#contiamo questi errori di registrazione \n",
    "errors = '-9999'\n",
    "#dizionario per memorizzare risultati per ogni colonna\n",
    "errors_per_feature = {}\n",
    "#Iterazione su tutte le colonne\n",
    "for col in ASD_phenotypic.columns:\n",
    "    # Conta i valori nella colonna e memorizza il risultato nel dizionario\n",
    "    errors_per_feature[col] = (ASD_phenotypic[col] == errors).sum()\n",
    "\n",
    "# Stampa i risultati\n",
    "for col, conteggio in errors_per_feature.items():\n",
    "    print(f\"Numero di elementi con valore '{errors}' nella colonna '{col}': {conteggio}\")'''"
   ]
  },
  {
   "cell_type": "code",
   "execution_count": 21,
   "metadata": {},
   "outputs": [
    {
     "data": {
      "text/html": [
       "<div>\n",
       "<style scoped>\n",
       "    .dataframe tbody tr th:only-of-type {\n",
       "        vertical-align: middle;\n",
       "    }\n",
       "\n",
       "    .dataframe tbody tr th {\n",
       "        vertical-align: top;\n",
       "    }\n",
       "\n",
       "    .dataframe thead th {\n",
       "        text-align: right;\n",
       "    }\n",
       "</style>\n",
       "<table border=\"1\" class=\"dataframe\">\n",
       "  <thead>\n",
       "    <tr style=\"text-align: right;\">\n",
       "      <th></th>\n",
       "      <th>SITE_ID</th>\n",
       "      <th>SUB_ID</th>\n",
       "      <th>DX_GROUP</th>\n",
       "      <th>DSM_IV_TR</th>\n",
       "      <th>AGE_AT_SCAN</th>\n",
       "      <th>...</th>\n",
       "      <th>WISC_IV_CODING_SCALED</th>\n",
       "      <th>WISC_IV_SYM_SCALED</th>\n",
       "      <th>EYE_STATUS_AT_SCAN</th>\n",
       "      <th>AGE_AT_MPRAGE</th>\n",
       "      <th>BMI</th>\n",
       "    </tr>\n",
       "  </thead>\n",
       "  <tbody>\n",
       "    <tr>\n",
       "      <th>0</th>\n",
       "      <td>CALTECH</td>\n",
       "      <td>51456</td>\n",
       "      <td>1</td>\n",
       "      <td>4.0</td>\n",
       "      <td>55.40</td>\n",
       "      <td>...</td>\n",
       "      <td>NaN</td>\n",
       "      <td>NaN</td>\n",
       "      <td>2</td>\n",
       "      <td>NaN</td>\n",
       "      <td>NaN</td>\n",
       "    </tr>\n",
       "    <tr>\n",
       "      <th>1</th>\n",
       "      <td>CALTECH</td>\n",
       "      <td>51457</td>\n",
       "      <td>1</td>\n",
       "      <td>4.0</td>\n",
       "      <td>22.90</td>\n",
       "      <td>...</td>\n",
       "      <td>NaN</td>\n",
       "      <td>NaN</td>\n",
       "      <td>2</td>\n",
       "      <td>NaN</td>\n",
       "      <td>NaN</td>\n",
       "    </tr>\n",
       "    <tr>\n",
       "      <th>2</th>\n",
       "      <td>CALTECH</td>\n",
       "      <td>51458</td>\n",
       "      <td>1</td>\n",
       "      <td>1.0</td>\n",
       "      <td>39.20</td>\n",
       "      <td>...</td>\n",
       "      <td>NaN</td>\n",
       "      <td>NaN</td>\n",
       "      <td>2</td>\n",
       "      <td>NaN</td>\n",
       "      <td>NaN</td>\n",
       "    </tr>\n",
       "    <tr>\n",
       "      <th>3</th>\n",
       "      <td>CALTECH</td>\n",
       "      <td>51459</td>\n",
       "      <td>1</td>\n",
       "      <td>1.0</td>\n",
       "      <td>22.80</td>\n",
       "      <td>...</td>\n",
       "      <td>NaN</td>\n",
       "      <td>NaN</td>\n",
       "      <td>2</td>\n",
       "      <td>NaN</td>\n",
       "      <td>NaN</td>\n",
       "    </tr>\n",
       "    <tr>\n",
       "      <th>4</th>\n",
       "      <td>CALTECH</td>\n",
       "      <td>51460</td>\n",
       "      <td>1</td>\n",
       "      <td>1.0</td>\n",
       "      <td>34.60</td>\n",
       "      <td>...</td>\n",
       "      <td>NaN</td>\n",
       "      <td>NaN</td>\n",
       "      <td>2</td>\n",
       "      <td>NaN</td>\n",
       "      <td>NaN</td>\n",
       "    </tr>\n",
       "    <tr>\n",
       "      <th>...</th>\n",
       "      <td>...</td>\n",
       "      <td>...</td>\n",
       "      <td>...</td>\n",
       "      <td>...</td>\n",
       "      <td>...</td>\n",
       "      <td>...</td>\n",
       "      <td>...</td>\n",
       "      <td>...</td>\n",
       "      <td>...</td>\n",
       "      <td>...</td>\n",
       "      <td>...</td>\n",
       "    </tr>\n",
       "    <tr>\n",
       "      <th>1107</th>\n",
       "      <td>YALE</td>\n",
       "      <td>50624</td>\n",
       "      <td>1</td>\n",
       "      <td>3.0</td>\n",
       "      <td>11.08</td>\n",
       "      <td>...</td>\n",
       "      <td>NaN</td>\n",
       "      <td>NaN</td>\n",
       "      <td>1</td>\n",
       "      <td>NaN</td>\n",
       "      <td>NaN</td>\n",
       "    </tr>\n",
       "    <tr>\n",
       "      <th>1108</th>\n",
       "      <td>YALE</td>\n",
       "      <td>50625</td>\n",
       "      <td>1</td>\n",
       "      <td>3.0</td>\n",
       "      <td>7.00</td>\n",
       "      <td>...</td>\n",
       "      <td>NaN</td>\n",
       "      <td>NaN</td>\n",
       "      <td>1</td>\n",
       "      <td>NaN</td>\n",
       "      <td>NaN</td>\n",
       "    </tr>\n",
       "    <tr>\n",
       "      <th>1109</th>\n",
       "      <td>YALE</td>\n",
       "      <td>50626</td>\n",
       "      <td>1</td>\n",
       "      <td>3.0</td>\n",
       "      <td>11.08</td>\n",
       "      <td>...</td>\n",
       "      <td>NaN</td>\n",
       "      <td>NaN</td>\n",
       "      <td>1</td>\n",
       "      <td>NaN</td>\n",
       "      <td>NaN</td>\n",
       "    </tr>\n",
       "    <tr>\n",
       "      <th>1110</th>\n",
       "      <td>YALE</td>\n",
       "      <td>50627</td>\n",
       "      <td>1</td>\n",
       "      <td>3.0</td>\n",
       "      <td>9.50</td>\n",
       "      <td>...</td>\n",
       "      <td>NaN</td>\n",
       "      <td>NaN</td>\n",
       "      <td>1</td>\n",
       "      <td>NaN</td>\n",
       "      <td>NaN</td>\n",
       "    </tr>\n",
       "    <tr>\n",
       "      <th>1111</th>\n",
       "      <td>YALE</td>\n",
       "      <td>50628</td>\n",
       "      <td>1</td>\n",
       "      <td>3.0</td>\n",
       "      <td>14.42</td>\n",
       "      <td>...</td>\n",
       "      <td>NaN</td>\n",
       "      <td>NaN</td>\n",
       "      <td>1</td>\n",
       "      <td>NaN</td>\n",
       "      <td>NaN</td>\n",
       "    </tr>\n",
       "  </tbody>\n",
       "</table>\n",
       "<p>1112 rows × 74 columns</p>\n",
       "</div>"
      ],
      "text/plain": [
       "      SITE_ID  SUB_ID  DX_GROUP  DSM_IV_TR  AGE_AT_SCAN  ...  \\\n",
       "0     CALTECH   51456         1        4.0        55.40  ...   \n",
       "1     CALTECH   51457         1        4.0        22.90  ...   \n",
       "2     CALTECH   51458         1        1.0        39.20  ...   \n",
       "3     CALTECH   51459         1        1.0        22.80  ...   \n",
       "4     CALTECH   51460         1        1.0        34.60  ...   \n",
       "...       ...     ...       ...        ...          ...  ...   \n",
       "1107     YALE   50624         1        3.0        11.08  ...   \n",
       "1108     YALE   50625         1        3.0         7.00  ...   \n",
       "1109     YALE   50626         1        3.0        11.08  ...   \n",
       "1110     YALE   50627         1        3.0         9.50  ...   \n",
       "1111     YALE   50628         1        3.0        14.42  ...   \n",
       "\n",
       "      WISC_IV_CODING_SCALED WISC_IV_SYM_SCALED  EYE_STATUS_AT_SCAN  \\\n",
       "0                       NaN                NaN                   2   \n",
       "1                       NaN                NaN                   2   \n",
       "2                       NaN                NaN                   2   \n",
       "3                       NaN                NaN                   2   \n",
       "4                       NaN                NaN                   2   \n",
       "...                     ...                ...                 ...   \n",
       "1107                    NaN                NaN                   1   \n",
       "1108                    NaN                NaN                   1   \n",
       "1109                    NaN                NaN                   1   \n",
       "1110                    NaN                NaN                   1   \n",
       "1111                    NaN                NaN                   1   \n",
       "\n",
       "      AGE_AT_MPRAGE  BMI  \n",
       "0               NaN  NaN  \n",
       "1               NaN  NaN  \n",
       "2               NaN  NaN  \n",
       "3               NaN  NaN  \n",
       "4               NaN  NaN  \n",
       "...             ...  ...  \n",
       "1107            NaN  NaN  \n",
       "1108            NaN  NaN  \n",
       "1109            NaN  NaN  \n",
       "1110            NaN  NaN  \n",
       "1111            NaN  NaN  \n",
       "\n",
       "[1112 rows x 74 columns]"
      ]
     },
     "execution_count": 21,
     "metadata": {},
     "output_type": "execute_result"
    }
   ],
   "source": [
    "#visualizziamo, non completamente, il nostro dataset\n",
    "#e otteniamone la dimensione: prima info utile\n",
    "ASD_phenotypic"
   ]
  },
  {
   "cell_type": "markdown",
   "metadata": {},
   "source": [
    "#  CATEGORICAL EXPLORATION"
   ]
  },
  {
   "cell_type": "code",
   "execution_count": 22,
   "metadata": {},
   "outputs": [
    {
     "name": "stdout",
     "output_type": "stream",
     "text": [
      "<class 'pandas.core.frame.DataFrame'>\n",
      "RangeIndex: 1112 entries, 0 to 1111\n",
      "Data columns (total 74 columns):\n",
      " #   Column                           Non-Null Count  Dtype  \n",
      "---  ------                           --------------  -----  \n",
      " 0   SITE_ID                          1112 non-null   object \n",
      " 1   SUB_ID                           1112 non-null   int64  \n",
      " 2   DX_GROUP                         1112 non-null   int64  \n",
      " 3   DSM_IV_TR                        1040 non-null   float64\n",
      " 4   AGE_AT_SCAN                      1112 non-null   float64\n",
      " 5   SEX                              1112 non-null   int64  \n",
      " 6   HANDEDNESS_CATEGORY              786 non-null    object \n",
      " 7   HANDEDNESS_SCORES                364 non-null    float64\n",
      " 8   FIQ                              1040 non-null   float64\n",
      " 9   VIQ                              917 non-null    float64\n",
      " 10  PIQ                              931 non-null    float64\n",
      " 11  FIQ_TEST_TYPE                    943 non-null    object \n",
      " 12  VIQ_TEST_TYPE                    834 non-null    object \n",
      " 13  PIQ_TEST_TYPE                    853 non-null    object \n",
      " 14  ADI_R_SOCIAL_TOTAL_A             378 non-null    float64\n",
      " 15  ADI_R_VERBAL_TOTAL_BV            379 non-null    float64\n",
      " 16  ADI_RRB_TOTAL_C                  378 non-null    float64\n",
      " 17  ADI_R_ONSET_TOTAL_D              297 non-null    float64\n",
      " 18  ADI_R_RSRCH_RELIABLE             391 non-null    float64\n",
      " 19  ADOS_MODULE                      507 non-null    float64\n",
      " 20  ADOS_TOTAL                       415 non-null    float64\n",
      " 21  ADOS_COMM                        390 non-null    float64\n",
      " 22  ADOS_SOCIAL                      391 non-null    float64\n",
      " 23  ADOS_STEREO_BEHAV                331 non-null    float64\n",
      " 24  ADOS_RSRCH_RELIABLE              376 non-null    float64\n",
      " 25  ADOS_GOTHAM_SOCAFFECT            265 non-null    float64\n",
      " 26  ADOS_GOTHAM_RRB                  270 non-null    float64\n",
      " 27  ADOS_GOTHAM_TOTAL                273 non-null    float64\n",
      " 28  ADOS_GOTHAM_SEVERITY             273 non-null    float64\n",
      " 29  SRS_VERSION                      231 non-null    float64\n",
      " 30  SRS_RAW_TOTAL                    365 non-null    float64\n",
      " 31  SRS_AWARENESS                    64 non-null     float64\n",
      " 32  SRS_COGNITION                    64 non-null     float64\n",
      " 33  SRS_COMMUNICATION                64 non-null     float64\n",
      " 34  SRS_MOTIVATION                   64 non-null     float64\n",
      " 35  SRS_MANNERISMS                   64 non-null     float64\n",
      " 36  SCQ_TOTAL                        124 non-null    float64\n",
      " 37  AQ_TOTAL                         56 non-null     float64\n",
      " 38  COMORBIDITY                      63 non-null     object \n",
      " 39  CURRENT_MED_STATUS               810 non-null    object \n",
      " 40  MEDICATION_NAME                  157 non-null    object \n",
      " 41  OFF_STIMULANTS_AT_SCAN           72 non-null     float64\n",
      " 42  VINELAND_RECEPTIVE_V_SCALED      112 non-null    float64\n",
      " 43  VINELAND_EXPRESSIVE_V_SCALED     112 non-null    float64\n",
      " 44  VINELAND_WRITTEN_V_SCALED        112 non-null    float64\n",
      " 45  VINELAND_COMMUNICATION_STANDARD  112 non-null    float64\n",
      " 46  VINELAND_PERSONAL_V_SCALED       112 non-null    float64\n",
      " 47  VINELAND_DOMESTIC_V_SCALED       112 non-null    float64\n",
      " 48  VINELAND_COMMUNITY_V_SCALED      112 non-null    float64\n",
      " 49  VINELAND_DAILYLVNG_STANDARD      112 non-null    float64\n",
      " 50  VINELAND_INTERPERSONAL_V_SCALED  112 non-null    float64\n",
      " 51  VINELAND_PLAY_V_SCALED           112 non-null    float64\n",
      " 52  VINELAND_COPING_V_SCALED         112 non-null    float64\n",
      " 53  VINELAND_SOCIAL_STANDARD         112 non-null    float64\n",
      " 54  VINELAND_SUM_SCORES              112 non-null    float64\n",
      " 55  VINELAND_ABC_STANDARD            112 non-null    float64\n",
      " 56  VINELAND_INFORMANT               112 non-null    float64\n",
      " 57  WISC_IV_VCI                      55 non-null     float64\n",
      " 58  WISC_IV_PRI                      55 non-null     float64\n",
      " 59  WISC_IV_WMI                      55 non-null     float64\n",
      " 60  WISC_IV_PSI                      55 non-null     float64\n",
      " 61  WISC_IV_SIM_SCALED               55 non-null     float64\n",
      " 62  WISC_IV_VOCAB_SCALED             55 non-null     float64\n",
      " 63  WISC_IV_INFO_SCALED              55 non-null     float64\n",
      " 64  WISC_IV_BLK_DSN_SCALED           55 non-null     float64\n",
      " 65  WISC_IV_PIC_CON_SCALED           55 non-null     float64\n",
      " 66  WISC_IV_MATRIX_SCALED            55 non-null     float64\n",
      " 67  WISC_IV_DIGIT_SPAN_SCALED        55 non-null     float64\n",
      " 68  WISC_IV_LET_NUM_SCALED           55 non-null     float64\n",
      " 69  WISC_IV_CODING_SCALED            55 non-null     float64\n",
      " 70  WISC_IV_SYM_SCALED               55 non-null     float64\n",
      " 71  EYE_STATUS_AT_SCAN               1112 non-null   int64  \n",
      " 72  AGE_AT_MPRAGE                    100 non-null    float64\n",
      " 73  BMI                              94 non-null     float64\n",
      "dtypes: float64(62), int64(4), object(8)\n",
      "memory usage: 643.0+ KB\n"
     ]
    }
   ],
   "source": [
    "#otteniamo le informazioni relative al dataset\n",
    "ASD_phenotypic.info()"
   ]
  },
  {
   "cell_type": "code",
   "execution_count": 23,
   "metadata": {},
   "outputs": [],
   "source": [
    "#guardando il database, si è notata una colonna con più di un valore separati da ; -> controllo per capire se vengono letti tutti \n",
    "#medname = ASD_phenotypic['MEDICATION_NAME']\n",
    "#medname"
   ]
  },
  {
   "cell_type": "code",
   "execution_count": 24,
   "metadata": {},
   "outputs": [],
   "source": [
    "pd.set_option('display.max_rows', 10)\n",
    "pd.set_option('display.max_columns', 10)\n",
    "\n",
    "#medname"
   ]
  },
  {
   "cell_type": "code",
   "execution_count": 25,
   "metadata": {},
   "outputs": [
    {
     "data": {
      "text/html": [
       "<div>\n",
       "<style scoped>\n",
       "    .dataframe tbody tr th:only-of-type {\n",
       "        vertical-align: middle;\n",
       "    }\n",
       "\n",
       "    .dataframe tbody tr th {\n",
       "        vertical-align: top;\n",
       "    }\n",
       "\n",
       "    .dataframe thead th {\n",
       "        text-align: right;\n",
       "    }\n",
       "</style>\n",
       "<table border=\"1\" class=\"dataframe\">\n",
       "  <thead>\n",
       "    <tr style=\"text-align: right;\">\n",
       "      <th></th>\n",
       "      <th>0</th>\n",
       "      <th>1</th>\n",
       "      <th>2</th>\n",
       "      <th>3</th>\n",
       "      <th>4</th>\n",
       "      <th>...</th>\n",
       "      <th>1107</th>\n",
       "      <th>1108</th>\n",
       "      <th>1109</th>\n",
       "      <th>1110</th>\n",
       "      <th>1111</th>\n",
       "    </tr>\n",
       "  </thead>\n",
       "  <tbody>\n",
       "    <tr>\n",
       "      <th>SITE_ID</th>\n",
       "      <td>CALTECH</td>\n",
       "      <td>CALTECH</td>\n",
       "      <td>CALTECH</td>\n",
       "      <td>CALTECH</td>\n",
       "      <td>CALTECH</td>\n",
       "      <td>...</td>\n",
       "      <td>YALE</td>\n",
       "      <td>YALE</td>\n",
       "      <td>YALE</td>\n",
       "      <td>YALE</td>\n",
       "      <td>YALE</td>\n",
       "    </tr>\n",
       "    <tr>\n",
       "      <th>HANDEDNESS_CATEGORY</th>\n",
       "      <td>R</td>\n",
       "      <td>Ambi</td>\n",
       "      <td>R</td>\n",
       "      <td>R</td>\n",
       "      <td>Ambi</td>\n",
       "      <td>...</td>\n",
       "      <td>R</td>\n",
       "      <td>L</td>\n",
       "      <td>L</td>\n",
       "      <td>R</td>\n",
       "      <td>R</td>\n",
       "    </tr>\n",
       "    <tr>\n",
       "      <th>FIQ_TEST_TYPE</th>\n",
       "      <td>WASI</td>\n",
       "      <td>WASI</td>\n",
       "      <td>WASI</td>\n",
       "      <td>WASI</td>\n",
       "      <td>WASI</td>\n",
       "      <td>...</td>\n",
       "      <td>DAS_II_SA</td>\n",
       "      <td>DAS_II_SA</td>\n",
       "      <td>DAS_II_SA</td>\n",
       "      <td>DAS_II_SA</td>\n",
       "      <td>DAS_II_SA</td>\n",
       "    </tr>\n",
       "    <tr>\n",
       "      <th>VIQ_TEST_TYPE</th>\n",
       "      <td>WASI</td>\n",
       "      <td>WASI</td>\n",
       "      <td>WASI</td>\n",
       "      <td>WASI</td>\n",
       "      <td>WASI</td>\n",
       "      <td>...</td>\n",
       "      <td>DAS_II_SA</td>\n",
       "      <td>DAS_II_SA</td>\n",
       "      <td>DAS_II_SA</td>\n",
       "      <td>DAS_II_SA</td>\n",
       "      <td>DAS_II_SA</td>\n",
       "    </tr>\n",
       "    <tr>\n",
       "      <th>PIQ_TEST_TYPE</th>\n",
       "      <td>WASI</td>\n",
       "      <td>WASI</td>\n",
       "      <td>WASI</td>\n",
       "      <td>WASI</td>\n",
       "      <td>WASI</td>\n",
       "      <td>...</td>\n",
       "      <td>DAS_II_SA</td>\n",
       "      <td>DAS_II_SA</td>\n",
       "      <td>DAS_II_SA</td>\n",
       "      <td>DAS_II_SA</td>\n",
       "      <td>DAS_II_SA</td>\n",
       "    </tr>\n",
       "    <tr>\n",
       "      <th>COMORBIDITY</th>\n",
       "      <td>NaN</td>\n",
       "      <td>NaN</td>\n",
       "      <td>NaN</td>\n",
       "      <td>NaN</td>\n",
       "      <td>NaN</td>\n",
       "      <td>...</td>\n",
       "      <td>NaN</td>\n",
       "      <td>NaN</td>\n",
       "      <td>NaN</td>\n",
       "      <td>NaN</td>\n",
       "      <td>NaN</td>\n",
       "    </tr>\n",
       "    <tr>\n",
       "      <th>CURRENT_MED_STATUS</th>\n",
       "      <td>NaN</td>\n",
       "      <td>NaN</td>\n",
       "      <td>NaN</td>\n",
       "      <td>NaN</td>\n",
       "      <td>NaN</td>\n",
       "      <td>...</td>\n",
       "      <td>NaN</td>\n",
       "      <td>NaN</td>\n",
       "      <td>NaN</td>\n",
       "      <td>NaN</td>\n",
       "      <td>NaN</td>\n",
       "    </tr>\n",
       "    <tr>\n",
       "      <th>MEDICATION_NAME</th>\n",
       "      <td>NaN</td>\n",
       "      <td>NaN</td>\n",
       "      <td>NaN</td>\n",
       "      <td>NaN</td>\n",
       "      <td>NaN</td>\n",
       "      <td>...</td>\n",
       "      <td>NaN</td>\n",
       "      <td>NaN</td>\n",
       "      <td>NaN</td>\n",
       "      <td>NaN</td>\n",
       "      <td>NaN</td>\n",
       "    </tr>\n",
       "  </tbody>\n",
       "</table>\n",
       "<p>8 rows × 1112 columns</p>\n",
       "</div>"
      ],
      "text/plain": [
       "                        0        1        2        3        4     ...  \\\n",
       "SITE_ID              CALTECH  CALTECH  CALTECH  CALTECH  CALTECH  ...   \n",
       "HANDEDNESS_CATEGORY        R     Ambi        R        R     Ambi  ...   \n",
       "FIQ_TEST_TYPE           WASI     WASI     WASI     WASI     WASI  ...   \n",
       "VIQ_TEST_TYPE           WASI     WASI     WASI     WASI     WASI  ...   \n",
       "PIQ_TEST_TYPE           WASI     WASI     WASI     WASI     WASI  ...   \n",
       "COMORBIDITY              NaN      NaN      NaN      NaN      NaN  ...   \n",
       "CURRENT_MED_STATUS       NaN      NaN      NaN      NaN      NaN  ...   \n",
       "MEDICATION_NAME          NaN      NaN      NaN      NaN      NaN  ...   \n",
       "\n",
       "                          1107       1108       1109       1110       1111  \n",
       "SITE_ID                   YALE       YALE       YALE       YALE       YALE  \n",
       "HANDEDNESS_CATEGORY          R          L          L          R          R  \n",
       "FIQ_TEST_TYPE        DAS_II_SA  DAS_II_SA  DAS_II_SA  DAS_II_SA  DAS_II_SA  \n",
       "VIQ_TEST_TYPE        DAS_II_SA  DAS_II_SA  DAS_II_SA  DAS_II_SA  DAS_II_SA  \n",
       "PIQ_TEST_TYPE        DAS_II_SA  DAS_II_SA  DAS_II_SA  DAS_II_SA  DAS_II_SA  \n",
       "COMORBIDITY                NaN        NaN        NaN        NaN        NaN  \n",
       "CURRENT_MED_STATUS         NaN        NaN        NaN        NaN        NaN  \n",
       "MEDICATION_NAME            NaN        NaN        NaN        NaN        NaN  \n",
       "\n",
       "[8 rows x 1112 columns]"
      ]
     },
     "execution_count": 25,
     "metadata": {},
     "output_type": "execute_result"
    }
   ],
   "source": [
    "#vogliamo individuare e capire cosa sono questi object\n",
    "objects = ASD_phenotypic.select_dtypes(include=['object'])\n",
    "objects.T"
   ]
  },
  {
   "cell_type": "markdown",
   "metadata": {},
   "source": [
    "To understand better how to treat the information gived by this categorical variables we are interested in know which values are stored in this features. We will analyze all of them."
   ]
  },
  {
   "cell_type": "markdown",
   "metadata": {},
   "source": [
    "## Handling categorical variables"
   ]
  },
  {
   "cell_type": "markdown",
   "metadata": {},
   "source": [
    "### SITE_ID"
   ]
  },
  {
   "cell_type": "markdown",
   "metadata": {},
   "source": [
    "SITE_ID refers to the place where the data from the subject was recluted. As we are not interested in include the place of analysis as a feature for our clustering algorithm, we can decide to drop this column.\n",
    "\n",
    "However, this information could be retrieved in posteriori analysis if we are interesting in analysing the variability for the results taking the specific site information. \n",
    "(? sound like a good explanation??)"
   ]
  },
  {
   "cell_type": "code",
   "execution_count": 38,
   "metadata": {},
   "outputs": [
    {
     "name": "stdout",
     "output_type": "stream",
     "text": [
      "Unique values in column 'SITE_ID' and their frequencies:\n",
      "NYU: 184\n",
      "UM_1: 110\n",
      "USM: 101\n",
      "UCLA_1: 82\n",
      "MAX_MUN: 57\n",
      "PITT: 57\n",
      "YALE: 56\n",
      "KKI: 55\n",
      "TRINITY: 49\n",
      "STANFORD: 40\n",
      "CALTECH: 38\n",
      "SDSU: 36\n",
      "OLIN: 36\n",
      "LEUVEN_2: 35\n",
      "UM_2: 35\n",
      "SBL: 30\n",
      "LEUVEN_1: 29\n",
      "OHSU: 28\n",
      "CMU: 27\n",
      "UCLA_2: 27\n"
     ]
    }
   ],
   "source": [
    "column_name = 'SITE_ID'\n",
    "\n",
    "# Get unique values and their frequencies\n",
    "unique_values_counts = ASD_phenotypic[column_name].value_counts(dropna=False)\n",
    "\n",
    "# Display unique values and their frequencies\n",
    "print(\"Unique values in column '{}' and their frequencies:\".format(column_name))\n",
    "for value, count in unique_values_counts.items():\n",
    "    print(\"{}: {}\".format(value, count))"
   ]
  },
  {
   "cell_type": "markdown",
   "metadata": {},
   "source": [
    "### HANDEDNESS_CATEGORY"
   ]
  },
  {
   "cell_type": "markdown",
   "metadata": {},
   "source": [
    "HANDEDNESS_CATEGORY refers to the handedness of the subject. We don't really know if there is a correlation or not between the Autism Disease and the handnedness of the subject and as it is a caracteristic of the subject itselfs and not of the specific site of analysis as in the previous case, we decide to work with this feature."
   ]
  },
  {
   "cell_type": "code",
   "execution_count": 35,
   "metadata": {},
   "outputs": [
    {
     "name": "stdout",
     "output_type": "stream",
     "text": [
      "Unique values in column 'HANDEDNESS_CATEGORY' and their frequencies:\n",
      "R: 693\n",
      "nan: 326\n",
      "L: 71\n",
      "Ambi: 15\n",
      "Mixed: 6\n",
      "L->R: 1\n"
     ]
    }
   ],
   "source": [
    "column_name = 'HANDEDNESS_CATEGORY'\n",
    "\n",
    "# Get unique values and their frequencies\n",
    "unique_values_counts = ASD_phenotypic[column_name].value_counts(dropna=False)\n",
    "\n",
    "# Display unique values and their frequencies\n",
    "print(\"Unique values in column '{}' and their frequencies:\".format(column_name))\n",
    "for value, count in unique_values_counts.items():\n",
    "    print(\"{}: {}\".format(value, count))"
   ]
  },
  {
   "cell_type": "markdown",
   "metadata": {},
   "source": [
    "We can see that we have values for R, L and Ambi, Mixed, L->R. The dataset include as a feature also a handness score where right-handed subjects has positive score (max = 100), lef-handed subjects negative score (min = -100) and ambidextreus subjects has 0 score. \n",
    "\n",
    "To be coherent with that categorization and can properly evaluate if one of those features contain redudant information or that can be merged in some manner, we decide to assign to R values the number \"100\", to L values the number \"-100\" and to Ambi, Mixed, L->R the number \"0\"."
   ]
  },
  {
   "cell_type": "code",
   "execution_count": 37,
   "metadata": {},
   "outputs": [
    {
     "name": "stdout",
     "output_type": "stream",
     "text": [
      "Unique values in column 'HANDEDNESS_CATEGORY' and their frequencies:\n",
      "100.0: 693\n",
      "nan: 326\n",
      "-100.0: 71\n",
      "0.0: 22\n"
     ]
    }
   ],
   "source": [
    "mapping = {'R': 100, 'L': -100, 'Ambi': 0, 'Mixed': 0, 'L->R': 0}\n",
    "\n",
    "# Replace values in the specified column\n",
    "ASD_phenotypic[column_name] = ASD_phenotypic[column_name].replace(mapping)\n",
    "\n",
    "#Now we display the new result\n",
    "# Get unique values and their frequencies\n",
    "unique_values_counts = ASD_phenotypic[column_name].value_counts(dropna=False)\n",
    "\n",
    "# Display unique values and their frequencies\n",
    "print(\"Unique values in column '{}' and their frequencies:\".format(column_name))\n",
    "for value, count in unique_values_counts.items():\n",
    "    print(\"{}: {}\".format(value, count))"
   ]
  },
  {
   "cell_type": "markdown",
   "metadata": {},
   "source": [
    "### FIQ_TEST_TYPE, VIQ_TEST_TYPE and PIQ_TEST_TYPE"
   ]
  },
  {
   "cell_type": "markdown",
   "metadata": {},
   "source": [
    "FIQ_TEST_TYPE, VIQ_TEST_TYPE and PIQ_TEST_TYPE refers to the type of test that each center chose to get the information of FIQ_TEST, VIQ_TEST and PIQ_TEST respectively. As we want our clustering algorithm to be as most general as possible, we want to be able to categorize subjects in despise of the test used by the centers to get the data. So we decide to drop this feature as well.\n",
    "\n",
    "Note that if in a future we will be interested in to analyze if there are differences between the clustering score obtained using the result for each difference test we'll can retrieve the information opportunely."
   ]
  },
  {
   "cell_type": "code",
   "execution_count": 39,
   "metadata": {},
   "outputs": [
    {
     "name": "stdout",
     "output_type": "stream",
     "text": [
      "Unique values in column 'FIQ_TEST_TYPE' and their frequencies:\n",
      "WASI: 551\n",
      "nan: 169\n",
      "WISC_IV_FULL: 103\n",
      "WAIS_III: 63\n",
      "DAS_II_SA: 56\n",
      "WST: 41\n",
      "WISC_III_DUTCH: 35\n",
      "WISC_IV_4_SUBTESTS: 33\n",
      "WISC: 28\n",
      "WISC_III: 15\n",
      "HAWIK_IV: 14\n",
      "WAIS: 3\n",
      "GIT: 1\n"
     ]
    }
   ],
   "source": [
    "column_name = 'FIQ_TEST_TYPE'\n",
    "\n",
    "# Get unique values and their frequencies\n",
    "unique_values_counts = ASD_phenotypic[column_name].value_counts(dropna=False)\n",
    "\n",
    "# Display unique values and their frequencies\n",
    "print(\"Unique values in column '{}' and their frequencies:\".format(column_name))\n",
    "for value, count in unique_values_counts.items():\n",
    "    print(\"{}: {}\".format(value, count))"
   ]
  },
  {
   "cell_type": "code",
   "execution_count": 40,
   "metadata": {},
   "outputs": [
    {
     "name": "stdout",
     "output_type": "stream",
     "text": [
      "Unique values in column 'VIQ_TEST_TYPE' and their frequencies:\n",
      "WASI: 508\n",
      "nan: 278\n",
      "PPVT: 94\n",
      "DAS_II_SA: 69\n",
      "WISC_IV_FULL: 47\n",
      "WAIS_III: 43\n",
      "WISC: 28\n",
      "PPVT    : 24\n",
      "GIT: 8\n",
      "WASI    : 5\n",
      "WAIS: 3\n",
      "ppvt: 2\n",
      "WISC4   : 1\n",
      "Stanford: 1\n",
      "WISC_III: 1\n"
     ]
    }
   ],
   "source": [
    "column_name = 'VIQ_TEST_TYPE'\n",
    "\n",
    "# Get unique values and their frequencies\n",
    "unique_values_counts = ASD_phenotypic[column_name].value_counts(dropna=False)\n",
    "\n",
    "# Display unique values and their frequencies\n",
    "print(\"Unique values in column '{}' and their frequencies:\".format(column_name))\n",
    "for value, count in unique_values_counts.items():\n",
    "    print(\"{}: {}\".format(value, count))"
   ]
  },
  {
   "cell_type": "code",
   "execution_count": 41,
   "metadata": {},
   "outputs": [
    {
     "name": "stdout",
     "output_type": "stream",
     "text": [
      "Unique values in column 'PIQ_TEST_TYPE' and their frequencies:\n",
      "WASI: 508\n",
      "nan: 259\n",
      "Ravens: 103\n",
      "DAS_II_SA: 70\n",
      "WISC_IV_FULL: 47\n",
      "WAIS_III: 43\n",
      "WISC: 28\n",
      "RAVENS: 22\n",
      "Ravens  : 11\n",
      "GIT: 8\n",
      "WASI    : 5\n",
      "WAIS: 3\n",
      "ravens: 2\n",
      "WISC4   : 1\n",
      "Stanford: 1\n",
      "WISC_III: 1\n"
     ]
    }
   ],
   "source": [
    "column_name = 'PIQ_TEST_TYPE'\n",
    "\n",
    "# Get unique values and their frequencies\n",
    "unique_values_counts = ASD_phenotypic[column_name].value_counts(dropna=False)\n",
    "\n",
    "# Display unique values and their frequencies\n",
    "print(\"Unique values in column '{}' and their frequencies:\".format(column_name))\n",
    "for value, count in unique_values_counts.items():\n",
    "    print(\"{}: {}\".format(value, count))"
   ]
  },
  {
   "cell_type": "code",
   "execution_count": 26,
   "metadata": {},
   "outputs": [
    {
     "name": "stdout",
     "output_type": "stream",
     "text": [
      "SITE_ID\n",
      "NYU         184\n",
      "UM_1        110\n",
      "USM         101\n",
      "UCLA_1       82\n",
      "MAX_MUN      57\n",
      "           ... \n",
      "SBL          30\n",
      "LEUVEN_1     29\n",
      "OHSU         28\n",
      "CMU          27\n",
      "UCLA_2       27\n",
      "Name: count, Length: 20, dtype: int64\n",
      "HANDEDNESS_CATEGORY\n",
      "R        693\n",
      "NaN      326\n",
      "L         71\n",
      "Ambi      15\n",
      "Mixed      6\n",
      "L->R       1\n",
      "Name: count, dtype: int64\n",
      "FIQ_TEST_TYPE\n",
      "WASI            551\n",
      "NaN             169\n",
      "WISC_IV_FULL    103\n",
      "WAIS_III         63\n",
      "DAS_II_SA        56\n",
      "               ... \n",
      "WISC             28\n",
      "WISC_III         15\n",
      "HAWIK_IV         14\n",
      "WAIS              3\n",
      "GIT               1\n",
      "Name: count, Length: 13, dtype: int64\n",
      "VIQ_TEST_TYPE\n",
      "WASI            508\n",
      "NaN             278\n",
      "PPVT             94\n",
      "DAS_II_SA        69\n",
      "WISC_IV_FULL     47\n",
      "               ... \n",
      "WAIS              3\n",
      "ppvt              2\n",
      "WISC4             1\n",
      "Stanford          1\n",
      "WISC_III          1\n",
      "Name: count, Length: 15, dtype: int64\n",
      "PIQ_TEST_TYPE\n",
      "WASI            508\n",
      "NaN             259\n",
      "Ravens          103\n",
      "DAS_II_SA        70\n",
      "WISC_IV_FULL     47\n",
      "               ... \n",
      "WAIS              3\n",
      "ravens            2\n",
      "WISC4             1\n",
      "Stanford          1\n",
      "WISC_III          1\n",
      "Name: count, Length: 16, dtype: int64\n",
      "COMORBIDITY\n",
      "NaN                                                                                                           1049\n",
      "ADHD Inattentive                                                                                                 7\n",
      "None                                                                                                             5\n",
      "ADHD Combined                                                                                                    4\n",
      "Mood Disorder NOS                                                                                                4\n",
      "                                                                                                              ... \n",
      "simple phobia- bridges                                                                                           1\n",
      "ADHD Combined; ODD; Phobias (cats; bugs; riding in trains and trolleys; being in crowds; and seeing blood)       1\n",
      "ADHD Combined; GAD;phobia                                                                                        1\n",
      "MDE (past); Dysthymic disorder                                                                                   1\n",
      "ADHD Combined; Encopresis                                                                                        1\n",
      "Name: count, Length: 43, dtype: int64\n",
      "CURRENT_MED_STATUS\n",
      "0      673\n",
      "NaN    302\n",
      "1      136\n",
      "`        1\n",
      "Name: count, dtype: int64\n",
      "MEDICATION_NAME\n",
      "NaN                                                        955\n",
      "0                                                           24\n",
      "Fluoxetine                                                   6\n",
      "Methylphenidate Extended Release                             5\n",
      "Atomoxetine                                                  4\n",
      "                                                          ... \n",
      "Mirtazapine                                                  1\n",
      "Bupropion; Duloxetine; Methylphenidate Extended Release      1\n",
      "Concerta                                                     1\n",
      "Methylphenidate Extended Release; Metadate                   1\n",
      "Methylphenidate extended release; Risperidone                1\n",
      "Name: count, Length: 104, dtype: int64\n"
     ]
    }
   ],
   "source": [
    "for index, row in objects.T.iterrows():\n",
    "    values=row.value_counts(dropna=False)\n",
    "    print(values)"
   ]
  },
  {
   "cell_type": "markdown",
   "metadata": {},
   "source": [
    "### COMORBIDITY"
   ]
  },
  {
   "cell_type": "markdown",
   "metadata": {},
   "source": [
    "COMORBIDITY indicates if the subject present some othe pathology or disease or particular detail that is important to specify."
   ]
  },
  {
   "cell_type": "code",
   "execution_count": 50,
   "metadata": {},
   "outputs": [
    {
     "name": "stdout",
     "output_type": "stream",
     "text": [
      "<class 'pandas.core.series.Series'>\n",
      "Index: 43 entries, nan to ADHD Combined; Encopresis\n",
      "Series name: count\n",
      "Non-Null Count  Dtype\n",
      "--------------  -----\n",
      "43 non-null     int64\n",
      "dtypes: int64(1)\n",
      "memory usage: 688.0+ bytes\n",
      "Unique values in column 'COMORBIDITY' and their frequencies:\n",
      "nan: 1049\n",
      "ADHD Inattentive: 7\n",
      "None : 5\n",
      "ADHD Combined: 4\n",
      "Mood Disorder NOS: 4\n",
      "ADHD Inattentive : 3\n",
      "Generalized Anxiety Disorder: 2\n",
      "ODD: 2\n",
      "ADHD NOS: 2\n",
      "Generalized Anxiety Disorder; Specific phobia; Enuresis; Encopresis: 1\n",
      "Anxiety Disorder NOS: 1\n",
      "Mood Disorder NOS; Separation Anxiety Dx; Enuresis: 1\n",
      "Social Phobia; Specific Phobia: spiders : 1\n",
      "Anxiety Disorder NOS & Depressive Disorder NOS in full remisison (on Tretament): 1\n",
      "Enuresis; Tic Disorder NOS: 1\n",
      "ADHD Combined Type; ODD; and Specific Phobia (bugs/thunderstorms): 1\n",
      "Specific Phobia: Butterflies: 1\n",
      "Specific Phobia: going down the stairs: 1\n",
      "Dysthymia: 1\n",
      "Dysthymia : 1\n",
      "Dysthymia  : 1\n",
      "Specific Phobia: needles/shots : 1\n",
      "Dysthymia; Agoraphobia dx; : 1\n",
      "Social Phobia; : 1\n",
      "Mood NOS: 1\n",
      "Disruptive disorder NOS: 1\n",
      "ADHD: 1\n",
      "Diurnal & Nocturnal Enuresis; Encopresis; Transient Tic Disorder: 1\n",
      "ADHD Combined and ODD: 1\n",
      "Generalized Anxiety Disorder; Specific Phobia: bugs; dogs; elevators: 1\n",
      "ADHD Combined and Specific Phobia: 1\n",
      "ADHD Hyperactive/Impulsive: 1\n",
      "Anxiety Disorder NOS; Mood Disorder NOS: 1\n",
      "Anxiety Disorder NOS;: 1\n",
      "ADHD (inattentive; present); ODD; MDE (past); Phobia (simple and social): 1\n",
      "ADHD Combined; GAD: 1\n",
      "Specific phobia:  spiders; dark; thunderstorms: 1\n",
      "Phobia: 1\n",
      "simple phobia- bridges: 1\n",
      "ADHD Combined; ODD; Phobias (cats; bugs; riding in trains and trolleys; being in crowds; and seeing blood): 1\n",
      "ADHD Combined; GAD;phobia: 1\n",
      "MDE (past); Dysthymic disorder: 1\n",
      "ADHD Combined; Encopresis: 1\n"
     ]
    }
   ],
   "source": [
    "column_name = 'COMORBIDITY'\n",
    "\n",
    "# Get unique values and their frequencies\n",
    "unique_values_counts = ASD_phenotypic[column_name].value_counts(dropna=False)\n",
    "\n",
    "# Display unique values and their frequencies\n",
    "print(\"Unique values in column '{}' and their frequencies:\".format(column_name))\n",
    "for value, count in unique_values_counts.items():\n",
    "    print(\"{}: {}\".format(value, count))"
   ]
  },
  {
   "cell_type": "markdown",
   "metadata": {},
   "source": [
    "We can see that there is a large variability in the data that is not NaN about the types of commorbidities and the combination of them. Although is possible that is an high correlation between specific disorders and phobias and the ASD, the availability of this data is not sufficient to base our clustering algorithm on it. In fact we have that the 94% of the values for this feature are NaN, so we don't have enough information. For this reason we decide to drop this feature."
   ]
  },
  {
   "cell_type": "markdown",
   "metadata": {},
   "source": [
    "### CURRENT_MED_STATUS"
   ]
  },
  {
   "cell_type": "markdown",
   "metadata": {},
   "source": []
  },
  {
   "cell_type": "markdown",
   "metadata": {},
   "source": [
    "# NUMERICAL EXPLORATION"
   ]
  },
  {
   "cell_type": "markdown",
   "metadata": {},
   "source": [
    "The dataset has 1112 raws anf 74 colums"
   ]
  },
  {
   "cell_type": "code",
   "execution_count": 27,
   "metadata": {},
   "outputs": [
    {
     "data": {
      "text/plain": [
       "(1112, 74)"
      ]
     },
     "execution_count": 27,
     "metadata": {},
     "output_type": "execute_result"
    }
   ],
   "source": [
    "ASD_phenotypic.shape"
   ]
  },
  {
   "cell_type": "markdown",
   "metadata": {},
   "source": [
    "Now we check the presence of missing values catalogated as None or numpy.NaN"
   ]
  },
  {
   "cell_type": "code",
   "execution_count": 28,
   "metadata": {},
   "outputs": [
    {
     "name": "stdout",
     "output_type": "stream",
     "text": [
      "Number of attributes with NaN values: 68\n",
      "Attributes with NaN values and their counts:\n"
     ]
    },
    {
     "data": {
      "text/plain": [
       "DSM_IV_TR                            72\n",
       "HANDEDNESS_CATEGORY                 326\n",
       "HANDEDNESS_SCORES                   748\n",
       "FIQ                                  72\n",
       "VIQ                                 195\n",
       "PIQ                                 181\n",
       "FIQ_TEST_TYPE                       169\n",
       "VIQ_TEST_TYPE                       278\n",
       "PIQ_TEST_TYPE                       259\n",
       "ADI_R_SOCIAL_TOTAL_A                734\n",
       "ADI_R_VERBAL_TOTAL_BV               733\n",
       "ADI_RRB_TOTAL_C                     734\n",
       "ADI_R_ONSET_TOTAL_D                 815\n",
       "ADI_R_RSRCH_RELIABLE                721\n",
       "ADOS_MODULE                         605\n",
       "ADOS_TOTAL                          697\n",
       "ADOS_COMM                           722\n",
       "ADOS_SOCIAL                         721\n",
       "ADOS_STEREO_BEHAV                   781\n",
       "ADOS_RSRCH_RELIABLE                 736\n",
       "ADOS_GOTHAM_SOCAFFECT               847\n",
       "ADOS_GOTHAM_RRB                     842\n",
       "ADOS_GOTHAM_TOTAL                   839\n",
       "ADOS_GOTHAM_SEVERITY                839\n",
       "SRS_VERSION                         881\n",
       "SRS_RAW_TOTAL                       747\n",
       "SRS_AWARENESS                      1048\n",
       "SRS_COGNITION                      1048\n",
       "SRS_COMMUNICATION                  1048\n",
       "SRS_MOTIVATION                     1048\n",
       "SRS_MANNERISMS                     1048\n",
       "SCQ_TOTAL                           988\n",
       "AQ_TOTAL                           1056\n",
       "COMORBIDITY                        1049\n",
       "CURRENT_MED_STATUS                  302\n",
       "MEDICATION_NAME                     955\n",
       "OFF_STIMULANTS_AT_SCAN             1040\n",
       "VINELAND_RECEPTIVE_V_SCALED        1000\n",
       "VINELAND_EXPRESSIVE_V_SCALED       1000\n",
       "VINELAND_WRITTEN_V_SCALED          1000\n",
       "VINELAND_COMMUNICATION_STANDARD    1000\n",
       "VINELAND_PERSONAL_V_SCALED         1000\n",
       "VINELAND_DOMESTIC_V_SCALED         1000\n",
       "VINELAND_COMMUNITY_V_SCALED        1000\n",
       "VINELAND_DAILYLVNG_STANDARD        1000\n",
       "VINELAND_INTERPERSONAL_V_SCALED    1000\n",
       "VINELAND_PLAY_V_SCALED             1000\n",
       "VINELAND_COPING_V_SCALED           1000\n",
       "VINELAND_SOCIAL_STANDARD           1000\n",
       "VINELAND_SUM_SCORES                1000\n",
       "VINELAND_ABC_STANDARD              1000\n",
       "VINELAND_INFORMANT                 1000\n",
       "WISC_IV_VCI                        1057\n",
       "WISC_IV_PRI                        1057\n",
       "WISC_IV_WMI                        1057\n",
       "WISC_IV_PSI                        1057\n",
       "WISC_IV_SIM_SCALED                 1057\n",
       "WISC_IV_VOCAB_SCALED               1057\n",
       "WISC_IV_INFO_SCALED                1057\n",
       "WISC_IV_BLK_DSN_SCALED             1057\n",
       "WISC_IV_PIC_CON_SCALED             1057\n",
       "WISC_IV_MATRIX_SCALED              1057\n",
       "WISC_IV_DIGIT_SPAN_SCALED          1057\n",
       "WISC_IV_LET_NUM_SCALED             1057\n",
       "WISC_IV_CODING_SCALED              1057\n",
       "WISC_IV_SYM_SCALED                 1057\n",
       "AGE_AT_MPRAGE                      1012\n",
       "BMI                                1018\n",
       "dtype: int64"
      ]
     },
     "execution_count": 28,
     "metadata": {},
     "output_type": "execute_result"
    }
   ],
   "source": [
    "nan_values = ASD_phenotypic.isna().sum()\n",
    "\n",
    "# Filter columns with NaN values\n",
    "columns_with_nan = nan_values[nan_values > 0]\n",
    "\n",
    "\n",
    "# Print the number of attributes with NaN values\n",
    "print(\"Number of attributes with NaN values:\", len(columns_with_nan))\n",
    "\n",
    "# Print the columns with NaN values and their corresponding counts\n",
    "print(\"Attributes with NaN values and their counts:\")\n",
    "pd.set_option('display.max_rows', 74)\n",
    "columns_with_nan\n"
   ]
  },
  {
   "cell_type": "markdown",
   "metadata": {},
   "source": [
    "Is there some attribute with only missing values?"
   ]
  },
  {
   "cell_type": "code",
   "execution_count": 29,
   "metadata": {},
   "outputs": [
    {
     "name": "stdout",
     "output_type": "stream",
     "text": [
      "0\n"
     ]
    }
   ],
   "source": [
    "\n",
    "columns_only_nan = nan_values[nan_values == ASD_phenotypic.shape[0]]\n",
    "print(len(columns_only_nan))"
   ]
  },
  {
   "cell_type": "markdown",
   "metadata": {},
   "source": [
    "As there are too much, maybe is usefull to understand which columns haven't NaN values."
   ]
  },
  {
   "cell_type": "code",
   "execution_count": 30,
   "metadata": {},
   "outputs": [
    {
     "name": "stdout",
     "output_type": "stream",
     "text": [
      "Attributes without NaN values and their counts:\n"
     ]
    },
    {
     "data": {
      "text/plain": [
       "SITE_ID               0\n",
       "SUB_ID                0\n",
       "DX_GROUP              0\n",
       "AGE_AT_SCAN           0\n",
       "SEX                   0\n",
       "EYE_STATUS_AT_SCAN    0\n",
       "dtype: int64"
      ]
     },
     "execution_count": 30,
     "metadata": {},
     "output_type": "execute_result"
    }
   ],
   "source": [
    "# Filter columns without NaN values\n",
    "columns_without_nan = nan_values[nan_values == 0]\n",
    "\n",
    "# Print the columns with NaN values and their corresponding counts\n",
    "print(\"Attributes without NaN values and their counts:\")\n",
    "columns_without_nan"
   ]
  },
  {
   "cell_type": "markdown",
   "metadata": {},
   "source": [
    "There are maybe some subjects that has only missing values?"
   ]
  },
  {
   "cell_type": "code",
   "execution_count": 49,
   "metadata": {},
   "outputs": [
    {
     "name": "stdout",
     "output_type": "stream",
     "text": [
      "Max missing values encountered for a subject: 65\n",
      "Min missing values encountered for a subject: 23\n"
     ]
    },
    {
     "data": {
      "image/png": "[encoded data removed]",
      "text/plain": [
       "<Figure size 1000x600 with 1 Axes>"
      ]
     },
     "metadata": {},
     "output_type": "display_data"
    }
   ],
   "source": [
    "nan_values = ASD_phenotypic.T.isna().sum()\n",
    "\n",
    "# Filter columns with NaN values\n",
    "subjects_with_nan = nan_values[nan_values > 0]\n",
    "\n",
    "print(\"Max missing values encountered for a subject: \" +str(max(subjects_with_nan)))\n",
    "print(\"Min missing values encountered for a subject: \" +str(min(subjects_with_nan)))\n",
    "subjects_with_nan.plot(kind='hist', bins=22, figsize=(10,6), title='Missing values per subject')\n",
    "plt.show()\n"
   ]
  },
  {
   "cell_type": "markdown",
   "metadata": {},
   "source": [
    "Let's have a look on the general statistics for the numerical attributes."
   ]
  },
  {
   "cell_type": "code",
   "execution_count": 32,
   "metadata": {},
   "outputs": [
    {
     "data": {
      "text/html": [
       "<div>\n",
       "<style scoped>\n",
       "    .dataframe tbody tr th:only-of-type {\n",
       "        vertical-align: middle;\n",
       "    }\n",
       "\n",
       "    .dataframe tbody tr th {\n",
       "        vertical-align: top;\n",
       "    }\n",
       "\n",
       "    .dataframe thead th {\n",
       "        text-align: right;\n",
       "    }\n",
       "</style>\n",
       "<table border=\"1\" class=\"dataframe\">\n",
       "  <thead>\n",
       "    <tr style=\"text-align: right;\">\n",
       "      <th></th>\n",
       "      <th>SUB_ID</th>\n",
       "      <th>DX_GROUP</th>\n",
       "      <th>DSM_IV_TR</th>\n",
       "      <th>AGE_AT_SCAN</th>\n",
       "      <th>SEX</th>\n",
       "      <th>...</th>\n",
       "      <th>WISC_IV_CODING_SCALED</th>\n",
       "      <th>WISC_IV_SYM_SCALED</th>\n",
       "      <th>EYE_STATUS_AT_SCAN</th>\n",
       "      <th>AGE_AT_MPRAGE</th>\n",
       "      <th>BMI</th>\n",
       "    </tr>\n",
       "  </thead>\n",
       "  <tbody>\n",
       "    <tr>\n",
       "      <th>count</th>\n",
       "      <td>1112.000000</td>\n",
       "      <td>1112.000000</td>\n",
       "      <td>1040.000000</td>\n",
       "      <td>1112.000000</td>\n",
       "      <td>1112.000000</td>\n",
       "      <td>...</td>\n",
       "      <td>55.000000</td>\n",
       "      <td>55.000000</td>\n",
       "      <td>1112.000000</td>\n",
       "      <td>100.000000</td>\n",
       "      <td>94.000000</td>\n",
       "    </tr>\n",
       "    <tr>\n",
       "      <th>mean</th>\n",
       "      <td>50752.684353</td>\n",
       "      <td>1.515288</td>\n",
       "      <td>0.639423</td>\n",
       "      <td>17.048864</td>\n",
       "      <td>1.147482</td>\n",
       "      <td>...</td>\n",
       "      <td>8.763636</td>\n",
       "      <td>9.890909</td>\n",
       "      <td>1.312050</td>\n",
       "      <td>12.951700</td>\n",
       "      <td>20.519255</td>\n",
       "    </tr>\n",
       "    <tr>\n",
       "      <th>std</th>\n",
       "      <td>447.680666</td>\n",
       "      <td>0.499991</td>\n",
       "      <td>0.828849</td>\n",
       "      <td>8.036419</td>\n",
       "      <td>0.354745</td>\n",
       "      <td>...</td>\n",
       "      <td>2.821634</td>\n",
       "      <td>2.753266</td>\n",
       "      <td>0.463539</td>\n",
       "      <td>2.193555</td>\n",
       "      <td>5.244446</td>\n",
       "    </tr>\n",
       "    <tr>\n",
       "      <th>min</th>\n",
       "      <td>50002.000000</td>\n",
       "      <td>1.000000</td>\n",
       "      <td>0.000000</td>\n",
       "      <td>6.470000</td>\n",
       "      <td>1.000000</td>\n",
       "      <td>...</td>\n",
       "      <td>4.000000</td>\n",
       "      <td>1.000000</td>\n",
       "      <td>1.000000</td>\n",
       "      <td>8.290000</td>\n",
       "      <td>6.530000</td>\n",
       "    </tr>\n",
       "    <tr>\n",
       "      <th>25%</th>\n",
       "      <td>50354.750000</td>\n",
       "      <td>1.000000</td>\n",
       "      <td>0.000000</td>\n",
       "      <td>11.658575</td>\n",
       "      <td>1.000000</td>\n",
       "      <td>...</td>\n",
       "      <td>7.000000</td>\n",
       "      <td>8.000000</td>\n",
       "      <td>1.000000</td>\n",
       "      <td>11.265000</td>\n",
       "      <td>17.422500</td>\n",
       "    </tr>\n",
       "    <tr>\n",
       "      <th>50%</th>\n",
       "      <td>50724.500000</td>\n",
       "      <td>2.000000</td>\n",
       "      <td>0.000000</td>\n",
       "      <td>14.660000</td>\n",
       "      <td>1.000000</td>\n",
       "      <td>...</td>\n",
       "      <td>9.000000</td>\n",
       "      <td>10.000000</td>\n",
       "      <td>1.000000</td>\n",
       "      <td>12.945000</td>\n",
       "      <td>19.945000</td>\n",
       "    </tr>\n",
       "    <tr>\n",
       "      <th>75%</th>\n",
       "      <td>51153.250000</td>\n",
       "      <td>2.000000</td>\n",
       "      <td>1.000000</td>\n",
       "      <td>20.085000</td>\n",
       "      <td>1.000000</td>\n",
       "      <td>...</td>\n",
       "      <td>10.500000</td>\n",
       "      <td>12.000000</td>\n",
       "      <td>2.000000</td>\n",
       "      <td>14.462500</td>\n",
       "      <td>22.645000</td>\n",
       "    </tr>\n",
       "    <tr>\n",
       "      <th>max</th>\n",
       "      <td>51607.000000</td>\n",
       "      <td>2.000000</td>\n",
       "      <td>4.000000</td>\n",
       "      <td>64.000000</td>\n",
       "      <td>2.000000</td>\n",
       "      <td>...</td>\n",
       "      <td>15.000000</td>\n",
       "      <td>16.000000</td>\n",
       "      <td>2.000000</td>\n",
       "      <td>17.940000</td>\n",
       "      <td>35.430000</td>\n",
       "    </tr>\n",
       "  </tbody>\n",
       "</table>\n",
       "<p>8 rows × 66 columns</p>\n",
       "</div>"
      ],
      "text/plain": [
       "             SUB_ID     DX_GROUP    DSM_IV_TR  AGE_AT_SCAN          SEX  ...  \\\n",
       "count   1112.000000  1112.000000  1040.000000  1112.000000  1112.000000  ...   \n",
       "mean   50752.684353     1.515288     0.639423    17.048864     1.147482  ...   \n",
       "std      447.680666     0.499991     0.828849     8.036419     0.354745  ...   \n",
       "min    50002.000000     1.000000     0.000000     6.470000     1.000000  ...   \n",
       "25%    50354.750000     1.000000     0.000000    11.658575     1.000000  ...   \n",
       "50%    50724.500000     2.000000     0.000000    14.660000     1.000000  ...   \n",
       "75%    51153.250000     2.000000     1.000000    20.085000     1.000000  ...   \n",
       "max    51607.000000     2.000000     4.000000    64.000000     2.000000  ...   \n",
       "\n",
       "       WISC_IV_CODING_SCALED  WISC_IV_SYM_SCALED  EYE_STATUS_AT_SCAN  \\\n",
       "count              55.000000           55.000000         1112.000000   \n",
       "mean                8.763636            9.890909            1.312050   \n",
       "std                 2.821634            2.753266            0.463539   \n",
       "min                 4.000000            1.000000            1.000000   \n",
       "25%                 7.000000            8.000000            1.000000   \n",
       "50%                 9.000000           10.000000            1.000000   \n",
       "75%                10.500000           12.000000            2.000000   \n",
       "max                15.000000           16.000000            2.000000   \n",
       "\n",
       "       AGE_AT_MPRAGE        BMI  \n",
       "count     100.000000  94.000000  \n",
       "mean       12.951700  20.519255  \n",
       "std         2.193555   5.244446  \n",
       "min         8.290000   6.530000  \n",
       "25%        11.265000  17.422500  \n",
       "50%        12.945000  19.945000  \n",
       "75%        14.462500  22.645000  \n",
       "max        17.940000  35.430000  \n",
       "\n",
       "[8 rows x 66 columns]"
      ]
     },
     "execution_count": 32,
     "metadata": {},
     "output_type": "execute_result"
    }
   ],
   "source": [
    "ASD_phenotypic.describe()"
   ]
  },
  {
   "cell_type": "markdown",
   "metadata": {},
   "source": [
    "We need to handle missing values. But how?\n",
    "Is really necessary to fullfill all of them? Can we maybe make some feature selection previously?\n"
   ]
  },
  {
   "cell_type": "code",
   "execution_count": 48,
   "metadata": {},
   "outputs": [
    {
     "data": {
      "image/png": "[encoded data removed]",
      "text/plain": [
       "<Figure size 1000x800 with 2 Axes>"
      ]
     },
     "metadata": {},
     "output_type": "display_data"
    }
   ],
   "source": [
    "#vogliamo individuare e capire cosa sono questi object\n",
    "numeric = ASD_phenotypic.select_dtypes(include=['float64',\"int64\"]).dropna()\n",
    "numeric.T\n",
    "f,ax = plt.subplots(figsize=(10, 8))\n",
    "sns.heatmap(numeric.drop('DX_GROUP',axis = 1).corr(), \n",
    "            annot=True, \n",
    "            linewidths=.5, \n",
    "            fmt= '.2f',\n",
    "            ax=ax,\n",
    "            vmin=-1, \n",
    "            vmax=1,\n",
    "            cmap = \"coolwarm\")\n",
    "plt.show()"
   ]
  },
  {
   "cell_type": "markdown",
   "metadata": {},
   "source": [
    "Drop attribute if:\n",
    "- Only unique values\n",
    "- Only missing values"
   ]
  }
 ],
 "metadata": {
  "kernelspec": {
   "display_name": "Python 3",
   "language": "python",
   "name": "python3"
  },
  "language_info": {
   "codemirror_mode": {
    "name": "ipython",
    "version": 3
   },
   "file_extension": ".py",
   "mimetype": "text/x-python",
   "name": "python",
   "nbconvert_exporter": "python",
   "pygments_lexer": "ipython3",
   "version": "3.10.11"
  }
 },
 "nbformat": 4,
 "nbformat_minor": 2
}
