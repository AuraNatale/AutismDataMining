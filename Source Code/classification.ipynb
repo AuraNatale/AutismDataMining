{
 "cells": [
  {
   "cell_type": "code",
   "execution_count": 378,
   "metadata": {},
   "outputs": [],
   "source": [
    "# general imports\n",
    "import os\n",
    "import numpy as np\n",
    "import pandas as pd\n",
    "from matplotlib import pyplot as plt \n",
    "from matplotlib.colors import ListedColormap\n",
    "import seaborn as sns\n",
    "\n",
    "# from our documents\n",
    "import OurFunctions as of\n",
    "\n",
    "# from Scikit Learn library\n",
    "from sklearn.model_selection import train_test_split, KFold, cross_val_score, GridSearchCV\n",
    "from sklearn.ensemble import RandomForestClassifier\n",
    "from sklearn.metrics import roc_curve, roc_auc_score, accuracy_score, make_scorer, precision_score, recall_score, f1_score, confusion_matrix\n",
    "from sklearn.preprocessing import StandardScaler, OneHotEncoder, RobustScaler\n",
    "from sklearn.compose import ColumnTransformer\n",
    "from sklearn.pipeline import Pipeline\n",
    "from sklearn.neighbors import KNeighborsClassifier\n",
    "from sklearn.linear_model import LogisticRegression\n",
    "from sklearn import svm\n",
    "from sklearn.feature_selection import SelectKBest, f_classif\n",
    "from sklearn.decomposition import PCA\n",
    "from sklearn.feature_selection import SequentialFeatureSelector as SFS\n",
    "from sklearn.neighbors import LocalOutlierFactor\n",
    "from sklearn.tree import plot_tree\n",
    "\n",
    "# from Imb Learn\n",
    "from imblearn.over_sampling import SMOTENC, SMOTE\n",
    "\n"
   ]
  },
  {
   "cell_type": "code",
   "execution_count": 379,
   "metadata": {},
   "outputs": [],
   "source": [
    "ASD_phenotypic_original = pd.read_csv(os.path.join('DataSets','Phenotypic Datasets','ASD_phenotypic.csv'))\n",
    "ASD_phenotypic = pd.read_csv(os.path.join('DataSets','Phenotypic Datasets','ASD_phenotypic_preprocessed.csv'))\n",
    "ASD_diagnosis = pd.read_csv(os.path.join('DataSets','Phenotypic Datasets','ASD_clinical.csv'))"
   ]
  },
  {
   "cell_type": "markdown",
   "metadata": {},
   "source": [
    "# CLASSIFICATION"
   ]
  },
  {
   "cell_type": "markdown",
   "metadata": {},
   "source": [
    "First of all, we split the data into train set and test set, to be sure that our classifier is evaluated on data that it had never seen before."
   ]
  },
  {
   "cell_type": "code",
   "execution_count": 380,
   "metadata": {},
   "outputs": [
    {
     "name": "stdout",
     "output_type": "stream",
     "text": [
      "Training set size: (467, 10)\n",
      "Test set size: (201, 10)\n"
     ]
    }
   ],
   "source": [
    "#ASD_phenotypic = ASD_phenotypic.drop(columns=[\"SITE_ID\", \"VIQ_TEST_TYPE\", \"FIQ_TEST_TYPE\", \"PIQ_TEST_TYPE\"])\n",
    "ASD_phenotypic = ASD_phenotypic.drop(columns=[\"SITE_ID\"])\n",
    "# Split the data into training and test sets\n",
    "X_train, X_test, y_train, y_test = train_test_split(ASD_phenotypic, ASD_diagnosis['DX_GROUP'], test_size=0.3, random_state=42)\n",
    "print(\"Training set size:\", X_train.shape)\n",
    "print(\"Test set size:\", X_test.shape)"
   ]
  },
  {
   "cell_type": "code",
   "execution_count": 381,
   "metadata": {},
   "outputs": [
    {
     "name": "stdout",
     "output_type": "stream",
     "text": [
      "<class 'pandas.core.frame.DataFrame'>\n",
      "Index: 467 entries, 23 to 102\n",
      "Data columns (total 10 columns):\n",
      " #   Column                 Non-Null Count  Dtype  \n",
      "---  ------                 --------------  -----  \n",
      " 0   AGE_AT_SCAN            467 non-null    float64\n",
      " 1   SEX                    467 non-null    int64  \n",
      " 2   FIQ                    467 non-null    float64\n",
      " 3   VIQ                    467 non-null    float64\n",
      " 4   PIQ                    467 non-null    float64\n",
      " 5   FIQ_TEST_TYPE          467 non-null    object \n",
      " 6   VIQ_TEST_TYPE          467 non-null    object \n",
      " 7   PIQ_TEST_TYPE          467 non-null    object \n",
      " 8   ADI_R_VERBAL_TOTAL_BV  467 non-null    float64\n",
      " 9   ADOS_TOTAL             467 non-null    float64\n",
      "dtypes: float64(6), int64(1), object(3)\n",
      "memory usage: 40.1+ KB\n"
     ]
    }
   ],
   "source": [
    "X_train.info()"
   ]
  },
  {
   "cell_type": "code",
   "execution_count": 382,
   "metadata": {},
   "outputs": [
    {
     "name": "stdout",
     "output_type": "stream",
     "text": [
      "<class 'pandas.core.frame.DataFrame'>\n",
      "Index: 201 entries, 361 to 79\n",
      "Data columns (total 10 columns):\n",
      " #   Column                 Non-Null Count  Dtype  \n",
      "---  ------                 --------------  -----  \n",
      " 0   AGE_AT_SCAN            201 non-null    float64\n",
      " 1   SEX                    201 non-null    int64  \n",
      " 2   FIQ                    201 non-null    float64\n",
      " 3   VIQ                    201 non-null    float64\n",
      " 4   PIQ                    201 non-null    float64\n",
      " 5   FIQ_TEST_TYPE          201 non-null    object \n",
      " 6   VIQ_TEST_TYPE          201 non-null    object \n",
      " 7   PIQ_TEST_TYPE          201 non-null    object \n",
      " 8   ADI_R_VERBAL_TOTAL_BV  201 non-null    float64\n",
      " 9   ADOS_TOTAL             201 non-null    float64\n",
      "dtypes: float64(6), int64(1), object(3)\n",
      "memory usage: 17.3+ KB\n"
     ]
    }
   ],
   "source": [
    "X_test.info()"
   ]
  },
  {
   "cell_type": "code",
   "execution_count": 383,
   "metadata": {},
   "outputs": [
    {
     "name": "stdout",
     "output_type": "stream",
     "text": [
      "<class 'pandas.core.series.Series'>\n",
      "Index: 201 entries, 361 to 79\n",
      "Series name: DX_GROUP\n",
      "Non-Null Count  Dtype\n",
      "--------------  -----\n",
      "201 non-null    int64\n",
      "dtypes: int64(1)\n",
      "memory usage: 3.1 KB\n"
     ]
    }
   ],
   "source": [
    "y_test.info()"
   ]
  },
  {
   "cell_type": "code",
   "execution_count": 384,
   "metadata": {},
   "outputs": [
    {
     "name": "stdout",
     "output_type": "stream",
     "text": [
      "<class 'pandas.core.series.Series'>\n",
      "Index: 467 entries, 23 to 102\n",
      "Series name: DX_GROUP\n",
      "Non-Null Count  Dtype\n",
      "--------------  -----\n",
      "467 non-null    int64\n",
      "dtypes: int64(1)\n",
      "memory usage: 7.3 KB\n"
     ]
    }
   ],
   "source": [
    "y_train.info()"
   ]
  },
  {
   "cell_type": "markdown",
   "metadata": {},
   "source": [
    "I want to check the balance between classes for each set, to  be sure we are training the classifier using a good split."
   ]
  },
  {
   "cell_type": "code",
   "execution_count": 385,
   "metadata": {},
   "outputs": [
    {
     "name": "stdout",
     "output_type": "stream",
     "text": [
      "Class proportions for:\n",
      "- test set: DX_GROUP\n",
      "1    0.60199\n",
      "2    0.39801\n",
      "Name: proportion, dtype: float64\n",
      "- train set: DX_GROUP\n",
      "1    0.603854\n",
      "2    0.396146\n",
      "Name: proportion, dtype: float64\n",
      "Num subjects involved per DX_GROUP\n",
      "1    282\n",
      "2    185\n",
      "Name: count, dtype: int64\n"
     ]
    }
   ],
   "source": [
    "class_counts_test = y_test.value_counts(normalize=True)\n",
    "class_counts_train = y_train.value_counts(normalize=True)\n",
    "class_count_train_num = y_train.value_counts()\n",
    "\n",
    "# Stampa il conteggio delle classi per DX_GROUP\n",
    "print(\"Class proportions for:\")\n",
    "print(\"- test set: \" + str(class_counts_test))\n",
    "print(\"- train set: \" + str(class_counts_train))\n",
    "print(\"Num subjects involved per \"+ str(class_count_train_num))"
   ]
  },
  {
   "cell_type": "markdown",
   "metadata": {},
   "source": [
    "# General pipeline"
   ]
  },
  {
   "cell_type": "markdown",
   "metadata": {},
   "source": [
    "To achieve a more reliable accuracy score we use k-fold cross validation. In this way we are performing the training on different train and validation fold and we avoid to have a better accuracy based only on the subjects we selected."
   ]
  },
  {
   "cell_type": "code",
   "execution_count": 386,
   "metadata": {},
   "outputs": [],
   "source": [
    "def general_pipeline(dataset, target, classifier, encoder = True, scaler = True, parameters_grid_search = None, cv = None, feature_selector=False):\n",
    "\n",
    "    # Definizione delle metriche da utilizzare come scoring\n",
    "    scoring = {\n",
    "        'accuracy': make_scorer(accuracy_score),\n",
    "        'precision': make_scorer(precision_score),\n",
    "        'recall': make_scorer(recall_score),\n",
    "        'f1_score': make_scorer(f1_score)\n",
    "    }\n",
    "\n",
    "    # Preprocess to make on the train data may include\n",
    "    # - normalization of the numerical columns\n",
    "    # - one hot encoding on the categorical columns\n",
    "    \n",
    "    categorical_columns = dataset.select_dtypes(include=['object']).columns\n",
    "\n",
    "    if not encoder:\n",
    "        transformers = [('num', RobustScaler(), ~dataset.columns.isin(categorical_columns))]\n",
    "    elif not scaler:\n",
    "        transformers = [('cat', OneHotEncoder(handle_unknown='ignore'), categorical_columns)]\n",
    "    elif not encoder and not scaler:\n",
    "        transformers = []\n",
    "    else:\n",
    "        transformers=[\n",
    "            ('num', RobustScaler(), ~dataset.columns.isin(categorical_columns)),\n",
    "            ('cat', OneHotEncoder(handle_unknown='ignore'), categorical_columns),\n",
    "        ]\n",
    "\n",
    "    preprocessor = ColumnTransformer(transformers=transformers)\n",
    "\n",
    "    if isinstance(classifier, KNeighborsClassifier):\n",
    "        parameter_type = 'classifier__n_neighbors'\n",
    "        if parameters_grid_search:\n",
    "            parameters = {parameter_type: parameters_grid_search}  # Valori di n_neighbors da esplorare\n",
    "        else:\n",
    "            parameters = {parameter_type: [3, 5, 7, 9, 11]}  # Valori di n_neighbors da esplorare\n",
    "\n",
    "    if isinstance(classifier, RandomForestClassifier):\n",
    "        parameter_type = 'classifier__n_estimators'\n",
    "        if parameters_grid_search:\n",
    "            parameters = {parameter_type: parameters_grid_search}  # Valori di n_neighbors da esplorare\n",
    "        else:\n",
    "            parameters = {parameter_type: [10, 50, 200, 500, 1000]}  # Valori di n_neighbors da esplorare\n",
    "\n",
    "    if isinstance(classifier, svm.SVC):\n",
    "        parameter_type = 'classifier__C'\n",
    "        if parameters_grid_search:\n",
    "            parameters = {parameter_type: parameters_grid_search}  # Valori di n_neighbors da esplorare\n",
    "        else:\n",
    "            parameters = {parameter_type: [1]}  # Valori di n_neighbors da esplorare\n",
    "    \n",
    "\n",
    "    if feature_selector:\n",
    "       \n",
    "        pipeline = Pipeline([\n",
    "        ('preprocessor', preprocessor),\n",
    "        ('sfs', SFS(classifier)),\n",
    "        ('classifier', classifier)  \n",
    "        ])\n",
    "\n",
    "        #parameters.update({'sfs__n_features_to_select': list(range(3,len(dataset)))})\n",
    "        parameters.update({'sfs__n_features_to_select': list(range(1,len(dataset.columns)))})\n",
    "        parameters.update({'sfs__direction': ['forward']})\n",
    "        \n",
    "    else:\n",
    "    # We define the pipeline\n",
    "        pipeline = Pipeline([\n",
    "            ('preprocessor', preprocessor),\n",
    "            ('classifier', classifier),\n",
    "            ])\n",
    "\n",
    "    if cv:\n",
    "        k_folds = cv\n",
    "    else:\n",
    "        k_folds = 5\n",
    "\n",
    "    # Creazione dell'oggetto GridSearchCV\n",
    "    grid_search = GridSearchCV(pipeline, parameters, cv= k_folds, scoring=scoring, refit='accuracy')\n",
    "\n",
    "    # Esecuzione della ricerca a griglia\n",
    "    grid_search.fit(dataset, target)\n",
    "\n",
    "    # Visualizzazione dei risultati\n",
    "    print(\"Risultati della cross-validation per tutte le combinazioni di iperparametri:\")\n",
    "\n",
    "    means_accuracy = grid_search.cv_results_['mean_test_accuracy']\n",
    "    stds_accuracy = grid_search.cv_results_['std_test_accuracy']\n",
    "    means_precision = grid_search.cv_results_['mean_test_precision']\n",
    "    means_recall = grid_search.cv_results_['mean_test_recall']\n",
    "    means_f1_score = grid_search.cv_results_['mean_test_f1_score']\n",
    "    params = grid_search.cv_results_['params']\n",
    "\n",
    "    for mean_acc, std_acc, mean_prec, mean_rec, mean_f1, params in zip(means_accuracy, stds_accuracy, means_precision, means_recall, means_f1_score, params):\n",
    "        print(f\"Parametri: {params}, Accuratezza media: {mean_acc:.3f} (±{std_acc:.3f}), Precision media: {mean_prec:.3f}, Richiamo medio: {mean_rec:.3f}, F1-score medio: {mean_f1:.3f}\")\n",
    "\n",
    "    best_model = grid_search.best_estimator_\n",
    "    best_parameter = grid_search.best_params_[parameter_type]\n",
    "    best_accuracy = grid_search.best_score_\n",
    "    print(\"\\nMiglior parametro trovato:\")\n",
    "    print(best_parameter)\n",
    "    print(\"Accuratezza media con il miglior parametro:\", best_accuracy)\n",
    "\n",
    "    if feature_selector:\n",
    "        # Get the support mask and selected feature names from the preprocessed data\n",
    "        selected_mask = best_model.named_steps['sfs'].get_support()\n",
    "        feature_names = best_model.named_steps['preprocessor'].get_feature_names_out()\n",
    "        selected_features = feature_names[selected_mask]\n",
    "        \n",
    "        print(\"\\nSelected features are:\")\n",
    "        print(f\"Number of selected features: {len(selected_features)}\")\n",
    "        print(\"Selected features:\", selected_features)\n",
    "        return best_model, best_parameter, best_accuracy, selected_features\n",
    "        \n",
    "    return best_model, best_parameter, best_accuracy, None\n",
    "    "
   ]
  },
  {
   "cell_type": "code",
   "execution_count": 387,
   "metadata": {},
   "outputs": [
    {
     "name": "stdout",
     "output_type": "stream",
     "text": [
      "DX_GROUP\n",
      "1    0.5\n",
      "2    0.5\n",
      "Name: proportion, dtype: float64\n",
      "Num subjects involved per\n",
      "DX_GROUP\n",
      "1    282\n",
      "2    282\n",
      "Name: count, dtype: int64\n",
      "DX_GROUP\n",
      "1    0.5\n",
      "2    0.5\n",
      "Name: proportion, dtype: float64\n",
      "Num subjects involved per\n",
      "DX_GROUP\n",
      "1    282\n",
      "2    282\n",
      "Name: count, dtype: int64\n"
     ]
    }
   ],
   "source": [
    "categorical_columns = X_train.select_dtypes(include=['object']).columns\n",
    "categorical_features = categorical_columns.tolist()\n",
    "\n",
    "# Inizializza l'oggetto SMOTE-NC specificando gli indici delle colonne categoriche\n",
    "sampler = SMOTENC(categorical_features=categorical_features, random_state=42)\n",
    "\n",
    "# Applica SMOTE-NC per generare nuovi esempi sintetici\n",
    "X_SMOTE, Y_SMOTE = sampler.fit_resample(X_train, y_train)\n",
    "\n",
    "# Stampa la distribuzione delle classi dopo l'applicazione di SMOTE-NC\n",
    "print(pd.Series(Y_SMOTE).value_counts(normalize=True))\n",
    "print(\"Num subjects involved per\")\n",
    "print(pd.Series(Y_SMOTE).value_counts())\n",
    "\n",
    "#sampler = SMOTE(random_state=42) --> in case we want to use only numeric\n",
    "\n",
    "# Applica SMOTE-NC per generare nuovi esempi sintetici\n",
    "X_SMOTE, Y_SMOTE = sampler.fit_resample(X_train, y_train)\n",
    "\n",
    "# Stampa la distribuzione delle classi dopo l'applicazione di SMOTE-NC\n",
    "print(pd.Series(Y_SMOTE).value_counts(normalize=True))\n",
    "print(\"Num subjects involved per\")\n",
    "print(pd.Series(Y_SMOTE).value_counts())"
   ]
  },
  {
   "cell_type": "markdown",
   "metadata": {},
   "source": [
    "# K-NEAREST NEIGHBOOR"
   ]
  },
  {
   "cell_type": "code",
   "execution_count": 388,
   "metadata": {},
   "outputs": [
    {
     "name": "stdout",
     "output_type": "stream",
     "text": [
      "Risultati della cross-validation per tutte le combinazioni di iperparametri:\n",
      "Parametri: {'classifier__n_neighbors': 3}, Accuratezza media: 0.867 (±0.020), Precision media: 0.955, Richiamo medio: 0.773, F1-score medio: 0.852\n",
      "Parametri: {'classifier__n_neighbors': 5}, Accuratezza media: 0.869 (±0.014), Precision media: 0.971, Richiamo medio: 0.763, F1-score medio: 0.853\n",
      "Parametri: {'classifier__n_neighbors': 7}, Accuratezza media: 0.858 (±0.025), Precision media: 0.964, Richiamo medio: 0.745, F1-score medio: 0.839\n",
      "Parametri: {'classifier__n_neighbors': 9}, Accuratezza media: 0.842 (±0.025), Precision media: 0.950, Richiamo medio: 0.724, F1-score medio: 0.820\n",
      "Parametri: {'classifier__n_neighbors': 11}, Accuratezza media: 0.848 (±0.024), Precision media: 0.972, Richiamo medio: 0.717, F1-score medio: 0.824\n",
      "\n",
      "Miglior parametro trovato:\n",
      "5\n",
      "Accuratezza media con il miglior parametro: 0.8688211125158029\n"
     ]
    }
   ],
   "source": [
    "classifier = KNeighborsClassifier()\n",
    "knn_model, knn_parameter, knn_accuracy, _= general_pipeline(X_SMOTE, Y_SMOTE, classifier)\n"
   ]
  },
  {
   "cell_type": "code",
   "execution_count": 389,
   "metadata": {},
   "outputs": [
    {
     "name": "stdout",
     "output_type": "stream",
     "text": [
      "\n",
      "Valutazione del modello sui dati di test:\n",
      "Accuratezza: 0.876\n",
      "Precisione: 0.936\n",
      "Richiamo: 0.851\n",
      "F1-score: 0.892\n"
     ]
    }
   ],
   "source": [
    "# Valutazione del modello sui dati di test\n",
    "y_pred = knn_model.predict(X_test)\n",
    "\n",
    "# Calcolo delle metriche sui dati di test\n",
    "accuracy = accuracy_score(y_test, y_pred)\n",
    "precision = precision_score(y_test, y_pred)\n",
    "recall = recall_score(y_test, y_pred)\n",
    "f1 = f1_score(y_test, y_pred)\n",
    "\n",
    "print(\"\\nValutazione del modello sui dati di test:\")\n",
    "print(f\"Accuratezza: {accuracy:.3f}\")\n",
    "print(f\"Precisione: {precision:.3f}\")\n",
    "print(f\"Richiamo: {recall:.3f}\")\n",
    "print(f\"F1-score: {f1:.3f}\")\n"
   ]
  },
  {
   "cell_type": "code",
   "execution_count": 390,
   "metadata": {},
   "outputs": [
    {
     "data": {
      "image/png": "[encoded data removed]",
      "text/plain": [
       "<Figure size 800x600 with 2 Axes>"
      ]
     },
     "metadata": {},
     "output_type": "display_data"
    }
   ],
   "source": [
    "# Calcola la matrice di confusione\n",
    "conf_matrix = confusion_matrix(y_test, y_pred)\n",
    "\n",
    "# Visualizzazione della matrice di confusione\n",
    "plt.figure(figsize=(8, 6))\n",
    "sns.heatmap(conf_matrix, annot=True, cmap=\"Blues\", fmt=\"d\", xticklabels=['Control', 'ASD'], yticklabels=['Control', 'ASD'])\n",
    "plt.xlabel('Predicted Label')\n",
    "plt.ylabel('True Label')\n",
    "plt.title('Confusion Matrix')\n",
    "plt.show()\n"
   ]
  },
  {
   "cell_type": "markdown",
   "metadata": {},
   "source": [
    "## Random Forest"
   ]
  },
  {
   "cell_type": "markdown",
   "metadata": {},
   "source": [
    "To use the Random Forest classifier, I need to have only numerical features, so we will use one-hot-encoding to turn the categorical features (which aren't ordinal) into numerical features. It's not necessary to perform any normalization, but as we want to compare the performance of this classifier with others that use normalization, we will also use normalized data to train this classifier (it's not harmfull for the Random Forest Classifier)."
   ]
  },
  {
   "cell_type": "code",
   "execution_count": 391,
   "metadata": {},
   "outputs": [
    {
     "name": "stdout",
     "output_type": "stream",
     "text": [
      "Risultati della cross-validation per tutte le combinazioni di iperparametri:\n",
      "Parametri: {'classifier__n_estimators': 10}, Accuratezza media: 0.917 (±0.016), Precision media: 0.933, Richiamo medio: 0.901, F1-score medio: 0.915\n",
      "Parametri: {'classifier__n_estimators': 50}, Accuratezza media: 0.924 (±0.021), Precision media: 0.956, Richiamo medio: 0.890, F1-score medio: 0.921\n",
      "Parametri: {'classifier__n_estimators': 200}, Accuratezza media: 0.918 (±0.025), Precision media: 0.956, Richiamo medio: 0.879, F1-score medio: 0.914\n",
      "Parametri: {'classifier__n_estimators': 500}, Accuratezza media: 0.920 (±0.020), Precision media: 0.956, Richiamo medio: 0.883, F1-score medio: 0.917\n",
      "Parametri: {'classifier__n_estimators': 1000}, Accuratezza media: 0.922 (±0.027), Precision media: 0.963, Richiamo medio: 0.879, F1-score medio: 0.918\n",
      "\n",
      "Miglior parametro trovato:\n",
      "50\n",
      "Accuratezza media con il miglior parametro: 0.9237831858407081\n"
     ]
    }
   ],
   "source": [
    "classifier = RandomForestClassifier(random_state=1234)\n",
    "rf_model, rf_parameter, rf_accuracy, _ = general_pipeline(X_SMOTE, Y_SMOTE, classifier)"
   ]
  },
  {
   "cell_type": "code",
   "execution_count": 392,
   "metadata": {},
   "outputs": [
    {
     "name": "stdout",
     "output_type": "stream",
     "text": [
      "\n",
      "Valutazione del modello sui dati di test:\n",
      "Accuratezza: 0.945\n",
      "Precisione: 0.937\n",
      "Richiamo: 0.975\n",
      "F1-score: 0.955\n"
     ]
    }
   ],
   "source": [
    "# Valutazione del modello sui dati di test\n",
    "y_pred = rf_model.predict(X_test)\n",
    "\n",
    "# Calcolo delle metriche sui dati di test\n",
    "accuracy = accuracy_score(y_test, y_pred)\n",
    "precision = precision_score(y_test, y_pred)\n",
    "recall = recall_score(y_test, y_pred)\n",
    "f1 = f1_score(y_test, y_pred)\n",
    "\n",
    "print(\"\\nValutazione del modello sui dati di test:\")\n",
    "print(f\"Accuratezza: {accuracy:.3f}\")\n",
    "print(f\"Precisione: {precision:.3f}\")\n",
    "print(f\"Richiamo: {recall:.3f}\")\n",
    "print(f\"F1-score: {f1:.3f}\")\n"
   ]
  },
  {
   "cell_type": "code",
   "execution_count": 393,
   "metadata": {},
   "outputs": [
    {
     "data": {
      "image/png": "[encoded data removed]",
      "text/plain": [
       "<Figure size 800x600 with 2 Axes>"
      ]
     },
     "metadata": {},
     "output_type": "display_data"
    }
   ],
   "source": [
    "conf_matrix = confusion_matrix(y_test, y_pred)\n",
    "\n",
    "# Visualizzazione della matrice di confusione\n",
    "plt.figure(figsize=(8, 6))\n",
    "sns.heatmap(conf_matrix, annot=True, cmap=\"Blues\", fmt=\"d\", xticklabels=['Control', 'ASD'], yticklabels=['Control', 'ASD'])\n",
    "plt.xlabel('Predicted Label')\n",
    "plt.ylabel('True Label')\n",
    "plt.title('Confusion Matrix')\n",
    "plt.show()\n"
   ]
  },
  {
   "cell_type": "markdown",
   "metadata": {},
   "source": [
    "# Support vector machine"
   ]
  },
  {
   "cell_type": "code",
   "execution_count": 394,
   "metadata": {},
   "outputs": [
    {
     "name": "stdout",
     "output_type": "stream",
     "text": [
      "Risultati della cross-validation per tutte le combinazioni di iperparametri:\n",
      "Parametri: {'classifier__C': 1}, Accuratezza media: 0.897 (±0.020), Precision media: 0.950, Richiamo medio: 0.841, F1-score medio: 0.891\n",
      "\n",
      "Miglior parametro trovato:\n",
      "1\n",
      "Accuratezza media con il miglior parametro: 0.8972187104930468\n"
     ]
    }
   ],
   "source": [
    "classifier = svm.SVC(probability=True)\n",
    "svc_model, svc_parameter, svc_accuracy, _ = general_pipeline(X_SMOTE, Y_SMOTE, classifier)"
   ]
  },
  {
   "cell_type": "code",
   "execution_count": 395,
   "metadata": {},
   "outputs": [
    {
     "name": "stdout",
     "output_type": "stream",
     "text": [
      "\n",
      "Valutazione del modello sui dati di test:\n",
      "Accuratezza: 0.920\n",
      "Precisione: 0.957\n",
      "Richiamo: 0.909\n",
      "F1-score: 0.932\n"
     ]
    }
   ],
   "source": [
    "# Valutazione del modello sui dati di test\n",
    "y_pred = svc_model.predict(X_test)\n",
    "\n",
    "# Calcolo delle metriche sui dati di test\n",
    "accuracy = accuracy_score(y_test, y_pred)\n",
    "precision = precision_score(y_test, y_pred)\n",
    "recall = recall_score(y_test, y_pred)\n",
    "f1 = f1_score(y_test, y_pred)\n",
    "\n",
    "print(\"\\nValutazione del modello sui dati di test:\")\n",
    "print(f\"Accuratezza: {accuracy:.3f}\")\n",
    "print(f\"Precisione: {precision:.3f}\")\n",
    "print(f\"Richiamo: {recall:.3f}\")\n",
    "print(f\"F1-score: {f1:.3f}\")\n"
   ]
  },
  {
   "cell_type": "code",
   "execution_count": 396,
   "metadata": {},
   "outputs": [
    {
     "data": {
      "image/png": "[encoded data removed]",
      "text/plain": [
       "<Figure size 800x600 with 2 Axes>"
      ]
     },
     "metadata": {},
     "output_type": "display_data"
    }
   ],
   "source": [
    "conf_matrix = confusion_matrix(y_test, y_pred)\n",
    "\n",
    "# Visualizzazione della matrice di confusione\n",
    "plt.figure(figsize=(8, 6))\n",
    "sns.heatmap(conf_matrix, annot=True, cmap=\"Blues\", fmt=\"d\", xticklabels=['Control', 'ASD'], yticklabels=['Control', 'ASD'])\n",
    "plt.xlabel('Predicted Label')\n",
    "plt.ylabel('True Label')\n",
    "plt.title('Confusion Matrix')\n",
    "plt.show()\n"
   ]
  },
  {
   "cell_type": "markdown",
   "metadata": {},
   "source": [
    "# Comparison Between Classifiers"
   ]
  },
  {
   "cell_type": "code",
   "execution_count": 397,
   "metadata": {},
   "outputs": [
    {
     "name": "stdout",
     "output_type": "stream",
     "text": [
      "K-Nearest Neighbors Classifier AUC-ROC: 0.9376549586776859\n",
      "Random Forest Classifier AUC-ROC: 0.9829545454545455\n",
      "Support vector Classifier AUC-ROC: 0.9776859504132231\n"
     ]
    }
   ],
   "source": [
    "# Define a function to evaluate the AUC-ROC for a given model\n",
    "def evaluate_roc_auc(model, X_test, y_test):\n",
    "    y_proba = model.predict_proba(X_test)[:, 1]\n",
    "    auc_roc = roc_auc_score(y_test, y_proba)\n",
    "    return auc_roc\n",
    "\n",
    "knn_auc_roc = evaluate_roc_auc(knn_model, X_test, y_test)\n",
    "rf_auc_roc = evaluate_roc_auc(rf_model, X_test, y_test)\n",
    "svc_auc_roc = evaluate_roc_auc(svc_model, X_test, y_test)\n",
    "\n",
    "# Print the results\n",
    "print(\"K-Nearest Neighbors Classifier AUC-ROC:\", knn_auc_roc)\n",
    "print(\"Random Forest Classifier AUC-ROC:\", rf_auc_roc)\n",
    "print(\"Support vector Classifier AUC-ROC:\", svc_auc_roc)\n"
   ]
  },
  {
   "cell_type": "code",
   "execution_count": 398,
   "metadata": {},
   "outputs": [
    {
     "data": {
      "image/png": "[encoded data removed]",
      "text/plain": [
       "<Figure size 800x600 with 1 Axes>"
      ]
     },
     "metadata": {},
     "output_type": "display_data"
    }
   ],
   "source": [
    "# Define a function to plot the ROC curve for a given model\n",
    "def plot_roc_curve(model, X_test, y_test, model_name):\n",
    "    y_proba = model.predict_proba(X_test)[:, 1]\n",
    "    fpr, tpr, _ = roc_curve(y_test, y_proba)\n",
    "    plt.plot(fpr, tpr, label=model_name)\n",
    "    plt.xlabel('False Positive Rate')\n",
    "    plt.ylabel('True Positive Rate')\n",
    "    plt.title('ROC Curve')\n",
    "    plt.legend()\n",
    "    plt.grid(True)\n",
    "\n",
    "# Plot ROC curve for both models\n",
    "y_test_binary = (y_test == 2).astype(int)\n",
    "\n",
    "plt.figure(figsize=(8, 6))\n",
    "plot_roc_curve(knn_model, X_test, y_test_binary, 'K-Nearest Neighbors Classifier')\n",
    "plot_roc_curve(rf_model, X_test, y_test_binary, 'Random Forest Classifier')\n",
    "plot_roc_curve(svc_model, X_test, y_test_binary, 'Support vector Classifier')\n",
    "plt.show()\n"
   ]
  },
  {
   "cell_type": "markdown",
   "metadata": {},
   "source": [
    "# Feature selection"
   ]
  },
  {
   "cell_type": "code",
   "execution_count": 399,
   "metadata": {},
   "outputs": [
    {
     "data": {
      "text/plain": [
       "'classifier = KNeighborsClassifier()\\n\\nfs_KNN = general_pipeline(X_SMOTE, Y_SMOTE, classifier, parameters_grid_search = [9], feature_selector=True)\\n'"
      ]
     },
     "execution_count": 399,
     "metadata": {},
     "output_type": "execute_result"
    }
   ],
   "source": [
    "'''classifier = KNeighborsClassifier()\n",
    "\n",
    "fs_KNN = general_pipeline(X_SMOTE, Y_SMOTE, classifier, parameters_grid_search = [9], feature_selector=True)\n",
    "'''"
   ]
  },
  {
   "cell_type": "code",
   "execution_count": 400,
   "metadata": {},
   "outputs": [
    {
     "data": {
      "text/plain": [
       "'classifier = RandomForestClassifier(random_state=1234)\\n\\nfs_RF = general_pipeline(X_SMOTE, Y_SMOTE, classifier, parameters_grid_search = [50], feature_selector=True)'"
      ]
     },
     "execution_count": 400,
     "metadata": {},
     "output_type": "execute_result"
    }
   ],
   "source": [
    "'''classifier = RandomForestClassifier(random_state=1234)\n",
    "\n",
    "fs_RF = general_pipeline(X_SMOTE, Y_SMOTE, classifier, parameters_grid_search = [50], feature_selector=True)'''"
   ]
  },
  {
   "cell_type": "code",
   "execution_count": 401,
   "metadata": {},
   "outputs": [
    {
     "data": {
      "text/plain": [
       "'classifier = svm.SVC()\\n\\nfs_SVM = general_pipeline(X_SMOTE, Y_SMOTE, classifier, feature_selector=True)'"
      ]
     },
     "execution_count": 401,
     "metadata": {},
     "output_type": "execute_result"
    }
   ],
   "source": [
    "'''classifier = svm.SVC()\n",
    "\n",
    "fs_SVM = general_pipeline(X_SMOTE, Y_SMOTE, classifier, feature_selector=True)'''"
   ]
  },
  {
   "cell_type": "markdown",
   "metadata": {},
   "source": [
    "# Outliers detection"
   ]
  },
  {
   "cell_type": "code",
   "execution_count": 402,
   "metadata": {},
   "outputs": [
    {
     "data": {
      "text/plain": [
       "'ASD_phenotypic_outliers = ASD_phenotypic.select_dtypes(include=[np.number])\\nX = ASD_phenotypic_outliers.values\\n\\n# Initialize Local Outlier Factor\\nlof = LocalOutlierFactor(n_neighbors=10, contamination=0.006)  # Adjust parameters as needed\\nn_neighbors | if too small: model sensible to noise and random outliers\\n                 if too large: diculties in local outliers detection, in particular if in absence oa a uniform distribution\\n   contamination | data portion expected as outliers\\n# Fit the model and predict outliers\\noutliers = lof.fit_predict(X)\\n\\n# outliers == -1 indicates outliers, 1 indicates inliers\\nASD_phenotypic_outliers[\\'outlier\\'] = outliers\\n\\n\\n# Print number of detected outliers\\nprint(f\"Number of outliers detected: {np.sum(outliers == -1)}\")'"
      ]
     },
     "execution_count": 402,
     "metadata": {},
     "output_type": "execute_result"
    }
   ],
   "source": [
    "'''ASD_phenotypic_outliers = ASD_phenotypic.select_dtypes(include=[np.number])\n",
    "X = ASD_phenotypic_outliers.values\n",
    "\n",
    "# Initialize Local Outlier Factor\n",
    "lof = LocalOutlierFactor(n_neighbors=10, contamination=0.006)  # Adjust parameters as needed\n",
    "n_neighbors | if too small: model sensible to noise and random outliers\n",
    "                 if too large: diculties in local outliers detection, in particular if in absence oa a uniform distribution\n",
    "   contamination | data portion expected as outliers\n",
    "# Fit the model and predict outliers\n",
    "outliers = lof.fit_predict(X)\n",
    "\n",
    "# outliers == -1 indicates outliers, 1 indicates inliers\n",
    "ASD_phenotypic_outliers['outlier'] = outliers\n",
    "\n",
    "\n",
    "# Print number of detected outliers\n",
    "print(f\"Number of outliers detected: {np.sum(outliers == -1)}\")'''"
   ]
  },
  {
   "cell_type": "code",
   "execution_count": 403,
   "metadata": {},
   "outputs": [
    {
     "data": {
      "text/plain": [
       "\"outlier_subjects = ASD_phenotypic_outliers[ASD_phenotypic_outliers['outlier'] == -1]\\n\\npd.set_option('display.max_columns', None); outlier_subjects.T\""
      ]
     },
     "execution_count": 403,
     "metadata": {},
     "output_type": "execute_result"
    }
   ],
   "source": [
    "'''outlier_subjects = ASD_phenotypic_outliers[ASD_phenotypic_outliers['outlier'] == -1]\n",
    "\n",
    "pd.set_option('display.max_columns', None); outlier_subjects.T'''\n"
   ]
  },
  {
   "cell_type": "code",
   "execution_count": 404,
   "metadata": {},
   "outputs": [
    {
     "data": {
      "text/html": [
       "<div>\n",
       "<style scoped>\n",
       "    .dataframe tbody tr th:only-of-type {\n",
       "        vertical-align: middle;\n",
       "    }\n",
       "\n",
       "    .dataframe tbody tr th {\n",
       "        vertical-align: top;\n",
       "    }\n",
       "\n",
       "    .dataframe thead th {\n",
       "        text-align: right;\n",
       "    }\n",
       "</style>\n",
       "<table border=\"1\" class=\"dataframe\">\n",
       "  <thead>\n",
       "    <tr style=\"text-align: right;\">\n",
       "      <th></th>\n",
       "      <th>AGE_AT_SCAN</th>\n",
       "      <th>SEX</th>\n",
       "      <th>FIQ</th>\n",
       "      <th>VIQ</th>\n",
       "      <th>PIQ</th>\n",
       "      <th>ADI_R_VERBAL_TOTAL_BV</th>\n",
       "      <th>ADOS_TOTAL</th>\n",
       "    </tr>\n",
       "  </thead>\n",
       "  <tbody>\n",
       "    <tr>\n",
       "      <th>count</th>\n",
       "      <td>668.000000</td>\n",
       "      <td>668.000000</td>\n",
       "      <td>668.000000</td>\n",
       "      <td>668.000000</td>\n",
       "      <td>668.000000</td>\n",
       "      <td>668.000000</td>\n",
       "      <td>668.000000</td>\n",
       "    </tr>\n",
       "    <tr>\n",
       "      <th>mean</th>\n",
       "      <td>16.276463</td>\n",
       "      <td>1.118263</td>\n",
       "      <td>107.514649</td>\n",
       "      <td>106.976190</td>\n",
       "      <td>106.287425</td>\n",
       "      <td>11.812874</td>\n",
       "      <td>9.679641</td>\n",
       "    </tr>\n",
       "    <tr>\n",
       "      <th>std</th>\n",
       "      <td>7.183633</td>\n",
       "      <td>0.323162</td>\n",
       "      <td>15.333876</td>\n",
       "      <td>15.782631</td>\n",
       "      <td>16.113020</td>\n",
       "      <td>5.027005</td>\n",
       "      <td>3.751550</td>\n",
       "    </tr>\n",
       "    <tr>\n",
       "      <th>min</th>\n",
       "      <td>6.470000</td>\n",
       "      <td>1.000000</td>\n",
       "      <td>58.642857</td>\n",
       "      <td>54.888889</td>\n",
       "      <td>37.000000</td>\n",
       "      <td>4.000000</td>\n",
       "      <td>0.000000</td>\n",
       "    </tr>\n",
       "    <tr>\n",
       "      <th>25%</th>\n",
       "      <td>11.658575</td>\n",
       "      <td>1.000000</td>\n",
       "      <td>97.000000</td>\n",
       "      <td>97.000000</td>\n",
       "      <td>96.000000</td>\n",
       "      <td>8.000000</td>\n",
       "      <td>7.000000</td>\n",
       "    </tr>\n",
       "    <tr>\n",
       "      <th>50%</th>\n",
       "      <td>14.260000</td>\n",
       "      <td>1.000000</td>\n",
       "      <td>107.428571</td>\n",
       "      <td>108.000000</td>\n",
       "      <td>107.000000</td>\n",
       "      <td>9.000000</td>\n",
       "      <td>9.000000</td>\n",
       "    </tr>\n",
       "    <tr>\n",
       "      <th>75%</th>\n",
       "      <td>18.495100</td>\n",
       "      <td>1.000000</td>\n",
       "      <td>119.000000</td>\n",
       "      <td>118.000000</td>\n",
       "      <td>118.000000</td>\n",
       "      <td>16.000000</td>\n",
       "      <td>11.000000</td>\n",
       "    </tr>\n",
       "    <tr>\n",
       "      <th>max</th>\n",
       "      <td>64.000000</td>\n",
       "      <td>2.000000</td>\n",
       "      <td>148.000000</td>\n",
       "      <td>168.768116</td>\n",
       "      <td>157.000000</td>\n",
       "      <td>26.000000</td>\n",
       "      <td>22.000000</td>\n",
       "    </tr>\n",
       "  </tbody>\n",
       "</table>\n",
       "</div>"
      ],
      "text/plain": [
       "       AGE_AT_SCAN         SEX         FIQ         VIQ         PIQ  \\\n",
       "count   668.000000  668.000000  668.000000  668.000000  668.000000   \n",
       "mean     16.276463    1.118263  107.514649  106.976190  106.287425   \n",
       "std       7.183633    0.323162   15.333876   15.782631   16.113020   \n",
       "min       6.470000    1.000000   58.642857   54.888889   37.000000   \n",
       "25%      11.658575    1.000000   97.000000   97.000000   96.000000   \n",
       "50%      14.260000    1.000000  107.428571  108.000000  107.000000   \n",
       "75%      18.495100    1.000000  119.000000  118.000000  118.000000   \n",
       "max      64.000000    2.000000  148.000000  168.768116  157.000000   \n",
       "\n",
       "       ADI_R_VERBAL_TOTAL_BV  ADOS_TOTAL  \n",
       "count             668.000000  668.000000  \n",
       "mean               11.812874    9.679641  \n",
       "std                 5.027005    3.751550  \n",
       "min                 4.000000    0.000000  \n",
       "25%                 8.000000    7.000000  \n",
       "50%                 9.000000    9.000000  \n",
       "75%                16.000000   11.000000  \n",
       "max                26.000000   22.000000  "
      ]
     },
     "execution_count": 404,
     "metadata": {},
     "output_type": "execute_result"
    }
   ],
   "source": [
    "ASD_phenotypic.describe()"
   ]
  },
  {
   "cell_type": "code",
   "execution_count": 405,
   "metadata": {},
   "outputs": [],
   "source": [
    "#outlier_subjects.describe()"
   ]
  },
  {
   "cell_type": "code",
   "execution_count": 406,
   "metadata": {},
   "outputs": [
    {
     "data": {
      "text/plain": [
       "\"from sklearn.decomposition import PCA\\nimport matplotlib.pyplot as plt\\n\\n# Perform PCA for dimensionality reduction\\npca = PCA(n_components=2)\\nX_reduced = pca.fit_transform(X)\\noutliers = X_reduced[ASD_phenotypic_outliers['outlier'] == -1]\\n\\nlof_scores = lof.negative_outlier_factor_\\n\\n# Plot the data points with color indicating LOF scores\\nplt.figure(figsize=(10, 6))\\nplt.scatter(X_reduced[:, 0], X_reduced[:, 1], c=-lof_scores, cmap='hot_r', edgecolor='k', label='Inliers')\\nplt.colorbar(label='LOF Score')\\nplt.scatter(outliers[:, 0], outliers[:, 1], c='blue', edgecolor='k', marker='x', s=100, label='Outliers')  # Highlight outliers\\nplt.xlabel('PCA Component 1')\\nplt.ylabel('PCA Component 2')\\nplt.title('Data points with LOF scores')\\nplt.show()\""
      ]
     },
     "execution_count": 406,
     "metadata": {},
     "output_type": "execute_result"
    }
   ],
   "source": [
    "'''from sklearn.decomposition import PCA\n",
    "import matplotlib.pyplot as plt\n",
    "\n",
    "# Perform PCA for dimensionality reduction\n",
    "pca = PCA(n_components=2)\n",
    "X_reduced = pca.fit_transform(X)\n",
    "outliers = X_reduced[ASD_phenotypic_outliers['outlier'] == -1]\n",
    "\n",
    "lof_scores = lof.negative_outlier_factor_\n",
    "\n",
    "# Plot the data points with color indicating LOF scores\n",
    "plt.figure(figsize=(10, 6))\n",
    "plt.scatter(X_reduced[:, 0], X_reduced[:, 1], c=-lof_scores, cmap='hot_r', edgecolor='k', label='Inliers')\n",
    "plt.colorbar(label='LOF Score')\n",
    "plt.scatter(outliers[:, 0], outliers[:, 1], c='blue', edgecolor='k', marker='x', s=100, label='Outliers')  # Highlight outliers\n",
    "plt.xlabel('PCA Component 1')\n",
    "plt.ylabel('PCA Component 2')\n",
    "plt.title('Data points with LOF scores')\n",
    "plt.show()'''\n"
   ]
  },
  {
   "cell_type": "markdown",
   "metadata": {},
   "source": [
    "Let's see the changes in the data distribution per each feature"
   ]
  },
  {
   "cell_type": "code",
   "execution_count": 407,
   "metadata": {},
   "outputs": [
    {
     "data": {
      "text/plain": [
       "\"ASD_phenotypic_without_outliers = ASD_phenotypic[ASD_phenotypic_outliers['outlier'] == 1]\\nASD_diagnosis_without_outliers = ASD_diagnosis[ASD_phenotypic_outliers['outlier'] == 1]\\nof.plot_distributions(ASD_phenotypic_without_outliers)\""
      ]
     },
     "execution_count": 407,
     "metadata": {},
     "output_type": "execute_result"
    }
   ],
   "source": [
    "'''ASD_phenotypic_without_outliers = ASD_phenotypic[ASD_phenotypic_outliers['outlier'] == 1]\n",
    "ASD_diagnosis_without_outliers = ASD_diagnosis[ASD_phenotypic_outliers['outlier'] == 1]\n",
    "of.plot_distributions(ASD_phenotypic_without_outliers)'''"
   ]
  },
  {
   "cell_type": "code",
   "execution_count": 408,
   "metadata": {},
   "outputs": [],
   "source": [
    "#of.plot_distributions(ASD_phenotypic)"
   ]
  },
  {
   "cell_type": "markdown",
   "metadata": {},
   "source": [
    "let's see if this make a better training"
   ]
  },
  {
   "cell_type": "code",
   "execution_count": 409,
   "metadata": {},
   "outputs": [
    {
     "data": {
      "text/plain": [
       "\"X_train, X_test, y_train, y_test = train_test_split(ASD_phenotypic_without_outliers, ASD_diagnosis_without_outliers['DX_GROUP'], test_size=0.3, random_state=42)\\n\\ncategorical_columns = X_train.select_dtypes(include=['object']).columns\\ncategorical_features = categorical_columns.tolist()\\n\\n# Inizializza l'oggetto SMOTE-NC specificando gli indici delle colonne categoriche\\nsampler = SMOTENC(categorical_features=categorical_features, random_state=42)\\n\\n# Applica SMOTE-NC per generare nuovi esempi sintetici\\nX_SMOTE, Y_SMOTE = sampler.fit_resample(X_train, y_train)\\nsampler = SMOTENC(categorical_features=categorical_features, random_state=42)\\n\\n# Applica SMOTE-NC per generare nuovi esempi sintetici\\nX_SMOTE, Y_SMOTE = sampler.fit_resample(X_train, y_train)\""
      ]
     },
     "execution_count": 409,
     "metadata": {},
     "output_type": "execute_result"
    }
   ],
   "source": [
    "'''X_train, X_test, y_train, y_test = train_test_split(ASD_phenotypic_without_outliers, ASD_diagnosis_without_outliers['DX_GROUP'], test_size=0.3, random_state=42)\n",
    "\n",
    "categorical_columns = X_train.select_dtypes(include=['object']).columns\n",
    "categorical_features = categorical_columns.tolist()\n",
    "\n",
    "# Inizializza l'oggetto SMOTE-NC specificando gli indici delle colonne categoriche\n",
    "sampler = SMOTENC(categorical_features=categorical_features, random_state=42)\n",
    "\n",
    "# Applica SMOTE-NC per generare nuovi esempi sintetici\n",
    "X_SMOTE, Y_SMOTE = sampler.fit_resample(X_train, y_train)\n",
    "sampler = SMOTENC(categorical_features=categorical_features, random_state=42)\n",
    "\n",
    "# Applica SMOTE-NC per generare nuovi esempi sintetici\n",
    "X_SMOTE, Y_SMOTE = sampler.fit_resample(X_train, y_train)'''"
   ]
  },
  {
   "cell_type": "markdown",
   "metadata": {},
   "source": [
    "QUI STIAMO VALUTANDO CON LA FEATURE SELECTION! ASPETTA CHE AURA FINISCA"
   ]
  },
  {
   "cell_type": "code",
   "execution_count": 410,
   "metadata": {},
   "outputs": [
    {
     "data": {
      "text/plain": [
       "'knn_model = general_pipeline(X_SMOTE, Y_SMOTE, KNeighborsClassifier())\\nrf_model = general_pipeline(X_SMOTE, Y_SMOTE, RandomForestClassifier(random_state=1234))\\nsvc_model = general_pipeline(X_SMOTE, Y_SMOTE, svm.SVC(probability=True))'"
      ]
     },
     "execution_count": 410,
     "metadata": {},
     "output_type": "execute_result"
    }
   ],
   "source": [
    "'''knn_model = general_pipeline(X_SMOTE, Y_SMOTE, KNeighborsClassifier())\n",
    "rf_model = general_pipeline(X_SMOTE, Y_SMOTE, RandomForestClassifier(random_state=1234))\n",
    "svc_model = general_pipeline(X_SMOTE, Y_SMOTE, svm.SVC(probability=True))'''"
   ]
  },
  {
   "cell_type": "code",
   "execution_count": 411,
   "metadata": {},
   "outputs": [],
   "source": [
    "#rf_model = general_pipeline(X_SMOTE, Y_SMOTE, RandomForestClassifier(random_state=1234))"
   ]
  },
  {
   "cell_type": "markdown",
   "metadata": {},
   "source": [
    "# Find best sensibility"
   ]
  },
  {
   "cell_type": "code",
   "execution_count": 412,
   "metadata": {},
   "outputs": [],
   "source": [
    "contamination_factor = [0.001, 0.0015, 0.006, 0.008, ]"
   ]
  },
  {
   "cell_type": "code",
   "execution_count": 413,
   "metadata": {},
   "outputs": [],
   "source": [
    "def outlier_detector(dataset, diagnosis, contamination_factor):\n",
    "    dataset_outliers = dataset.select_dtypes(include=[np.number])\n",
    "    X = dataset_outliers.values\n",
    "\n",
    "    # Initialize Local Outlier Factor\n",
    "    lof = LocalOutlierFactor(n_neighbors=10, contamination=contamination_factor)  # Adjust parameters as needed\n",
    "    '''n_neighbors | if too small: model sensible to noise and random outliers\n",
    "                 if too large: diculties in local outliers detection, in particular if in absence oa a uniform distribution\n",
    "       contamination | data portion expected as outliers'''\n",
    "    # Fit the model and predict outliers\n",
    "    outliers = lof.fit_predict(X)\n",
    "\n",
    "    # Print number of detected outliers\n",
    "    print(f\"Number of outliers detected: {np.sum(outliers == -1)}\")\n",
    "\n",
    "    # outliers == -1 indicates outliers, 1 indicates inliers\n",
    "    dataset_outliers['outlier'] = outliers\n",
    "\n",
    "    outlier_subjects = dataset_outliers[dataset_outliers['outlier'] == -1]\n",
    "\n",
    "    pd.set_option('display.max_columns', None); outlier_subjects.T\n",
    "\n",
    "    dataset_without_outliers = dataset[dataset_outliers['outlier'] == 1]\n",
    "         \n",
    "    diagnosis_without_outliers = diagnosis[dataset_outliers['outlier'] == 1]\n",
    "\n",
    "    return dataset_without_outliers, diagnosis_without_outliers"
   ]
  },
  {
   "cell_type": "code",
   "execution_count": 414,
   "metadata": {},
   "outputs": [
    {
     "name": "stdout",
     "output_type": "stream",
     "text": [
      "Number of outliers detected: 1\n",
      "Risultati della cross-validation per tutte le combinazioni di iperparametri:\n",
      "Parametri: {'classifier__n_neighbors': 3}, Accuratezza media: 0.869 (±0.021), Precision media: 0.946, Richiamo medio: 0.785, F1-score medio: 0.856\n",
      "Parametri: {'classifier__n_neighbors': 5}, Accuratezza media: 0.863 (±0.037), Precision media: 0.969, Richiamo medio: 0.752, F1-score medio: 0.844\n",
      "Parametri: {'classifier__n_neighbors': 7}, Accuratezza media: 0.858 (±0.037), Precision media: 0.979, Richiamo medio: 0.734, F1-score medio: 0.835\n",
      "Parametri: {'classifier__n_neighbors': 9}, Accuratezza media: 0.858 (±0.037), Precision media: 0.987, Richiamo medio: 0.727, F1-score medio: 0.834\n",
      "Parametri: {'classifier__n_neighbors': 11}, Accuratezza media: 0.863 (±0.036), Precision media: 0.991, Richiamo medio: 0.734, F1-score medio: 0.841\n",
      "\n",
      "Miglior parametro trovato:\n",
      "3\n",
      "Accuratezza media con il miglior parametro: 0.8687580437580437\n",
      "Accuracy with contamination 0.001: 0.8557213930348259\n",
      "Risultati della cross-validation per tutte le combinazioni di iperparametri:\n",
      "Parametri: {'classifier__n_estimators': 10}, Accuratezza media: 0.914 (±0.031), Precision media: 0.930, Richiamo medio: 0.896, F1-score medio: 0.912\n",
      "Parametri: {'classifier__n_estimators': 50}, Accuratezza media: 0.926 (±0.024), Precision media: 0.968, Richiamo medio: 0.882, F1-score medio: 0.923\n",
      "Parametri: {'classifier__n_estimators': 200}, Accuratezza media: 0.928 (±0.025), Precision media: 0.976, Richiamo medio: 0.878, F1-score medio: 0.924\n",
      "Parametri: {'classifier__n_estimators': 500}, Accuratezza media: 0.925 (±0.022), Precision media: 0.969, Richiamo medio: 0.878, F1-score medio: 0.921\n",
      "Parametri: {'classifier__n_estimators': 1000}, Accuratezza media: 0.923 (±0.024), Precision media: 0.969, Richiamo medio: 0.874, F1-score medio: 0.918\n",
      "\n",
      "Miglior parametro trovato:\n",
      "200\n",
      "Accuratezza media con il miglior parametro: 0.9281048906048908\n",
      "Accuracy with contamination 0.001: 0.9303482587064676\n",
      "Risultati della cross-validation per tutte le combinazioni di iperparametri:\n",
      "Parametri: {'classifier__C': 1}, Accuratezza media: 0.905 (±0.016), Precision media: 0.971, Richiamo medio: 0.835, F1-score medio: 0.897\n",
      "\n",
      "Miglior parametro trovato:\n",
      "1\n",
      "Accuratezza media con il miglior parametro: 0.9047297297297299\n",
      "Accuracy with contamination 0.001: 0.900497512437811\n",
      "Number of outliers detected: 2\n",
      "Risultati della cross-validation per tutte le combinazioni di iperparametri:\n",
      "Parametri: {'classifier__n_neighbors': 3}, Accuratezza media: 0.873 (±0.025), Precision media: 0.948, Richiamo medio: 0.792, F1-score medio: 0.861\n",
      "Parametri: {'classifier__n_neighbors': 5}, Accuratezza media: 0.875 (±0.032), Precision media: 0.970, Richiamo medio: 0.774, F1-score medio: 0.859\n",
      "Parametri: {'classifier__n_neighbors': 7}, Accuratezza media: 0.878 (±0.034), Precision media: 0.973, Richiamo medio: 0.778, F1-score medio: 0.863\n",
      "Parametri: {'classifier__n_neighbors': 9}, Accuratezza media: 0.867 (±0.034), Precision media: 0.969, Richiamo medio: 0.760, F1-score medio: 0.850\n",
      "Parametri: {'classifier__n_neighbors': 11}, Accuratezza media: 0.867 (±0.042), Precision media: 0.969, Richiamo medio: 0.760, F1-score medio: 0.849\n",
      "\n",
      "Miglior parametro trovato:\n",
      "7\n",
      "Accuratezza media con il miglior parametro: 0.8782175032175032\n",
      "Accuracy with contamination 0.0015: 0.825\n",
      "Risultati della cross-validation per tutte le combinazioni di iperparametri:\n",
      "Parametri: {'classifier__n_estimators': 10}, Accuratezza media: 0.927 (±0.027), Precision media: 0.958, Richiamo medio: 0.893, F1-score medio: 0.924\n",
      "Parametri: {'classifier__n_estimators': 50}, Accuratezza media: 0.919 (±0.020), Precision media: 0.959, Richiamo medio: 0.878, F1-score medio: 0.915\n",
      "Parametri: {'classifier__n_estimators': 200}, Accuratezza media: 0.918 (±0.017), Precision media: 0.955, Richiamo medio: 0.878, F1-score medio: 0.914\n",
      "Parametri: {'classifier__n_estimators': 500}, Accuratezza media: 0.918 (±0.016), Precision media: 0.955, Richiamo medio: 0.878, F1-score medio: 0.914\n",
      "Parametri: {'classifier__n_estimators': 1000}, Accuratezza media: 0.916 (±0.015), Precision media: 0.955, Richiamo medio: 0.874, F1-score medio: 0.912\n",
      "\n",
      "Miglior parametro trovato:\n",
      "10\n",
      "Accuratezza media con il miglior parametro: 0.9265283140283141\n",
      "Accuracy with contamination 0.0015: 0.905\n",
      "Risultati della cross-validation per tutte le combinazioni di iperparametri:\n",
      "Parametri: {'classifier__C': 1}, Accuratezza media: 0.896 (±0.029), Precision media: 0.957, Richiamo medio: 0.832, F1-score medio: 0.888\n",
      "\n",
      "Miglior parametro trovato:\n",
      "1\n",
      "Accuratezza media con il miglior parametro: 0.8961229086229088\n",
      "Accuracy with contamination 0.0015: 0.895\n",
      "Number of outliers detected: 5\n",
      "Risultati della cross-validation per tutte le combinazioni di iperparametri:\n",
      "Parametri: {'classifier__n_neighbors': 3}, Accuratezza media: 0.868 (±0.040), Precision media: 0.945, Richiamo medio: 0.784, F1-score medio: 0.856\n",
      "Parametri: {'classifier__n_neighbors': 5}, Accuratezza media: 0.866 (±0.035), Precision media: 0.952, Richiamo medio: 0.773, F1-score medio: 0.852\n",
      "Parametri: {'classifier__n_neighbors': 7}, Accuratezza media: 0.861 (±0.035), Precision media: 0.952, Richiamo medio: 0.762, F1-score medio: 0.845\n",
      "Parametri: {'classifier__n_neighbors': 9}, Accuratezza media: 0.870 (±0.027), Precision media: 0.975, Richiamo medio: 0.762, F1-score medio: 0.854\n",
      "Parametri: {'classifier__n_neighbors': 11}, Accuratezza media: 0.870 (±0.030), Precision media: 0.973, Richiamo medio: 0.762, F1-score medio: 0.854\n",
      "\n",
      "Miglior parametro trovato:\n",
      "11\n",
      "Accuratezza media con il miglior parametro: 0.8700583819849875\n",
      "Accuracy with contamination 0.006: 0.8341708542713567\n",
      "Risultati della cross-validation per tutte le combinazioni di iperparametri:\n",
      "Parametri: {'classifier__n_estimators': 10}, Accuratezza media: 0.912 (±0.016), Precision media: 0.936, Richiamo medio: 0.886, F1-score medio: 0.910\n",
      "Parametri: {'classifier__n_estimators': 50}, Accuratezza media: 0.923 (±0.017), Precision media: 0.955, Richiamo medio: 0.890, F1-score medio: 0.921\n",
      "Parametri: {'classifier__n_estimators': 200}, Accuratezza media: 0.930 (±0.009), Precision media: 0.977, Richiamo medio: 0.883, F1-score medio: 0.927\n",
      "Parametri: {'classifier__n_estimators': 500}, Accuratezza media: 0.930 (±0.012), Precision media: 0.973, Richiamo medio: 0.886, F1-score medio: 0.927\n",
      "Parametri: {'classifier__n_estimators': 1000}, Accuratezza media: 0.936 (±0.013), Precision media: 0.981, Richiamo medio: 0.890, F1-score medio: 0.933\n",
      "\n",
      "Miglior parametro trovato:\n",
      "1000\n",
      "Accuratezza media con il miglior parametro: 0.9358965804837365\n",
      "Accuracy with contamination 0.006: 0.9346733668341709\n",
      "Risultati della cross-validation per tutte le combinazioni di iperparametri:\n",
      "Parametri: {'classifier__C': 1}, Accuratezza media: 0.898 (±0.029), Precision media: 0.964, Richiamo medio: 0.828, F1-score medio: 0.890\n",
      "\n",
      "Miglior parametro trovato:\n",
      "1\n",
      "Accuratezza media con il miglior parametro: 0.8975312760633862\n",
      "Accuracy with contamination 0.006: 0.8944723618090452\n",
      "Number of outliers detected: 6\n",
      "Risultati della cross-validation per tutte le combinazioni di iperparametri:\n",
      "Parametri: {'classifier__n_neighbors': 3}, Accuratezza media: 0.864 (±0.031), Precision media: 0.928, Richiamo medio: 0.794, F1-score medio: 0.854\n",
      "Parametri: {'classifier__n_neighbors': 5}, Accuratezza media: 0.860 (±0.017), Precision media: 0.939, Richiamo medio: 0.772, F1-score medio: 0.847\n",
      "Parametri: {'classifier__n_neighbors': 7}, Accuratezza media: 0.862 (±0.023), Precision media: 0.940, Richiamo medio: 0.776, F1-score medio: 0.849\n",
      "Parametri: {'classifier__n_neighbors': 9}, Accuratezza media: 0.860 (±0.019), Precision media: 0.947, Richiamo medio: 0.765, F1-score medio: 0.846\n",
      "Parametri: {'classifier__n_neighbors': 11}, Accuratezza media: 0.868 (±0.009), Precision media: 0.973, Richiamo medio: 0.757, F1-score medio: 0.851\n",
      "\n",
      "Miglior parametro trovato:\n",
      "11\n",
      "Accuratezza media con il miglior parametro: 0.8676520557254502\n",
      "Accuracy with contamination 0.008: 0.8442211055276382\n",
      "Risultati della cross-validation per tutte le combinazioni di iperparametri:\n",
      "Parametri: {'classifier__n_estimators': 10}, Accuratezza media: 0.899 (±0.021), Precision media: 0.906, Richiamo medio: 0.893, F1-score medio: 0.899\n",
      "Parametri: {'classifier__n_estimators': 50}, Accuratezza media: 0.906 (±0.022), Precision media: 0.935, Richiamo medio: 0.875, F1-score medio: 0.903\n",
      "Parametri: {'classifier__n_estimators': 200}, Accuratezza media: 0.904 (±0.020), Precision media: 0.932, Richiamo medio: 0.875, F1-score medio: 0.901\n",
      "Parametri: {'classifier__n_estimators': 500}, Accuratezza media: 0.908 (±0.021), Precision media: 0.936, Richiamo medio: 0.878, F1-score medio: 0.905\n",
      "Parametri: {'classifier__n_estimators': 1000}, Accuratezza media: 0.904 (±0.025), Precision media: 0.929, Richiamo medio: 0.878, F1-score medio: 0.902\n",
      "\n",
      "Miglior parametro trovato:\n",
      "500\n",
      "Accuratezza media con il miglior parametro: 0.9081209650016989\n",
      "Accuracy with contamination 0.008: 0.9597989949748744\n",
      "Risultati della cross-validation per tutte le combinazioni di iperparametri:\n",
      "Parametri: {'classifier__C': 1}, Accuratezza media: 0.892 (±0.021), Precision media: 0.944, Richiamo medio: 0.834, F1-score medio: 0.885\n",
      "\n",
      "Miglior parametro trovato:\n",
      "1\n",
      "Accuratezza media con il miglior parametro: 0.8915902140672782\n",
      "Accuracy with contamination 0.008: 0.9095477386934674\n",
      "Best contamination factor: 0.008 with accuracy: 0.9597989949748744\n"
     ]
    }
   ],
   "source": [
    "best_accuracy = 0\n",
    "best_contamination = None\n",
    "for value in contamination_factor:\n",
    "\n",
    "    ASD_phenotypic_without_outliers, ASD_diagnosis_without_outliers = outlier_detector(ASD_phenotypic, ASD_diagnosis,value)\n",
    "\n",
    "    X_train, X_test, y_train, y_test = train_test_split(ASD_phenotypic_without_outliers, ASD_diagnosis_without_outliers['DX_GROUP'], test_size=0.3, random_state=42)\n",
    "\n",
    "    categorical_columns = X_train.select_dtypes(include=['object']).columns\n",
    "    categorical_features = categorical_columns.tolist()\n",
    "\n",
    "    # Inizializza l'oggetto SMOTE-NC specificando gli indici delle colonne categoriche\n",
    "    sampler = SMOTENC(categorical_features=categorical_features, random_state=42)\n",
    "\n",
    "    # Applica SMOTE-NC per generare nuovi esempi sintetici\n",
    "    X_SMOTE, Y_SMOTE = sampler.fit_resample(X_train, y_train)\n",
    "    sampler = SMOTENC(categorical_features=categorical_features, random_state=42)\n",
    "\n",
    "    # Applica SMOTE-NC per generare nuovi esempi sintetici\n",
    "    X_SMOTE, Y_SMOTE = sampler.fit_resample(X_train, y_train)\n",
    "    knn_model, _, _, _ = general_pipeline(X_SMOTE, Y_SMOTE, KNeighborsClassifier())\n",
    "    y_pred = knn_model.predict(X_test)\n",
    "    accuracy = accuracy_score(y_test, y_pred)\n",
    "   \n",
    "    if accuracy > best_accuracy:\n",
    "        best_accuracy = accuracy\n",
    "        best_contamination = value\n",
    "\n",
    "    rf_model, _, _, _ = general_pipeline(X_SMOTE, Y_SMOTE, RandomForestClassifier(random_state=1234))\n",
    "    y_pred = rf_model.predict(X_test)\n",
    "    accuracy = accuracy_score(y_test, y_pred)\n",
    "    \n",
    "    if accuracy > best_accuracy:\n",
    "        best_accuracy = accuracy\n",
    "        best_contamination = value\n",
    "\n",
    "    svc_model, _, _, _ = general_pipeline(X_SMOTE, Y_SMOTE, svm.SVC(probability=True))\n",
    "    y_pred = svc_model.predict(X_test)\n",
    "    accuracy = accuracy_score(y_test, y_pred)\n",
    "    \n",
    "    if accuracy > best_accuracy:\n",
    "        best_accuracy = accuracy\n",
    "        best_contamination = value\n",
    "        \n",
    "print(f\"Best contamination factor: {best_contamination} with accuracy: {best_accuracy}\")\n",
    "    \n",
    "    \n",
    "    \n",
    "    \n",
    "\n",
    "    \n",
    "\n",
    "\n",
    "\n",
    "    "
   ]
  },
  {
   "cell_type": "markdown",
   "metadata": {},
   "source": [
    "grid search"
   ]
  },
  {
   "cell_type": "code",
   "execution_count": null,
   "metadata": {},
   "outputs": [],
   "source": [
    "\n",
    "\n",
    "def outlier_detector(dataset, diagnosis, contamination_factor):\n",
    "    dataset_outliers = dataset.select_dtypes(include=[np.number])\n",
    "    X = dataset_outliers.values\n",
    "\n",
    "    # Initialize Local Outlier Factor\n",
    "    lof = LocalOutlierFactor(n_neighbors=10, contamination=contamination_factor)  # Adjust parameters as needed\n",
    "\n",
    "    # Fit the model and predict outliers\n",
    "    outliers = lof.fit_predict(X)\n",
    "\n",
    "    # Print number of detected outliers\n",
    "    print(f\"Number of outliers detected: {np.sum(outliers == -1)}\")\n",
    "\n",
    "    dataset_without_outliers = dataset[outliers == 1]\n",
    "    diagnosis_without_outliers = diagnosis[outliers == 1]\n",
    "\n",
    "    return dataset_without_outliers, diagnosis_without_outliers\n",
    "\n",
    "def perform_grid_search(ASD_phenotypic, ASD_diagnosis, contamination_values):\n",
    "    best_accuracy = 0\n",
    "    best_contamination = None\n",
    "    \n",
    "    for contamination in contamination_values:\n",
    "        print(f\"Testing contamination factor: {contamination}\")\n",
    "\n",
    "        ASD_phenotypic_without_outliers, ASD_diagnosis_without_outliers = outlier_detector(ASD_phenotypic, ASD_diagnosis, contamination)\n",
    "\n",
    "        X_train, X_test, y_train, y_test = train_test_split(ASD_phenotypic_without_outliers, ASD_diagnosis_without_outliers['DX_GROUP'], test_size=0.3, random_state=42)\n",
    "\n",
    "        categorical_columns = X_train.select_dtypes(include=['object']).columns\n",
    "        categorical_features = categorical_columns.tolist()\n",
    "\n",
    "        sampler = SMOTENC(categorical_features=categorical_features, random_state=42)\n",
    "        X_SMOTE, Y_SMOTE = sampler.fit_resample(X_train, y_train)\n",
    "\n",
    "        knn_model = general_pipeline(X_SMOTE, Y_SMOTE, KNeighborsClassifier())\n",
    "        y_pred = knn_model.predict(X_test)\n",
    "        accuracy = accuracy_score(y_test, y_pred)\n",
    "\n",
    "        print(f\"Accuracy with contamination {contamination}: {accuracy}\")\n",
    "\n",
    "        if accuracy > best_accuracy:\n",
    "            best_accuracy = accuracy\n",
    "            best_contamination = contamination\n",
    "\n",
    "    print(f\"Best contamination factor: {best_contamination} with accuracy: {best_accuracy}\")\n",
    "    return best_contamination\n",
    "\n",
    "# Define the contamination values to test\n",
    "contamination_values = [0.001, 0.0015, 0.006, 0.008]\n",
    "\n",
    "# Perform grid search to find the best contamination factor\n",
    "best_contamination = perform_grid_search(ASD_phenotypic, ASD_diagnosis, contamination_values)\n",
    "\n",
    "# Use the best contamination factor to create the final dataset\n",
    "ASD_phenotypic_without_outliers, ASD_diagnosis_without_outliers = outlier_detector(ASD_phenotypic, ASD_diagnosis, best_contamination)\n",
    "\n",
    "# Now, train the final models using the best contamination factor\n",
    "X_train, X_test, y_train, y_test = train_test_split(ASD_phenotypic_without_outliers, ASD_diagnosis_without_outliers['DX_GROUP'], test_size=0.3, random_state=42)\n",
    "\n",
    "categorical_columns = X_train.select_dtypes(include=['object']).columns\n",
    "categorical_features = categorical_columns.tolist()\n",
    "\n",
    "sampler = SMOTENC(categorical_features=categorical_features, random_state=42)\n",
    "X_SMOTE, Y_SMOTE = sampler.fit_resample(X_train, y_train)\n",
    "\n",
    "knn_model = general_pipeline(X_SMOTE, Y_SMOTE, KNeighborsClassifier())\n",
    "rf_model = general_pipeline(X_SMOTE, Y_SMOTE, RandomForestClassifier(random_state=1234))\n",
    "svc_model = general_pipeline(X_SMOTE, Y_SMOTE, svm.SVC(probability=True))\n",
    "\n",
    "# Evaluate models on the test set\n",
    "knn_accuracy = accuracy_score(y_test, knn_model.predict(X_test))\n",
    "rf_accuracy = accuracy_score(y_test, rf_model.predict(X_test))\n",
    "svc_accuracy = accuracy_score(y_test, svc_model.predict(X_test))\n",
    "\n",
    "print(f\"KNN accuracy: {knn_accuracy}\")\n",
    "print(f\"Random Forest accuracy: {rf_accuracy}\")\n",
    "print(f\"SVM accuracy: {svc_accuracy}\")\n"
   ]
  }
 ],
 "metadata": {
  "kernelspec": {
   "display_name": "Python 3",
   "language": "python",
   "name": "python3"
  },
  "language_info": {
   "codemirror_mode": {
    "name": "ipython",
    "version": 3
   },
   "file_extension": ".py",
   "mimetype": "text/x-python",
   "name": "python",
   "nbconvert_exporter": "python",
   "pygments_lexer": "ipython3",
   "version": "3.12.0"
  }
 },
 "nbformat": 4,
 "nbformat_minor": 2
}
