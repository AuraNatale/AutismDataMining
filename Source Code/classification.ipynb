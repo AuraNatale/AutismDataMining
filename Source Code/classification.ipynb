{
 "cells": [
  {
   "cell_type": "code",
<<<<<<< HEAD
   "execution_count": null,
=======
   "execution_count": 70,
>>>>>>> f1f26a00b7669572d2b74200f158dca2dcb8e2cb
   "metadata": {},
   "outputs": [],
   "source": [
    "# general imports\n",
    "import os\n",
    "import numpy as np\n",
    "import pandas as pd\n",
<<<<<<< HEAD
    "from matplotlib import pyplot as plt #for the plots\n",
    "import OurFunctions as of\n",
    "from sklearn.model_selection import train_test_split\n",
    "from sklearn.ensemble import RandomForestClassifier\n",
    "from sklearn.metrics import accuracy_score, classification_report, ConfusionMatrixDisplay\n"
   ]
  },
  {
   "cell_type": "code",
   "execution_count": null,
   "metadata": {},
   "outputs": [],
   "source": [
    "from mlxtend.feature_selection import SequentialFeatureSelector\n"
   ]
  },
  {
   "cell_type": "code",
   "execution_count": null,
   "metadata": {},
   "outputs": [],
   "source": [
=======
    "from matplotlib import pyplot as plt \n",
    "from matplotlib.colors import ListedColormap\n",
    "import seaborn as sns\n",
>>>>>>> f1f26a00b7669572d2b74200f158dca2dcb8e2cb
    "\n",
    "# from our documents\n",
    "import OurFunctions as of\n",
    "\n",
    "# from Scikit Learn library\n",
    "from sklearn.model_selection import train_test_split, KFold, cross_val_score, GridSearchCV\n",
    "from sklearn.ensemble import RandomForestClassifier\n",
    "from sklearn.metrics import roc_curve, roc_auc_score, accuracy_score, make_scorer, precision_score, recall_score, f1_score, confusion_matrix\n",
    "from sklearn.preprocessing import StandardScaler, OneHotEncoder, RobustScaler\n",
    "from sklearn.compose import ColumnTransformer\n",
    "from sklearn.pipeline import Pipeline\n",
    "from sklearn.neighbors import KNeighborsClassifier\n",
    "from sklearn.linear_model import LogisticRegression\n",
<<<<<<< HEAD
    "from sklearn.feature_selection import SelectKBest, f_classif\n"
   ]
  },
  {
   "cell_type": "code",
   "execution_count": null,
   "metadata": {},
   "outputs": [],
   "source": [
    "\n",
    "from sklearn.model_selection import KFold, cross_val_score\n",
    "from sklearn.ensemble import RandomForestClassifier\n",
    "from sklearn.preprocessing import RobustScaler\n",
    "from sklearn.neighbors import KNeighborsClassifier\n",
    "\n",
    "from sklearn.model_selection import GridSearchCV\n",
    "from sklearn.preprocessing import RobustScaler, OneHotEncoder\n",
    "from sklearn.pipeline import Pipeline\n",
    "from sklearn.metrics import make_scorer, accuracy_score, precision_score, recall_score, f1_score\n",
    "from sklearn.metrics import confusion_matrix\n",
    "import seaborn as sns\n",
    "import numpy as np\n",
    "from sklearn.decomposition import PCA\n",
    "from matplotlib.colors import ListedColormap\n",
    "from sklearn.linear_model import LinearRegression\n"
=======
    "from sklearn.feature_selection import SelectKBest, f_classif\n",
    "from sklearn.decomposition import PCA\n",
    "\n"
>>>>>>> f1f26a00b7669572d2b74200f158dca2dcb8e2cb
   ]
  },
  {
   "cell_type": "code",
<<<<<<< HEAD
   "execution_count": null,
=======
   "execution_count": 71,
>>>>>>> f1f26a00b7669572d2b74200f158dca2dcb8e2cb
   "metadata": {},
   "outputs": [],
   "source": [
    "ASD_phenotypic_original = pd.read_csv(os.path.join('DataSets','Phenotypic Datasets','ASD_phenotypic.csv'))\n",
    "ASD_phenotypic = pd.read_csv(os.path.join('DataSets','Phenotypic Datasets','ASD_phenotypic_preprocessed.csv'))\n",
    "ASD_diagnosis = pd.read_csv(os.path.join('DataSets','Phenotypic Datasets','ASD_clinical.csv'))"
   ]
  },
  {
   "cell_type": "markdown",
   "metadata": {},
   "source": [
    "# CLASSIFICATION"
   ]
  },
  {
   "cell_type": "markdown",
   "metadata": {},
   "source": [
    "First of all, we split the data into train set and test set, to be sure that our classifier is evaluated on data that it had never seen before."
   ]
  },
  {
   "cell_type": "code",
<<<<<<< HEAD
   "execution_count": null,
   "metadata": {},
   "outputs": [],
=======
   "execution_count": 72,
   "metadata": {},
   "outputs": [
    {
     "name": "stdout",
     "output_type": "stream",
     "text": [
      "Training set size: (534, 11)\n",
      "Test set size: (134, 11)\n"
     ]
    }
   ],
   "source": [
    "# Split the data into training and test sets\n",
    "X_train, X_test, y_train, y_test = train_test_split(ASD_phenotypic, ASD_diagnosis['DX_GROUP'], test_size=0.2, random_state=42)\n",
    "print(\"Training set size:\", X_train.shape)\n",
    "print(\"Test set size:\", X_test.shape)"
   ]
  },
  {
   "cell_type": "markdown",
   "metadata": {},
   "source": [
    "I want to check the balance between classes for each set, to  be sure we are training the classifier using a good split."
   ]
  },
  {
   "cell_type": "code",
   "execution_count": 73,
   "metadata": {},
   "outputs": [
    {
     "name": "stdout",
     "output_type": "stream",
     "text": [
      "Class proportions for:\n",
      "- test set: DX_GROUP\n",
      "1    0.61194\n",
      "2    0.38806\n",
      "Name: proportion, dtype: float64\n",
      "- train set: DX_GROUP\n",
      "1    0.601124\n",
      "2    0.398876\n",
      "Name: proportion, dtype: float64\n"
     ]
    }
   ],
   "source": [
    "class_counts_test = y_test.value_counts(normalize=True)\n",
    "class_counts_train = y_train.value_counts(normalize=True)\n",
    "\n",
    "# Stampa il conteggio delle classi per DX_GROUP\n",
    "print(\"Class proportions for:\")\n",
    "print(\"- test set: \" + str(class_counts_test))\n",
    "print(\"- train set: \" + str(class_counts_train))"
   ]
  },
  {
   "cell_type": "markdown",
   "metadata": {},
   "source": [
    "To achieve a more reliable accuracy score we use k-fold cross validation. In this way we are performing the training on different train and validation fold and we avoid to have a better accuracy based only on the subjects we selected."
   ]
  },
  {
   "cell_type": "code",
   "execution_count": 74,
   "metadata": {},
   "outputs": [
    {
     "data": {
      "text/plain": [
       "\"\\n    # Visualizzazione dei risultati\\n    print(f'Accuratezza per ogni fold: {cv_results}')\\n    print(f'Accuratezza media: {cv_results.mean()}')\\n    print(f'Deviazione standard dell'accuratezza: {cv_results.std()}')\\n\""
      ]
     },
     "execution_count": 74,
     "metadata": {},
     "output_type": "execute_result"
    }
   ],
>>>>>>> f1f26a00b7669572d2b74200f158dca2dcb8e2cb
   "source": [
    "def k_fold_cross_validation(features_df, target_df, classifier, scaler=None, encoder=None, k=5):\n",
    "    # Separazione delle feature e del target\n",
    "    X = features_df  # Utilizziamo il DataFrame delle features senza modifiche\n",
    "    #y = target_df['DX_GROUP']  # Utilizziamo la colonna target come y direttamente\n",
    "    y = target_df\n",
    "    # Encoding delle features da numeriche a categoriche (opzionale)\n",
    "    if encoder:\n",
    "        X_encoded = encoder.fit_transform(X)\n",
    "    else:\n",
    "        X_encoded = X\n",
    "\n",
    "    # Normalizzazione dei dati (opzionale)\n",
    "    if scaler:\n",
    "        X_scaled = scaler.fit_transform(X_encoded)\n",
    "    else:\n",
    "        X_scaled = X_encoded\n",
    "\n",
    "    # Definizione della k-fold cross-validation\n",
    "    kf = KFold(n_splits=k, shuffle=True, random_state=42)\n",
    "\n",
    "    # Esecuzione della k-fold cross-validation\n",
    "    cv_results = cross_val_score(classifier, X_scaled, y, cv=kf, scoring='accuracy')\n",
    "'''\n",
    "    # Visualizzazione dei risultati\n",
    "    print(f'Accuratezza per ogni fold: {cv_results}')\n",
    "    print(f'Accuratezza media: {cv_results.mean()}')\n",
    "    print(f'Deviazione standard dell\\'accuratezza: {cv_results.std()}')\n",
    "'''\n",
    "\n"
   ]
  },
  {
   "cell_type": "markdown",
   "metadata": {},
   "source": [
    "# K-NEAREST NEIGHBOOR"
   ]
  },
  {
   "cell_type": "code",
<<<<<<< HEAD
   "execution_count": null,
   "metadata": {},
   "outputs": [],
=======
   "execution_count": 75,
   "metadata": {},
   "outputs": [
    {
     "name": "stdout",
     "output_type": "stream",
     "text": [
      "Risultati della cross-validation per tutte le combinazioni di iperparametri:\n",
      "Parametri: {'classifier__n_neighbors': 3}, Accuratezza media: 0.906 (±0.018), Precision media: 0.975, Richiamo medio: 0.866, F1-score medio: 0.917\n",
      "Parametri: {'classifier__n_neighbors': 5}, Accuratezza media: 0.899 (±0.011), Precision media: 0.979, Richiamo medio: 0.850, F1-score medio: 0.910\n",
      "Parametri: {'classifier__n_neighbors': 7}, Accuratezza media: 0.889 (±0.007), Precision media: 0.979, Richiamo medio: 0.835, F1-score medio: 0.901\n",
      "Parametri: {'classifier__n_neighbors': 9}, Accuratezza media: 0.878 (±0.019), Precision media: 0.981, Richiamo medio: 0.813, F1-score medio: 0.889\n",
      "Parametri: {'classifier__n_neighbors': 11}, Accuratezza media: 0.869 (±0.030), Precision media: 0.974, Richiamo medio: 0.804, F1-score medio: 0.880\n",
      "\n",
      "Miglior parametro trovato:\n",
      "Numero di vicini: 3\n",
      "Accuratezza media con il miglior parametro: 0.9063304531828601\n"
     ]
    }
   ],
>>>>>>> f1f26a00b7669572d2b74200f158dca2dcb8e2cb
   "source": [
    "# Suddividi il dataset in set di addestramento e set di test\n",
    "X_train, X_test, y_train, y_test = train_test_split(ASD_phenotypic, ASD_diagnosis['DX_GROUP'], test_size=0.3, random_state=42)\n",
    "X_train.shape, X_test.shape, y_train.shape, y_test.shape"
   ]
  },
  {
   "cell_type": "code",
   "execution_count": null,
   "metadata": {},
   "outputs": [],
   "source": [
    "\n",
    "classifier = KNeighborsClassifier()\n",
    "\n",
    "# Definizione delle metriche da utilizzare come scoring\n",
    "scoring = {\n",
    "    'accuracy': make_scorer(accuracy_score),\n",
    "    'precision': make_scorer(precision_score),\n",
    "    'recall': make_scorer(recall_score),\n",
    "    'f1_score': make_scorer(f1_score)\n",
    "}\n",
    "# Identifica le colonne categoriche\n",
    "#categorical_columns = ASD_phenotypic.select_dtypes(include=['object']).columns\n",
    "\n",
    "categorical_columns = X_train.select_dtypes(include=['object']).columns\n",
    "'''\n",
    "# Definisci il preprocessing delle colonne\n",
    "preprocessor = ColumnTransformer(\n",
    "    transformers=[\n",
    "        ('num', RobustScaler(), ~ASD_phenotypic.columns.isin(categorical_columns)),\n",
    "        ('cat', OneHotEncoder(handle_unknown='ignore'), categorical_columns)\n",
    "    ])'''\n",
    "\n",
    "# Definisci il preprocessing delle colonne\n",
    "preprocessor = ColumnTransformer(\n",
    "    transformers=[\n",
    "        ('num', RobustScaler(), ~X_train.columns.isin(categorical_columns)),\n",
    "        ('cat', OneHotEncoder(handle_unknown='ignore'), categorical_columns)\n",
    "    ])\n",
    "\n",
    "# Definisci il pipeline\n",
    "knn_pipeline = Pipeline([\n",
    "    ('preprocessor', preprocessor),\n",
    "    ('classifier', classifier)\n",
    "])\n",
    "\n",
    "\n",
    "# Definizione dei parametri della griglia da esplorare\n",
    "parameters = {'classifier__n_neighbors': [3, 5, 7, 9, 11]}  # Valori di n_neighbors da esplorare\n",
    "\n",
<<<<<<< HEAD
    "k_fold_cross_validation(X_train, y_train, pipeline)\n",
    "#k_fold_cross_validation(ASD_phenotypic, ASD_diagnosis, pipeline)\n",
=======
    "k_fold_cross_validation(ASD_phenotypic, ASD_diagnosis, knn_pipeline)\n",
>>>>>>> f1f26a00b7669572d2b74200f158dca2dcb8e2cb
    "\n",
    "# Creazione dell'oggetto GridSearchCV\n",
    "grid_search = GridSearchCV(knn_pipeline, parameters, cv=5, scoring=scoring, refit='accuracy')\n",
    "\n",
    "# Esecuzione della ricerca a griglia\n",
<<<<<<< HEAD
    "#grid_search.fit(ASD_phenotypic, ASD_diagnosis['DX_GROUP'])\n",
=======
>>>>>>> f1f26a00b7669572d2b74200f158dca2dcb8e2cb
    "grid_search.fit(X_train, y_train)\n",
    "\n",
    "# Visualizzazione dei risultati\n",
    "print(\"Risultati della cross-validation per tutte le combinazioni di iperparametri:\")\n",
    "\n",
    "means_accuracy = grid_search.cv_results_['mean_test_accuracy']\n",
    "stds_accuracy = grid_search.cv_results_['std_test_accuracy']\n",
    "means_precision = grid_search.cv_results_['mean_test_precision']\n",
    "means_recall = grid_search.cv_results_['mean_test_recall']\n",
    "means_f1_score = grid_search.cv_results_['mean_test_f1_score']\n",
    "params = grid_search.cv_results_['params']\n",
    "\n",
    "for mean_acc, std_acc, mean_prec, mean_rec, mean_f1, params in zip(means_accuracy, stds_accuracy, means_precision, means_recall, means_f1_score, params):\n",
    "    print(f\"Parametri: {params}, Accuratezza media: {mean_acc:.3f} (±{std_acc:.3f}), Precision media: {mean_prec:.3f}, Richiamo medio: {mean_rec:.3f}, F1-score medio: {mean_f1:.3f}\")\n",
    "\n",
    "print(\"\\nMiglior parametro trovato:\")\n",
    "print(\"Numero di vicini:\", grid_search.best_params_['classifier__n_neighbors'])\n",
    "print(\"Accuratezza media con il miglior parametro:\", grid_search.best_score_)\n"
   ]
  },
  {
   "cell_type": "code",
<<<<<<< HEAD
   "execution_count": null,
   "metadata": {},
   "outputs": [],
=======
   "execution_count": 76,
   "metadata": {},
   "outputs": [
    {
     "name": "stdout",
     "output_type": "stream",
     "text": [
      "\n",
      "Valutazione del modello sui dati di test:\n",
      "Accuratezza: 0.910\n",
      "Precisione: 0.986\n",
      "Richiamo: 0.866\n",
      "F1-score: 0.922\n"
     ]
    }
   ],
   "source": [
    "# Valutazione del modello sui dati di test\n",
    "best_model = grid_search.best_estimator_\n",
    "y_pred = best_model.predict(X_test)\n",
    "\n",
    "# Calcolo delle metriche sui dati di test\n",
    "accuracy = accuracy_score(y_test, y_pred)\n",
    "precision = precision_score(y_test, y_pred)\n",
    "recall = recall_score(y_test, y_pred)\n",
    "f1 = f1_score(y_test, y_pred)\n",
    "\n",
    "print(\"\\nValutazione del modello sui dati di test:\")\n",
    "print(f\"Accuratezza: {accuracy:.3f}\")\n",
    "print(f\"Precisione: {precision:.3f}\")\n",
    "print(f\"Richiamo: {recall:.3f}\")\n",
    "print(f\"F1-score: {f1:.3f}\")\n"
   ]
  },
  {
   "cell_type": "code",
   "execution_count": 77,
   "metadata": {},
   "outputs": [
    {
     "data": {
      "image/png": "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",
      "text/plain": [
       "<Figure size 800x600 with 2 Axes>"
      ]
     },
     "metadata": {},
     "output_type": "display_data"
    }
   ],
>>>>>>> f1f26a00b7669572d2b74200f158dca2dcb8e2cb
   "source": [
    "# Miglior modello trovato\n",
    "best_model = grid_search.best_estimator_\n",
    "\n",
    "# Calcola le previsioni del miglior modello sul set di test\n",
    "y_pred = best_model.predict(X_test)\n",
    "\n",
    "# Calcola la matrice di confusione\n",
    "conf_matrix = confusion_matrix(y_test, y_pred)\n",
    "\n",
    "# Visualizzazione della matrice di confusione\n",
    "plt.figure(figsize=(8, 6))\n",
    "sns.heatmap(conf_matrix, annot=True, cmap=\"Blues\", fmt=\"d\", xticklabels=['Control', 'ASD'], yticklabels=['Control', 'ASD'])\n",
    "plt.xlabel('Predicted Label')\n",
    "plt.ylabel('True Label')\n",
    "plt.title('Confusion Matrix')\n",
    "plt.show()\n"
   ]
  },
  {
   "cell_type": "code",
<<<<<<< HEAD
   "execution_count": null,
   "metadata": {},
   "outputs": [],
   "source": [
    "# Calcola le metriche di valutazione sul set di test\n",
    "accuracy_test = accuracy_score(y_test, y_pred)\n",
    "precision_test = precision_score(y_test, y_pred)\n",
    "recall_test = recall_score(y_test, y_pred)\n",
    "f1_score_test = f1_score(y_test, y_pred)"
   ]
  },
  {
   "cell_type": "code",
   "execution_count": null,
   "metadata": {},
   "outputs": [],
   "source": [
    "print(\"Performance sul set di test:\")\n",
    "print(\"Accuracy:\", accuracy_test)\n",
    "print(\"Precisione:\", precision_test)\n",
    "print(\"Recall:\", recall_test)\n",
    "print(\"F1 Score:\", f1_score_test)"
   ]
  },
  {
   "cell_type": "code",
   "execution_count": null,
   "metadata": {},
   "outputs": [],
=======
   "execution_count": 78,
   "metadata": {},
   "outputs": [
    {
     "data": {
      "text/plain": [
       "\"\\nVisualizzare l'effetto del modello sui dati attraverso un grafico di decisione\\n\\n# Riduzione della dimensione a 2D usando PCA (se ci sono più di due caratteristiche)\\npca = PCA(n_components=2)\\nASD_phenotypic_2d = pca.fit_transform(ASD_phenotypic)\\n\\n# Definizione del pipeline con PCA e il miglior modello trovato\\npipeline_2d = Pipeline([\\n    ('preprocessor', preprocessor),\\n    ('pca', PCA(n_components=2)),\\n    ('classifier', KNeighborsClassifier(n_neighbors=grid_search.best_params_['classifier__n_neighbors']))\\n])\\n\\n# Adattamento del pipeline\\npipeline_2d.fit(ASD_phenotypic, ASD_diagnosis['DX_GROUP'])\\n\\n# Creazione di una meshgrid per la visualizzazione delle regioni di decisione\\nh = .02  # passo della meshgrid\\nx_min, x_max = ASD_phenotypic_2d[:, 0].min() - 1, ASD_phenotypic_2d[:, 0].max() + 1\\ny_min, y_max = ASD_phenotypic_2d[:, 1].min() - 1, ASD_phenotypic_2d[:, 1].max() + 1\\nxx, yy = np.meshgrid(np.arange(x_min, x_max, h),\\n                     np.arange(y_min, y_max, h))\\n\\n# Predizione su ogni punto della meshgrid\\nZ = pipeline_2d.predict(np.c_[xx.ravel(), yy.ravel()])\\nZ = Z.reshape(xx.shape)\\n\\n# Creazione di un colormap per la visualizzazione delle regioni di decisione\\ncmap_light = ListedColormap(['#FFAAAA', '#AAAAFF'])\\ncmap_bold = ListedColormap(['#FF0000', '#0000FF'])\\n\\n# Visualizzazione delle regioni di decisione\\nplt.figure(figsize=(10, 8))\\nplt.contourf(xx, yy, Z, cmap=cmap_light)\\n\\n# Visualizzazione dei punti di addestramento\\nscatter = plt.scatter(ASD_phenotypic_2d[:, 0], ASD_phenotypic_2d[:, 1], c=ASD_diagnosis['DX_GROUP'], cmap=cmap_bold, edgecolor='k', s=20)\\nplt.legend(handles=scatter.legend_elements()[0], labels=['Control', 'ASD'])\\nplt.xlabel('Principal Component 1')\\nplt.ylabel('Principal Component 2')\\nplt.title('Decision Boundaries with k-NN')\\nplt.show()\\n\""
      ]
     },
     "execution_count": 78,
     "metadata": {},
     "output_type": "execute_result"
    }
   ],
>>>>>>> f1f26a00b7669572d2b74200f158dca2dcb8e2cb
   "source": [
    "'''\n",
    "Visualizzare l'effetto del modello sui dati attraverso un grafico di decisione\n",
    "\n",
    "# Riduzione della dimensione a 2D usando PCA (se ci sono più di due caratteristiche)\n",
    "pca = PCA(n_components=2)\n",
    "ASD_phenotypic_2d = pca.fit_transform(ASD_phenotypic)\n",
    "\n",
    "# Definizione del pipeline con PCA e il miglior modello trovato\n",
    "pipeline_2d = Pipeline([\n",
    "    ('preprocessor', preprocessor),\n",
    "    ('pca', PCA(n_components=2)),\n",
    "    ('classifier', KNeighborsClassifier(n_neighbors=grid_search.best_params_['classifier__n_neighbors']))\n",
    "])\n",
    "\n",
    "# Adattamento del pipeline\n",
    "pipeline_2d.fit(ASD_phenotypic, ASD_diagnosis['DX_GROUP'])\n",
    "\n",
    "# Creazione di una meshgrid per la visualizzazione delle regioni di decisione\n",
    "h = .02  # passo della meshgrid\n",
    "x_min, x_max = ASD_phenotypic_2d[:, 0].min() - 1, ASD_phenotypic_2d[:, 0].max() + 1\n",
    "y_min, y_max = ASD_phenotypic_2d[:, 1].min() - 1, ASD_phenotypic_2d[:, 1].max() + 1\n",
    "xx, yy = np.meshgrid(np.arange(x_min, x_max, h),\n",
    "                     np.arange(y_min, y_max, h))\n",
    "\n",
    "# Predizione su ogni punto della meshgrid\n",
    "Z = pipeline_2d.predict(np.c_[xx.ravel(), yy.ravel()])\n",
    "Z = Z.reshape(xx.shape)\n",
    "\n",
    "# Creazione di un colormap per la visualizzazione delle regioni di decisione\n",
    "cmap_light = ListedColormap(['#FFAAAA', '#AAAAFF'])\n",
    "cmap_bold = ListedColormap(['#FF0000', '#0000FF'])\n",
    "\n",
    "# Visualizzazione delle regioni di decisione\n",
    "plt.figure(figsize=(10, 8))\n",
    "plt.contourf(xx, yy, Z, cmap=cmap_light)\n",
    "\n",
    "# Visualizzazione dei punti di addestramento\n",
    "scatter = plt.scatter(ASD_phenotypic_2d[:, 0], ASD_phenotypic_2d[:, 1], c=ASD_diagnosis['DX_GROUP'], cmap=cmap_bold, edgecolor='k', s=20)\n",
    "plt.legend(handles=scatter.legend_elements()[0], labels=['Control', 'ASD'])\n",
    "plt.xlabel('Principal Component 1')\n",
    "plt.ylabel('Principal Component 2')\n",
    "plt.title('Decision Boundaries with k-NN')\n",
    "plt.show()\n",
    "'''"
   ]
  },
  {
   "cell_type": "markdown",
   "metadata": {},
   "source": [
    "# KNN con feature selection SFS"
   ]
  },
  {
   "cell_type": "code",
   "execution_count": null,
   "metadata": {},
   "outputs": [],
   "source": [
    "'''# Suddividi il dataset in set di addestramento e set di test\n",
    "X_train, X_test, y_train, y_test = train_test_split(ASD_phenotypic, ASD_diagnosis['DX_GROUP'], test_size=0.3, random_state=42)\n",
    "\n",
    "# Definisci il modello\n",
    "classifier = KNeighborsClassifier()\n",
    "\n",
    "# Definisci la Sequential Feature Selector\n",
    "sfs = SequentialFeatureSelector(classifier,\n",
    "                                k_features='best',  # Scegli il miglior set di features\n",
    "                                forward=True,  # Aggiungi le features in modo progressivo\n",
    "                                floating=False,  # Non utilizzare la ricerca flottante\n",
    "                                verbose=2,  # Mostra informazioni dettagliate\n",
    "                                scoring='accuracy',  # Criterio di performance\n",
    "                                cv=5)  # Cross-validation\n",
    "\n",
    "# Addestra la Sequential Feature Selector\n",
    "sfs.fit(X_train, y_train)\n",
    "\n",
    "# Visualizza le features selezionate\n",
    "selected_features = X_train.columns[list(sfs.k_feature_idx_)]\n",
    "print(\"Features selezionate:\", selected_features)'''\n"
   ]
  },
  {
   "cell_type": "markdown",
   "metadata": {},
   "source": [
    "# LINEAR REGRESSION"
   ]
  },
  {
   "cell_type": "code",
   "execution_count": null,
   "metadata": {},
   "outputs": [],
   "source": [
    "\n",
    "# Creazione dell'istanza del regressore lineare\n",
    "regressor = LinearRegression()\n",
    "\n",
    "# Definizione delle metriche da utilizzare come scoring\n",
    "scoring = {\n",
    "    'neg_mean_squared_error': 'neg_mean_squared_error',  # Per la regressione, di solito si usa l'errore quadratico medio negativo\n",
    "    'r2_score': 'r2'  # Coefficiente di determinazione (R²)\n",
    "}\n",
    "\n",
    "# Definisci il preprocessing delle colonne come hai fatto prima\n",
    "\n",
    "# Definisci il pipeline\n",
    "pipeline = Pipeline([\n",
    "    ('preprocessor', preprocessor),\n",
    "    ('regressor', regressor)\n",
    "])\n",
    "'''\n",
    "# Definizione dei parametri della griglia da esplorare\n",
    "parameters = {\n",
    "    'regressor__normalize': [True, False]  # Ad esempio, è possibile esplorare l'opzione di normalizzazione del regressore lineare\n",
    "}\n",
    "'''\n",
    "# Esegui la k-fold cross-validation e la ricerca dei parametri ottimali\n",
    "grid_search = GridSearchCV(pipeline, parameters, cv=5, scoring=scoring, refit='neg_mean_squared_error')\n",
    "grid_search.fit(X_train, y_train)\n",
    "\n",
    "# Visualizzazione dei risultati\n",
    "print(\"Risultati della cross-validation per tutte le combinazioni di iperparametri:\")\n",
    "\n",
    "means_mse = -grid_search.cv_results_['mean_test_neg_mean_squared_error']  # Converti l'errore quadratico medio negativo in positivo\n",
    "stds_mse = grid_search.cv_results_['std_test_neg_mean_squared_error']\n",
    "means_r2 = grid_search.cv_results_['mean_test_r2']\n",
    "params = grid_search.cv_results_['params']\n",
    "\n",
    "for mean_mse, std_mse, mean_r2, params in zip(means_mse, stds_mse, means_r2, params):\n",
    "    print(f\"Parametri: {params}, MSE medio: {mean_mse:.3f} (±{std_mse:.3f}), R² medio: {mean_r2:.3f}\")\n",
    "\n",
    "print(\"\\nMiglior parametro trovato:\")\n",
    "print(\"Parametri ottimali:\", grid_search.best_params_)\n",
    "print(\"MSE medio con i parametri ottimali:\", means_mse[grid_search.best_index_])  # MSE medio del miglior modello trovato\n",
    "print(\"R² medio con i parametri ottimali:\", means_r2[grid_search.best_index_])  # R² medio del miglior modello trovato\n",
    "\n",
    "# Miglior modello trovato\n",
    "best_model = grid_search.best_estimator_\n",
    "\n",
    "# Calcola le previsioni del miglior modello sul set di test\n",
    "y_pred = best_model.predict(X_test)\n",
    "\n"
   ]
  },
  {
   "cell_type": "code",
   "execution_count": null,
   "metadata": {},
   "outputs": [],
   "source": [
    "# Calcola la matrice di confusione\n",
    "conf_matrix = confusion_matrix(y_test, y_pred)\n",
    "\n",
    "# Visualizzazione della matrice di confusione\n",
    "plt.figure(figsize=(8, 6))\n",
    "sns.heatmap(conf_matrix, annot=True, cmap=\"Blues\", fmt=\"d\", xticklabels=['Control', 'ASD'], yticklabels=['Control', 'ASD'])\n",
    "plt.xlabel('Predicted Label')\n",
    "plt.ylabel('True Label')\n",
    "plt.title('Confusion Matrix')\n",
    "plt.show()"
   ]
  },
  {
   "cell_type": "code",
   "execution_count": null,
   "metadata": {},
   "outputs": [],
   "source": [
    "# Calcola le metriche di valutazione sul set di test\n",
    "accuracy_test = accuracy_score(y_test, y_pred)\n",
    "precision_test = precision_score(y_test, y_pred)\n",
    "recall_test = recall_score(y_test, y_pred)\n",
    "f1_score_test = f1_score(y_test, y_pred)\n",
    "print(\"Performance sul set di test:\")\n",
    "print(\"Accuracy:\", accuracy_test)\n",
    "print(\"Precisione:\", precision_test)\n",
    "print(\"Recall:\", recall_test)\n",
    "print(\"F1 Score:\", f1_score_test)"
   ]
  },
  {
   "cell_type": "markdown",
   "metadata": {},
   "source": [
    "## Random Forest"
   ]
  },
  {
   "cell_type": "markdown",
   "metadata": {},
   "source": [
    "To use the Random Forest classifier, I need to have only numerical features, so we will use one-hot-encoding to turn the categorical features (which aren't ordinal) into numerical features. It's not necessary to perform any normalization, but as we want to compare the performance of this classifier with others that use normalization, we will also use normalized data to train this classifier (it's not harmfull for the Random Forest Classifier)."
   ]
  },
  {
   "cell_type": "code",
   "execution_count": 79,
   "metadata": {},
   "outputs": [
    {
     "name": "stdout",
     "output_type": "stream",
     "text": [
      "Risultati della cross-validation per tutte le combinazioni di iperparametri:\n",
      "Parametri: {'classifier__n_estimators': 5}, Accuratezza media: 0.938 (±0.024), Precision media: 0.957, Richiamo medio: 0.941, F1-score medio: 0.948\n",
      "Parametri: {'classifier__n_estimators': 10}, Accuratezza media: 0.953 (±0.030), Precision media: 0.963, Richiamo medio: 0.960, F1-score medio: 0.961\n",
      "Parametri: {'classifier__n_estimators': 20}, Accuratezza media: 0.938 (±0.018), Precision media: 0.960, Richiamo medio: 0.938, F1-score medio: 0.948\n",
      "\n",
      "Miglior parametro trovato:\n",
      "Number of trees in the random forest: 10\n",
      "Accuratezza media con il miglior parametro: 0.9530770587198025\n"
     ]
    }
   ],
   "source": [
    "classifier = RandomForestClassifier()\n",
    "\n",
    "# Definizione delle metriche da utilizzare come scoring\n",
    "scoring = {\n",
    "    'accuracy': make_scorer(accuracy_score),\n",
    "    'precision': make_scorer(precision_score),\n",
    "    'recall': make_scorer(recall_score),\n",
    "    'f1_score': make_scorer(f1_score)\n",
    "}\n",
    "\n",
    "# Identifica le colonne categoriche\n",
    "categorical_columns = ASD_phenotypic.select_dtypes(include=['object']).columns\n",
    "\n",
    "# Definisci il preprocessing delle colonne\n",
    "preprocessor = ColumnTransformer(\n",
    "    transformers=[\n",
    "        ('num', RobustScaler(), ~ASD_phenotypic.columns.isin(categorical_columns)),\n",
    "        ('cat', OneHotEncoder(handle_unknown='ignore'), categorical_columns)\n",
    "    ])\n",
    "\n",
    "# Definisci il pipeline\n",
    "rf_pipeline = Pipeline([\n",
    "    ('preprocessor', preprocessor),\n",
    "    ('classifier', classifier)\n",
    "])\n",
    "\n",
    "\n",
    "# Definizione dei parametri della griglia da esplorare\n",
    "parameters = {'classifier__n_estimators': [5, 10, 20]}  # Quantity of trees to use in the Random Forest\n",
    "\n",
    "k_fold_cross_validation(ASD_phenotypic, ASD_diagnosis, rf_pipeline)\n",
    "\n",
    "# Creazione dell'oggetto GridSearchCV\n",
    "grid_search = GridSearchCV(rf_pipeline, parameters, cv=5, scoring=scoring, refit='accuracy')\n",
    "\n",
    "# Esecuzione della ricerca a griglia\n",
    "#grid_search.fit(ASD_phenotypic, ASD_diagnosis['DX_GROUP'])\n",
    "grid_search.fit(X_train, y_train)\n",
    "\n",
    "# Visualizzazione dei risultati\n",
    "print(\"Risultati della cross-validation per tutte le combinazioni di iperparametri:\")\n",
    "\n",
    "means_accuracy = grid_search.cv_results_['mean_test_accuracy']\n",
    "stds_accuracy = grid_search.cv_results_['std_test_accuracy']\n",
    "means_precision = grid_search.cv_results_['mean_test_precision']\n",
    "means_recall = grid_search.cv_results_['mean_test_recall']\n",
    "means_f1_score = grid_search.cv_results_['mean_test_f1_score']\n",
    "params = grid_search.cv_results_['params']\n",
    "\n",
    "for mean_acc, std_acc, mean_prec, mean_rec, mean_f1, params in zip(means_accuracy, stds_accuracy, means_precision, means_recall, means_f1_score, params):\n",
    "    print(f\"Parametri: {params}, Accuratezza media: {mean_acc:.3f} (±{std_acc:.3f}), Precision media: {mean_prec:.3f}, Richiamo medio: {mean_rec:.3f}, F1-score medio: {mean_f1:.3f}\")\n",
    "\n",
    "print(\"\\nMiglior parametro trovato:\")\n",
    "print(\"Number of trees in the random forest:\", grid_search.best_params_['classifier__n_estimators'])\n",
    "print(\"Accuratezza media con il miglior parametro:\", grid_search.best_score_)\n"
   ]
  },
  {
   "cell_type": "code",
   "execution_count": 80,
   "metadata": {},
   "outputs": [
    {
     "name": "stdout",
     "output_type": "stream",
     "text": [
      "\n",
      "Valutazione del modello sui dati di test:\n",
      "Accuratezza: 0.948\n",
      "Precisione: 0.931\n",
      "Richiamo: 0.988\n",
      "F1-score: 0.959\n"
     ]
    }
   ],
   "source": [
    "# Valutazione del modello sui dati di test\n",
    "best_model = grid_search.best_estimator_\n",
    "y_pred = best_model.predict(X_test)\n",
    "\n",
    "# Calcolo delle metriche sui dati di test\n",
    "accuracy = accuracy_score(y_test, y_pred)\n",
    "precision = precision_score(y_test, y_pred)\n",
    "recall = recall_score(y_test, y_pred)\n",
    "f1 = f1_score(y_test, y_pred)\n",
    "\n",
    "print(\"\\nValutazione del modello sui dati di test:\")\n",
    "print(f\"Accuratezza: {accuracy:.3f}\")\n",
    "print(f\"Precisione: {precision:.3f}\")\n",
    "print(f\"Richiamo: {recall:.3f}\")\n",
    "print(f\"F1-score: {f1:.3f}\")\n"
   ]
  },
  {
   "cell_type": "code",
   "execution_count": 81,
   "metadata": {},
   "outputs": [
    {
     "data": {
      "image/png": "iVBORw0KGgoAAAANSUhEUgAAAoAAAAIjCAYAAACTRapjAAAAOXRFWHRTb2Z0d2FyZQBNYXRwbG90bGliIHZlcnNpb24zLjcuMSwgaHR0cHM6Ly9tYXRwbG90bGliLm9yZy/bCgiHAAAACXBIWXMAAA9hAAAPYQGoP6dpAABJ7UlEQVR4nO3deVxV1f7/8fcB5IAig4YMqYBDKs6aKVJOoWSTpt3ULHFqMDMVbaCrOaThtXLMbLjkUA7lrezrkGaOmWiO5ZQ5JZaAXhVwAhH2749+ntsJTY5xOMR+Pe9jPx6dtfde67PP42qfPmvtdSyGYRgCAACAabi5OgAAAAAULxJAAAAAkyEBBAAAMBkSQAAAAJMhAQQAADAZEkAAAACTIQEEAAAwGRJAAAAAkyEBBAAAMBkSQAB/6uDBg+rQoYP8/PxksVi0ePHiIu3/559/lsVi0ezZs4u037+zNm3aqE2bNq4OA0ApRgII/A0cPnxYTz31lKpVqyYvLy/5+voqOjpaU6dO1aVLl5w6dlxcnHbv3q3x48frww8/1O233+7U8YpT7969ZbFY5Ovre83v8eDBg7JYLLJYLHrjjTcc7v/EiRMaPXq0du3aVQTRAkDR8XB1AAD+3LJly/SPf/xDVqtVvXr1Ur169XT58mVt3LhRzz//vPbu3av33nvPKWNfunRJycnJ+uc//6lnn33WKWOEhYXp0qVLKlOmjFP6vxEPDw9dvHhRS5Ys0SOPPGJ3bt68efLy8lJ2dvZN9X3ixAmNGTNG4eHhatSoUaHv++qrr25qPAAoLBJAoAQ7evSounfvrrCwMK1Zs0YhISG2cwMHDtShQ4e0bNkyp41/6tQpSZK/v7/TxrBYLPLy8nJa/zditVoVHR2tBQsWFEgA58+fr/vuu0+ffvppscRy8eJFlS1bVp6ensUyHgDzYgoYKMEmTpyo8+fPKykpyS75u6pGjRoaPHiw7fOVK1f06quvqnr16rJarQoPD9fLL7+snJwcu/vCw8N1//33a+PGjbrjjjvk5eWlatWqae7cubZrRo8erbCwMEnS888/L4vFovDwcEm/TZ1e/effGz16tCwWi13bqlWrdOedd8rf318+Pj6qVauWXn75Zdv5660BXLNmje666y6VK1dO/v7+6tSpk/bv33/N8Q4dOqTevXvL399ffn5+6tOnjy5evHj9L/YPHn30UX355ZfKyMiwtW3dulUHDx7Uo48+WuD6M2fOaPjw4apfv758fHzk6+urjh076vvvv7dds27dOjVr1kyS1KdPH9tU8tXnbNOmjerVq6ft27erVatWKlu2rO17+eMawLi4OHl5eRV4/tjYWAUEBOjEiROFflYAkEgAgRJtyZIlqlatmlq2bFmo6/v3769XXnlFTZo00eTJk9W6dWslJiaqe/fuBa49dOiQHn74YbVv315vvvmmAgIC1Lt3b+3du1eS1KVLF02ePFmS1KNHD3344YeaMmWKQ/Hv3btX999/v3JycjR27Fi9+eabevDBB/Xtt9/+6X1ff/21YmNjdfLkSY0ePVrx8fHatGmToqOj9fPPPxe4/pFHHtG5c+eUmJioRx55RLNnz9aYMWMKHWeXLl1ksVj02Wef2drmz5+v2rVrq0mTJgWuP3LkiBYvXqz7779fkyZN0vPPP6/du3erdevWtmSsTp06Gjt2rCTpySef1IcffqgPP/xQrVq1svVz+vRpdezYUY0aNdKUKVPUtm3ba8Y3depUBQYGKi4uTnl5eZKkd999V1999ZWmT5+u0NDQQj8rAEiSDAAlUmZmpiHJ6NSpU6Gu37VrlyHJ6N+/v1378OHDDUnGmjVrbG1hYWGGJGPDhg22tpMnTxpWq9UYNmyYre3o0aOGJOP111+36zMuLs4ICwsrEMOoUaOM3/+1MnnyZEOScerUqevGfXWMWbNm2doaNWpkVKpUyTh9+rSt7fvvvzfc3NyMXr16FRivb9++dn0+9NBDRsWKFa875u+fo1y5coZhGMbDDz9s3H333YZhGEZeXp4RHBxsjBkz5prfQXZ2tpGXl1fgOaxWqzF27Fhb29atWws821WtW7c2JBnvvPPONc+1bt3arm3lypWGJGPcuHHGkSNHDB8fH6Nz5843fEYAuBYqgEAJlZWVJUkqX758oa5fvny5JCk+Pt6ufdiwYZJUYK1gZGSk7rrrLtvnwMBA1apVS0eOHLnpmP/o6trBL774Qvn5+YW6JzU1Vbt27VLv3r1VoUIFW3uDBg3Uvn1723P+3tNPP233+a677tLp06dt32FhPProo1q3bp3S0tK0Zs0apaWlXXP6V/pt3aCb229/febl5en06dO26e0dO3YUekyr1ao+ffoU6toOHTroqaee0tixY9WlSxd5eXnp3XffLfRYAPB7JIBACeXr6ytJOnfuXKGuP3bsmNzc3FSjRg279uDgYPn7++vYsWN27VWrVi3QR0BAgM6ePXuTERfUrVs3RUdHq3///goKClL37t31ySef/GkyeDXOWrVqFThXp04d/fe//9WFCxfs2v/4LAEBAZLk0LPce++9Kl++vD7++GPNmzdPzZo1K/BdXpWfn6/JkyerZs2aslqtuuWWWxQYGKgffvhBmZmZhR7z1ltvdeiFjzfeeEMVKlTQrl27NG3aNFWqVKnQ9wLA75EAAiWUr6+vQkNDtWfPHofu++NLGNfj7u5+zXbDMG56jKvr067y9vbWhg0b9PXXX+vxxx/XDz/8oG7duql9+/YFrv0r/sqzXGW1WtWlSxfNmTNHn3/++XWrf5L02muvKT4+Xq1atdJHH32klStXatWqVapbt26hK53Sb9+PI3bu3KmTJ09Kknbv3u3QvQDweySAQAl2//336/Dhw0pOTr7htWFhYcrPz9fBgwft2tPT05WRkWF7o7coBAQE2L0xe9Ufq4yS5ObmprvvvluTJk3Svn37NH78eK1Zs0Zr1669Zt9X4zxw4ECBcz/++KNuueUWlStX7q89wHU8+uij2rlzp86dO3fNF2eu+s9//qO2bdsqKSlJ3bt3V4cOHRQTE1PgOylsMl4YFy5cUJ8+fRQZGaknn3xSEydO1NatW4usfwDmQgIIlGAvvPCCypUrp/79+ys9Pb3A+cOHD2vq1KmSfpvClFTgTd1JkyZJku67774ii6t69erKzMzUDz/8YGtLTU3V559/bnfdmTNnCtx7dUPkP25Nc1VISIgaNWqkOXPm2CVUe/bs0VdffWV7Tmdo27atXn31Vb311lsKDg6+7nXu7u4FqouLFi3Sr7/+atd2NVG9VrLsqBdffFEpKSmaM2eOJk2apPDwcMXFxV33ewSAP8NG0EAJVr16dc2fP1/dunVTnTp17H4JZNOmTVq0aJF69+4tSWrYsKHi4uL03nvvKSMjQ61bt9Z3332nOXPmqHPnztfdYuRmdO/eXS+++KIeeughPffcc7p48aJmzpyp2267ze4liLFjx2rDhg267777FBYWppMnT+rtt99W5cqVdeedd163/9dff10dO3ZUVFSU+vXrp0uXLmn69Ony8/PT6NGji+w5/sjNzU0jRoy44XX333+/xo4dqz59+qhly5bavXu35s2bp2rVqtldV716dfn7++udd95R+fLlVa5cOTVv3lwREREOxbVmzRq9/fbbGjVqlG1bmlmzZqlNmzYaOXKkJk6c6FB/AMA2MMDfwE8//WQ88cQTRnh4uOHp6WmUL1/eiI6ONqZPn25kZ2fbrsvNzTXGjBljREREGGXKlDGqVKliJCQk2F1jGL9tA3PfffcVGOeP249cbxsYwzCMr776yqhXr57h6elp1KpVy/joo48KbAOzevVqo1OnTkZoaKjh6elphIaGGj169DB++umnAmP8cauUr7/+2oiOjja8vb0NX19f44EHHjD27dtnd83V8f64zcysWbMMScbRo0ev+50ahv02MNdzvW1ghg0bZoSEhBje3t5GdHS0kZycfM3tW7744gsjMjLS8PDwsHvO1q1bG3Xr1r3mmL/vJysrywgLCzOaNGli5Obm2l03dOhQw83NzUhOTv7TZwCAP7IYhgOrpAEAAPC3xxpAAAAAkyEBBAAAMBkSQAAAAJMhAQQAADAZEkAAAACTIQEEAAAwGRJAAAAAkymVvwTi3fhZV4cAwEnObn3L1SEAcBIvF2YlzswdLu0seX9vUQEEAAAwGRJAAAAAi5vzDgfk5eVp5MiRioiIkLe3t6pXr65XX31Vv//hNsMw9MorrygkJETe3t6KiYnRwYMHHRqHBBAAAMBicd7hgH/961+aOXOm3nrrLe3fv1//+te/NHHiRE2fPt12zcSJEzVt2jS988472rJli8qVK6fY2FhlZ2cXepxSuQYQAACgpMjJyVFOTo5dm9VqldVqLXDtpk2b1KlTJ913332SpPDwcC1YsEDfffedpN+qf1OmTNGIESPUqVMnSdLcuXMVFBSkxYsXq3v37oWKiQogAACAE6eAExMT5efnZ3ckJiZeM4yWLVtq9erV+umnnyRJ33//vTZu3KiOHTtKko4ePaq0tDTFxMTY7vHz81Pz5s2VnJxc6MelAggAAOBECQkJio+Pt2u7VvVPkl566SVlZWWpdu3acnd3V15ensaPH6+ePXtKktLS0iRJQUFBdvcFBQXZzhUGCSAAAICDa/Uccb3p3mv55JNPNG/ePM2fP19169bVrl27NGTIEIWGhiouLq7IYiIBBAAAKCGef/55vfTSS7a1fPXr19exY8eUmJiouLg4BQcHS5LS09MVEhJiuy89PV2NGjUq9DisAQQAACgh28BcvHhRbm7297i7uys/P1+SFBERoeDgYK1evdp2PisrS1u2bFFUVFShx6ECCAAAUEI88MADGj9+vKpWraq6detq586dmjRpkvr27StJslgsGjJkiMaNG6eaNWsqIiJCI0eOVGhoqDp37lzocUgAAQAAnLgG0BHTp0/XyJEj9cwzz+jkyZMKDQ3VU089pVdeecV2zQsvvKALFy7oySefVEZGhu68806tWLFCXl5ehR7HYvx+a+lSgt8CBkovfgsYKL1c+lvALV50Wt+XNv/LaX3fLNYAAgAAmAxTwAAAACVkCri4UAEEAAAwGSqAAAAADm7X8ndnrqcFAAAAFUAAAADWAAIAAKBUowIIAABgsjWAJIAAAABMAQMAAKA0owIIAABgsilgcz0tAAAAqAACAABQAQQAAECpRgUQAADAjbeAAQAAUIpRAQQAADDZGkASQAAAADaCBgAAQGlGBRAAAMBkU8DmeloAAABQAQQAAGANIAAAAEo1KoAAAACsAQQAAEBpRgUQAADAZGsASQABAACYAgYAAEBpRgUQAADAZFPAVAABAABMhgogAAAAawABAABQmlEBBAAAYA0gAAAASjMqgAAAACZbA0gCCAAAYLIE0FxPCwAAACqAAAAAvAQCAACAUo0KIAAAAGsAAQAAUJpRAQQAAGANIAAAAEozKoAAAAAmWwNIAggAAMAUMAAAAEozEkAAAGB6FovFaYcjwsPDr9nHwIEDJUnZ2dkaOHCgKlasKB8fH3Xt2lXp6ekOPy8JIAAAQAmxdetWpaam2o5Vq1ZJkv7xj39IkoYOHaolS5Zo0aJFWr9+vU6cOKEuXbo4PA5rAAEAgOk5WqlzlsDAQLvPEyZMUPXq1dW6dWtlZmYqKSlJ8+fPV7t27SRJs2bNUp06dbR582a1aNGi0ONQAQQAAHCinJwcZWVl2R05OTk3vO/y5cv66KOP1LdvX1ksFm3fvl25ubmKiYmxXVO7dm1VrVpVycnJDsVEAggAAGBx3pGYmCg/Pz+7IzEx8YYhLV68WBkZGerdu7ckKS0tTZ6envL397e7LigoSGlpaQ49LlPAAAAATpSQkKD4+Hi7NqvVesP7kpKS1LFjR4WGhhZ5TCSAAADA9Jy5BtBqtRYq4fu9Y8eO6euvv9Znn31mawsODtbly5eVkZFhVwVMT09XcHCwQ/0zBQwAAEyvpGwDc9WsWbNUqVIl3Xfffba2pk2bqkyZMlq9erWt7cCBA0pJSVFUVJRD/VMBBAAAKEHy8/M1a9YsxcXFycPjf6man5+f+vXrp/j4eFWoUEG+vr4aNGiQoqKiHHoDWCIBBAAAKDHbwEjS119/rZSUFPXt27fAucmTJ8vNzU1du3ZVTk6OYmNj9fbbbzs8hsUwDKMogi1JvBs/6+oQADjJ2a1vuToEAE7i5cKylG/3uU7rO2thL6f1fbOoAAIAANMrSRXA4sBLIAAAACZDBRAAAMBcBUAqgAAAAGZDBRAAAJgeawABAABQqlEBBAAApme2CiAJIAAAMD2zJYBMAQMAAJgMFUAAAGB6VAABAABQqlEBBAAAMFcBkAogAACA2VABBAAApscaQAAAAJRqVAABAIDpma0CSAIIAABMz2wJIFPAAAAAJkMFEAAAwFwFQCqAAAAAZkMFEAAAmB5rAAEAAFCqUQEEAACmZ7YKoEsSwKysrEJf6+vr68RIAAAAzMclCaC/v/8NM23DMGSxWJSXl1dMUQEAALOiAlgM1q5d64phAQAArokEsBi0bt3aFcMCAABAJeQlkIyMDCUlJWn//v2SpLp166pv377y8/NzcWQAAMAUzFUAdP02MNu2bVP16tU1efJknTlzRmfOnNGkSZNUvXp17dixw9XhAQAAlDourwAOHTpUDz74oN5//315ePwWzpUrV9S/f38NGTJEGzZscHGEAACgtGMNYDHbtm2bXfInSR4eHnrhhRd0++23uzAyAACA0snlU8C+vr5KSUkp0H78+HGVL1/eBREBAACzsVgsTjtKIpcngN26dVO/fv308ccf6/jx4zp+/LgWLlyo/v37q0ePHq4ODwAAoNRx+RTwG2+8IYvFol69eunKlSuSpDJlymjAgAGaMGGCi6MDAABmUFIrdc7i0gQwLy9Pmzdv1ujRo5WYmKjDhw9LkqpXr66yZcu6MjQAAGAm5sr/XJsAuru7q0OHDtq/f78iIiJUv359V4YDAABgCi5fA1ivXj0dOXLE1WEAAAAT4yWQYjZu3DgNHz5cS5cuVWpqqrKysuwOAAAAFC2XvwRy7733SpIefPBBuyzZMAxZLBbl5eW5KjQAAGASJbVS5ywuTwDXrl3r6hAAAABMxeUJYEREhKpUqVIg8zYMQ8ePH3dRVChJ3NwsGvH0vepxbzMFVfRV6qlMfbhkiya8v8J2Tad2DdX/4TvVuE5VVfQvp+bdEvXDT7+6MGoAN2v7tq2a/UGS9u/bo1OnTmnytBlqd3eMq8NCKWe2CqDL1wBGRETo1KlTBdrPnDmjiIgIF0SEkmZY7/Z64uG7NHTCIjXqMk4jpn2h+LgYPdOjte2ast6e2rTrsEZMW+y6QAEUiUuXLqpWrVpKGDHK1aEApZbLK4BX1/r90fnz5+Xl5eWCiFDStGhYTUvX/6AVG/dKklJSz+iRe27X7XXDbNcsWLZVklQ1pIJLYgRQdO68q7XuvKv1jS8EipDZKoAuSwDj4+Ml/faFjxw50m7j57y8PG3ZskWNGjVyUXQoSTZ/f0T9ukarRtVKOpRyUvVvu1VRjarppTc/c3VoAIDSwlz5n+sSwJ07d0r6rQK4e/dueXp62s55enqqYcOGGj58+A37ycnJUU5Ojl2bkZ8ni5t70QYMl3lj1ir5+njp+89HKC/PkLu7RaNmLNXCL7e5OjQAAP6WXJYAXn37t0+fPpo6dap8fX1vqp/ExESNGTPGrs09qJnKhNzxl2NEyfBwhybq3rGZer88R/sOp6pBrVv1+vCHlXoqU/OWbHF1eACAUsBsU8Aufwlk1qxZN538SVJCQoIyMzPtDo+gpkUYIVzttSGd9casVVq0crv2HjqhBcu2avq8NXq+T3tXhwYAwN+SyxPACxcuaOTIkWrZsqVq1KihatWq2R03YrVa5evra3cw/Vu6eHt5Kt/It2vLyzfk5uby//sCAEqJkvRTcL/++qsee+wxVaxYUd7e3qpfv762bfvfsifDMPTKK68oJCRE3t7eiomJ0cGDBx0aw+VvAffv31/r16/X448/rpCQENOVYHFjyzfs1ov9YnU89az2HU5Vo9qV9dxjbTV38WbbNQG+ZVUlOEAhlfwkSbeFB0mS0k9nKf30OZfEDeDmXLxwQSkpKbbPv/7yi37cv19+fn4KCQ11YWSA8509e1bR0dFq27atvvzySwUGBurgwYMKCAiwXTNx4kRNmzZNc+bMUUREhEaOHKnY2Fjt27ev0DuoWAzDMJz1EIXh7++vZcuWKTo6usj69G78bJH1BdfzKWvVqGfu14PtGiowwEeppzL1yYrteu29L5V75befCnzsgeZ6f+zjBe4d985yjX93eXGHDCc6u/UtV4cAJ9v63Rb179OrQPuDnR7Sq69NcEFEKC5eLixL1Rj+pdP6PvRGx0Jf+9JLL+nbb7/VN998c83zhmEoNDRUw4YNs70sm5mZqaCgIM2ePVvdu3cv1DguTwAjIiK0fPly1alTp8j6JAEESi8SQKD0Kq0J4N7x7QrsWGK1WmW1WgtcGxkZqdjYWP3yyy9av369br31Vj3zzDN64oknJElHjhxR9erVtXPnTrvt8lq3bq1GjRpp6tSphYrJ5YuoXn31Vb3yyiu6ePGiq0MBAAAm5cw1gImJifLz87M7EhMTrxnHkSNHNHPmTNWsWVMrV67UgAED9Nxzz2nOnDmSpLS0NElSUFCQ3X1BQUG2c4Xh8jWAb775pg4fPqygoCCFh4erTJkydud37NjhosgAAIBZOPMVhISEBNsPYFx1reqfJOXn5+v222/Xa6+9Jklq3Lix9uzZo3feeUdxcXFFFpPLE8DOnTu7OgQAAACnud5077WEhIQoMjLSrq1OnTr69NNPJUnBwcGSpPT0dIWEhNiuSU9Pd+gX1FyeAI4axY99AwAA1yopu5BER0frwIEDdm0//fSTwsLCJP327kRwcLBWr15tS/iysrK0ZcsWDRgwoNDjuDwBvGr79u3av3+/JKlu3bpq3LixiyMCAAAoXkOHDlXLli312muv6ZFHHtF3332n9957T++9956k3xLVIUOGaNy4capZs6ZtG5jQ0FCHZlVdngCePHlS3bt317p16+Tv7y9JysjIUNu2bbVw4UIFBga6NkAAAFDqlZACoJo1a6bPP/9cCQkJGjt2rCIiIjRlyhT17NnTds0LL7ygCxcu6Mknn1RGRobuvPNOrVixotB7AEolYBuYbt266ciRI5o7d65tK5h9+/YpLi5ONWrU0IIFCxzuk21ggNKLbWCA0suV28DUfmml0/r+cUKs0/q+WS6vAK5YsUJff/213T6AkZGRmjFjhjp06ODCyAAAgFm4uZWQEmAxcfk+gPn5+QW2fpGkMmXKKD8//xp3AAAA4K9weQLYrl07DR48WCdOnLC1/frrrxo6dKjuvvtuF0YGAADMwmJx3lESuTwBfOutt5SVlaXw8HBVr15d1atXV0REhLKysjR9+nRXhwcAAEzAmb8EUhK5fA1glSpVtGPHDn399df68ccfJf224WFMTIyLIwMAACidXFYBXLNmjSIjI5WVlSWLxaL27dtr0KBBGjRokJo1a6a6devqm2++cVV4AADARJgCLiZTpkzRE088IV9f3wLn/Pz89NRTT2nSpEkuiAwAAKB0c1kC+P333+uee+657vkOHTpo+/btxRgRAAAwK7OtAXRZApienn7N7V+u8vDw0KlTp4oxIgAAAHNwWQJ46623as+ePdc9/8MPPygkJKQYIwIAAGZFBbCY3HvvvRo5cqSys7MLnLt06ZJGjRql+++/3wWRAQAAlG4u2wZmxIgR+uyzz3Tbbbfp2WefVa1atSRJP/74o2bMmKG8vDz985//dFV4AADAREpooc5pXJYABgUFadOmTRowYIASEhJkGIak30qwsbGxmjFjhoKCglwVHgAAMJGSOlXrLC7dCDosLEzLly/X2bNndejQIRmGoZo1ayogIMCVYQEAAJRqLv8lEEkKCAhQs2bNXB0GAAAwKZMVAF3/W8AAAAAoXiWiAggAAOBKZlsDSAUQAADAZKgAAgAA0zNZAZAKIAAAgNlQAQQAAKbHGkAAAACUalQAAQCA6ZmsAEgCCAAAwBQwAAAASjUqgAAAwPRMVgCkAggAAGA2VAABAIDpsQYQAAAApRoVQAAAYHomKwBSAQQAADAbKoAAAMD0zLYGkAQQAACYnsnyP6aAAQAAzIYKIAAAMD2zTQFTAQQAADAZKoAAAMD0qAACAACgVKMCCAAATM9kBUAqgAAAAGZDBRAAAJie2dYAkgACAADTM1n+xxQwAACA2VABBAAApme2KWAqgAAAACZDBRAAAJieyQqAVAABAADMhgQQAACYnpvF4rTDEaNHj5bFYrE7ateubTufnZ2tgQMHqmLFivLx8VHXrl2Vnp7u+PM6fAcAAACcpm7dukpNTbUdGzdutJ0bOnSolixZokWLFmn9+vU6ceKEunTp4vAYrAEEAACmV5LWAHp4eCg4OLhAe2ZmppKSkjR//ny1a9dOkjRr1izVqVNHmzdvVosWLQo9BhVAAABgen+cdi3KIycnR1lZWXZHTk7OdWM5ePCgQkNDVa1aNfXs2VMpKSmSpO3btys3N1cxMTG2a2vXrq2qVasqOTnZoeclAQQAAHCixMRE+fn52R2JiYnXvLZ58+aaPXu2VqxYoZkzZ+ro0aO66667dO7cOaWlpcnT01P+/v529wQFBSktLc2hmJgCBgAApufmxCnghIQExcfH27VZrdZrXtuxY0fbPzdo0EDNmzdXWFiYPvnkE3l7exdZTFQAAQAAnMhqtcrX19fuuF4C+Ef+/v667bbbdOjQIQUHB+vy5cvKyMiwuyY9Pf2aawb/DAkgAAAwPWeuAfwrzp8/r8OHDyskJERNmzZVmTJltHr1atv5AwcOKCUlRVFRUQ71yxQwAABACTF8+HA98MADCgsL04kTJzRq1Ci5u7urR48e8vPzU79+/RQfH68KFSrI19dXgwYNUlRUlENvAEskgAAAACVmG5hffvlFPXr00OnTpxUYGKg777xTmzdvVmBgoCRp8uTJcnNzU9euXZWTk6PY2Fi9/fbbDo9jMQzDKOrgXc278bOuDgGAk5zd+parQwDgJF4uLEvd9+53Tut72VN3OK3vm0UFEAAAmJ5FJaQEWExIAAEAgOk5cxuYkoi3gAEAAEyGCiAAADC9v7pdy98NFUAAAACToQIIAABMz2QFQCqAAAAAZkMFEAAAmJ6byUqAVAABAABMhgogAAAwPZMVAEkAAQAAzLYNTKESwB9++KHQHTZo0OCmgwEAAIDzFSoBbNSokSwWiwzDuOb5q+csFovy8vKKNEAAAABnM1kBsHAJ4NGjR50dBwAAAIpJoRLAsLAwZ8cBAADgMmwDUwgffvihoqOjFRoaqmPHjkmSpkyZoi+++KJIgwMAAEDRczgBnDlzpuLj43XvvfcqIyPDtubP399fU6ZMKer4AAAAnM7ixKMkcjgBnD59ut5//33985//lLu7u6399ttv1+7du4s0OAAAABQ9h/cBPHr0qBo3blyg3Wq16sKFC0USFAAAQHEy2z6ADlcAIyIitGvXrgLtK1asUJ06dYoiJgAAgGLlZnHeURI5XAGMj4/XwIEDlZ2dLcMw9N1332nBggVKTEzUv//9b2fECAAAgCLkcALYv39/eXt7a8SIEbp48aIeffRRhYaGaurUqerevbszYgQAAHAqs00B39RvAffs2VM9e/bUxYsXdf78eVWqVKmo4wIAAICT3FQCKEknT57UgQMHJP2WNQcGBhZZUAAAAMXJZAVAx18COXfunB5//HGFhoaqdevWat26tUJDQ/XYY48pMzPTGTECAACgCDmcAPbv319btmzRsmXLlJGRoYyMDC1dulTbtm3TU0895YwYAQAAnMpisTjtKIkcngJeunSpVq5cqTvvvNPWFhsbq/fff1/33HNPkQYHAACAoudwAlixYkX5+fkVaPfz81NAQECRBAUAAFCcSup+fc7i8BTwiBEjFB8fr7S0NFtbWlqann/+eY0cObJIgwMAACgOTAFfQ+PGje0e4ODBg6pataqqVq0qSUpJSZHVatWpU6dYBwgAAFDCFSoB7Ny5s5PDAAAAcJ2SWadznkIlgKNGjXJ2HAAAACgmN70RNAAAQGnhVkLX6jmLwwlgXl6eJk+erE8++UQpKSm6fPmy3fkzZ84UWXAAAAAoeg6/BTxmzBhNmjRJ3bp1U2ZmpuLj49WlSxe5ublp9OjRTggRAADAuSwW5x0lkcMJ4Lx58/T+++9r2LBh8vDwUI8ePfTvf/9br7zyijZv3uyMGAEAAFCEHE4A09LSVL9+fUmSj4+P7fd/77//fi1btqxoowMAACgGZtsH0OEEsHLlykpNTZUkVa9eXV999ZUkaevWrbJarUUbHQAAAIqcwwngQw89pNWrV0uSBg0apJEjR6pmzZrq1auX+vbtW+QBAgAAOJvZ1gA6/BbwhAkTbP/crVs3hYWFadOmTapZs6YeeOCBIg0OAACgOJhtGxiHK4B/1KJFC8XHx6t58+Z67bXXiiImAAAAONFfTgCvSk1N1ciRI4uqOwAAgGJjtingIksAAQAA8PfAT8EBAADTK6nbtTgLFUAAAACTKXQFMD4+/k/Pnzp16i8HU1RSvpni6hAAOEncvJ2uDgGAk3wc19hlY5utIlboBHDnzhv/pduqVau/FAwAAACcr9AJ4Nq1a50ZBwAAgMuU1DWAEyZMUEJCggYPHqwpU6ZIkrKzszVs2DAtXLhQOTk5io2N1dtvv62goKBC92u2iicAAEABbhbnHTdr69atevfdd9WgQQO79qFDh2rJkiVatGiR1q9frxMnTqhLly6OPe/NhwUAAIAbycnJUVZWlt2Rk5Pzp/ecP39ePXv21Pvvv6+AgABbe2ZmppKSkjRp0iS1a9dOTZs21axZs7Rp0yZt3ry50DGRAAIAANNzZgUwMTFRfn5+dkdiYuKfxjNw4EDdd999iomJsWvfvn27cnNz7dpr166tqlWrKjk5udDPyz6AAAAATpSQkFBgNxWr1Xrd6xcuXKgdO3Zo69atBc6lpaXJ09NT/v7+du1BQUFKS0srdEwkgAAAwPSc+RKI1Wr904Tv944fP67Bgwdr1apV8vLyclpMNzUF/M033+ixxx5TVFSUfv31V0nShx9+qI0bNxZpcAAAAGayfft2nTx5Uk2aNJGHh4c8PDy0fv16TZs2TR4eHgoKCtLly5eVkZFhd196erqCg4MLPY7DCeCnn36q2NhYeXt7a+fOnbZFjJmZmXrttdcc7Q4AAMDlSspbwHfffbd2796tXbt22Y7bb79dPXv2tP1zmTJltHr1ats9Bw4cUEpKiqKiogo9jsNTwOPGjdM777yjXr16aeHChbb26OhojRs3ztHuAAAA8P+VL19e9erVs2srV66cKlasaGvv16+f4uPjVaFCBfn6+mrQoEGKiopSixYtCj2OwwnggQMHrvmLH35+fgXKkQAAAH8HJXQf6GuaPHmy3Nzc1LVrV7uNoB3hcAIYHBysQ4cOKTw83K5948aNqlatmqPdAQAAuJxbCc4A161bZ/fZy8tLM2bM0IwZM266T4fXAD7xxBMaPHiwtmzZIovFohMnTmjevHkaPny4BgwYcNOBAAAAoHg4XAF86aWXlJ+fr7vvvlsXL15Uq1atZLVaNXz4cA0aNMgZMQIAADiV2X4Zw+EE0GKx6J///Keef/55HTp0SOfPn1dkZKR8fHycER8AAACK2E1vBO3p6anIyMiijAUAAMAlSvASQKdwOAFs27btn+6WvWbNmr8UEAAAAJzL4QSwUaNGdp9zc3O1a9cu7dmzR3FxcUUVFwAAQLEpyW8BO4PDCeDkyZOv2T569GidP3/+LwcEAAAA5yqyl14ee+wxffDBB0XVHQAAQLGxWJx3lEQ3/RLIHyUnJ8vLy6uougMAACg2jv5m79+dwwlgly5d7D4bhqHU1FRt27ZNI0eOLLLAAAAA4BwOJ4B+fn52n93c3FSrVi2NHTtWHTp0KLLAAAAAigsvgfyJvLw89enTR/Xr11dAQICzYgIAAIATOfQSiLu7uzp06KCMjAwnhQMAAFD8zPYSiMNvAderV09HjhxxRiwAAAAoBg4ngOPGjdPw4cO1dOlSpaamKisry+4AAAD4u3GzOO8oiQq9BnDs2LEaNmyY7r33XknSgw8+aPeTcIZhyGKxKC8vr+ijBAAAQJEpdAI4ZswYPf3001q7dq0z4wEAACh2FpXQUp2TFDoBNAxDktS6dWunBQMAAOAKJXWq1lkcWgNoKamvsgAAAKDQHNoH8LbbbrthEnjmzJm/FBAAAEBxM1sF0KEEcMyYMQV+CQQAAAB/Lw4lgN27d1elSpWcFQsAAIBLmG2ZW6HXAJrtiwEAACitHH4LGAAAoLRhDeB15OfnOzMOAAAAFBOH1gACAACURmZb6UYCCAAATM/NZBmgQxtBAwAA4O+PCiAAADA9s70EQgUQAADAZKgAAgAA0zPZEkAqgAAAAGZDBRAAAJiem8xVAqQCCAAAYDJUAAEAgOmZbQ0gCSAAADA9toEBAABAqUYFEAAAmB4/BQcAAIBSjQogAAAwPZMVAKkAAgAAmA0VQAAAYHqsAQQAAECpRgUQAACYnskKgCSAAAAAZpsSNdvzAgAAmB4JIAAAMD2LxeK0wxEzZ85UgwYN5OvrK19fX0VFRenLL7+0nc/OztbAgQNVsWJF+fj4qGvXrkpPT3f4eUkAAQAASojKlStrwoQJ2r59u7Zt26Z27dqpU6dO2rt3ryRp6NChWrJkiRYtWqT169frxIkT6tKli8PjWAzDMIo6eFc7df6Kq0MA4CTPfrrb1SEAcJKP4xq7bOy52447re9et1f5S/dXqFBBr7/+uh5++GEFBgZq/vz5evjhhyVJP/74o+rUqaPk5GS1aNGi0H1SAQQAAHCinJwcZWVl2R05OTk3vC8vL08LFy7UhQsXFBUVpe3btys3N1cxMTG2a2rXrq2qVasqOTnZoZhIAAEAgOm5WSxOOxITE+Xn52d3JCYmXjeW3bt3y8fHR1arVU8//bQ+//xzRUZGKi0tTZ6envL397e7PigoSGlpaQ49L9vAAAAAOFFCQoLi4+Pt2qxW63Wvr1Wrlnbt2qXMzEz95z//UVxcnNavX1+kMZEAAgAA03PmPtBWq/VPE74/8vT0VI0aNSRJTZs21datWzV16lR169ZNly9fVkZGhl0VMD09XcHBwQ7FxBQwAAAwPYvFecdflZ+fr5ycHDVt2lRlypTR6tWrbecOHDiglJQURUVFOdQnFUAAAIASIiEhQR07dlTVqlV17tw5zZ8/X+vWrdPKlSvl5+enfv36KT4+XhUqVJCvr68GDRqkqKgoh94AlkgAAQAAHN6w2VlOnjypXr16KTU1VX5+fmrQoIFWrlyp9u3bS5ImT54sNzc3de3aVTk5OYqNjdXbb7/t8DjsAwjgb4V9AIHSy5X7AC7Y+avT+u7R+Fan9X2zqAACAADTM9tLEWZ7XgAAANOjAggAAEyvpKwBLC5UAAEAAEyGCiAAADA9c9X/qAACAACYDhVAAABgemZbA0gCCAAATM9sU6Jme14AAADTowIIAABMz2xTwFQAAQAATIYKIAAAMD1z1f+oAAIAAJgOFUAAAGB6JlsCSAUQAADAbKgAAgAA03Mz2SpAEkAAAGB6TAEDAACgVKMCCAAATM9isilgKoAAAAAmQwUQAACYHmsAAQAAUKpRAQQAAKZntm1gqAACAACYDBVAAABgemZbA0gCCAAATM9sCSBTwAAAACZDBRAAAJgeG0EDAACgVKMCCAAATM/NXAVAKoAAAABmQwUQAACYHmsAAQAAUKqViAqgYRg6ffq0LBaLKlas6OpwAACAybAPYDFKS0tTr169FBAQoKCgIFWqVEkBAQHq27ev0tPTXRkaAAAwEYsT/1cSuawCmJWVpZYtW+r8+fPq06ePateuLcMwtG/fPi1YsEAbN27Ujh075OPj46oQAQAASiWXJYBTp06Vu7u79u7dq8DAQLtzI0aMUHR0tKZNm6aXX37ZRRECAACzYBuYYrJs2TK9/PLLBZI/SapUqZISEhK0ZMkSF0QGAABQurksAfzpp5/UsmXL655v2bKlDhw4UIwRAQAAszLbGkCXJYBZWVny9/e/7nl/f39lZWUVX0AAAAAm4bI1gIZhyM3t+vmnxWKRYRjFGBH+bk6dTNfMaZO0edM3ys7OVuXKVfXy6HGqHVnP1aEBuEmd6gXp0aahWr7vpOZs/dXWXjOwrLo3DlWNW8oq35COnb2k8asOKTePf0+gaJhtGxiXJoC33XabLNf5xkn+8GeysjI1oO9janL7HXpj2jvyD6igX1KOqXx5X1eHBuAmVa9YVjG3VdSxM5fs2msGltXLMTW0eHe6Zn33i/LyDYUFeIt/TQA3z2UJ4KxZs1w1NEqBebOTVCkoWC+PHm9rC721sgsjAvBXWD3c9OxdYXov+bgeahBkdy6uWWV9uf+Uvtjzv/1hU7NyijtElHImKwC6LgGMi4tz1dAoBb7dsFZ3REVrxAtDtWvHNgVWqqSHHu6uB7v8w9WhAbgJ/ZpX1s5fs7Q79ZxdAujr5aGageW08cgZje1YU0HlrTqRma2FO1N14OQFF0aM0sbNZHPAJeq3gLOzszVnzhy9/fbbOnjwYKHuycnJUVZWlt2Rk8N/GZZ2J379RYv/87GqVA3TpLfeU+eHu2nKG4n6csliV4cGwEEtw/0VUbGsFmw/UeBckI+nJOnhhiFac/C0Er8+rKNnLmlkhxoKLm8t7lCBUsNlCWB8fLwGDRpk+3z58mVFRUXpiSee0Msvv6zGjRsrOTn5hv0kJibKz8/P7pj65r+cGTpKgPz8fN1WO1JPPTtEt9Wuo05dHtGDnR/W4k8/cXVoABxQsWwZxd1RWdO/+Vm5+QUX9V1dJ/71T//VukNn9POZS5q79VedyMxR25oVijtclGIWJx4lkcumgL/66iu99tprts/z5s3TsWPHdPDgQVWtWlV9+/bVuHHjtGzZsj/tJyEhQfHx8XZtWbnuTokZJUfFWwIVHlHdri0soprWrVnloogA3IyIimXl711GE+6vbWtzd7OoTpCPYmsHaujifZKkXzKz7e77NTNbt5TzLNZYgdLEZRXAlJQURUZG2j5/9dVXevjhhxUWFiaLxaLBgwdr586dN+zHarXK19fX7rBamRYo7eo3bKyUY0ft2o6n/KzgkFAXRQTgZuxJPafhX+zXi0t+tB2H/3tBG4+c1YtLflT6ucs6c/GyQn297O4L8bXq1PnLLooapVIJKQEmJiaqWbNmKl++vCpVqqTOnTsX+GGM7OxsDRw4UBUrVpSPj4+6du2q9PT06/R4bS5LAN3c3Oy2etm8ebNatGhh++zv76+zZ8+6IjT8DXTr2Ut7d/+guR+8p1+OH9NXXy7V/332H3X5Rw9XhwbAAdlX8nU8I9vuyL6Sr/M5V3Q847eq35I9J9WxTqCah/krqLynHmkUolv9vLT20GkXRw8UvfXr12vgwIHavHmzVq1apdzcXHXo0EEXLvzvpaehQ4dqyZIlWrRokdavX68TJ06oS5cuDo3jsingOnXqaMmSJYqPj9fevXuVkpKitm3b2s4fO3ZMQUFBf9IDzKxO3fp67Y2pevetKZr9/kyFhFbWc8NeVId773d1aACK2PL9p1TG3U29mt0qH093HTt7SeNWHVL6OSqAKDol5SfbVqxYYfd59uzZqlSpkrZv365WrVopMzNTSUlJmj9/vtq1ayfpt6316tSpU6CY9mdclgC+8MIL6t69u5YtW6a9e/fq3nvvVUREhO388uXLdccdd7gqPPwNRLdqo+hWbVwdBoAiNnbloQJtX+xJt9sHEPg7ycnJKbBDidVqLdSStczMTElShQq/vfS0fft25ebmKiYmxnZN7dq1VbVqVSUnJxc6AXTZFPBDDz2k5cuXq0GDBho6dKg+/vhju/Nly5bVXXfd5aLoAACAmVgszjuutWNJYmLiDWPKz8/XkCFDFB0drXr1fvuZ07S0NHl6esrf39/u2qCgIKWlpRX6eV1WAZSku+++W3fffbdd27lz57RgwQItW7ZM27dvt9sqBgAAwBmcOQF8rR1LClP9GzhwoPbs2aONGzcWeUwuTQB/b8OGDUpKStKnn36q0NBQdenSRTNmzHB1WAAAAH9JYad7f+/ZZ5/V0qVLtWHDBlWu/L+fOg0ODtbly5eVkZFhVwVMT09XcHBwoft3aQKYlpam2bNnKykpSVlZWXrkkUeUk5OjxYsX220RAwAA4FQl4x0QGYahQYMG6fPPP9e6devs3o+QpKZNm6pMmTJavXq1unbtKkk6cOCAUlJSFBUVVehxXLYG8IEHHlCtWrX0ww8/aMqUKTpx4oSmT5/uqnAAAABcbuDAgfroo480f/58lS9fXmlpaUpLS9OlS5ckSX5+furXr5/i4+O1du1abd++XX369FFUVFShXwCRXFgB/PLLL/Xcc89pwIABqlmzpqvCAAAAKDHbwMycOVOS1KZNG7v2WbNmqXfv3pKkyZMny83NTV27dlVOTo5iY2P19ttvOzSOyxLAjRs3KikpSU2bNlWdOnX0+OOPq3v37q4KBwAAwOV+/yMZ1+Pl5aUZM2b8pXclXDYF3KJFC73//vtKTU3VU089pYULFyo0NFT5+flatWqVzp0756rQAACAyThzG5iSyGUJ4FXlypVT3759tXHjRu3evVvDhg3ThAkTVKlSJT344IOuDg8AAKDUcXkC+Hu1atXSxIkT9csvv2jBggWuDgcAAJiExYlHSVRi9gH8PXd3d3Xu3FmdO3d2dSgAAMAMSmqm5iQlqgIIAAAA5yuRFUAAAIDiVFK2gSkuVAABAABMhgogAAAwvZK6XYuzUAEEAAAwGSqAAADA9ExWAKQCCAAAYDZUAAEAAExWAiQBBAAApsc2MAAAACjVqAACAADTYxsYAAAAlGpUAAEAgOmZrABIBRAAAMBsqAACAACYrARIBRAAAMBkqAACAADTYx9AAAAAlGpUAAEAgOmZbR9AEkAAAGB6Jsv/mAIGAAAwGyqAAAAAJisBUgEEAAAwGSqAAADA9NgGBgAAAKUaFUAAAGB6ZtsGhgogAACAyVABBAAApmeyAiAJIAAAgNkyQKaAAQAATIYKIAAAMD22gQEAAECpRgUQAACYHtvAAAAAoFSjAggAAEzPZAVAKoAAAABmQwUQAADAZCVAEkAAAGB6bAMDAACAUo0KIAAAMD22gQEAAECpRgUQAACYnskKgFQAAQAAzIYEEAAAwOLEw0EbNmzQAw88oNDQUFksFi1evNjuvGEYeuWVVxQSEiJvb2/FxMTo4MGDDo1BAggAAFCCXLhwQQ0bNtSMGTOueX7ixImaNm2a3nnnHW3ZskXlypVTbGyssrOzCz0GawABAIDplaR9ADt27KiOHTte85xhGJoyZYpGjBihTp06SZLmzp2roKAgLV68WN27dy/UGFQAAQCA6VkszjtycnKUlZVld+Tk5NxUnEePHlVaWppiYmJsbX5+fmrevLmSk5ML3Q8JIAAAgBMlJibKz8/P7khMTLypvtLS0iRJQUFBdu1BQUG2c4XBFDAAADA9Z04AJyQkKD4+3q7NarU6ccQbIwEEAABwIqvVWmQJX3BwsCQpPT1dISEhtvb09HQ1atSo0P0wBQwAAEzPmWsAi1JERISCg4O1evVqW1tWVpa2bNmiqKioQvdDBRAAAKAEOX/+vA4dOmT7fPToUe3atUsVKlRQ1apVNWTIEI0bN041a9ZURESERo4cqdDQUHXu3LnQY5AAAgAAlKBtYLZt26a2bdvaPl9dPxgXF6fZs2frhRde0IULF/Tkk08qIyNDd955p1asWCEvL69Cj2ExDMMo8shd7NT5K64OAYCTPPvpbleHAMBJPo5r7LKxfzl72Wl9Vw7wdFrfN4sKIAAAML2iXqtX0pEAAgAA0zNZ/sdbwAAAAGZDBRAAAJie2aaAqQACAACYDBVAAABgehaTrQKkAggAAGAyVAABAADMVQCkAggAAGA2VAABAIDpmawASAIIAADANjAAAAAo1agAAgAA02MbGAAAAJRqVAABAADMVQCkAggAAGA2VAABAIDpmawASAUQAADAbKgAAgAA0zPbPoAkgAAAwPTYBgYAAAClGhVAAABgemabAqYCCAAAYDIkgAAAACZDAggAAGAyrAEEAACmxxpAAAAAlGpUAAEAgOmZbR9AEkAAAGB6TAEDAACgVKMCCAAATM9kBUAqgAAAAGZDBRAAAMBkJUAqgAAAACZDBRAAAJie2baBoQIIAABgMlQAAQCA6bEPIAAAAEo1KoAAAMD0TFYAJAEEAAAwWwbIFDAAAIDJUAEEAACmxzYwAAAAKNWoAAIAANNjGxgAAACUahbDMAxXBwHcrJycHCUmJiohIUFWq9XV4QAoQvz5BpyHBBB/a1lZWfLz81NmZqZ8fX1dHQ6AIsSfb8B5mAIGAAAwGRJAAAAAkyEBBAAAMBkSQPytWa1WjRo1igXiQCnEn2/AeXgJBAAAwGSoAAIAAJgMCSAAAIDJkAACAACYDAkgcB3r1q2TxWJRRkaGq0MBAKBIkQCi2KSlpWnQoEGqVq2arFarqlSpogceeECrV68usjHatGmjIUOGFFl/AIpecnKy3N3ddd999xU49/nnn6tFixby8/NT+fLlVbduXbs/07Nnz5bFYpHFYpG7u7sCAgLUvHlzjR07VpmZmcX4FMDfGwkgisXPP/+spk2bas2aNXr99de1e/durVixQm3bttXAgQOLNRbDMHTlypViHRPA/yQlJWnQoEHasGGDTpw4YWtfvXq1unXrpq5du+q7777T9u3bNX78eOXm5trd7+vrq9TUVP3yyy/atGmTnnzySc2dO1eNGjWy6w/AnzCAYtCxY0fj1ltvNc6fP1/g3NmzZw3DMIxjx44ZDz74oFGuXDmjfPnyxj/+8Q8jLS3Ndt2oUaOMhg0bGnPnzjXCwsIMX19fo1u3bkZWVpZhGIYRFxdnSLI7jh49aqxdu9aQZCxfvtxo0qSJUaZMGWPt2rVGdna2MWjQICMwMNCwWq1GdHS08d1339nGu3rf1fgA/HXnzp0zfHx8jB9//NHo1q2bMX78eNu5wYMHG23atPnT+2fNmmX4+fkVaE9PTzduueUWo2fPnkUdMlAqUQGE0505c0YrVqzQwIEDVa5cuQLn/f39lZ+fr06dOunMmTNav369Vq1apSNHjqhbt2521x4+fFiLFy/W0qVLtXTpUq1fv14TJkyQJE2dOlVRUVF64oknlJqaqtTUVFWpUsV270svvaQJEyZo//79atCggV544QV9+umnmjNnjnbs2KEaNWooNjZWZ86cce4XApjYJ598otq1a6tWrVp67LHH9MEHH8j4/9vRBgcHa+/evdqzZ4/D/VaqVEk9e/bU//3f/ykvL6+owwZKHRJAON2hQ4dkGIZq16593WtWr16t3bt3a/78+WratKmaN2+uuXPnav369dq6davtuvz8fM2ePVv16tXTXXfdpccff9y2htDPz0+enp4qW7asgoODFRwcLHd3d9u9Y8eOVfv27VW9enVZrVbNnDlTr7/+ujp27KjIyEi9//778vb2VlJSkvO+DMDkkpKS9Nhjj0mS7rnnHmVmZmr9+vWSpEGDBqlZs2aqX7++wsPD1b17d33wwQfKyckpVN+1a9fWuXPndPr0aafFD5QWJIBwOqMQPzazf/9+ValSxa5iFxkZKX9/f+3fv9/WFh4ervLly9s+h4SE6OTJk4WK4/bbb7f98+HDh5Wbm6vo6GhbW5kyZXTHHXfYjQeg6Bw4cEDfffedevToIUny8PBQt27dbP/RVa5cOS1btkyHDh3SiBEj5OPjo2HDhumOO+7QxYsXb9j/1b9rLBaL8x4CKCVIAOF0NWvWlMVi0Y8//viX+ypTpozdZ4vFovz8/ELde63pZwDFJykpSVeuXFFoaKg8PDzk4eGhmTNn6tNPP7V7g7d69erq37+//v3vf2vHjh3at2+fPv744xv2v3//fvn6+qpixYrOfAygVCABhNNVqFBBsbGxmjFjhi5cuFDgfEZGhurUqaPjx4/r+PHjtvZ9+/YpIyNDkZGRhR7L09OzUOt/qlevLk9PT3377be2ttzcXG3dutWh8QAUzpUrVzR37ly9+eab2rVrl+34/vvvFRoaqgULFlzzvvDwcJUtW/aaf3f83smTJzV//nx17txZbm78qw24EQ9XBwBzmDFjhqKjo3XHHXdo7NixatCgga5cuaJVq1Zp5syZ2rdvn+rXr6+ePXtqypQpunLlip555hm1bt3abur2RsLDw7Vlyxb9/PPP8vHxUYUKFa55Xbly5TRgwAA9//zzqlChgqpWraqJEyfq4sWL6tevX1E9NoD/b+nSpTp79qz69esnPz8/u3Ndu3ZVUlKS0tLSdPHiRd17770KCwtTRkaGpk2bptzcXLVv3952vWEYSktLk2EYysjIUHJysl577TX5+fnZXgoD8Of4zyQUi2rVqmnHjh1q27athg0bpnr16ql9+/ZavXq1Zs6cKYvFoi+++EIBAQFq1aqVYmJiVK1atUJN+/ze8OHD5e7ursjISAUGBiolJeW6106YMEFdu3bV448/riZNmujQoUNauXKlAgIC/urjAviDpKQkxcTEFEj+pN8SwG3btikgIEBHjhxRr169VLt2bXXs2FFpaWn66quvVKtWLdv1WVlZCgkJ0a233qqoqCi9++67iouL086dOxUSElKcjwX8bVmMwqzQBwAAQKlBBRAAAMBkSAABAABMhgQQAADAZEgAAQAATIYEEAAAwGRIAAEAAEyGBBAAAMBkSAABAABMhgQQQJHp3bu3OnfubPvcpk0bDRkypNjjWLdunSwWizIyMpw2xh+f9WYUR5wAcC0kgEAp17t3b1ksFlksFnl6eqpGjRoaO3asrly54vSxP/vsM7366quFura4k6Hw8HBNmTKlWMYCgJLGw9UBAHC+e+65R7NmzVJOTo6WL1+ugQMHqkyZMkpISChw7eXLl+Xp6Vkk41aoUKFI+gEAFC0qgIAJWK1WBQcHKywsTAMGDFBMTIz+7//+T9L/pjLHjx+v0NBQ1apVS5J0/PhxPfLII/L391eFChXUqVMn/fzzz7Y+8/LyFB8fL39/f1WsWFEvvPCC/vjT4n+cAs7JydGLL76oKlWqyGq1qkaNGkpKStLPP/+stm3bSpICAgJksVjUu3dvSVJ+fr4SExMVEREhb29vNWzYUP/5z3/sxlm+fLluu+02eXt7q23btnZx3oy8vDz169fPNmatWrU0derUa147ZswYBQYGytfXV08//bQuX75sO1eY2AHAFagAAibk7e2t06dP2z6vXr1avr6+WrVqlSQpNzdXsbGxioqK0jfffCMPDw+NGzdO99xzj3744Qd5enrqzTff1OzZs/XBBx+oTp06evPNN/X555+rXbt21x23V69eSk5O1rRp09SwYUMdPXpU//3vf1WlShV9+umn6tq1qw4cOCBfX195e3tLkhITE/XRRx/pnXfeUc2aNbVhwwY99thjCgwMVOvWrXX8+HF16dJFAwcO1JNPPqlt27Zp2LBhf+n7yc/PV+XKlbVo0SJVrFhRmzZt0pNPPqmQkBA98sgjdt+bl5eX1q1bp59//ll9+vRRxYoVNX78+ELFDgAuYwAo1eLi4oxOnToZhmEY+fn5xqpVqwyr1WoMHz7cdj4oKMjIycmx3fPhhx8atWrVMvLz821tOTk5hre3t7Fy5UrDMAwjJCTEmDhxou18bm6uUblyZdtYhmEYrVu3NgYPHmwYhmEcOHDAkGSsWrXqmnGuXbvWkGScPXvW1padnW2ULVvW2LRpk921/fr1M3r06GEYhmEkJCQYkZGRdudffPHFAn39UVhYmDF58uTrnv+jgQMHGl27drV9jouLMypUqGBcuHDB1jZz5kzDx8fHyMvLK1Ts13pmACgOVAABE1i6dKl8fHyUm5ur/Px8Pfrooxo9erTtfP369e3W/X3//fc6dOiQypcvb9dPdna2Dh8+rMzMTKWmpqp58+a2cx4eHrr99tsLTANftWvXLrm7uztU+Tp06JAuXryo9u3b27VfvnxZjRs3liTt37/fLg5JioqKKvQY1zNjxgx98MEHSklJ0aVLl3T58mU1atTI7pqGDRuqbNmyduOeP39ex48f1/nz528YOwC4CgkgYAJt27bVzJkz5enpqdDQUHl42P/RL1eunN3n8+fPq2nTppo3b16BvgIDA28qhqtTuo44f/68JGnZsmW69dZb7c5ZrdabiqMwFi5cqOHDh+vNN99UVFSUypcvr9dff11btmwpdB+uih0ACoMEEDCBcuXKqUaNGoW+vkmTJvr4449VqVIl+fr6XvOakJAQbdmyRa1atZIkXblyRdu3b1eTJk2ueX39+vWVn5+v9evXKyYmpsD5qxXIvLw8W1tkZKSsVqtSUlKuWzmsU6eO7YWWqzZv3nzjh/wT3377rVq2bKlnnnnG1nb48OEC133//fe6dOmSLbndvHmzfHx8VKVKFVWoUOGGsQOAq/AWMIACevbsqVtuuUWdOnXSN998o6NHj2rdunV67rnn9Msvv0iSBg8erAkTJmjx4sX68ccf9cwzz/zpHn7h4eGKi4tT3759tXjxYlufn3zyiSQpLCxMFotFS5cu1alTp3T+/HmVL19ew4cP19ChQzVnzhwdPnxYO3bs0PTp0zVnzhxJ0tNPP62DBw/q+eef14EDBzR//nzNnj27UM/566+/ateuXXbH2bNnVbNmTW3btk0rV67UTz/9pJEjR2rr1q0F7r98+bL69eunffv2afny5Ro1apSeffZZubm5FSp2AHAZVy9CBOBcv38JxJHzqampRq9evYxbbrnFsFqtRrVq1YwnnnjCyMzMNAzjt5c+Bg8ebPj6+hr+/v5GfHy80atXr+u+BGIYhnHp0iVj6NChRkhIiOHp6WnUqFHD+OCDD2znx44dawQHBxsWi8WIi4szDOO3F1emTJli1KpVyyhTpowRGBhoxMbGGuvXr7fdt2TJEqNGjRqG1Wo17rrrLuODDz4o1EsgkgocH374oZGdnW307t3b8PPzM/z9/Y0BAwYYL730ktGwYcMC39srr7xiVKxY0fDx8TGeeOIJIzs723bNjWLnJRAArmIxjOus2AYAAECpxBQwAACAyZAAAgAAmAwJIAAAgMmQAAIAAJgMCSAAAIDJkAACAACYDAkgAACAyZAAAgAAmAwJIAAAgMmQAAIAAJgMCSAAAIDJ/D+mUEpCG0siaQAAAABJRU5ErkJggg==",
      "text/plain": [
       "<Figure size 800x600 with 2 Axes>"
      ]
     },
     "metadata": {},
     "output_type": "display_data"
    }
   ],
   "source": [
    "conf_matrix = confusion_matrix(y_test, y_pred)\n",
    "\n",
    "# Visualizzazione della matrice di confusione\n",
    "plt.figure(figsize=(8, 6))\n",
    "sns.heatmap(conf_matrix, annot=True, cmap=\"Blues\", fmt=\"d\", xticklabels=['Control', 'ASD'], yticklabels=['Control', 'ASD'])\n",
    "plt.xlabel('Predicted Label')\n",
    "plt.ylabel('True Label')\n",
    "plt.title('Confusion Matrix')\n",
    "plt.show()\n"
   ]
  },
  {
   "cell_type": "markdown",
   "metadata": {},
   "source": [
    "# Comparison Between Classifiers"
   ]
  },
  {
   "cell_type": "code",
   "execution_count": 82,
   "metadata": {},
   "outputs": [
    {
     "name": "stdout",
     "output_type": "stream",
     "text": [
      "Random Forest Classifier AUC-ROC: 0.9887429643527204\n",
      "K-Nearest Neighbors Classifier AUC-ROC: 0.9480534709193245\n"
     ]
    }
   ],
   "source": [
    "# Define a function to evaluate the AUC-ROC for a given model\n",
    "def evaluate_roc_auc(model, X_train, X_test, y_train, y_test):\n",
    "    model.fit(X_train, y_train)\n",
    "    y_proba = model.predict_proba(X_test)[:, 1]\n",
    "    auc_roc = roc_auc_score(y_test, y_proba)\n",
    "    return auc_roc\n",
    "\n",
    "# Evaluate AUC-ROC for both models\n",
    "rf_auc_roc = evaluate_roc_auc(rf_pipeline, X_train, X_test, y_train, y_test)\n",
    "knn_auc_roc = evaluate_roc_auc(knn_pipeline, X_train, X_test, y_train, y_test)\n",
    "\n",
    "# Print the results\n",
    "print(\"Random Forest Classifier AUC-ROC:\", rf_auc_roc)\n",
    "print(\"K-Nearest Neighbors Classifier AUC-ROC:\", knn_auc_roc)\n"
   ]
  },
  {
   "cell_type": "code",
   "execution_count": 84,
   "metadata": {},
   "outputs": [
    {
     "data": {
      "image/png": "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",
      "text/plain": [
       "<Figure size 800x600 with 1 Axes>"
      ]
     },
     "metadata": {},
     "output_type": "display_data"
    }
   ],
   "source": [
    "# Define a function to plot the ROC curve for a given model\n",
    "def plot_roc_curve(model, X_test, y_test, model_name):\n",
    "    y_proba = model.predict_proba(X_test)[:, 1]\n",
    "    fpr, tpr, _ = roc_curve(y_test, y_proba)\n",
    "    plt.plot(fpr, tpr, label=model_name)\n",
    "    plt.xlabel('False Positive Rate')\n",
    "    plt.ylabel('True Positive Rate')\n",
    "    plt.title('ROC Curve')\n",
    "    plt.legend()\n",
    "    plt.grid(True)\n",
    "\n",
    "# Plot ROC curve for both models\n",
    "y_test_binary = (y_test == 2).astype(int)\n",
    "\n",
    "plt.figure(figsize=(8, 6))\n",
    "plot_roc_curve(rf_pipeline, X_test, y_test_binary, 'Random Forest Classifier')\n",
    "plot_roc_curve(knn_pipeline, X_test, y_test_binary, 'K-Nearest Neighbors Classifier')\n",
    "plt.show()\n"
   ]
<<<<<<< HEAD
=======
  },
  {
   "cell_type": "markdown",
   "metadata": {},
   "source": [
    "# Logistic Regression and KNN Neighboors"
   ]
  },
  {
   "cell_type": "code",
   "execution_count": null,
   "metadata": {},
   "outputs": [],
   "source": [
    "numeric_columns, categorical_columns, ASD_phenotypic= of.select_columns(ASD_phenotypic)"
   ]
  },
  {
   "cell_type": "code",
   "execution_count": null,
   "metadata": {},
   "outputs": [
    {
     "ename": "NameError",
     "evalue": "name 'ASD_phenotypic_tot' is not defined",
     "output_type": "error",
     "traceback": [
      "\u001b[1;31m---------------------------------------------------------------------------\u001b[0m",
      "\u001b[1;31mNameError\u001b[0m                                 Traceback (most recent call last)",
      "Cell \u001b[1;32mIn[55], line 2\u001b[0m\n\u001b[0;32m      1\u001b[0m \u001b[38;5;66;03m# Separazione delle feature e del target\u001b[39;00m\n\u001b[1;32m----> 2\u001b[0m X \u001b[38;5;241m=\u001b[39m \u001b[43mASD_phenotypic_tot\u001b[49m\u001b[38;5;241m.\u001b[39mdrop(columns\u001b[38;5;241m=\u001b[39m[\u001b[38;5;124m'\u001b[39m\u001b[38;5;124mDX_GROUP\u001b[39m\u001b[38;5;124m'\u001b[39m])\n\u001b[0;32m      3\u001b[0m y \u001b[38;5;241m=\u001b[39m ASD_phenotypic_tot[\u001b[38;5;124m'\u001b[39m\u001b[38;5;124mDX_GROUP\u001b[39m\u001b[38;5;124m'\u001b[39m]\n\u001b[0;32m      5\u001b[0m \u001b[38;5;66;03m# Pipeline di preprocessing\u001b[39;00m\n",
      "\u001b[1;31mNameError\u001b[0m: name 'ASD_phenotypic_tot' is not defined"
     ]
    }
   ],
   "source": [
    "# Separazione delle feature e del target\n",
    "X = ASD_phenotypic_tot.drop(columns=['DX_GROUP'])\n",
    "y = ASD_phenotypic_tot['DX_GROUP']\n",
    "\n",
    "# Pipeline di preprocessing\n",
    "preprocessor = ColumnTransformer(\n",
    "    transformers=[\n",
    "        ('num', StandardScaler(), numeric_columns),\n",
    "        ('cat', OneHotEncoder(), categorical_columns)\n",
    "    ])\n",
    "\n",
    "# Modelli\n",
    "models = {\n",
    "    'KNN': KNeighborsClassifier(),\n",
    "    'LogisticRegression': LogisticRegression()\n",
    "}\n",
    "\n",
    "# Selezione delle feature e valutazione del modello\n",
    "def evaluate_model(X, y, model, k_features):\n",
    "    pipeline = Pipeline(steps=[\n",
    "        ('preprocessor', preprocessor),\n",
    "        ('feature_selection', SelectKBest(score_func=f_classif, k=k_features)),\n",
    "        ('classifier', model)\n",
    "    ])\n",
    "    \n",
    "    scores = cross_val_score(pipeline, X, y, cv=5, scoring='accuracy')\n",
    "    return scores.mean()\n",
    "\n",
    "# Valutazione dei modelli con diverse selezioni di feature\n",
    "results = {}\n",
    "for model_name, model in models.items():\n",
    "    best_score = 0\n",
    "    best_k = 0\n",
    "    for k in range(1, len(X.columns) + 1):\n",
    "        score = evaluate_model(X, y, model, k)\n",
    "        if score > best_score:\n",
    "            best_score = score\n",
    "            best_k = k\n",
    "    results[model_name] = {'best_k': best_k, 'best_score': best_score}\n",
    "\n",
    "print(results)"
   ]
>>>>>>> f1f26a00b7669572d2b74200f158dca2dcb8e2cb
  }
 ],
 "metadata": {
  "kernelspec": {
   "display_name": "Python 3",
   "language": "python",
   "name": "python3"
  },
  "language_info": {
   "codemirror_mode": {
    "name": "ipython",
    "version": 3
   },
   "file_extension": ".py",
   "mimetype": "text/x-python",
   "name": "python",
   "nbconvert_exporter": "python",
   "pygments_lexer": "ipython3",
   "version": "3.10.11"
  }
 },
 "nbformat": 4,
 "nbformat_minor": 2
}
