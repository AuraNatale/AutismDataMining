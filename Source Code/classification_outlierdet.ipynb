{
 "cells": [
  {
   "cell_type": "code",
   "execution_count": 20,
   "metadata": {},
   "outputs": [],
   "source": [
    "# general imports\n",
    "import os\n",
    "import numpy as np\n",
    "import pandas as pd\n",
    "from matplotlib import pyplot as plt \n",
    "import seaborn as sns\n",
    "\n",
    "# from our documents\n",
    "import OurFunctions as of\n",
    "\n",
    "# from Scikit Learn library\n",
    "from sklearn.model_selection import train_test_split, KFold, cross_val_score, GridSearchCV, ParameterGrid\n",
    "from sklearn.ensemble import RandomForestClassifier\n",
    "from sklearn.metrics import roc_curve, roc_auc_score, accuracy_score, make_scorer, precision_score, recall_score, f1_score, confusion_matrix\n",
    "from sklearn.preprocessing import OneHotEncoder, RobustScaler\n",
    "from sklearn.compose import ColumnTransformer\n",
    "from sklearn.pipeline import Pipeline\n",
    "from sklearn.neighbors import KNeighborsClassifier\n",
    "from sklearn.svm import LinearSVC\n",
    "from sklearn.feature_selection import SelectKBest, f_classif, RFE\n",
    "from sklearn.decomposition import PCA\n",
    "from sklearn.neighbors import LocalOutlierFactor\n",
    "from sklearn.tree import plot_tree \n",
    "from sklearn.calibration import CalibratedClassifierCV\n",
    "import random\n",
    "\n",
    "# from Imb Learn\n",
    "from imblearn.over_sampling import SMOTENC, SMOTE\n",
    "\n",
    "#seed for random processes\n",
    "seed = 42\n",
    "random.seed(seed)\n",
    "np.random.seed(42)\n",
    "\n"
   ]
  },
  {
   "cell_type": "markdown",
   "metadata": {},
   "source": [
    "We start importing our datasets, where ASD_phenotypic_original is the untouched dataset, ASD_phenotypic is the one proceding from the preprocessing and where the ASD_diagnosis dataset contains its respectives DX_GROUP."
   ]
  },
  {
   "cell_type": "code",
   "execution_count": 21,
   "metadata": {},
   "outputs": [],
   "source": [
    "ASD_phenotypic_original = pd.read_csv(os.path.join('DataSets','Phenotypic Datasets','ASD_phenotypic.csv'))\n",
    "ASD_phenotypic = pd.read_csv(os.path.join('DataSets','Phenotypic Datasets','ASD_phenotypic_preprocessed.csv'))\n",
    "ASD_diagnosis = pd.read_csv(os.path.join('DataSets','Phenotypic Datasets','ASD_clinical.csv'))"
   ]
  },
  {
   "cell_type": "markdown",
   "metadata": {},
   "source": [
    "# Classification"
   ]
  },
  {
   "cell_type": "markdown",
   "metadata": {},
   "source": [
    "First of all, we split the data into train set and test set, to be sure that our classifier is evaluated on data that it had never seen before."
   ]
  },
  {
   "cell_type": "code",
   "execution_count": 22,
   "metadata": {},
   "outputs": [
    {
     "name": "stdout",
     "output_type": "stream",
     "text": [
      "Training set size: (213, 8)\n",
      "Test set size: (92, 8)\n"
     ]
    }
   ],
   "source": [
    "\n",
    "# Split the data into training and test sets\n",
    "X_train, X_test, y_train, y_test = train_test_split(ASD_phenotypic, ASD_diagnosis['DX_GROUP'], test_size=0.3, random_state=42)\n",
    "print(\"Training set size:\", X_train.shape)\n",
    "print(\"Test set size:\", X_test.shape)"
   ]
  },
  {
   "cell_type": "markdown",
   "metadata": {},
   "source": [
    "We want to check the balance between classes for each set, to  be sure we are training the classifier using a good split."
   ]
  },
  {
   "cell_type": "code",
   "execution_count": 23,
   "metadata": {},
   "outputs": [
    {
     "name": "stdout",
     "output_type": "stream",
     "text": [
      "Class proportions for:\n",
      "- test set: DX_GROUP\n",
      "1    0.728261\n",
      "2    0.271739\n",
      "Name: proportion, dtype: float64\n",
      "- train set: DX_GROUP\n",
      "1    0.760563\n",
      "2    0.239437\n",
      "Name: proportion, dtype: float64\n",
      "Num subjects involved per DX_GROUP\n",
      "1    162\n",
      "2     51\n",
      "Name: count, dtype: int64\n"
     ]
    }
   ],
   "source": [
    "class_counts_test = y_test.value_counts(normalize=True)\n",
    "class_counts_train = y_train.value_counts(normalize=True)\n",
    "class_count_train_num = y_train.value_counts()\n",
    "\n",
    "# Print class count DX_GROUP\n",
    "print(\"Class proportions for:\")\n",
    "print(\"- test set: \" + str(class_counts_test))\n",
    "print(\"- train set: \" + str(class_counts_train))\n",
    "print(\"Num subjects involved per \"+ str(class_count_train_num))"
   ]
  },
  {
   "cell_type": "markdown",
   "metadata": {},
   "source": [
    "In order to fix the umbalancing for the training phase, we use SMOTENC (variable of SMOTE that can handle categorical features), to create fictious subjects and rebalance them."
   ]
  },
  {
   "cell_type": "code",
   "execution_count": 24,
   "metadata": {},
   "outputs": [
    {
     "name": "stdout",
     "output_type": "stream",
     "text": [
      "DX_GROUP\n",
      "1    0.5\n",
      "2    0.5\n",
      "Name: proportion, dtype: float64\n",
      "Num subjects involved per\n",
      "DX_GROUP\n",
      "1    162\n",
      "2    162\n",
      "Name: count, dtype: int64\n"
     ]
    }
   ],
   "source": [
    "categorical_columns = X_train.select_dtypes(include=['object']).columns\n",
    "categorical_features = categorical_columns.tolist()\n",
    "\n",
    "# Initializing SMOTE-NC \n",
    "sampler = SMOTENC(categorical_features=categorical_features, random_state=42)\n",
    "\n",
    "# Applying SMOTE-NC in order to generate new syntetic samples\n",
    "X_SMOTE, Y_SMOTE = sampler.fit_resample(X_train, y_train)\n",
    "\n",
    "# Print class distribution after SMOTE-NC application\n",
    "print(pd.Series(Y_SMOTE).value_counts(normalize=True))\n",
    "print(\"Num subjects involved per\")\n",
    "print(pd.Series(Y_SMOTE).value_counts())\n"
   ]
  },
  {
   "cell_type": "markdown",
   "metadata": {},
   "source": [
    "We can see that the dataset is unbalanced, having 60% of the subjects with autism condition. However, the split separates train and test sets respecting the proportion."
   ]
  },
  {
   "cell_type": "markdown",
   "metadata": {},
   "source": [
    "## General pipeline"
   ]
  },
  {
   "cell_type": "markdown",
   "metadata": {},
   "source": [
    "The pipeline receive as mandatory arguments the dataset, the target and the chosen classifier, it also has some optional parameters that can specify some actions or parameters.\n",
    "\n",
    "- To achieve a more reliable accuracy score we use k-fold cross validation. In this way we are performing the training on different train and validation fold and we avoid to have a better accuracy based only on the subjects we selected (k of cv can be set up from the outside).\n",
    "- There exist the option to select if to use an encoder or a scaler (by default both options are set to true).\n",
    "- The pipeline execute grid search to find the best hyperparameters per our training.\n",
    "- The grid search can use both default parameters present in the function or gived by the useer as well.\n",
    "- The algorithm can handle three different types of classifier: KNearestNeighbors, RandomForestClassifier and LinearSupportVectorMachine.\n",
    "- The feature selection can be integrated to the pipeline if requested.\n",
    "\n",
    "The output is composed by the trained model, the best_parameters found by the grid search, the best achieved accuracy, and if in case the feature_selector is activated, also the selected_features.\n"
   ]
  },
  {
   "cell_type": "code",
   "execution_count": 25,
   "metadata": {},
   "outputs": [],
   "source": [
    "def general_pipeline(dataset, target, classifier, encoder = True, scaler = True, parameters_grid_search = None, cv = None, feature_selector=False,  parameters_feature_selector = None):\n",
    "\n",
    "    # Defining metrics to be used as scoring \n",
    "    scoring = {\n",
    "        'accuracy': make_scorer(accuracy_score),\n",
    "        'precision': make_scorer(precision_score),\n",
    "        'recall': make_scorer(recall_score),\n",
    "        'f1_score': make_scorer(f1_score)\n",
    "    }\n",
    "\n",
    "    # Preprocess to make on the train data may include\n",
    "    # - normalization of the numerical columns\n",
    "    # - one hot encoding on the categorical columns\n",
    "    \n",
    "    categorical_columns = dataset.select_dtypes(include=['object']).columns\n",
    "\n",
    "    if not encoder: #only scaler\n",
    "        transformers = [('num', RobustScaler(), ~dataset.columns.isin(categorical_columns))]\n",
    "    elif not scaler: #only encoder\n",
    "        transformers = [('cat', OneHotEncoder(handle_unknown='ignore'), categorical_columns)]\n",
    "    elif not encoder and not scaler:\n",
    "        transformers = []\n",
    "    else: # both scaler and encoder\n",
    "        transformers=[\n",
    "            ('num', RobustScaler(), ~dataset.columns.isin(categorical_columns)),\n",
    "            ('cat', OneHotEncoder(handle_unknown='ignore'), categorical_columns),\n",
    "        ]\n",
    "\n",
    "    preprocessor = ColumnTransformer(transformers=transformers)\n",
    "\n",
    "    # set parameters per KNN case\n",
    "    if isinstance(classifier, KNeighborsClassifier):\n",
    "        parameter_type = 'classifier__n_neighbors'\n",
    "        if parameters_grid_search:\n",
    "            parameters = {parameter_type: parameters_grid_search}  # n_neighbors values to be explored \n",
    "        else:\n",
    "            parameters = {parameter_type: [3, 5, 7, 9, 11]} \n",
    "\n",
    "        feature_selector_type = SelectKBest(score_func=f_classif)\n",
    "        selector_parameter = 'feature_selection__k'\n",
    "        \n",
    "    # set parameters per RF case\n",
    "    if isinstance(classifier, RandomForestClassifier):\n",
    "        parameter_type = 'classifier__n_estimators'\n",
    "        if parameters_grid_search:\n",
    "            parameters = {parameter_type: parameters_grid_search}  \n",
    "        else:\n",
    "            parameters = {parameter_type: [10, 50, 200, 500, 1000]} \n",
    "\n",
    "        feature_selector_type = RFE(estimator=classifier)\n",
    "        selector_parameter = 'feature_selection__n_features_to_select'\n",
    "\n",
    "    # set parameters per LinearSVC case\n",
    "    if isinstance(classifier, CalibratedClassifierCV):\n",
    "        parameter_type = 'classifier__estimator__C'\n",
    "        if parameters_grid_search:\n",
    "            parameters = {parameter_type: parameters_grid_search}  \n",
    "        else:\n",
    "            parameters = {parameter_type: [0.001, 0.01, 0.1, 1, 10, 100]}  \n",
    "\n",
    "        feature_selector_type = RFE(estimator=LinearSVC(dual=False, random_state=42))\n",
    "        selector_parameter = 'feature_selection__n_features_to_select'\n",
    "\n",
    "    \n",
    "    if feature_selector: # in case feature selection is required\n",
    "        \n",
    "        sample_transformed = preprocessor.fit_transform(dataset)\n",
    "        n_total_features = sample_transformed.shape[1]\n",
    "        print(\"Total quantity of features after one hot encoding :\" + str(n_total_features))\n",
    "        \n",
    "        # Pipeline with feature selector\n",
    "        pipeline = Pipeline([\n",
    "        ('preprocessor', preprocessor),\n",
    "        ('feature_selection', feature_selector_type),\n",
    "        ('classifier', classifier)  \n",
    "        ])\n",
    "        if parameters_feature_selector:\n",
    "            parameters.update({selector_parameter: parameters_feature_selector})\n",
    "        else: \n",
    "            parameters.update({selector_parameter: list(range(1, n_total_features+1))})\n",
    "            \n",
    "    else:\n",
    "        # Pipeline without feature selector\n",
    "        pipeline = Pipeline([\n",
    "            ('preprocessor', preprocessor),\n",
    "            ('classifier', classifier),\n",
    "            ])\n",
    "\n",
    "    # allows to change k of cross validation from the outside\n",
    "    if cv:\n",
    "        k_folds = cv\n",
    "    else:\n",
    "        k_folds = 5\n",
    "\n",
    "    # Creating GridSearchCV\n",
    "    grid_search = GridSearchCV(pipeline, parameters, cv= k_folds, scoring=scoring, refit='accuracy')\n",
    "\n",
    "    # Executing \n",
    "    grid_search.fit(dataset, target)\n",
    "\n",
    "    # Extraction of results\n",
    "\n",
    "    means_accuracy = grid_search.cv_results_['mean_test_accuracy']\n",
    "    stds_accuracy = grid_search.cv_results_['std_test_accuracy']\n",
    "    means_precision = grid_search.cv_results_['mean_test_precision']\n",
    "    means_recall = grid_search.cv_results_['mean_test_recall']\n",
    "    means_f1_score = grid_search.cv_results_['mean_test_f1_score']\n",
    "    params = grid_search.cv_results_['params']\n",
    "\n",
    "    best_model = grid_search.best_estimator_\n",
    "    best_parameter = [grid_search.best_params_[parameter_type]]\n",
    "    best_accuracy = grid_search.best_score_\n",
    "    best_f1_score = grid_search.cv_results_['mean_test_f1_score'][grid_search.best_index_]\n",
    "    best_scores = [best_accuracy, best_f1_score]\n",
    "\n",
    "    feature_names = []\n",
    "    for feature in best_model.named_steps['preprocessor'].get_feature_names_out():\n",
    "        feature_names.append(feature)\n",
    "    # Visualization of results\n",
    "\n",
    "    if not parameters_grid_search: #the parameter is not choose from the outside\n",
    "        print(\"Cross-validation results for each combination of hyperparameters:\")\n",
    "        for mean_acc, std_acc, mean_prec, mean_rec, mean_f1, params in zip(means_accuracy, stds_accuracy, means_precision, means_recall, means_f1_score, params):\n",
    "            print(f\"Parameters: {params}, Accuracy: {mean_acc:.3f} (±{std_acc:.3f}), Precision: {mean_prec:.3f}, Recall: {mean_rec:.3f}, F1-score: {mean_f1:.3f}\")\n",
    "\n",
    "        print(\"\\nBest parameter founded:\")\n",
    "        print(best_parameter)\n",
    "        print(\"\\nThe scores achieved are:\")\n",
    "\n",
    "    print(\"Accuracy:\", best_accuracy)\n",
    "    print(\"F1-score:\", best_f1_score)\n",
    "\n",
    "    if feature_selector:\n",
    "        # Get the support mask and selected feature names from the preprocessed data\n",
    "        feature_names = best_model.named_steps['preprocessor'].get_feature_names_out()\n",
    "        selected_mask = best_model.named_steps['feature_selection'].get_support()\n",
    "        selected_features = []\n",
    "        for feature in feature_names[selected_mask]:\n",
    "            selected_features.append(feature)\n",
    "\n",
    "        print(\"\\nSelected features are:\")\n",
    "        print(f\"Number of selected features: {len(selected_features)}\")\n",
    "        print(\"Selected features:\", selected_features)\n",
    "\n",
    "        non_selected_mask = ~selected_mask\n",
    "        non_selected_features = feature_names[non_selected_mask]\n",
    "\n",
    "        print(\"\\nNon selected features are:\")\n",
    "        print(f\"Number of non selected features: {len(non_selected_features)}\")\n",
    "        print(\"Selected features:\", non_selected_features)\n",
    "\n",
    "        best_parameter.append(grid_search.best_params_[selector_parameter])\n",
    "\n",
    "        return best_model, best_parameter, best_scores, selected_features\n",
    "        \n",
    "    return best_model, best_parameter, best_scores, feature_names\n",
    "    "
   ]
  },
  {
   "cell_type": "markdown",
   "metadata": {},
   "source": [
    "## General classifiers"
   ]
  },
  {
   "cell_type": "markdown",
   "metadata": {},
   "source": [
    "We start training our classifiers with the default values, so we can find the most accurate parameters for the training."
   ]
  },
  {
   "cell_type": "markdown",
   "metadata": {},
   "source": [
    "### K-NEAREST NEIGHBOOR"
   ]
  },
  {
   "cell_type": "markdown",
   "metadata": {},
   "source": [
    "To use the K-Nearest Neighbors, we need only numerical features, so we will use one-hot-encoding to turn the categorical features (which aren't ordinal) into numerical features. We also need to perform normalization, as we are using distancies to classify instancies."
   ]
  },
  {
   "cell_type": "code",
   "execution_count": 26,
   "metadata": {},
   "outputs": [
    {
     "name": "stdout",
     "output_type": "stream",
     "text": [
      "Cross-validation results for each combination of hyperparameters:\n",
      "Parameters: {'classifier__n_neighbors': 3}, Accuracy: 0.923 (±0.029), Precision: 0.987, Recall: 0.858, F1-score: 0.916\n",
      "Parameters: {'classifier__n_neighbors': 5}, Accuracy: 0.907 (±0.039), Precision: 0.993, Recall: 0.820, F1-score: 0.897\n",
      "Parameters: {'classifier__n_neighbors': 7}, Accuracy: 0.907 (±0.034), Precision: 1.000, Recall: 0.814, F1-score: 0.896\n",
      "Parameters: {'classifier__n_neighbors': 9}, Accuracy: 0.901 (±0.033), Precision: 0.993, Recall: 0.808, F1-score: 0.889\n",
      "Parameters: {'classifier__n_neighbors': 11}, Accuracy: 0.898 (±0.036), Precision: 1.000, Recall: 0.795, F1-score: 0.884\n",
      "\n",
      "Best parameter founded:\n",
      "[3]\n",
      "\n",
      "The scores achieved are:\n",
      "Accuracy: 0.9228365384615385\n",
      "F1-score: 0.9160577453719814\n"
     ]
    }
   ],
   "source": [
    "classifier = KNeighborsClassifier()\n",
    "knn_model, knn_parameter, knn_scores, _= general_pipeline(X_SMOTE, Y_SMOTE, classifier)\n"
   ]
  },
  {
   "cell_type": "markdown",
   "metadata": {},
   "source": [
    "As we seen, we found that the best accuracy of the model is achieved using k = 3 and we obtained accuracy = 0.910 and F1-score = 0.904."
   ]
  },
  {
   "cell_type": "markdown",
   "metadata": {},
   "source": [
    "Now we test the algorithm on unseen data."
   ]
  },
  {
   "cell_type": "code",
   "execution_count": 27,
   "metadata": {},
   "outputs": [
    {
     "name": "stdout",
     "output_type": "stream",
     "text": [
      "\n",
      "Model Evaluation on Test Data:\n",
      "Accuracy: 0.880\n",
      "Precision: 0.967\n",
      "Recall: 0.866\n",
      "F1-score: 0.913\n"
     ]
    }
   ],
   "source": [
    "# Model evaluation on test data \n",
    "y_pred = knn_model.predict(X_test)\n",
    "\n",
    "# Prints and stores scores of the model on testing set\n",
    "accuracy, precision, recall, f1 = of.evaluation_test_scores(y_test, y_pred)"
   ]
  },
  {
   "cell_type": "markdown",
   "metadata": {},
   "source": [
    "We can see that the accuracy and the F1-score are both lower. Rispectively 0.85 (vs 0.911) and 0.889 (vs 0.904). "
   ]
  },
  {
   "cell_type": "markdown",
   "metadata": {},
   "source": [
    "To have a better idea of the performance, we display also the confusion matrix."
   ]
  },
  {
   "cell_type": "code",
   "execution_count": 28,
   "metadata": {},
   "outputs": [
    {
     "data": {
      "image/png": "[encoded data removed]",
      "text/plain": [
       "<Figure size 800x600 with 2 Axes>"
      ]
     },
     "metadata": {},
     "output_type": "display_data"
    }
   ],
   "source": [
    "# Confusion Matrix\n",
    "conf_matrix = confusion_matrix(y_test, y_pred)\n",
    "\n",
    "plt.figure(figsize=(8, 6))\n",
    "sns.heatmap(conf_matrix, annot=True, cmap=\"Blues\", fmt=\"d\", xticklabels=['ASD', 'Control'], yticklabels=['ASD', 'Control'])\n",
    "plt.xlabel('Predicted Label')\n",
    "plt.ylabel('True Label')\n",
    "plt.title('Confusion Matrix')\n",
    "plt.show()\n"
   ]
  },
  {
   "cell_type": "markdown",
   "metadata": {},
   "source": [
    "We can observe that in general we have a good fit, but there are 14 persons that are misclassified. In particular, there are 11 autistics that are classified as controls."
   ]
  },
  {
   "cell_type": "markdown",
   "metadata": {},
   "source": [
    "### Random Forest"
   ]
  },
  {
   "cell_type": "markdown",
   "metadata": {},
   "source": [
    "To use the Random Forest classifier, I need to have only numerical features, so we will use one-hot-encoding to turn the categorical features (which aren't ordinal) into numerical features. It's not necessary to perform any normalization, but as we want to compare the performance of this classifier with others that use normalization, we will also use normalized data to train this classifier (it's not harmfull for the Random Forest Classifier)."
   ]
  },
  {
   "cell_type": "code",
   "execution_count": 29,
   "metadata": {},
   "outputs": [
    {
     "name": "stdout",
     "output_type": "stream",
     "text": [
      "Cross-validation results for each combination of hyperparameters:\n",
      "Parameters: {'classifier__n_estimators': 10}, Accuracy: 0.975 (±0.013), Precision: 0.988, Recall: 0.963, F1-score: 0.975\n",
      "Parameters: {'classifier__n_estimators': 50}, Accuracy: 0.981 (±0.015), Precision: 0.994, Recall: 0.969, F1-score: 0.981\n",
      "Parameters: {'classifier__n_estimators': 200}, Accuracy: 0.978 (±0.013), Precision: 0.994, Recall: 0.963, F1-score: 0.978\n",
      "Parameters: {'classifier__n_estimators': 500}, Accuracy: 0.975 (±0.013), Precision: 0.994, Recall: 0.956, F1-score: 0.974\n",
      "Parameters: {'classifier__n_estimators': 1000}, Accuracy: 0.978 (±0.016), Precision: 1.000, Recall: 0.956, F1-score: 0.977\n",
      "\n",
      "Best parameter founded:\n",
      "[50]\n",
      "\n",
      "The scores achieved are:\n",
      "Accuracy: 0.9813942307692308\n",
      "F1-score: 0.9809273335478375\n"
     ]
    }
   ],
   "source": [
    "classifier = RandomForestClassifier(random_state=42)\n",
    "rf_model, rf_parameter, rf_scores, rf_features_names = general_pipeline(X_SMOTE, Y_SMOTE, classifier)"
   ]
  },
  {
   "cell_type": "markdown",
   "metadata": {},
   "source": [
    "We found that the best accuracy, using 50 trees, is 0.985, and equal to the best F1-score."
   ]
  },
  {
   "cell_type": "code",
   "execution_count": 30,
   "metadata": {},
   "outputs": [
    {
     "name": "stdout",
     "output_type": "stream",
     "text": [
      "\n",
      "Model Evaluation on Test Data:\n",
      "Accuracy: 0.967\n",
      "Precision: 0.985\n",
      "Recall: 0.970\n",
      "F1-score: 0.977\n"
     ]
    }
   ],
   "source": [
    "# Evaluation Model on Test Data \n",
    "y_pred = rf_model.predict(X_test)\n",
    "\n",
    "# Prints and stores scores of the model on testing set\n",
    "accuracy, precision, recall, f1 = of.evaluation_test_scores(y_test, y_pred)\n",
    "\n"
   ]
  },
  {
   "cell_type": "markdown",
   "metadata": {},
   "source": [
    "The accuracy is 0.978 (vs 0.984), while the F1 score to 0.985 (vs 0.984), both are good results"
   ]
  },
  {
   "cell_type": "code",
   "execution_count": 31,
   "metadata": {},
   "outputs": [
    {
     "data": {
      "image/png": "[encoded data removed]",
      "text/plain": [
       "<Figure size 800x600 with 2 Axes>"
      ]
     },
     "metadata": {},
     "output_type": "display_data"
    }
   ],
   "source": [
    "conf_matrix = confusion_matrix(y_test, y_pred)\n",
    "\n",
    "plt.figure(figsize=(8, 6))\n",
    "sns.heatmap(conf_matrix, annot=True, cmap=\"Blues\", fmt=\"d\", xticklabels=['ASD', 'Control'], yticklabels=['ASD', 'Control'])\n",
    "plt.xlabel('Predicted Label')\n",
    "plt.ylabel('True Label')\n",
    "plt.title('Confusion Matrix')\n",
    "plt.show()\n"
   ]
  },
  {
   "cell_type": "markdown",
   "metadata": {},
   "source": [
    "Accordly to what we said before, there is an higher accuracy in the model, so we have a better fit of the model to the labeled data, with only 2 autistics misclassified."
   ]
  },
  {
   "cell_type": "markdown",
   "metadata": {},
   "source": [
    "### Support vector machine"
   ]
  },
  {
   "cell_type": "markdown",
   "metadata": {},
   "source": [
    "We still using the default parameters and both encoding and scaler.\n",
    "\n",
    " Note: we use the calibrated classifier cv on the LinearSVC to enable the possibility to compute the ROC."
   ]
  },
  {
   "cell_type": "code",
   "execution_count": 32,
   "metadata": {},
   "outputs": [
    {
     "name": "stdout",
     "output_type": "stream",
     "text": [
      "Cross-validation results for each combination of hyperparameters:\n",
      "Parameters: {'classifier__estimator__C': 0.001}, Accuracy: 0.929 (±0.029), Precision: 0.981, Recall: 0.876, F1-score: 0.923\n",
      "Parameters: {'classifier__estimator__C': 0.01}, Accuracy: 0.941 (±0.023), Precision: 1.000, Recall: 0.882, F1-score: 0.937\n",
      "Parameters: {'classifier__estimator__C': 0.1}, Accuracy: 0.951 (±0.012), Precision: 0.994, Recall: 0.907, F1-score: 0.948\n",
      "Parameters: {'classifier__estimator__C': 1}, Accuracy: 0.954 (±0.014), Precision: 0.988, Recall: 0.920, F1-score: 0.952\n",
      "Parameters: {'classifier__estimator__C': 10}, Accuracy: 0.954 (±0.014), Precision: 0.988, Recall: 0.920, F1-score: 0.952\n",
      "Parameters: {'classifier__estimator__C': 100}, Accuracy: 0.954 (±0.014), Precision: 0.988, Recall: 0.920, F1-score: 0.952\n",
      "\n",
      "Best parameter founded:\n",
      "[1]\n",
      "\n",
      "The scores achieved are:\n",
      "Accuracy: 0.9536538461538463\n",
      "F1-score: 0.9520077760684582\n"
     ]
    }
   ],
   "source": [
    "classifier = CalibratedClassifierCV(LinearSVC(dual=False, random_state=42))\n",
    "svc_model, svc_parameter, svc_scores, _ = general_pipeline(X_SMOTE, Y_SMOTE, classifier)"
   ]
  },
  {
   "cell_type": "markdown",
   "metadata": {},
   "source": [
    "The best accuracy encountered is 0.951 and F1-score is 0.949."
   ]
  },
  {
   "cell_type": "markdown",
   "metadata": {},
   "source": [
    "Now we check on the test."
   ]
  },
  {
   "cell_type": "code",
   "execution_count": 33,
   "metadata": {},
   "outputs": [
    {
     "name": "stdout",
     "output_type": "stream",
     "text": [
      "\n",
      "Model Evaluation on Test Data:\n",
      "Accuracy: 0.946\n",
      "Precision: 1.000\n",
      "Recall: 0.925\n",
      "F1-score: 0.961\n"
     ]
    }
   ],
   "source": [
    "# Model evaluation on test data\n",
    "y_pred = svc_model.predict(X_test)\n",
    "\n",
    "# Prints and stores scores of the model on testing set\n",
    "accuracy, precision, recall, f1 = of.evaluation_test_scores(y_test, y_pred)\n"
   ]
  },
  {
   "cell_type": "markdown",
   "metadata": {},
   "source": [
    "Also in this case there is a decrease of accuracy using test data, going to 0.935 (vs 0.951), and F1-score going to 0.961 (vs 0.952)."
   ]
  },
  {
   "cell_type": "code",
   "execution_count": 34,
   "metadata": {},
   "outputs": [
    {
     "data": {
      "image/png": "[encoded data removed]",
      "text/plain": [
       "<Figure size 800x600 with 2 Axes>"
      ]
     },
     "metadata": {},
     "output_type": "display_data"
    }
   ],
   "source": [
    "conf_matrix = confusion_matrix(y_test, y_pred)\n",
    "\n",
    "# Visualizzazione della matrice di confusione\n",
    "plt.figure(figsize=(8, 6))\n",
    "sns.heatmap(conf_matrix, annot=True, cmap=\"Blues\", fmt=\"d\", xticklabels=['ASD', 'Control'], yticklabels=['ASD', 'Control'])\n",
    "plt.xlabel('Predicted Label')\n",
    "plt.ylabel('True Label')\n",
    "plt.title('Confusion Matrix')\n",
    "plt.show()\n"
   ]
  },
  {
   "cell_type": "markdown",
   "metadata": {},
   "source": [
    "As we can see, this algorithm has a worst performance than RFC, but better than KNN, misclassifing 5 autistics as control. "
   ]
  },
  {
   "cell_type": "markdown",
   "metadata": {},
   "source": [
    "## Comparison Between Classifiers"
   ]
  },
  {
   "cell_type": "markdown",
   "metadata": {},
   "source": [
    "To better compare the classifiers we evaluate the area under the ROC curve per each classifier."
   ]
  },
  {
   "cell_type": "code",
   "execution_count": 35,
   "metadata": {},
   "outputs": [
    {
     "name": "stdout",
     "output_type": "stream",
     "text": [
      "K-Nearest Neighbors Classifier AUC-ROC: 0.9304477611940298\n",
      "Random Forest Classifier AUC-ROC: 0.9800000000000001\n",
      "Support vector Classifier AUC-ROC: 0.9713432835820895\n"
     ]
    }
   ],
   "source": [
    "# Function to evaluate the AUC-ROC for a given model based on the predicted probabilities\n",
    "def evaluate_roc_auc(model, X_test, y_test):\n",
    "    y_proba = model.predict_proba(X_test)[:, 1]\n",
    "    auc_roc = roc_auc_score(y_test, y_proba)\n",
    "    return auc_roc\n",
    "\n",
    "knn_auc_roc = evaluate_roc_auc(knn_model, X_test, y_test)\n",
    "rf_auc_roc = evaluate_roc_auc(rf_model, X_test, y_test)\n",
    "svc_auc_roc = evaluate_roc_auc(svc_model, X_test, y_test)\n",
    "\n",
    "# Print the results\n",
    "print(\"K-Nearest Neighbors Classifier AUC-ROC:\", knn_auc_roc)\n",
    "print(\"Random Forest Classifier AUC-ROC:\", rf_auc_roc)\n",
    "print(\"Support vector Classifier AUC-ROC:\", svc_auc_roc)\n"
   ]
  },
  {
   "cell_type": "code",
   "execution_count": 36,
   "metadata": {},
   "outputs": [
    {
     "data": {
      "image/png": "[encoded data removed]",
      "text/plain": [
       "<Figure size 800x600 with 1 Axes>"
      ]
     },
     "metadata": {},
     "output_type": "display_data"
    }
   ],
   "source": [
    "# Function to plot the ROC curve for a given model\n",
    "def plot_roc_curve(model, X_test, y_test, model_name):\n",
    "    y_proba = model.predict_proba(X_test)[:, 1]\n",
    "    fpr, tpr, _ = roc_curve(y_test, y_proba)\n",
    "    plt.plot(fpr, tpr, label=model_name)\n",
    "    plt.xlabel('False Positive Rate')\n",
    "    plt.ylabel('True Positive Rate')\n",
    "    plt.title('ROC Curve')\n",
    "    plt.legend()\n",
    "    plt.grid(True)\n",
    "\n",
    "# We need to make the diagnostic binary (instead of 1 and 2)\n",
    "y_test_binary = (y_test == 2).astype(int)\n",
    "\n",
    "plt.figure(figsize=(8, 6))\n",
    "plot_roc_curve(knn_model, X_test, y_test_binary, 'K-Nearest Neighbors Classifier')\n",
    "plot_roc_curve(rf_model, X_test, y_test_binary, 'Random Forest Classifier')\n",
    "plot_roc_curve(svc_model, X_test, y_test_binary, 'Support vector Classifier')\n",
    "plt.show()\n"
   ]
  },
  {
   "cell_type": "markdown",
   "metadata": {},
   "source": [
    "We know that that the curve that gets more closer to one in the True Positive Rate is the one with the best performance. As we predicted before, the more accurate classifier for this problem is the RF (0.983 of auc score), followed by the SVC (0.973 of auc score) and finally by the KNN (0.954 of auc score)."
   ]
  },
  {
   "cell_type": "markdown",
   "metadata": {},
   "source": [
    "# Outlier Detection"
   ]
  },
  {
   "cell_type": "markdown",
   "metadata": {},
   "source": [
    "Now we want to check if the possible presence of outlier that we checked  during the exploration is really affecting the performance of our classifiers."
   ]
  },
  {
   "cell_type": "markdown",
   "metadata": {},
   "source": [
    "The following function uses Local Outlier Factor to determine if a subject can be considered as outlier or not, the contamination_factor is set by a grid search. It returns the datasets without outliers subjects."
   ]
  },
  {
   "cell_type": "code",
   "execution_count": 37,
   "metadata": {},
   "outputs": [],
   "source": [
    "def outlier_detector(dataset, diagnosis, contamination_factor, k_neighbors):\n",
    "    dataset_outliers = dataset.select_dtypes(include=[np.number])\n",
    "    X = dataset_outliers.values\n",
    "\n",
    "    # Initialize Local Outlier Factor\n",
    "    lof = LocalOutlierFactor(n_neighbors=k_neighbors, contamination=contamination_factor)  # Adjust parameters as needed\n",
    "    '''n_neighbors | if too small: model sensible to noise and random outliers\n",
    "                     if too large: diculties in local outliers detection, in particular if in absence of a uniform distribution\n",
    "       contamination | data portion expected as outliers'''\n",
    "    \n",
    "    # Fit the model and predict outliers\n",
    "    outliers = lof.fit_predict(X)\n",
    "\n",
    "    # Print number of detected outliers\n",
    "    print(f\"___________________\\nNumber of outliers detected: {np.sum(outliers == -1)}\")\n",
    "\n",
    "    # outliers == -1 indicates outliers, 1 indicates inliers\n",
    "    dataset_outliers['outlier'] = outliers\n",
    "\n",
    "    outlier_subjects = dataset_outliers[dataset_outliers['outlier'] == -1]\n",
    "\n",
    "    pd.set_option('display.max_columns', None); outlier_subjects.T\n",
    "\n",
    "    # Stores the datasets without outliers\n",
    "    \n",
    "    dataset_without_outliers = dataset[dataset_outliers['outlier'] == 1]\n",
    "         \n",
    "    diagnosis_without_outliers = diagnosis[dataset_outliers['outlier'] == 1]\n",
    "\n",
    "    return dataset_without_outliers, diagnosis_without_outliers, lof"
   ]
  },
  {
   "cell_type": "markdown",
   "metadata": {},
   "source": [
    "We implement the grid search to find the best contamination factor for each one of the classifiers and we check their performances."
   ]
  },
  {
   "cell_type": "code",
   "execution_count": 38,
   "metadata": {},
   "outputs": [
    {
     "name": "stdout",
     "output_type": "stream",
     "text": [
      "___________________\n",
      "Number of outliers detected: 2\n",
      "\n",
      "_____\n",
      "Evaluating classifier: KNeighborsClassifier\n",
      "with contamination factor = 0.0033 and k_neighbors = 2\n",
      "Cross-validation results for each combination of hyperparameters:\n",
      "Parameters: {'classifier__n_neighbors': 3}, Accuracy: 0.929 (±0.016), Precision: 0.982, Recall: 0.876, F1-score: 0.924\n",
      "Parameters: {'classifier__n_neighbors': 5}, Accuracy: 0.922 (±0.014), Precision: 0.993, Recall: 0.851, F1-score: 0.916\n",
      "Parameters: {'classifier__n_neighbors': 7}, Accuracy: 0.919 (±0.011), Precision: 0.982, Recall: 0.857, F1-score: 0.914\n",
      "Parameters: {'classifier__n_neighbors': 9}, Accuracy: 0.910 (±0.015), Precision: 0.988, Recall: 0.833, F1-score: 0.902\n",
      "Parameters: {'classifier__n_neighbors': 11}, Accuracy: 0.907 (±0.026), Precision: 0.993, Recall: 0.820, F1-score: 0.897\n",
      "\n",
      "Best parameter founded:\n",
      "[3]\n",
      "\n",
      "The scores achieved are:\n",
      "Accuracy: 0.9286057692307693\n",
      "F1-score: 0.9243628879129162\n",
      "\n",
      "_____\n",
      "Evaluating classifier: RandomForestClassifier\n",
      "with contamination factor = 0.0033 and k_neighbors = 2\n",
      "Cross-validation results for each combination of hyperparameters:\n",
      "Parameters: {'classifier__n_estimators': 10}, Accuracy: 0.963 (±0.021), Precision: 0.964, Recall: 0.963, F1-score: 0.963\n",
      "Parameters: {'classifier__n_estimators': 50}, Accuracy: 0.981 (±0.012), Precision: 1.000, Recall: 0.963, F1-score: 0.981\n",
      "Parameters: {'classifier__n_estimators': 200}, Accuracy: 0.972 (±0.021), Precision: 0.993, Recall: 0.950, F1-score: 0.971\n",
      "Parameters: {'classifier__n_estimators': 500}, Accuracy: 0.975 (±0.016), Precision: 1.000, Recall: 0.950, F1-score: 0.974\n",
      "Parameters: {'classifier__n_estimators': 1000}, Accuracy: 0.975 (±0.016), Precision: 1.000, Recall: 0.950, F1-score: 0.974\n",
      "\n",
      "Best parameter founded:\n",
      "[50]\n",
      "\n",
      "The scores achieved are:\n",
      "Accuracy: 0.9813942307692308\n",
      "F1-score: 0.9808452479420222\n",
      "\n",
      "_____\n",
      "Evaluating classifier: CalibratedClassifierCV\n",
      "with contamination factor = 0.0033 and k_neighbors = 2\n",
      "Cross-validation results for each combination of hyperparameters:\n",
      "Parameters: {'classifier__estimator__C': 0.001}, Accuracy: 0.922 (±0.022), Precision: 0.981, Recall: 0.863, F1-score: 0.918\n",
      "Parameters: {'classifier__estimator__C': 0.01}, Accuracy: 0.938 (±0.020), Precision: 0.988, Recall: 0.888, F1-score: 0.934\n",
      "Parameters: {'classifier__estimator__C': 0.1}, Accuracy: 0.953 (±0.014), Precision: 1.000, Recall: 0.907, F1-score: 0.951\n",
      "Parameters: {'classifier__estimator__C': 1}, Accuracy: 0.956 (±0.012), Precision: 1.000, Recall: 0.913, F1-score: 0.954\n",
      "Parameters: {'classifier__estimator__C': 10}, Accuracy: 0.963 (±0.012), Precision: 1.000, Recall: 0.925, F1-score: 0.961\n",
      "Parameters: {'classifier__estimator__C': 100}, Accuracy: 0.960 (±0.008), Precision: 1.000, Recall: 0.919, F1-score: 0.958\n",
      "\n",
      "Best parameter founded:\n",
      "[10]\n",
      "\n",
      "The scores achieved are:\n",
      "Accuracy: 0.9627403846153847\n",
      "F1-score: 0.9610672001040852\n",
      "___________________\n",
      "Number of outliers detected: 2\n",
      "\n",
      "_____\n",
      "Evaluating classifier: KNeighborsClassifier\n",
      "with contamination factor = 0.0033 and k_neighbors = 3\n",
      "Cross-validation results for each combination of hyperparameters:\n",
      "Parameters: {'classifier__n_neighbors': 3}, Accuracy: 0.925 (±0.020), Precision: 0.981, Recall: 0.869, F1-score: 0.921\n",
      "Parameters: {'classifier__n_neighbors': 5}, Accuracy: 0.928 (±0.021), Precision: 0.987, Recall: 0.869, F1-score: 0.923\n",
      "Parameters: {'classifier__n_neighbors': 7}, Accuracy: 0.922 (±0.020), Precision: 0.987, Recall: 0.857, F1-score: 0.916\n",
      "Parameters: {'classifier__n_neighbors': 9}, Accuracy: 0.907 (±0.022), Precision: 0.987, Recall: 0.826, F1-score: 0.898\n",
      "Parameters: {'classifier__n_neighbors': 11}, Accuracy: 0.910 (±0.019), Precision: 0.993, Recall: 0.826, F1-score: 0.901\n",
      "\n",
      "Best parameter founded:\n",
      "[5]\n",
      "\n",
      "The scores achieved are:\n",
      "Accuracy: 0.9284615384615386\n",
      "F1-score: 0.9232890238698246\n",
      "\n",
      "_____\n",
      "Evaluating classifier: RandomForestClassifier\n",
      "with contamination factor = 0.0033 and k_neighbors = 3\n",
      "Cross-validation results for each combination of hyperparameters:\n",
      "Parameters: {'classifier__n_estimators': 10}, Accuracy: 0.966 (±0.023), Precision: 0.976, Recall: 0.956, F1-score: 0.966\n",
      "Parameters: {'classifier__n_estimators': 50}, Accuracy: 0.978 (±0.012), Precision: 0.994, Recall: 0.963, F1-score: 0.978\n",
      "Parameters: {'classifier__n_estimators': 200}, Accuracy: 0.981 (±0.012), Precision: 1.000, Recall: 0.963, F1-score: 0.981\n",
      "Parameters: {'classifier__n_estimators': 500}, Accuracy: 0.981 (±0.012), Precision: 1.000, Recall: 0.963, F1-score: 0.981\n",
      "Parameters: {'classifier__n_estimators': 1000}, Accuracy: 0.981 (±0.012), Precision: 1.000, Recall: 0.963, F1-score: 0.981\n",
      "\n",
      "Best parameter founded:\n",
      "[200]\n",
      "\n",
      "The scores achieved are:\n",
      "Accuracy: 0.9813942307692308\n",
      "F1-score: 0.9808452479420222\n",
      "\n",
      "_____\n",
      "Evaluating classifier: CalibratedClassifierCV\n",
      "with contamination factor = 0.0033 and k_neighbors = 3\n",
      "Cross-validation results for each combination of hyperparameters:\n",
      "Parameters: {'classifier__estimator__C': 0.001}, Accuracy: 0.916 (±0.023), Precision: 0.981, Recall: 0.851, F1-score: 0.911\n",
      "Parameters: {'classifier__estimator__C': 0.01}, Accuracy: 0.932 (±0.008), Precision: 0.988, Recall: 0.875, F1-score: 0.927\n",
      "Parameters: {'classifier__estimator__C': 0.1}, Accuracy: 0.953 (±0.017), Precision: 1.000, Recall: 0.907, F1-score: 0.951\n",
      "Parameters: {'classifier__estimator__C': 1}, Accuracy: 0.957 (±0.023), Precision: 1.000, Recall: 0.913, F1-score: 0.954\n",
      "Parameters: {'classifier__estimator__C': 10}, Accuracy: 0.960 (±0.025), Precision: 1.000, Recall: 0.919, F1-score: 0.957\n",
      "Parameters: {'classifier__estimator__C': 100}, Accuracy: 0.957 (±0.023), Precision: 1.000, Recall: 0.913, F1-score: 0.954\n",
      "\n",
      "Best parameter founded:\n",
      "[10]\n",
      "\n",
      "The scores achieved are:\n",
      "Accuracy: 0.9596634615384616\n",
      "F1-score: 0.9571183077750873\n",
      "___________________\n",
      "Number of outliers detected: 2\n",
      "\n",
      "_____\n",
      "Evaluating classifier: KNeighborsClassifier\n",
      "with contamination factor = 0.0033 and k_neighbors = 5\n",
      "Cross-validation results for each combination of hyperparameters:\n",
      "Parameters: {'classifier__n_neighbors': 3}, Accuracy: 0.929 (±0.046), Precision: 0.985, Recall: 0.871, F1-score: 0.924\n",
      "Parameters: {'classifier__n_neighbors': 5}, Accuracy: 0.926 (±0.039), Precision: 0.992, Recall: 0.859, F1-score: 0.920\n",
      "Parameters: {'classifier__n_neighbors': 7}, Accuracy: 0.917 (±0.044), Precision: 1.000, Recall: 0.834, F1-score: 0.907\n",
      "Parameters: {'classifier__n_neighbors': 9}, Accuracy: 0.905 (±0.057), Precision: 0.991, Recall: 0.816, F1-score: 0.892\n",
      "Parameters: {'classifier__n_neighbors': 11}, Accuracy: 0.899 (±0.056), Precision: 0.991, Recall: 0.804, F1-score: 0.885\n",
      "\n",
      "Best parameter founded:\n",
      "[3]\n",
      "\n",
      "The scores achieved are:\n",
      "Accuracy: 0.9293706293706295\n",
      "F1-score: 0.923783448190228\n",
      "\n",
      "_____\n",
      "Evaluating classifier: RandomForestClassifier\n",
      "with contamination factor = 0.0033 and k_neighbors = 5\n",
      "Cross-validation results for each combination of hyperparameters:\n",
      "Parameters: {'classifier__n_estimators': 10}, Accuracy: 0.976 (±0.015), Precision: 0.983, Recall: 0.969, F1-score: 0.975\n",
      "Parameters: {'classifier__n_estimators': 50}, Accuracy: 0.988 (±0.012), Precision: 1.000, Recall: 0.975, F1-score: 0.987\n",
      "Parameters: {'classifier__n_estimators': 200}, Accuracy: 0.985 (±0.014), Precision: 1.000, Recall: 0.969, F1-score: 0.984\n",
      "Parameters: {'classifier__n_estimators': 500}, Accuracy: 0.985 (±0.014), Precision: 1.000, Recall: 0.969, F1-score: 0.984\n",
      "Parameters: {'classifier__n_estimators': 1000}, Accuracy: 0.985 (±0.014), Precision: 1.000, Recall: 0.969, F1-score: 0.984\n",
      "\n",
      "Best parameter founded:\n",
      "[50]\n",
      "\n",
      "The scores achieved are:\n",
      "Accuracy: 0.9876923076923078\n",
      "F1-score: 0.9872968608452479\n",
      "\n",
      "_____\n",
      "Evaluating classifier: CalibratedClassifierCV\n",
      "with contamination factor = 0.0033 and k_neighbors = 5\n",
      "Cross-validation results for each combination of hyperparameters:\n",
      "Parameters: {'classifier__estimator__C': 0.001}, Accuracy: 0.939 (±0.031), Precision: 0.981, Recall: 0.895, F1-score: 0.934\n",
      "Parameters: {'classifier__estimator__C': 0.01}, Accuracy: 0.957 (±0.018), Precision: 1.000, Recall: 0.914, F1-score: 0.954\n",
      "Parameters: {'classifier__estimator__C': 0.1}, Accuracy: 0.963 (±0.021), Precision: 1.000, Recall: 0.926, F1-score: 0.961\n",
      "Parameters: {'classifier__estimator__C': 1}, Accuracy: 0.951 (±0.030), Precision: 1.000, Recall: 0.901, F1-score: 0.947\n",
      "Parameters: {'classifier__estimator__C': 10}, Accuracy: 0.957 (±0.027), Precision: 1.000, Recall: 0.913, F1-score: 0.954\n",
      "Parameters: {'classifier__estimator__C': 100}, Accuracy: 0.957 (±0.027), Precision: 1.000, Recall: 0.913, F1-score: 0.954\n",
      "\n",
      "Best parameter founded:\n",
      "[0.1]\n",
      "\n",
      "The scores achieved are:\n",
      "Accuracy: 0.9631701631701632\n",
      "F1-score: 0.9610567915690866\n",
      "___________________\n",
      "Number of outliers detected: 2\n",
      "\n",
      "_____\n",
      "Evaluating classifier: KNeighborsClassifier\n",
      "with contamination factor = 0.0033 and k_neighbors = 10\n",
      "Cross-validation results for each combination of hyperparameters:\n",
      "Parameters: {'classifier__n_neighbors': 3}, Accuracy: 0.929 (±0.016), Precision: 0.982, Recall: 0.876, F1-score: 0.924\n",
      "Parameters: {'classifier__n_neighbors': 5}, Accuracy: 0.922 (±0.014), Precision: 0.993, Recall: 0.851, F1-score: 0.916\n",
      "Parameters: {'classifier__n_neighbors': 7}, Accuracy: 0.919 (±0.011), Precision: 0.982, Recall: 0.857, F1-score: 0.914\n",
      "Parameters: {'classifier__n_neighbors': 9}, Accuracy: 0.910 (±0.015), Precision: 0.988, Recall: 0.833, F1-score: 0.902\n",
      "Parameters: {'classifier__n_neighbors': 11}, Accuracy: 0.907 (±0.026), Precision: 0.993, Recall: 0.820, F1-score: 0.897\n",
      "\n",
      "Best parameter founded:\n",
      "[3]\n",
      "\n",
      "The scores achieved are:\n",
      "Accuracy: 0.9286057692307693\n",
      "F1-score: 0.9243628879129162\n",
      "\n",
      "_____\n",
      "Evaluating classifier: RandomForestClassifier\n",
      "with contamination factor = 0.0033 and k_neighbors = 10\n",
      "Cross-validation results for each combination of hyperparameters:\n",
      "Parameters: {'classifier__n_estimators': 10}, Accuracy: 0.963 (±0.021), Precision: 0.964, Recall: 0.963, F1-score: 0.963\n",
      "Parameters: {'classifier__n_estimators': 50}, Accuracy: 0.981 (±0.012), Precision: 1.000, Recall: 0.963, F1-score: 0.981\n",
      "Parameters: {'classifier__n_estimators': 200}, Accuracy: 0.972 (±0.021), Precision: 0.993, Recall: 0.950, F1-score: 0.971\n",
      "Parameters: {'classifier__n_estimators': 500}, Accuracy: 0.975 (±0.016), Precision: 1.000, Recall: 0.950, F1-score: 0.974\n",
      "Parameters: {'classifier__n_estimators': 1000}, Accuracy: 0.975 (±0.016), Precision: 1.000, Recall: 0.950, F1-score: 0.974\n",
      "\n",
      "Best parameter founded:\n",
      "[50]\n",
      "\n",
      "The scores achieved are:\n",
      "Accuracy: 0.9813942307692308\n",
      "F1-score: 0.9808452479420222\n",
      "\n",
      "_____\n",
      "Evaluating classifier: CalibratedClassifierCV\n",
      "with contamination factor = 0.0033 and k_neighbors = 10\n",
      "Cross-validation results for each combination of hyperparameters:\n",
      "Parameters: {'classifier__estimator__C': 0.001}, Accuracy: 0.922 (±0.022), Precision: 0.981, Recall: 0.863, F1-score: 0.918\n",
      "Parameters: {'classifier__estimator__C': 0.01}, Accuracy: 0.938 (±0.020), Precision: 0.988, Recall: 0.888, F1-score: 0.934\n",
      "Parameters: {'classifier__estimator__C': 0.1}, Accuracy: 0.953 (±0.014), Precision: 1.000, Recall: 0.907, F1-score: 0.951\n",
      "Parameters: {'classifier__estimator__C': 1}, Accuracy: 0.956 (±0.012), Precision: 1.000, Recall: 0.913, F1-score: 0.954\n",
      "Parameters: {'classifier__estimator__C': 10}, Accuracy: 0.963 (±0.012), Precision: 1.000, Recall: 0.925, F1-score: 0.961\n",
      "Parameters: {'classifier__estimator__C': 100}, Accuracy: 0.960 (±0.008), Precision: 1.000, Recall: 0.919, F1-score: 0.958\n",
      "\n",
      "Best parameter founded:\n",
      "[10]\n",
      "\n",
      "The scores achieved are:\n",
      "Accuracy: 0.9627403846153847\n",
      "F1-score: 0.9610672001040852\n",
      "___________________\n",
      "Number of outliers detected: 2\n",
      "\n",
      "_____\n",
      "Evaluating classifier: KNeighborsClassifier\n",
      "with contamination factor = 0.0033 and k_neighbors = 20\n",
      "Cross-validation results for each combination of hyperparameters:\n",
      "Parameters: {'classifier__n_neighbors': 3}, Accuracy: 0.929 (±0.016), Precision: 0.982, Recall: 0.876, F1-score: 0.924\n",
      "Parameters: {'classifier__n_neighbors': 5}, Accuracy: 0.922 (±0.014), Precision: 0.993, Recall: 0.851, F1-score: 0.916\n",
      "Parameters: {'classifier__n_neighbors': 7}, Accuracy: 0.919 (±0.011), Precision: 0.982, Recall: 0.857, F1-score: 0.914\n",
      "Parameters: {'classifier__n_neighbors': 9}, Accuracy: 0.910 (±0.015), Precision: 0.988, Recall: 0.833, F1-score: 0.902\n",
      "Parameters: {'classifier__n_neighbors': 11}, Accuracy: 0.907 (±0.026), Precision: 0.993, Recall: 0.820, F1-score: 0.897\n",
      "\n",
      "Best parameter founded:\n",
      "[3]\n",
      "\n",
      "The scores achieved are:\n",
      "Accuracy: 0.9286057692307693\n",
      "F1-score: 0.9243628879129162\n",
      "\n",
      "_____\n",
      "Evaluating classifier: RandomForestClassifier\n",
      "with contamination factor = 0.0033 and k_neighbors = 20\n",
      "Cross-validation results for each combination of hyperparameters:\n",
      "Parameters: {'classifier__n_estimators': 10}, Accuracy: 0.963 (±0.021), Precision: 0.964, Recall: 0.963, F1-score: 0.963\n",
      "Parameters: {'classifier__n_estimators': 50}, Accuracy: 0.981 (±0.012), Precision: 1.000, Recall: 0.963, F1-score: 0.981\n",
      "Parameters: {'classifier__n_estimators': 200}, Accuracy: 0.972 (±0.021), Precision: 0.993, Recall: 0.950, F1-score: 0.971\n",
      "Parameters: {'classifier__n_estimators': 500}, Accuracy: 0.975 (±0.016), Precision: 1.000, Recall: 0.950, F1-score: 0.974\n",
      "Parameters: {'classifier__n_estimators': 1000}, Accuracy: 0.975 (±0.016), Precision: 1.000, Recall: 0.950, F1-score: 0.974\n",
      "\n",
      "Best parameter founded:\n",
      "[50]\n",
      "\n",
      "The scores achieved are:\n",
      "Accuracy: 0.9813942307692308\n",
      "F1-score: 0.9808452479420222\n",
      "\n",
      "_____\n",
      "Evaluating classifier: CalibratedClassifierCV\n",
      "with contamination factor = 0.0033 and k_neighbors = 20\n",
      "Cross-validation results for each combination of hyperparameters:\n",
      "Parameters: {'classifier__estimator__C': 0.001}, Accuracy: 0.922 (±0.022), Precision: 0.981, Recall: 0.863, F1-score: 0.918\n",
      "Parameters: {'classifier__estimator__C': 0.01}, Accuracy: 0.938 (±0.020), Precision: 0.988, Recall: 0.888, F1-score: 0.934\n",
      "Parameters: {'classifier__estimator__C': 0.1}, Accuracy: 0.953 (±0.014), Precision: 1.000, Recall: 0.907, F1-score: 0.951\n",
      "Parameters: {'classifier__estimator__C': 1}, Accuracy: 0.956 (±0.012), Precision: 1.000, Recall: 0.913, F1-score: 0.954\n",
      "Parameters: {'classifier__estimator__C': 10}, Accuracy: 0.963 (±0.012), Precision: 1.000, Recall: 0.925, F1-score: 0.961\n",
      "Parameters: {'classifier__estimator__C': 100}, Accuracy: 0.960 (±0.008), Precision: 1.000, Recall: 0.919, F1-score: 0.958\n",
      "\n",
      "Best parameter founded:\n",
      "[10]\n",
      "\n",
      "The scores achieved are:\n",
      "Accuracy: 0.9627403846153847\n",
      "F1-score: 0.9610672001040852\n",
      "___________________\n",
      "Number of outliers detected: 3\n",
      "\n",
      "_____\n",
      "Evaluating classifier: KNeighborsClassifier\n",
      "with contamination factor = 0.0098 and k_neighbors = 2\n",
      "Cross-validation results for each combination of hyperparameters:\n",
      "Parameters: {'classifier__n_neighbors': 3}, Accuracy: 0.929 (±0.037), Precision: 0.993, Recall: 0.865, F1-score: 0.923\n",
      "Parameters: {'classifier__n_neighbors': 5}, Accuracy: 0.923 (±0.032), Precision: 0.993, Recall: 0.852, F1-score: 0.916\n",
      "Parameters: {'classifier__n_neighbors': 7}, Accuracy: 0.917 (±0.037), Precision: 0.993, Recall: 0.840, F1-score: 0.908\n",
      "Parameters: {'classifier__n_neighbors': 9}, Accuracy: 0.904 (±0.046), Precision: 1.000, Recall: 0.810, F1-score: 0.892\n",
      "Parameters: {'classifier__n_neighbors': 11}, Accuracy: 0.898 (±0.048), Precision: 1.000, Recall: 0.797, F1-score: 0.884\n",
      "\n",
      "Best parameter founded:\n",
      "[3]\n",
      "\n",
      "The scores achieved are:\n",
      "Accuracy: 0.9290865384615383\n",
      "F1-score: 0.9232395667895951\n",
      "\n",
      "_____\n",
      "Evaluating classifier: RandomForestClassifier\n",
      "with contamination factor = 0.0098 and k_neighbors = 2\n",
      "Cross-validation results for each combination of hyperparameters:\n",
      "Parameters: {'classifier__n_estimators': 10}, Accuracy: 0.975 (±0.019), Precision: 0.983, Recall: 0.969, F1-score: 0.975\n",
      "Parameters: {'classifier__n_estimators': 50}, Accuracy: 0.985 (±0.010), Precision: 0.994, Recall: 0.975, F1-score: 0.984\n",
      "Parameters: {'classifier__n_estimators': 200}, Accuracy: 0.981 (±0.012), Precision: 0.994, Recall: 0.969, F1-score: 0.981\n",
      "Parameters: {'classifier__n_estimators': 500}, Accuracy: 0.981 (±0.012), Precision: 0.994, Recall: 0.969, F1-score: 0.981\n",
      "Parameters: {'classifier__n_estimators': 1000}, Accuracy: 0.978 (±0.012), Precision: 0.994, Recall: 0.963, F1-score: 0.978\n",
      "\n",
      "Best parameter founded:\n",
      "[50]\n",
      "\n",
      "The scores achieved are:\n",
      "Accuracy: 0.9845192307692308\n",
      "F1-score: 0.9843117862183822\n",
      "\n",
      "_____\n",
      "Evaluating classifier: CalibratedClassifierCV\n",
      "with contamination factor = 0.0098 and k_neighbors = 2\n",
      "Cross-validation results for each combination of hyperparameters:\n",
      "Parameters: {'classifier__estimator__C': 0.001}, Accuracy: 0.929 (±0.029), Precision: 0.981, Recall: 0.877, F1-score: 0.924\n",
      "Parameters: {'classifier__estimator__C': 0.01}, Accuracy: 0.954 (±0.026), Precision: 1.000, Recall: 0.907, F1-score: 0.951\n",
      "Parameters: {'classifier__estimator__C': 0.1}, Accuracy: 0.963 (±0.021), Precision: 1.000, Recall: 0.926, F1-score: 0.961\n",
      "Parameters: {'classifier__estimator__C': 1}, Accuracy: 0.960 (±0.023), Precision: 1.000, Recall: 0.920, F1-score: 0.958\n",
      "Parameters: {'classifier__estimator__C': 10}, Accuracy: 0.947 (±0.033), Precision: 1.000, Recall: 0.895, F1-score: 0.943\n",
      "Parameters: {'classifier__estimator__C': 100}, Accuracy: 0.951 (±0.030), Precision: 1.000, Recall: 0.901, F1-score: 0.947\n",
      "\n",
      "Best parameter founded:\n",
      "[0.1]\n",
      "\n",
      "The scores achieved are:\n",
      "Accuracy: 0.9629326923076924\n",
      "F1-score: 0.9610567915690866\n",
      "___________________\n",
      "Number of outliers detected: 3\n",
      "\n",
      "_____\n",
      "Evaluating classifier: KNeighborsClassifier\n",
      "with contamination factor = 0.0098 and k_neighbors = 3\n",
      "Cross-validation results for each combination of hyperparameters:\n",
      "Parameters: {'classifier__n_neighbors': 3}, Accuracy: 0.929 (±0.037), Precision: 0.993, Recall: 0.865, F1-score: 0.923\n",
      "Parameters: {'classifier__n_neighbors': 5}, Accuracy: 0.923 (±0.032), Precision: 0.993, Recall: 0.852, F1-score: 0.916\n",
      "Parameters: {'classifier__n_neighbors': 7}, Accuracy: 0.917 (±0.037), Precision: 0.993, Recall: 0.840, F1-score: 0.908\n",
      "Parameters: {'classifier__n_neighbors': 9}, Accuracy: 0.904 (±0.046), Precision: 1.000, Recall: 0.810, F1-score: 0.892\n",
      "Parameters: {'classifier__n_neighbors': 11}, Accuracy: 0.898 (±0.048), Precision: 1.000, Recall: 0.797, F1-score: 0.884\n",
      "\n",
      "Best parameter founded:\n",
      "[3]\n",
      "\n",
      "The scores achieved are:\n",
      "Accuracy: 0.9290865384615383\n",
      "F1-score: 0.9232395667895951\n",
      "\n",
      "_____\n",
      "Evaluating classifier: RandomForestClassifier\n",
      "with contamination factor = 0.0098 and k_neighbors = 3\n",
      "Cross-validation results for each combination of hyperparameters:\n",
      "Parameters: {'classifier__n_estimators': 10}, Accuracy: 0.975 (±0.019), Precision: 0.983, Recall: 0.969, F1-score: 0.975\n",
      "Parameters: {'classifier__n_estimators': 50}, Accuracy: 0.985 (±0.010), Precision: 0.994, Recall: 0.975, F1-score: 0.984\n",
      "Parameters: {'classifier__n_estimators': 200}, Accuracy: 0.981 (±0.012), Precision: 0.994, Recall: 0.969, F1-score: 0.981\n",
      "Parameters: {'classifier__n_estimators': 500}, Accuracy: 0.981 (±0.012), Precision: 0.994, Recall: 0.969, F1-score: 0.981\n",
      "Parameters: {'classifier__n_estimators': 1000}, Accuracy: 0.978 (±0.012), Precision: 0.994, Recall: 0.963, F1-score: 0.978\n",
      "\n",
      "Best parameter founded:\n",
      "[50]\n",
      "\n",
      "The scores achieved are:\n",
      "Accuracy: 0.9845192307692308\n",
      "F1-score: 0.9843117862183822\n",
      "\n",
      "_____\n",
      "Evaluating classifier: CalibratedClassifierCV\n",
      "with contamination factor = 0.0098 and k_neighbors = 3\n",
      "Cross-validation results for each combination of hyperparameters:\n",
      "Parameters: {'classifier__estimator__C': 0.001}, Accuracy: 0.929 (±0.029), Precision: 0.981, Recall: 0.877, F1-score: 0.924\n",
      "Parameters: {'classifier__estimator__C': 0.01}, Accuracy: 0.954 (±0.026), Precision: 1.000, Recall: 0.907, F1-score: 0.951\n",
      "Parameters: {'classifier__estimator__C': 0.1}, Accuracy: 0.963 (±0.021), Precision: 1.000, Recall: 0.926, F1-score: 0.961\n",
      "Parameters: {'classifier__estimator__C': 1}, Accuracy: 0.960 (±0.023), Precision: 1.000, Recall: 0.920, F1-score: 0.958\n",
      "Parameters: {'classifier__estimator__C': 10}, Accuracy: 0.947 (±0.033), Precision: 1.000, Recall: 0.895, F1-score: 0.943\n",
      "Parameters: {'classifier__estimator__C': 100}, Accuracy: 0.951 (±0.030), Precision: 1.000, Recall: 0.901, F1-score: 0.947\n",
      "\n",
      "Best parameter founded:\n",
      "[0.1]\n",
      "\n",
      "The scores achieved are:\n",
      "Accuracy: 0.9629326923076924\n",
      "F1-score: 0.9610567915690866\n",
      "___________________\n",
      "Number of outliers detected: 3\n",
      "\n",
      "_____\n",
      "Evaluating classifier: KNeighborsClassifier\n",
      "with contamination factor = 0.0098 and k_neighbors = 5\n",
      "Cross-validation results for each combination of hyperparameters:\n",
      "Parameters: {'classifier__n_neighbors': 3}, Accuracy: 0.947 (±0.040), Precision: 0.993, Recall: 0.901, F1-score: 0.944\n",
      "Parameters: {'classifier__n_neighbors': 5}, Accuracy: 0.935 (±0.037), Precision: 0.993, Recall: 0.877, F1-score: 0.930\n",
      "Parameters: {'classifier__n_neighbors': 7}, Accuracy: 0.932 (±0.035), Precision: 1.000, Recall: 0.865, F1-score: 0.926\n",
      "Parameters: {'classifier__n_neighbors': 9}, Accuracy: 0.926 (±0.038), Precision: 1.000, Recall: 0.852, F1-score: 0.919\n",
      "Parameters: {'classifier__n_neighbors': 11}, Accuracy: 0.914 (±0.037), Precision: 0.993, Recall: 0.834, F1-score: 0.905\n",
      "\n",
      "Best parameter founded:\n",
      "[3]\n",
      "\n",
      "The scores achieved are:\n",
      "Accuracy: 0.947451923076923\n",
      "F1-score: 0.9436897713752396\n",
      "\n",
      "_____\n",
      "Evaluating classifier: RandomForestClassifier\n",
      "with contamination factor = 0.0098 and k_neighbors = 5\n",
      "Cross-validation results for each combination of hyperparameters:\n",
      "Parameters: {'classifier__n_estimators': 10}, Accuracy: 0.988 (±0.012), Precision: 0.994, Recall: 0.981, F1-score: 0.987\n",
      "Parameters: {'classifier__n_estimators': 50}, Accuracy: 0.991 (±0.012), Precision: 1.000, Recall: 0.981, F1-score: 0.990\n",
      "Parameters: {'classifier__n_estimators': 200}, Accuracy: 0.988 (±0.012), Precision: 0.994, Recall: 0.981, F1-score: 0.987\n",
      "Parameters: {'classifier__n_estimators': 500}, Accuracy: 0.985 (±0.014), Precision: 0.994, Recall: 0.975, F1-score: 0.984\n",
      "Parameters: {'classifier__n_estimators': 1000}, Accuracy: 0.985 (±0.014), Precision: 0.994, Recall: 0.975, F1-score: 0.984\n",
      "\n",
      "Best parameter founded:\n",
      "[50]\n",
      "\n",
      "The scores achieved are:\n",
      "Accuracy: 0.9906730769230769\n",
      "F1-score: 0.9904714640198511\n",
      "\n",
      "_____\n",
      "Evaluating classifier: CalibratedClassifierCV\n",
      "with contamination factor = 0.0098 and k_neighbors = 5\n",
      "Cross-validation results for each combination of hyperparameters:\n",
      "Parameters: {'classifier__estimator__C': 0.001}, Accuracy: 0.929 (±0.041), Precision: 0.973, Recall: 0.882, F1-score: 0.924\n",
      "Parameters: {'classifier__estimator__C': 0.01}, Accuracy: 0.957 (±0.033), Precision: 1.000, Recall: 0.913, F1-score: 0.953\n",
      "Parameters: {'classifier__estimator__C': 0.1}, Accuracy: 0.960 (±0.029), Precision: 1.000, Recall: 0.920, F1-score: 0.957\n",
      "Parameters: {'classifier__estimator__C': 1}, Accuracy: 0.957 (±0.027), Precision: 1.000, Recall: 0.914, F1-score: 0.954\n",
      "Parameters: {'classifier__estimator__C': 10}, Accuracy: 0.963 (±0.029), Precision: 1.000, Recall: 0.926, F1-score: 0.961\n",
      "Parameters: {'classifier__estimator__C': 100}, Accuracy: 0.963 (±0.025), Precision: 1.000, Recall: 0.926, F1-score: 0.961\n",
      "\n",
      "Best parameter founded:\n",
      "[10]\n",
      "\n",
      "The scores achieved are:\n",
      "Accuracy: 0.9628365384615385\n",
      "F1-score: 0.9607230184765724\n",
      "___________________\n",
      "Number of outliers detected: 3\n",
      "\n",
      "_____\n",
      "Evaluating classifier: KNeighborsClassifier\n",
      "with contamination factor = 0.0098 and k_neighbors = 10\n",
      "Cross-validation results for each combination of hyperparameters:\n",
      "Parameters: {'classifier__n_neighbors': 3}, Accuracy: 0.913 (±0.030), Precision: 0.979, Recall: 0.845, F1-score: 0.907\n",
      "Parameters: {'classifier__n_neighbors': 5}, Accuracy: 0.923 (±0.031), Precision: 0.986, Recall: 0.857, F1-score: 0.917\n",
      "Parameters: {'classifier__n_neighbors': 7}, Accuracy: 0.919 (±0.030), Precision: 1.000, Recall: 0.839, F1-score: 0.911\n",
      "Parameters: {'classifier__n_neighbors': 9}, Accuracy: 0.910 (±0.031), Precision: 1.000, Recall: 0.820, F1-score: 0.900\n",
      "Parameters: {'classifier__n_neighbors': 11}, Accuracy: 0.904 (±0.034), Precision: 1.000, Recall: 0.808, F1-score: 0.892\n",
      "\n",
      "Best parameter founded:\n",
      "[5]\n",
      "\n",
      "The scores achieved are:\n",
      "Accuracy: 0.9225480769230769\n",
      "F1-score: 0.9165992345544014\n",
      "\n",
      "_____\n",
      "Evaluating classifier: RandomForestClassifier\n",
      "with contamination factor = 0.0098 and k_neighbors = 10\n",
      "Cross-validation results for each combination of hyperparameters:\n",
      "Parameters: {'classifier__n_estimators': 10}, Accuracy: 0.972 (±0.021), Precision: 0.994, Recall: 0.950, F1-score: 0.971\n",
      "Parameters: {'classifier__n_estimators': 50}, Accuracy: 0.978 (±0.019), Precision: 1.000, Recall: 0.956, F1-score: 0.977\n",
      "Parameters: {'classifier__n_estimators': 200}, Accuracy: 0.978 (±0.019), Precision: 1.000, Recall: 0.956, F1-score: 0.977\n",
      "Parameters: {'classifier__n_estimators': 500}, Accuracy: 0.978 (±0.019), Precision: 1.000, Recall: 0.956, F1-score: 0.977\n",
      "Parameters: {'classifier__n_estimators': 1000}, Accuracy: 0.978 (±0.019), Precision: 1.000, Recall: 0.956, F1-score: 0.977\n",
      "\n",
      "Best parameter founded:\n",
      "[50]\n",
      "\n",
      "The scores achieved are:\n",
      "Accuracy: 0.9782211538461538\n",
      "F1-score: 0.9772607086197779\n",
      "\n",
      "_____\n",
      "Evaluating classifier: CalibratedClassifierCV\n",
      "with contamination factor = 0.0098 and k_neighbors = 10\n",
      "Cross-validation results for each combination of hyperparameters:\n",
      "Parameters: {'classifier__estimator__C': 0.001}, Accuracy: 0.910 (±0.030), Precision: 0.959, Recall: 0.857, F1-score: 0.905\n",
      "Parameters: {'classifier__estimator__C': 0.01}, Accuracy: 0.944 (±0.023), Precision: 0.994, Recall: 0.894, F1-score: 0.940\n",
      "Parameters: {'classifier__estimator__C': 0.1}, Accuracy: 0.957 (±0.030), Precision: 1.000, Recall: 0.913, F1-score: 0.953\n",
      "Parameters: {'classifier__estimator__C': 1}, Accuracy: 0.953 (±0.033), Precision: 1.000, Recall: 0.906, F1-score: 0.950\n",
      "Parameters: {'classifier__estimator__C': 10}, Accuracy: 0.953 (±0.033), Precision: 1.000, Recall: 0.906, F1-score: 0.950\n",
      "Parameters: {'classifier__estimator__C': 100}, Accuracy: 0.957 (±0.032), Precision: 1.000, Recall: 0.913, F1-score: 0.953\n",
      "\n",
      "Best parameter founded:\n",
      "[0.1]\n",
      "\n",
      "The scores achieved are:\n",
      "Accuracy: 0.9565384615384616\n",
      "F1-score: 0.9533072577140376\n",
      "___________________\n",
      "Number of outliers detected: 3\n",
      "\n",
      "_____\n",
      "Evaluating classifier: KNeighborsClassifier\n",
      "with contamination factor = 0.0098 and k_neighbors = 20\n",
      "Cross-validation results for each combination of hyperparameters:\n",
      "Parameters: {'classifier__n_neighbors': 3}, Accuracy: 0.910 (±0.030), Precision: 0.979, Recall: 0.839, F1-score: 0.903\n",
      "Parameters: {'classifier__n_neighbors': 5}, Accuracy: 0.919 (±0.033), Precision: 0.986, Recall: 0.851, F1-score: 0.913\n",
      "Parameters: {'classifier__n_neighbors': 7}, Accuracy: 0.916 (±0.033), Precision: 1.000, Recall: 0.833, F1-score: 0.907\n",
      "Parameters: {'classifier__n_neighbors': 9}, Accuracy: 0.910 (±0.035), Precision: 1.000, Recall: 0.820, F1-score: 0.900\n",
      "Parameters: {'classifier__n_neighbors': 11}, Accuracy: 0.898 (±0.038), Precision: 1.000, Recall: 0.795, F1-score: 0.884\n",
      "\n",
      "Best parameter founded:\n",
      "[5]\n",
      "\n",
      "The scores achieved are:\n",
      "Accuracy: 0.9194711538461539\n",
      "F1-score: 0.9128704209950793\n",
      "\n",
      "_____\n",
      "Evaluating classifier: RandomForestClassifier\n",
      "with contamination factor = 0.0098 and k_neighbors = 20\n",
      "Cross-validation results for each combination of hyperparameters:\n",
      "Parameters: {'classifier__n_estimators': 10}, Accuracy: 0.960 (±0.025), Precision: 0.976, Recall: 0.944, F1-score: 0.959\n",
      "Parameters: {'classifier__n_estimators': 50}, Accuracy: 0.978 (±0.012), Precision: 1.000, Recall: 0.956, F1-score: 0.978\n",
      "Parameters: {'classifier__n_estimators': 200}, Accuracy: 0.978 (±0.012), Precision: 1.000, Recall: 0.956, F1-score: 0.978\n",
      "Parameters: {'classifier__n_estimators': 500}, Accuracy: 0.978 (±0.012), Precision: 1.000, Recall: 0.956, F1-score: 0.978\n",
      "Parameters: {'classifier__n_estimators': 1000}, Accuracy: 0.978 (±0.012), Precision: 1.000, Recall: 0.956, F1-score: 0.978\n",
      "\n",
      "Best parameter founded:\n",
      "[50]\n",
      "\n",
      "The scores achieved are:\n",
      "Accuracy: 0.9782692307692308\n",
      "F1-score: 0.9775682382133996\n",
      "\n",
      "_____\n",
      "Evaluating classifier: CalibratedClassifierCV\n",
      "with contamination factor = 0.0098 and k_neighbors = 20\n",
      "Cross-validation results for each combination of hyperparameters:\n",
      "Parameters: {'classifier__estimator__C': 0.001}, Accuracy: 0.904 (±0.035), Precision: 0.958, Recall: 0.845, F1-score: 0.898\n",
      "Parameters: {'classifier__estimator__C': 0.01}, Accuracy: 0.941 (±0.023), Precision: 0.994, Recall: 0.888, F1-score: 0.937\n",
      "Parameters: {'classifier__estimator__C': 0.1}, Accuracy: 0.953 (±0.028), Precision: 1.000, Recall: 0.907, F1-score: 0.950\n",
      "Parameters: {'classifier__estimator__C': 1}, Accuracy: 0.957 (±0.027), Precision: 1.000, Recall: 0.913, F1-score: 0.954\n",
      "Parameters: {'classifier__estimator__C': 10}, Accuracy: 0.957 (±0.027), Precision: 1.000, Recall: 0.913, F1-score: 0.954\n",
      "Parameters: {'classifier__estimator__C': 100}, Accuracy: 0.957 (±0.027), Precision: 1.000, Recall: 0.913, F1-score: 0.954\n",
      "\n",
      "Best parameter founded:\n",
      "[1]\n",
      "\n",
      "The scores achieved are:\n",
      "Accuracy: 0.9565865384615385\n",
      "F1-score: 0.9536314485505233\n",
      "___________________\n",
      "Number of outliers detected: 7\n",
      "\n",
      "_____\n",
      "Evaluating classifier: KNeighborsClassifier\n",
      "with contamination factor = 0.023 and k_neighbors = 2\n",
      "Cross-validation results for each combination of hyperparameters:\n",
      "Parameters: {'classifier__n_neighbors': 3}, Accuracy: 0.927 (±0.022), Precision: 0.987, Recall: 0.866, F1-score: 0.921\n",
      "Parameters: {'classifier__n_neighbors': 5}, Accuracy: 0.920 (±0.023), Precision: 0.988, Recall: 0.853, F1-score: 0.914\n",
      "Parameters: {'classifier__n_neighbors': 7}, Accuracy: 0.911 (±0.019), Precision: 0.987, Recall: 0.834, F1-score: 0.903\n",
      "Parameters: {'classifier__n_neighbors': 9}, Accuracy: 0.901 (±0.021), Precision: 0.987, Recall: 0.815, F1-score: 0.891\n",
      "Parameters: {'classifier__n_neighbors': 11}, Accuracy: 0.892 (±0.026), Precision: 0.993, Recall: 0.790, F1-score: 0.878\n",
      "\n",
      "Best parameter founded:\n",
      "[3]\n",
      "\n",
      "The scores achieved are:\n",
      "Accuracy: 0.9266257040450588\n",
      "F1-score: 0.9213765103654058\n",
      "\n",
      "_____\n",
      "Evaluating classifier: RandomForestClassifier\n",
      "with contamination factor = 0.023 and k_neighbors = 2\n",
      "Cross-validation results for each combination of hyperparameters:\n",
      "Parameters: {'classifier__n_estimators': 10}, Accuracy: 0.974 (±0.019), Precision: 0.977, Recall: 0.974, F1-score: 0.975\n",
      "Parameters: {'classifier__n_estimators': 50}, Accuracy: 0.981 (±0.019), Precision: 0.988, Recall: 0.974, F1-score: 0.980\n",
      "Parameters: {'classifier__n_estimators': 200}, Accuracy: 0.984 (±0.018), Precision: 0.994, Recall: 0.974, F1-score: 0.983\n",
      "Parameters: {'classifier__n_estimators': 500}, Accuracy: 0.984 (±0.018), Precision: 0.994, Recall: 0.974, F1-score: 0.983\n",
      "Parameters: {'classifier__n_estimators': 1000}, Accuracy: 0.984 (±0.018), Precision: 0.994, Recall: 0.974, F1-score: 0.983\n",
      "\n",
      "Best parameter founded:\n",
      "[200]\n",
      "\n",
      "The scores achieved are:\n",
      "Accuracy: 0.9839733742959549\n",
      "F1-score: 0.9834748968730631\n",
      "\n",
      "_____\n",
      "Evaluating classifier: CalibratedClassifierCV\n",
      "with contamination factor = 0.023 and k_neighbors = 2\n",
      "Cross-validation results for each combination of hyperparameters:\n",
      "Parameters: {'classifier__estimator__C': 0.001}, Accuracy: 0.895 (±0.036), Precision: 0.943, Recall: 0.847, F1-score: 0.891\n",
      "Parameters: {'classifier__estimator__C': 0.01}, Accuracy: 0.936 (±0.023), Precision: 0.993, Recall: 0.879, F1-score: 0.932\n",
      "Parameters: {'classifier__estimator__C': 0.1}, Accuracy: 0.949 (±0.016), Precision: 0.994, Recall: 0.904, F1-score: 0.946\n",
      "Parameters: {'classifier__estimator__C': 1}, Accuracy: 0.949 (±0.021), Precision: 0.994, Recall: 0.904, F1-score: 0.946\n",
      "Parameters: {'classifier__estimator__C': 10}, Accuracy: 0.955 (±0.019), Precision: 0.994, Recall: 0.917, F1-score: 0.953\n",
      "Parameters: {'classifier__estimator__C': 100}, Accuracy: 0.952 (±0.023), Precision: 0.994, Recall: 0.910, F1-score: 0.949\n",
      "\n",
      "Best parameter founded:\n",
      "[10]\n",
      "\n",
      "The scores achieved are:\n",
      "Accuracy: 0.9553507424475166\n",
      "F1-score: 0.9531596821518228\n",
      "___________________\n",
      "Number of outliers detected: 7\n",
      "\n",
      "_____\n",
      "Evaluating classifier: KNeighborsClassifier\n",
      "with contamination factor = 0.023 and k_neighbors = 3\n",
      "Cross-validation results for each combination of hyperparameters:\n",
      "Parameters: {'classifier__n_neighbors': 3}, Accuracy: 0.924 (±0.025), Precision: 1.000, Recall: 0.848, F1-score: 0.917\n",
      "Parameters: {'classifier__n_neighbors': 5}, Accuracy: 0.899 (±0.035), Precision: 0.992, Recall: 0.804, F1-score: 0.887\n",
      "Parameters: {'classifier__n_neighbors': 7}, Accuracy: 0.899 (±0.042), Precision: 0.991, Recall: 0.804, F1-score: 0.887\n",
      "Parameters: {'classifier__n_neighbors': 9}, Accuracy: 0.886 (±0.033), Precision: 0.977, Recall: 0.791, F1-score: 0.874\n",
      "Parameters: {'classifier__n_neighbors': 11}, Accuracy: 0.880 (±0.036), Precision: 0.976, Recall: 0.779, F1-score: 0.866\n",
      "\n",
      "Best parameter founded:\n",
      "[3]\n",
      "\n",
      "The scores achieved are:\n",
      "Accuracy: 0.924156746031746\n",
      "F1-score: 0.9171995245704974\n",
      "\n",
      "_____\n",
      "Evaluating classifier: RandomForestClassifier\n",
      "with contamination factor = 0.023 and k_neighbors = 3\n"
     ]
    },
    {
     "ename": "KeyboardInterrupt",
     "evalue": "",
     "output_type": "error",
     "traceback": [
      "\u001b[1;31m---------------------------------------------------------------------------\u001b[0m",
      "\u001b[1;31mKeyboardInterrupt\u001b[0m                         Traceback (most recent call last)",
      "Cell \u001b[1;32mIn[38], line 47\u001b[0m\n\u001b[0;32m     44\u001b[0m \u001b[38;5;28mprint\u001b[39m(\u001b[38;5;124mf\u001b[39m\u001b[38;5;124m\"\u001b[39m\u001b[38;5;130;01m\\n\u001b[39;00m\u001b[38;5;124m_____\u001b[39m\u001b[38;5;130;01m\\n\u001b[39;00m\u001b[38;5;124mEvaluating classifier: \u001b[39m\u001b[38;5;132;01m{\u001b[39;00m\u001b[38;5;28mtype\u001b[39m(classifier)\u001b[38;5;241m.\u001b[39m\u001b[38;5;18m__name__\u001b[39m\u001b[38;5;132;01m}\u001b[39;00m\u001b[38;5;124m\"\u001b[39m)\n\u001b[0;32m     45\u001b[0m \u001b[38;5;28mprint\u001b[39m(\u001b[38;5;124mf\u001b[39m\u001b[38;5;124m\"\u001b[39m\u001b[38;5;124mwith contamination factor = \u001b[39m\u001b[38;5;132;01m{\u001b[39;00mcontamination_factor\u001b[38;5;132;01m}\u001b[39;00m\u001b[38;5;124m and k_neighbors = \u001b[39m\u001b[38;5;132;01m{\u001b[39;00mk_neighbors\u001b[38;5;132;01m}\u001b[39;00m\u001b[38;5;124m\"\u001b[39m)\n\u001b[1;32m---> 47\u001b[0m model, parameters, scores, _ \u001b[38;5;241m=\u001b[39m \u001b[43mgeneral_pipeline\u001b[49m\u001b[43m(\u001b[49m\u001b[43mX_SMOTE_od\u001b[49m\u001b[43m,\u001b[49m\u001b[43m \u001b[49m\u001b[43mY_SMOTE_od\u001b[49m\u001b[43m,\u001b[49m\u001b[43m \u001b[49m\u001b[43mclassifier\u001b[49m\u001b[43m)\u001b[49m\n\u001b[0;32m     49\u001b[0m \u001b[38;5;66;03m# Update best accuracy and contamination for the specific classifier\u001b[39;00m\n\u001b[0;32m     50\u001b[0m classifier_type \u001b[38;5;241m=\u001b[39m \u001b[38;5;28mtype\u001b[39m(classifier)\n",
      "Cell \u001b[1;32mIn[25], line 99\u001b[0m, in \u001b[0;36mgeneral_pipeline\u001b[1;34m(dataset, target, classifier, encoder, scaler, parameters_grid_search, cv, feature_selector, parameters_feature_selector)\u001b[0m\n\u001b[0;32m     96\u001b[0m grid_search \u001b[38;5;241m=\u001b[39m GridSearchCV(pipeline, parameters, cv\u001b[38;5;241m=\u001b[39m k_folds, scoring\u001b[38;5;241m=\u001b[39mscoring, refit\u001b[38;5;241m=\u001b[39m\u001b[38;5;124m'\u001b[39m\u001b[38;5;124maccuracy\u001b[39m\u001b[38;5;124m'\u001b[39m)\n\u001b[0;32m     98\u001b[0m \u001b[38;5;66;03m# Executing \u001b[39;00m\n\u001b[1;32m---> 99\u001b[0m \u001b[43mgrid_search\u001b[49m\u001b[38;5;241;43m.\u001b[39;49m\u001b[43mfit\u001b[49m\u001b[43m(\u001b[49m\u001b[43mdataset\u001b[49m\u001b[43m,\u001b[49m\u001b[43m \u001b[49m\u001b[43mtarget\u001b[49m\u001b[43m)\u001b[49m\n\u001b[0;32m    101\u001b[0m \u001b[38;5;66;03m# Extraction of results\u001b[39;00m\n\u001b[0;32m    103\u001b[0m means_accuracy \u001b[38;5;241m=\u001b[39m grid_search\u001b[38;5;241m.\u001b[39mcv_results_[\u001b[38;5;124m'\u001b[39m\u001b[38;5;124mmean_test_accuracy\u001b[39m\u001b[38;5;124m'\u001b[39m]\n",
      "File \u001b[1;32m~\\AppData\\Local\\Packages\\PythonSoftwareFoundation.Python.3.10_qbz5n2kfra8p0\\LocalCache\\local-packages\\Python310\\site-packages\\sklearn\\base.py:1474\u001b[0m, in \u001b[0;36m_fit_context.<locals>.decorator.<locals>.wrapper\u001b[1;34m(estimator, *args, **kwargs)\u001b[0m\n\u001b[0;32m   1467\u001b[0m     estimator\u001b[38;5;241m.\u001b[39m_validate_params()\n\u001b[0;32m   1469\u001b[0m \u001b[38;5;28;01mwith\u001b[39;00m config_context(\n\u001b[0;32m   1470\u001b[0m     skip_parameter_validation\u001b[38;5;241m=\u001b[39m(\n\u001b[0;32m   1471\u001b[0m         prefer_skip_nested_validation \u001b[38;5;129;01mor\u001b[39;00m global_skip_validation\n\u001b[0;32m   1472\u001b[0m     )\n\u001b[0;32m   1473\u001b[0m ):\n\u001b[1;32m-> 1474\u001b[0m     \u001b[38;5;28;01mreturn\u001b[39;00m fit_method(estimator, \u001b[38;5;241m*\u001b[39margs, \u001b[38;5;241m*\u001b[39m\u001b[38;5;241m*\u001b[39mkwargs)\n",
      "File \u001b[1;32m~\\AppData\\Local\\Packages\\PythonSoftwareFoundation.Python.3.10_qbz5n2kfra8p0\\LocalCache\\local-packages\\Python310\\site-packages\\sklearn\\model_selection\\_search.py:970\u001b[0m, in \u001b[0;36mBaseSearchCV.fit\u001b[1;34m(self, X, y, **params)\u001b[0m\n\u001b[0;32m    964\u001b[0m     results \u001b[38;5;241m=\u001b[39m \u001b[38;5;28mself\u001b[39m\u001b[38;5;241m.\u001b[39m_format_results(\n\u001b[0;32m    965\u001b[0m         all_candidate_params, n_splits, all_out, all_more_results\n\u001b[0;32m    966\u001b[0m     )\n\u001b[0;32m    968\u001b[0m     \u001b[38;5;28;01mreturn\u001b[39;00m results\n\u001b[1;32m--> 970\u001b[0m \u001b[38;5;28;43mself\u001b[39;49m\u001b[38;5;241;43m.\u001b[39;49m\u001b[43m_run_search\u001b[49m\u001b[43m(\u001b[49m\u001b[43mevaluate_candidates\u001b[49m\u001b[43m)\u001b[49m\n\u001b[0;32m    972\u001b[0m \u001b[38;5;66;03m# multimetric is determined here because in the case of a callable\u001b[39;00m\n\u001b[0;32m    973\u001b[0m \u001b[38;5;66;03m# self.scoring the return type is only known after calling\u001b[39;00m\n\u001b[0;32m    974\u001b[0m first_test_score \u001b[38;5;241m=\u001b[39m all_out[\u001b[38;5;241m0\u001b[39m][\u001b[38;5;124m\"\u001b[39m\u001b[38;5;124mtest_scores\u001b[39m\u001b[38;5;124m\"\u001b[39m]\n",
      "File \u001b[1;32m~\\AppData\\Local\\Packages\\PythonSoftwareFoundation.Python.3.10_qbz5n2kfra8p0\\LocalCache\\local-packages\\Python310\\site-packages\\sklearn\\model_selection\\_search.py:1527\u001b[0m, in \u001b[0;36mGridSearchCV._run_search\u001b[1;34m(self, evaluate_candidates)\u001b[0m\n\u001b[0;32m   1525\u001b[0m \u001b[38;5;28;01mdef\u001b[39;00m \u001b[38;5;21m_run_search\u001b[39m(\u001b[38;5;28mself\u001b[39m, evaluate_candidates):\n\u001b[0;32m   1526\u001b[0m \u001b[38;5;250m    \u001b[39m\u001b[38;5;124;03m\"\"\"Search all candidates in param_grid\"\"\"\u001b[39;00m\n\u001b[1;32m-> 1527\u001b[0m     \u001b[43mevaluate_candidates\u001b[49m\u001b[43m(\u001b[49m\u001b[43mParameterGrid\u001b[49m\u001b[43m(\u001b[49m\u001b[38;5;28;43mself\u001b[39;49m\u001b[38;5;241;43m.\u001b[39;49m\u001b[43mparam_grid\u001b[49m\u001b[43m)\u001b[49m\u001b[43m)\u001b[49m\n",
      "File \u001b[1;32m~\\AppData\\Local\\Packages\\PythonSoftwareFoundation.Python.3.10_qbz5n2kfra8p0\\LocalCache\\local-packages\\Python310\\site-packages\\sklearn\\model_selection\\_search.py:916\u001b[0m, in \u001b[0;36mBaseSearchCV.fit.<locals>.evaluate_candidates\u001b[1;34m(candidate_params, cv, more_results)\u001b[0m\n\u001b[0;32m    908\u001b[0m \u001b[38;5;28;01mif\u001b[39;00m \u001b[38;5;28mself\u001b[39m\u001b[38;5;241m.\u001b[39mverbose \u001b[38;5;241m>\u001b[39m \u001b[38;5;241m0\u001b[39m:\n\u001b[0;32m    909\u001b[0m     \u001b[38;5;28mprint\u001b[39m(\n\u001b[0;32m    910\u001b[0m         \u001b[38;5;124m\"\u001b[39m\u001b[38;5;124mFitting \u001b[39m\u001b[38;5;132;01m{0}\u001b[39;00m\u001b[38;5;124m folds for each of \u001b[39m\u001b[38;5;132;01m{1}\u001b[39;00m\u001b[38;5;124m candidates,\u001b[39m\u001b[38;5;124m\"\u001b[39m\n\u001b[0;32m    911\u001b[0m         \u001b[38;5;124m\"\u001b[39m\u001b[38;5;124m totalling \u001b[39m\u001b[38;5;132;01m{2}\u001b[39;00m\u001b[38;5;124m fits\u001b[39m\u001b[38;5;124m\"\u001b[39m\u001b[38;5;241m.\u001b[39mformat(\n\u001b[0;32m    912\u001b[0m             n_splits, n_candidates, n_candidates \u001b[38;5;241m*\u001b[39m n_splits\n\u001b[0;32m    913\u001b[0m         )\n\u001b[0;32m    914\u001b[0m     )\n\u001b[1;32m--> 916\u001b[0m out \u001b[38;5;241m=\u001b[39m \u001b[43mparallel\u001b[49m\u001b[43m(\u001b[49m\n\u001b[0;32m    917\u001b[0m \u001b[43m    \u001b[49m\u001b[43mdelayed\u001b[49m\u001b[43m(\u001b[49m\u001b[43m_fit_and_score\u001b[49m\u001b[43m)\u001b[49m\u001b[43m(\u001b[49m\n\u001b[0;32m    918\u001b[0m \u001b[43m        \u001b[49m\u001b[43mclone\u001b[49m\u001b[43m(\u001b[49m\u001b[43mbase_estimator\u001b[49m\u001b[43m)\u001b[49m\u001b[43m,\u001b[49m\n\u001b[0;32m    919\u001b[0m \u001b[43m        \u001b[49m\u001b[43mX\u001b[49m\u001b[43m,\u001b[49m\n\u001b[0;32m    920\u001b[0m \u001b[43m        \u001b[49m\u001b[43my\u001b[49m\u001b[43m,\u001b[49m\n\u001b[0;32m    921\u001b[0m \u001b[43m        \u001b[49m\u001b[43mtrain\u001b[49m\u001b[38;5;241;43m=\u001b[39;49m\u001b[43mtrain\u001b[49m\u001b[43m,\u001b[49m\n\u001b[0;32m    922\u001b[0m \u001b[43m        \u001b[49m\u001b[43mtest\u001b[49m\u001b[38;5;241;43m=\u001b[39;49m\u001b[43mtest\u001b[49m\u001b[43m,\u001b[49m\n\u001b[0;32m    923\u001b[0m \u001b[43m        \u001b[49m\u001b[43mparameters\u001b[49m\u001b[38;5;241;43m=\u001b[39;49m\u001b[43mparameters\u001b[49m\u001b[43m,\u001b[49m\n\u001b[0;32m    924\u001b[0m \u001b[43m        \u001b[49m\u001b[43msplit_progress\u001b[49m\u001b[38;5;241;43m=\u001b[39;49m\u001b[43m(\u001b[49m\u001b[43msplit_idx\u001b[49m\u001b[43m,\u001b[49m\u001b[43m \u001b[49m\u001b[43mn_splits\u001b[49m\u001b[43m)\u001b[49m\u001b[43m,\u001b[49m\n\u001b[0;32m    925\u001b[0m \u001b[43m        \u001b[49m\u001b[43mcandidate_progress\u001b[49m\u001b[38;5;241;43m=\u001b[39;49m\u001b[43m(\u001b[49m\u001b[43mcand_idx\u001b[49m\u001b[43m,\u001b[49m\u001b[43m \u001b[49m\u001b[43mn_candidates\u001b[49m\u001b[43m)\u001b[49m\u001b[43m,\u001b[49m\n\u001b[0;32m    926\u001b[0m \u001b[43m        \u001b[49m\u001b[38;5;241;43m*\u001b[39;49m\u001b[38;5;241;43m*\u001b[39;49m\u001b[43mfit_and_score_kwargs\u001b[49m\u001b[43m,\u001b[49m\n\u001b[0;32m    927\u001b[0m \u001b[43m    \u001b[49m\u001b[43m)\u001b[49m\n\u001b[0;32m    928\u001b[0m \u001b[43m    \u001b[49m\u001b[38;5;28;43;01mfor\u001b[39;49;00m\u001b[43m \u001b[49m\u001b[43m(\u001b[49m\u001b[43mcand_idx\u001b[49m\u001b[43m,\u001b[49m\u001b[43m \u001b[49m\u001b[43mparameters\u001b[49m\u001b[43m)\u001b[49m\u001b[43m,\u001b[49m\u001b[43m \u001b[49m\u001b[43m(\u001b[49m\u001b[43msplit_idx\u001b[49m\u001b[43m,\u001b[49m\u001b[43m \u001b[49m\u001b[43m(\u001b[49m\u001b[43mtrain\u001b[49m\u001b[43m,\u001b[49m\u001b[43m \u001b[49m\u001b[43mtest\u001b[49m\u001b[43m)\u001b[49m\u001b[43m)\u001b[49m\u001b[43m \u001b[49m\u001b[38;5;129;43;01min\u001b[39;49;00m\u001b[43m \u001b[49m\u001b[43mproduct\u001b[49m\u001b[43m(\u001b[49m\n\u001b[0;32m    929\u001b[0m \u001b[43m        \u001b[49m\u001b[38;5;28;43menumerate\u001b[39;49m\u001b[43m(\u001b[49m\u001b[43mcandidate_params\u001b[49m\u001b[43m)\u001b[49m\u001b[43m,\u001b[49m\n\u001b[0;32m    930\u001b[0m \u001b[43m        \u001b[49m\u001b[38;5;28;43menumerate\u001b[39;49m\u001b[43m(\u001b[49m\u001b[43mcv\u001b[49m\u001b[38;5;241;43m.\u001b[39;49m\u001b[43msplit\u001b[49m\u001b[43m(\u001b[49m\u001b[43mX\u001b[49m\u001b[43m,\u001b[49m\u001b[43m \u001b[49m\u001b[43my\u001b[49m\u001b[43m,\u001b[49m\u001b[43m \u001b[49m\u001b[38;5;241;43m*\u001b[39;49m\u001b[38;5;241;43m*\u001b[39;49m\u001b[43mrouted_params\u001b[49m\u001b[38;5;241;43m.\u001b[39;49m\u001b[43msplitter\u001b[49m\u001b[38;5;241;43m.\u001b[39;49m\u001b[43msplit\u001b[49m\u001b[43m)\u001b[49m\u001b[43m)\u001b[49m\u001b[43m,\u001b[49m\n\u001b[0;32m    931\u001b[0m \u001b[43m    \u001b[49m\u001b[43m)\u001b[49m\n\u001b[0;32m    932\u001b[0m \u001b[43m\u001b[49m\u001b[43m)\u001b[49m\n\u001b[0;32m    934\u001b[0m \u001b[38;5;28;01mif\u001b[39;00m \u001b[38;5;28mlen\u001b[39m(out) \u001b[38;5;241m<\u001b[39m \u001b[38;5;241m1\u001b[39m:\n\u001b[0;32m    935\u001b[0m     \u001b[38;5;28;01mraise\u001b[39;00m \u001b[38;5;167;01mValueError\u001b[39;00m(\n\u001b[0;32m    936\u001b[0m         \u001b[38;5;124m\"\u001b[39m\u001b[38;5;124mNo fits were performed. \u001b[39m\u001b[38;5;124m\"\u001b[39m\n\u001b[0;32m    937\u001b[0m         \u001b[38;5;124m\"\u001b[39m\u001b[38;5;124mWas the CV iterator empty? \u001b[39m\u001b[38;5;124m\"\u001b[39m\n\u001b[0;32m    938\u001b[0m         \u001b[38;5;124m\"\u001b[39m\u001b[38;5;124mWere there no candidates?\u001b[39m\u001b[38;5;124m\"\u001b[39m\n\u001b[0;32m    939\u001b[0m     )\n",
      "File \u001b[1;32m~\\AppData\\Local\\Packages\\PythonSoftwareFoundation.Python.3.10_qbz5n2kfra8p0\\LocalCache\\local-packages\\Python310\\site-packages\\sklearn\\utils\\parallel.py:67\u001b[0m, in \u001b[0;36mParallel.__call__\u001b[1;34m(self, iterable)\u001b[0m\n\u001b[0;32m     62\u001b[0m config \u001b[38;5;241m=\u001b[39m get_config()\n\u001b[0;32m     63\u001b[0m iterable_with_config \u001b[38;5;241m=\u001b[39m (\n\u001b[0;32m     64\u001b[0m     (_with_config(delayed_func, config), args, kwargs)\n\u001b[0;32m     65\u001b[0m     \u001b[38;5;28;01mfor\u001b[39;00m delayed_func, args, kwargs \u001b[38;5;129;01min\u001b[39;00m iterable\n\u001b[0;32m     66\u001b[0m )\n\u001b[1;32m---> 67\u001b[0m \u001b[38;5;28;01mreturn\u001b[39;00m \u001b[38;5;28;43msuper\u001b[39;49m\u001b[43m(\u001b[49m\u001b[43m)\u001b[49m\u001b[38;5;241;43m.\u001b[39;49m\u001b[38;5;21;43m__call__\u001b[39;49m\u001b[43m(\u001b[49m\u001b[43miterable_with_config\u001b[49m\u001b[43m)\u001b[49m\n",
      "File \u001b[1;32m~\\AppData\\Local\\Packages\\PythonSoftwareFoundation.Python.3.10_qbz5n2kfra8p0\\LocalCache\\local-packages\\Python310\\site-packages\\joblib\\parallel.py:1918\u001b[0m, in \u001b[0;36mParallel.__call__\u001b[1;34m(self, iterable)\u001b[0m\n\u001b[0;32m   1916\u001b[0m     output \u001b[38;5;241m=\u001b[39m \u001b[38;5;28mself\u001b[39m\u001b[38;5;241m.\u001b[39m_get_sequential_output(iterable)\n\u001b[0;32m   1917\u001b[0m     \u001b[38;5;28mnext\u001b[39m(output)\n\u001b[1;32m-> 1918\u001b[0m     \u001b[38;5;28;01mreturn\u001b[39;00m output \u001b[38;5;28;01mif\u001b[39;00m \u001b[38;5;28mself\u001b[39m\u001b[38;5;241m.\u001b[39mreturn_generator \u001b[38;5;28;01melse\u001b[39;00m \u001b[38;5;28;43mlist\u001b[39;49m\u001b[43m(\u001b[49m\u001b[43moutput\u001b[49m\u001b[43m)\u001b[49m\n\u001b[0;32m   1920\u001b[0m \u001b[38;5;66;03m# Let's create an ID that uniquely identifies the current call. If the\u001b[39;00m\n\u001b[0;32m   1921\u001b[0m \u001b[38;5;66;03m# call is interrupted early and that the same instance is immediately\u001b[39;00m\n\u001b[0;32m   1922\u001b[0m \u001b[38;5;66;03m# re-used, this id will be used to prevent workers that were\u001b[39;00m\n\u001b[0;32m   1923\u001b[0m \u001b[38;5;66;03m# concurrently finalizing a task from the previous call to run the\u001b[39;00m\n\u001b[0;32m   1924\u001b[0m \u001b[38;5;66;03m# callback.\u001b[39;00m\n\u001b[0;32m   1925\u001b[0m \u001b[38;5;28;01mwith\u001b[39;00m \u001b[38;5;28mself\u001b[39m\u001b[38;5;241m.\u001b[39m_lock:\n",
      "File \u001b[1;32m~\\AppData\\Local\\Packages\\PythonSoftwareFoundation.Python.3.10_qbz5n2kfra8p0\\LocalCache\\local-packages\\Python310\\site-packages\\joblib\\parallel.py:1847\u001b[0m, in \u001b[0;36mParallel._get_sequential_output\u001b[1;34m(self, iterable)\u001b[0m\n\u001b[0;32m   1845\u001b[0m \u001b[38;5;28mself\u001b[39m\u001b[38;5;241m.\u001b[39mn_dispatched_batches \u001b[38;5;241m+\u001b[39m\u001b[38;5;241m=\u001b[39m \u001b[38;5;241m1\u001b[39m\n\u001b[0;32m   1846\u001b[0m \u001b[38;5;28mself\u001b[39m\u001b[38;5;241m.\u001b[39mn_dispatched_tasks \u001b[38;5;241m+\u001b[39m\u001b[38;5;241m=\u001b[39m \u001b[38;5;241m1\u001b[39m\n\u001b[1;32m-> 1847\u001b[0m res \u001b[38;5;241m=\u001b[39m func(\u001b[38;5;241m*\u001b[39margs, \u001b[38;5;241m*\u001b[39m\u001b[38;5;241m*\u001b[39mkwargs)\n\u001b[0;32m   1848\u001b[0m \u001b[38;5;28mself\u001b[39m\u001b[38;5;241m.\u001b[39mn_completed_tasks \u001b[38;5;241m+\u001b[39m\u001b[38;5;241m=\u001b[39m \u001b[38;5;241m1\u001b[39m\n\u001b[0;32m   1849\u001b[0m \u001b[38;5;28mself\u001b[39m\u001b[38;5;241m.\u001b[39mprint_progress()\n",
      "File \u001b[1;32m~\\AppData\\Local\\Packages\\PythonSoftwareFoundation.Python.3.10_qbz5n2kfra8p0\\LocalCache\\local-packages\\Python310\\site-packages\\sklearn\\utils\\parallel.py:129\u001b[0m, in \u001b[0;36m_FuncWrapper.__call__\u001b[1;34m(self, *args, **kwargs)\u001b[0m\n\u001b[0;32m    127\u001b[0m     config \u001b[38;5;241m=\u001b[39m {}\n\u001b[0;32m    128\u001b[0m \u001b[38;5;28;01mwith\u001b[39;00m config_context(\u001b[38;5;241m*\u001b[39m\u001b[38;5;241m*\u001b[39mconfig):\n\u001b[1;32m--> 129\u001b[0m     \u001b[38;5;28;01mreturn\u001b[39;00m \u001b[38;5;28mself\u001b[39m\u001b[38;5;241m.\u001b[39mfunction(\u001b[38;5;241m*\u001b[39margs, \u001b[38;5;241m*\u001b[39m\u001b[38;5;241m*\u001b[39mkwargs)\n",
      "File \u001b[1;32m~\\AppData\\Local\\Packages\\PythonSoftwareFoundation.Python.3.10_qbz5n2kfra8p0\\LocalCache\\local-packages\\Python310\\site-packages\\sklearn\\model_selection\\_validation.py:895\u001b[0m, in \u001b[0;36m_fit_and_score\u001b[1;34m(estimator, X, y, scorer, train, test, verbose, parameters, fit_params, score_params, return_train_score, return_parameters, return_n_test_samples, return_times, return_estimator, split_progress, candidate_progress, error_score)\u001b[0m\n\u001b[0;32m    893\u001b[0m         estimator\u001b[38;5;241m.\u001b[39mfit(X_train, \u001b[38;5;241m*\u001b[39m\u001b[38;5;241m*\u001b[39mfit_params)\n\u001b[0;32m    894\u001b[0m     \u001b[38;5;28;01melse\u001b[39;00m:\n\u001b[1;32m--> 895\u001b[0m         estimator\u001b[38;5;241m.\u001b[39mfit(X_train, y_train, \u001b[38;5;241m*\u001b[39m\u001b[38;5;241m*\u001b[39mfit_params)\n\u001b[0;32m    897\u001b[0m \u001b[38;5;28;01mexcept\u001b[39;00m \u001b[38;5;167;01mException\u001b[39;00m:\n\u001b[0;32m    898\u001b[0m     \u001b[38;5;66;03m# Note fit time as time until error\u001b[39;00m\n\u001b[0;32m    899\u001b[0m     fit_time \u001b[38;5;241m=\u001b[39m time\u001b[38;5;241m.\u001b[39mtime() \u001b[38;5;241m-\u001b[39m start_time\n",
      "File \u001b[1;32m~\\AppData\\Local\\Packages\\PythonSoftwareFoundation.Python.3.10_qbz5n2kfra8p0\\LocalCache\\local-packages\\Python310\\site-packages\\sklearn\\base.py:1474\u001b[0m, in \u001b[0;36m_fit_context.<locals>.decorator.<locals>.wrapper\u001b[1;34m(estimator, *args, **kwargs)\u001b[0m\n\u001b[0;32m   1467\u001b[0m     estimator\u001b[38;5;241m.\u001b[39m_validate_params()\n\u001b[0;32m   1469\u001b[0m \u001b[38;5;28;01mwith\u001b[39;00m config_context(\n\u001b[0;32m   1470\u001b[0m     skip_parameter_validation\u001b[38;5;241m=\u001b[39m(\n\u001b[0;32m   1471\u001b[0m         prefer_skip_nested_validation \u001b[38;5;129;01mor\u001b[39;00m global_skip_validation\n\u001b[0;32m   1472\u001b[0m     )\n\u001b[0;32m   1473\u001b[0m ):\n\u001b[1;32m-> 1474\u001b[0m     \u001b[38;5;28;01mreturn\u001b[39;00m fit_method(estimator, \u001b[38;5;241m*\u001b[39margs, \u001b[38;5;241m*\u001b[39m\u001b[38;5;241m*\u001b[39mkwargs)\n",
      "File \u001b[1;32m~\\AppData\\Local\\Packages\\PythonSoftwareFoundation.Python.3.10_qbz5n2kfra8p0\\LocalCache\\local-packages\\Python310\\site-packages\\sklearn\\pipeline.py:475\u001b[0m, in \u001b[0;36mPipeline.fit\u001b[1;34m(self, X, y, **params)\u001b[0m\n\u001b[0;32m    473\u001b[0m     \u001b[38;5;28;01mif\u001b[39;00m \u001b[38;5;28mself\u001b[39m\u001b[38;5;241m.\u001b[39m_final_estimator \u001b[38;5;241m!=\u001b[39m \u001b[38;5;124m\"\u001b[39m\u001b[38;5;124mpassthrough\u001b[39m\u001b[38;5;124m\"\u001b[39m:\n\u001b[0;32m    474\u001b[0m         last_step_params \u001b[38;5;241m=\u001b[39m routed_params[\u001b[38;5;28mself\u001b[39m\u001b[38;5;241m.\u001b[39msteps[\u001b[38;5;241m-\u001b[39m\u001b[38;5;241m1\u001b[39m][\u001b[38;5;241m0\u001b[39m]]\n\u001b[1;32m--> 475\u001b[0m         \u001b[38;5;28mself\u001b[39m\u001b[38;5;241m.\u001b[39m_final_estimator\u001b[38;5;241m.\u001b[39mfit(Xt, y, \u001b[38;5;241m*\u001b[39m\u001b[38;5;241m*\u001b[39mlast_step_params[\u001b[38;5;124m\"\u001b[39m\u001b[38;5;124mfit\u001b[39m\u001b[38;5;124m\"\u001b[39m])\n\u001b[0;32m    477\u001b[0m \u001b[38;5;28;01mreturn\u001b[39;00m \u001b[38;5;28mself\u001b[39m\n",
      "File \u001b[1;32m~\\AppData\\Local\\Packages\\PythonSoftwareFoundation.Python.3.10_qbz5n2kfra8p0\\LocalCache\\local-packages\\Python310\\site-packages\\sklearn\\base.py:1474\u001b[0m, in \u001b[0;36m_fit_context.<locals>.decorator.<locals>.wrapper\u001b[1;34m(estimator, *args, **kwargs)\u001b[0m\n\u001b[0;32m   1467\u001b[0m     estimator\u001b[38;5;241m.\u001b[39m_validate_params()\n\u001b[0;32m   1469\u001b[0m \u001b[38;5;28;01mwith\u001b[39;00m config_context(\n\u001b[0;32m   1470\u001b[0m     skip_parameter_validation\u001b[38;5;241m=\u001b[39m(\n\u001b[0;32m   1471\u001b[0m         prefer_skip_nested_validation \u001b[38;5;129;01mor\u001b[39;00m global_skip_validation\n\u001b[0;32m   1472\u001b[0m     )\n\u001b[0;32m   1473\u001b[0m ):\n\u001b[1;32m-> 1474\u001b[0m     \u001b[38;5;28;01mreturn\u001b[39;00m fit_method(estimator, \u001b[38;5;241m*\u001b[39margs, \u001b[38;5;241m*\u001b[39m\u001b[38;5;241m*\u001b[39mkwargs)\n",
      "File \u001b[1;32m~\\AppData\\Local\\Packages\\PythonSoftwareFoundation.Python.3.10_qbz5n2kfra8p0\\LocalCache\\local-packages\\Python310\\site-packages\\sklearn\\ensemble\\_forest.py:489\u001b[0m, in \u001b[0;36mBaseForest.fit\u001b[1;34m(self, X, y, sample_weight)\u001b[0m\n\u001b[0;32m    478\u001b[0m trees \u001b[38;5;241m=\u001b[39m [\n\u001b[0;32m    479\u001b[0m     \u001b[38;5;28mself\u001b[39m\u001b[38;5;241m.\u001b[39m_make_estimator(append\u001b[38;5;241m=\u001b[39m\u001b[38;5;28;01mFalse\u001b[39;00m, random_state\u001b[38;5;241m=\u001b[39mrandom_state)\n\u001b[0;32m    480\u001b[0m     \u001b[38;5;28;01mfor\u001b[39;00m i \u001b[38;5;129;01min\u001b[39;00m \u001b[38;5;28mrange\u001b[39m(n_more_estimators)\n\u001b[0;32m    481\u001b[0m ]\n\u001b[0;32m    483\u001b[0m \u001b[38;5;66;03m# Parallel loop: we prefer the threading backend as the Cython code\u001b[39;00m\n\u001b[0;32m    484\u001b[0m \u001b[38;5;66;03m# for fitting the trees is internally releasing the Python GIL\u001b[39;00m\n\u001b[0;32m    485\u001b[0m \u001b[38;5;66;03m# making threading more efficient than multiprocessing in\u001b[39;00m\n\u001b[0;32m    486\u001b[0m \u001b[38;5;66;03m# that case. However, for joblib 0.12+ we respect any\u001b[39;00m\n\u001b[0;32m    487\u001b[0m \u001b[38;5;66;03m# parallel_backend contexts set at a higher level,\u001b[39;00m\n\u001b[0;32m    488\u001b[0m \u001b[38;5;66;03m# since correctness does not rely on using threads.\u001b[39;00m\n\u001b[1;32m--> 489\u001b[0m trees \u001b[38;5;241m=\u001b[39m \u001b[43mParallel\u001b[49m\u001b[43m(\u001b[49m\n\u001b[0;32m    490\u001b[0m \u001b[43m    \u001b[49m\u001b[43mn_jobs\u001b[49m\u001b[38;5;241;43m=\u001b[39;49m\u001b[38;5;28;43mself\u001b[39;49m\u001b[38;5;241;43m.\u001b[39;49m\u001b[43mn_jobs\u001b[49m\u001b[43m,\u001b[49m\n\u001b[0;32m    491\u001b[0m \u001b[43m    \u001b[49m\u001b[43mverbose\u001b[49m\u001b[38;5;241;43m=\u001b[39;49m\u001b[38;5;28;43mself\u001b[39;49m\u001b[38;5;241;43m.\u001b[39;49m\u001b[43mverbose\u001b[49m\u001b[43m,\u001b[49m\n\u001b[0;32m    492\u001b[0m \u001b[43m    \u001b[49m\u001b[43mprefer\u001b[49m\u001b[38;5;241;43m=\u001b[39;49m\u001b[38;5;124;43m\"\u001b[39;49m\u001b[38;5;124;43mthreads\u001b[39;49m\u001b[38;5;124;43m\"\u001b[39;49m\u001b[43m,\u001b[49m\n\u001b[0;32m    493\u001b[0m \u001b[43m\u001b[49m\u001b[43m)\u001b[49m\u001b[43m(\u001b[49m\n\u001b[0;32m    494\u001b[0m \u001b[43m    \u001b[49m\u001b[43mdelayed\u001b[49m\u001b[43m(\u001b[49m\u001b[43m_parallel_build_trees\u001b[49m\u001b[43m)\u001b[49m\u001b[43m(\u001b[49m\n\u001b[0;32m    495\u001b[0m \u001b[43m        \u001b[49m\u001b[43mt\u001b[49m\u001b[43m,\u001b[49m\n\u001b[0;32m    496\u001b[0m \u001b[43m        \u001b[49m\u001b[38;5;28;43mself\u001b[39;49m\u001b[38;5;241;43m.\u001b[39;49m\u001b[43mbootstrap\u001b[49m\u001b[43m,\u001b[49m\n\u001b[0;32m    497\u001b[0m \u001b[43m        \u001b[49m\u001b[43mX\u001b[49m\u001b[43m,\u001b[49m\n\u001b[0;32m    498\u001b[0m \u001b[43m        \u001b[49m\u001b[43my\u001b[49m\u001b[43m,\u001b[49m\n\u001b[0;32m    499\u001b[0m \u001b[43m        \u001b[49m\u001b[43msample_weight\u001b[49m\u001b[43m,\u001b[49m\n\u001b[0;32m    500\u001b[0m \u001b[43m        \u001b[49m\u001b[43mi\u001b[49m\u001b[43m,\u001b[49m\n\u001b[0;32m    501\u001b[0m \u001b[43m        \u001b[49m\u001b[38;5;28;43mlen\u001b[39;49m\u001b[43m(\u001b[49m\u001b[43mtrees\u001b[49m\u001b[43m)\u001b[49m\u001b[43m,\u001b[49m\n\u001b[0;32m    502\u001b[0m \u001b[43m        \u001b[49m\u001b[43mverbose\u001b[49m\u001b[38;5;241;43m=\u001b[39;49m\u001b[38;5;28;43mself\u001b[39;49m\u001b[38;5;241;43m.\u001b[39;49m\u001b[43mverbose\u001b[49m\u001b[43m,\u001b[49m\n\u001b[0;32m    503\u001b[0m \u001b[43m        \u001b[49m\u001b[43mclass_weight\u001b[49m\u001b[38;5;241;43m=\u001b[39;49m\u001b[38;5;28;43mself\u001b[39;49m\u001b[38;5;241;43m.\u001b[39;49m\u001b[43mclass_weight\u001b[49m\u001b[43m,\u001b[49m\n\u001b[0;32m    504\u001b[0m \u001b[43m        \u001b[49m\u001b[43mn_samples_bootstrap\u001b[49m\u001b[38;5;241;43m=\u001b[39;49m\u001b[43mn_samples_bootstrap\u001b[49m\u001b[43m,\u001b[49m\n\u001b[0;32m    505\u001b[0m \u001b[43m        \u001b[49m\u001b[43mmissing_values_in_feature_mask\u001b[49m\u001b[38;5;241;43m=\u001b[39;49m\u001b[43mmissing_values_in_feature_mask\u001b[49m\u001b[43m,\u001b[49m\n\u001b[0;32m    506\u001b[0m \u001b[43m    \u001b[49m\u001b[43m)\u001b[49m\n\u001b[0;32m    507\u001b[0m \u001b[43m    \u001b[49m\u001b[38;5;28;43;01mfor\u001b[39;49;00m\u001b[43m \u001b[49m\u001b[43mi\u001b[49m\u001b[43m,\u001b[49m\u001b[43m \u001b[49m\u001b[43mt\u001b[49m\u001b[43m \u001b[49m\u001b[38;5;129;43;01min\u001b[39;49;00m\u001b[43m \u001b[49m\u001b[38;5;28;43menumerate\u001b[39;49m\u001b[43m(\u001b[49m\u001b[43mtrees\u001b[49m\u001b[43m)\u001b[49m\n\u001b[0;32m    508\u001b[0m \u001b[43m\u001b[49m\u001b[43m)\u001b[49m\n\u001b[0;32m    510\u001b[0m \u001b[38;5;66;03m# Collect newly grown trees\u001b[39;00m\n\u001b[0;32m    511\u001b[0m \u001b[38;5;28mself\u001b[39m\u001b[38;5;241m.\u001b[39mestimators_\u001b[38;5;241m.\u001b[39mextend(trees)\n",
      "File \u001b[1;32m~\\AppData\\Local\\Packages\\PythonSoftwareFoundation.Python.3.10_qbz5n2kfra8p0\\LocalCache\\local-packages\\Python310\\site-packages\\sklearn\\utils\\parallel.py:67\u001b[0m, in \u001b[0;36mParallel.__call__\u001b[1;34m(self, iterable)\u001b[0m\n\u001b[0;32m     62\u001b[0m config \u001b[38;5;241m=\u001b[39m get_config()\n\u001b[0;32m     63\u001b[0m iterable_with_config \u001b[38;5;241m=\u001b[39m (\n\u001b[0;32m     64\u001b[0m     (_with_config(delayed_func, config), args, kwargs)\n\u001b[0;32m     65\u001b[0m     \u001b[38;5;28;01mfor\u001b[39;00m delayed_func, args, kwargs \u001b[38;5;129;01min\u001b[39;00m iterable\n\u001b[0;32m     66\u001b[0m )\n\u001b[1;32m---> 67\u001b[0m \u001b[38;5;28;01mreturn\u001b[39;00m \u001b[38;5;28;43msuper\u001b[39;49m\u001b[43m(\u001b[49m\u001b[43m)\u001b[49m\u001b[38;5;241;43m.\u001b[39;49m\u001b[38;5;21;43m__call__\u001b[39;49m\u001b[43m(\u001b[49m\u001b[43miterable_with_config\u001b[49m\u001b[43m)\u001b[49m\n",
      "File \u001b[1;32m~\\AppData\\Local\\Packages\\PythonSoftwareFoundation.Python.3.10_qbz5n2kfra8p0\\LocalCache\\local-packages\\Python310\\site-packages\\joblib\\parallel.py:1918\u001b[0m, in \u001b[0;36mParallel.__call__\u001b[1;34m(self, iterable)\u001b[0m\n\u001b[0;32m   1916\u001b[0m     output \u001b[38;5;241m=\u001b[39m \u001b[38;5;28mself\u001b[39m\u001b[38;5;241m.\u001b[39m_get_sequential_output(iterable)\n\u001b[0;32m   1917\u001b[0m     \u001b[38;5;28mnext\u001b[39m(output)\n\u001b[1;32m-> 1918\u001b[0m     \u001b[38;5;28;01mreturn\u001b[39;00m output \u001b[38;5;28;01mif\u001b[39;00m \u001b[38;5;28mself\u001b[39m\u001b[38;5;241m.\u001b[39mreturn_generator \u001b[38;5;28;01melse\u001b[39;00m \u001b[38;5;28;43mlist\u001b[39;49m\u001b[43m(\u001b[49m\u001b[43moutput\u001b[49m\u001b[43m)\u001b[49m\n\u001b[0;32m   1920\u001b[0m \u001b[38;5;66;03m# Let's create an ID that uniquely identifies the current call. If the\u001b[39;00m\n\u001b[0;32m   1921\u001b[0m \u001b[38;5;66;03m# call is interrupted early and that the same instance is immediately\u001b[39;00m\n\u001b[0;32m   1922\u001b[0m \u001b[38;5;66;03m# re-used, this id will be used to prevent workers that were\u001b[39;00m\n\u001b[0;32m   1923\u001b[0m \u001b[38;5;66;03m# concurrently finalizing a task from the previous call to run the\u001b[39;00m\n\u001b[0;32m   1924\u001b[0m \u001b[38;5;66;03m# callback.\u001b[39;00m\n\u001b[0;32m   1925\u001b[0m \u001b[38;5;28;01mwith\u001b[39;00m \u001b[38;5;28mself\u001b[39m\u001b[38;5;241m.\u001b[39m_lock:\n",
      "File \u001b[1;32m~\\AppData\\Local\\Packages\\PythonSoftwareFoundation.Python.3.10_qbz5n2kfra8p0\\LocalCache\\local-packages\\Python310\\site-packages\\joblib\\parallel.py:1847\u001b[0m, in \u001b[0;36mParallel._get_sequential_output\u001b[1;34m(self, iterable)\u001b[0m\n\u001b[0;32m   1845\u001b[0m \u001b[38;5;28mself\u001b[39m\u001b[38;5;241m.\u001b[39mn_dispatched_batches \u001b[38;5;241m+\u001b[39m\u001b[38;5;241m=\u001b[39m \u001b[38;5;241m1\u001b[39m\n\u001b[0;32m   1846\u001b[0m \u001b[38;5;28mself\u001b[39m\u001b[38;5;241m.\u001b[39mn_dispatched_tasks \u001b[38;5;241m+\u001b[39m\u001b[38;5;241m=\u001b[39m \u001b[38;5;241m1\u001b[39m\n\u001b[1;32m-> 1847\u001b[0m res \u001b[38;5;241m=\u001b[39m func(\u001b[38;5;241m*\u001b[39margs, \u001b[38;5;241m*\u001b[39m\u001b[38;5;241m*\u001b[39mkwargs)\n\u001b[0;32m   1848\u001b[0m \u001b[38;5;28mself\u001b[39m\u001b[38;5;241m.\u001b[39mn_completed_tasks \u001b[38;5;241m+\u001b[39m\u001b[38;5;241m=\u001b[39m \u001b[38;5;241m1\u001b[39m\n\u001b[0;32m   1849\u001b[0m \u001b[38;5;28mself\u001b[39m\u001b[38;5;241m.\u001b[39mprint_progress()\n",
      "File \u001b[1;32m~\\AppData\\Local\\Packages\\PythonSoftwareFoundation.Python.3.10_qbz5n2kfra8p0\\LocalCache\\local-packages\\Python310\\site-packages\\sklearn\\utils\\parallel.py:129\u001b[0m, in \u001b[0;36m_FuncWrapper.__call__\u001b[1;34m(self, *args, **kwargs)\u001b[0m\n\u001b[0;32m    127\u001b[0m     config \u001b[38;5;241m=\u001b[39m {}\n\u001b[0;32m    128\u001b[0m \u001b[38;5;28;01mwith\u001b[39;00m config_context(\u001b[38;5;241m*\u001b[39m\u001b[38;5;241m*\u001b[39mconfig):\n\u001b[1;32m--> 129\u001b[0m     \u001b[38;5;28;01mreturn\u001b[39;00m \u001b[38;5;28mself\u001b[39m\u001b[38;5;241m.\u001b[39mfunction(\u001b[38;5;241m*\u001b[39margs, \u001b[38;5;241m*\u001b[39m\u001b[38;5;241m*\u001b[39mkwargs)\n",
      "File \u001b[1;32m~\\AppData\\Local\\Packages\\PythonSoftwareFoundation.Python.3.10_qbz5n2kfra8p0\\LocalCache\\local-packages\\Python310\\site-packages\\sklearn\\ensemble\\_forest.py:192\u001b[0m, in \u001b[0;36m_parallel_build_trees\u001b[1;34m(tree, bootstrap, X, y, sample_weight, tree_idx, n_trees, verbose, class_weight, n_samples_bootstrap, missing_values_in_feature_mask)\u001b[0m\n\u001b[0;32m    189\u001b[0m     \u001b[38;5;28;01melif\u001b[39;00m class_weight \u001b[38;5;241m==\u001b[39m \u001b[38;5;124m\"\u001b[39m\u001b[38;5;124mbalanced_subsample\u001b[39m\u001b[38;5;124m\"\u001b[39m:\n\u001b[0;32m    190\u001b[0m         curr_sample_weight \u001b[38;5;241m*\u001b[39m\u001b[38;5;241m=\u001b[39m compute_sample_weight(\u001b[38;5;124m\"\u001b[39m\u001b[38;5;124mbalanced\u001b[39m\u001b[38;5;124m\"\u001b[39m, y, indices\u001b[38;5;241m=\u001b[39mindices)\n\u001b[1;32m--> 192\u001b[0m     \u001b[43mtree\u001b[49m\u001b[38;5;241;43m.\u001b[39;49m\u001b[43m_fit\u001b[49m\u001b[43m(\u001b[49m\n\u001b[0;32m    193\u001b[0m \u001b[43m        \u001b[49m\u001b[43mX\u001b[49m\u001b[43m,\u001b[49m\n\u001b[0;32m    194\u001b[0m \u001b[43m        \u001b[49m\u001b[43my\u001b[49m\u001b[43m,\u001b[49m\n\u001b[0;32m    195\u001b[0m \u001b[43m        \u001b[49m\u001b[43msample_weight\u001b[49m\u001b[38;5;241;43m=\u001b[39;49m\u001b[43mcurr_sample_weight\u001b[49m\u001b[43m,\u001b[49m\n\u001b[0;32m    196\u001b[0m \u001b[43m        \u001b[49m\u001b[43mcheck_input\u001b[49m\u001b[38;5;241;43m=\u001b[39;49m\u001b[38;5;28;43;01mFalse\u001b[39;49;00m\u001b[43m,\u001b[49m\n\u001b[0;32m    197\u001b[0m \u001b[43m        \u001b[49m\u001b[43mmissing_values_in_feature_mask\u001b[49m\u001b[38;5;241;43m=\u001b[39;49m\u001b[43mmissing_values_in_feature_mask\u001b[49m\u001b[43m,\u001b[49m\n\u001b[0;32m    198\u001b[0m \u001b[43m    \u001b[49m\u001b[43m)\u001b[49m\n\u001b[0;32m    199\u001b[0m \u001b[38;5;28;01melse\u001b[39;00m:\n\u001b[0;32m    200\u001b[0m     tree\u001b[38;5;241m.\u001b[39m_fit(\n\u001b[0;32m    201\u001b[0m         X,\n\u001b[0;32m    202\u001b[0m         y,\n\u001b[1;32m   (...)\u001b[0m\n\u001b[0;32m    205\u001b[0m         missing_values_in_feature_mask\u001b[38;5;241m=\u001b[39mmissing_values_in_feature_mask,\n\u001b[0;32m    206\u001b[0m     )\n",
      "File \u001b[1;32m~\\AppData\\Local\\Packages\\PythonSoftwareFoundation.Python.3.10_qbz5n2kfra8p0\\LocalCache\\local-packages\\Python310\\site-packages\\sklearn\\tree\\_classes.py:305\u001b[0m, in \u001b[0;36mBaseDecisionTree._fit\u001b[1;34m(self, X, y, sample_weight, check_input, missing_values_in_feature_mask)\u001b[0m\n\u001b[0;32m    303\u001b[0m y_encoded \u001b[38;5;241m=\u001b[39m np\u001b[38;5;241m.\u001b[39mzeros(y\u001b[38;5;241m.\u001b[39mshape, dtype\u001b[38;5;241m=\u001b[39m\u001b[38;5;28mint\u001b[39m)\n\u001b[0;32m    304\u001b[0m \u001b[38;5;28;01mfor\u001b[39;00m k \u001b[38;5;129;01min\u001b[39;00m \u001b[38;5;28mrange\u001b[39m(\u001b[38;5;28mself\u001b[39m\u001b[38;5;241m.\u001b[39mn_outputs_):\n\u001b[1;32m--> 305\u001b[0m     classes_k, y_encoded[:, k] \u001b[38;5;241m=\u001b[39m \u001b[43mnp\u001b[49m\u001b[38;5;241;43m.\u001b[39;49m\u001b[43munique\u001b[49m\u001b[43m(\u001b[49m\u001b[43my\u001b[49m\u001b[43m[\u001b[49m\u001b[43m:\u001b[49m\u001b[43m,\u001b[49m\u001b[43m \u001b[49m\u001b[43mk\u001b[49m\u001b[43m]\u001b[49m\u001b[43m,\u001b[49m\u001b[43m \u001b[49m\u001b[43mreturn_inverse\u001b[49m\u001b[38;5;241;43m=\u001b[39;49m\u001b[38;5;28;43;01mTrue\u001b[39;49;00m\u001b[43m)\u001b[49m\n\u001b[0;32m    306\u001b[0m     \u001b[38;5;28mself\u001b[39m\u001b[38;5;241m.\u001b[39mclasses_\u001b[38;5;241m.\u001b[39mappend(classes_k)\n\u001b[0;32m    307\u001b[0m     \u001b[38;5;28mself\u001b[39m\u001b[38;5;241m.\u001b[39mn_classes_\u001b[38;5;241m.\u001b[39mappend(classes_k\u001b[38;5;241m.\u001b[39mshape[\u001b[38;5;241m0\u001b[39m])\n",
      "File \u001b[1;32m<__array_function__ internals>:200\u001b[0m, in \u001b[0;36munique\u001b[1;34m(*args, **kwargs)\u001b[0m\n",
      "File \u001b[1;32m~\\AppData\\Local\\Packages\\PythonSoftwareFoundation.Python.3.10_qbz5n2kfra8p0\\LocalCache\\local-packages\\Python310\\site-packages\\numpy\\lib\\arraysetops.py:274\u001b[0m, in \u001b[0;36munique\u001b[1;34m(ar, return_index, return_inverse, return_counts, axis, equal_nan)\u001b[0m\n\u001b[0;32m    272\u001b[0m ar \u001b[38;5;241m=\u001b[39m np\u001b[38;5;241m.\u001b[39masanyarray(ar)\n\u001b[0;32m    273\u001b[0m \u001b[38;5;28;01mif\u001b[39;00m axis \u001b[38;5;129;01mis\u001b[39;00m \u001b[38;5;28;01mNone\u001b[39;00m:\n\u001b[1;32m--> 274\u001b[0m     ret \u001b[38;5;241m=\u001b[39m \u001b[43m_unique1d\u001b[49m\u001b[43m(\u001b[49m\u001b[43mar\u001b[49m\u001b[43m,\u001b[49m\u001b[43m \u001b[49m\u001b[43mreturn_index\u001b[49m\u001b[43m,\u001b[49m\u001b[43m \u001b[49m\u001b[43mreturn_inverse\u001b[49m\u001b[43m,\u001b[49m\u001b[43m \u001b[49m\u001b[43mreturn_counts\u001b[49m\u001b[43m,\u001b[49m\u001b[43m \u001b[49m\n\u001b[0;32m    275\u001b[0m \u001b[43m                    \u001b[49m\u001b[43mequal_nan\u001b[49m\u001b[38;5;241;43m=\u001b[39;49m\u001b[43mequal_nan\u001b[49m\u001b[43m)\u001b[49m\n\u001b[0;32m    276\u001b[0m     \u001b[38;5;28;01mreturn\u001b[39;00m _unpack_tuple(ret)\n\u001b[0;32m    278\u001b[0m \u001b[38;5;66;03m# axis was specified and not None\u001b[39;00m\n",
      "File \u001b[1;32m~\\AppData\\Local\\Packages\\PythonSoftwareFoundation.Python.3.10_qbz5n2kfra8p0\\LocalCache\\local-packages\\Python310\\site-packages\\numpy\\lib\\arraysetops.py:333\u001b[0m, in \u001b[0;36m_unique1d\u001b[1;34m(ar, return_index, return_inverse, return_counts, equal_nan)\u001b[0m\n\u001b[0;32m    330\u001b[0m optional_indices \u001b[38;5;241m=\u001b[39m return_index \u001b[38;5;129;01mor\u001b[39;00m return_inverse\n\u001b[0;32m    332\u001b[0m \u001b[38;5;28;01mif\u001b[39;00m optional_indices:\n\u001b[1;32m--> 333\u001b[0m     perm \u001b[38;5;241m=\u001b[39m \u001b[43mar\u001b[49m\u001b[38;5;241;43m.\u001b[39;49m\u001b[43margsort\u001b[49m\u001b[43m(\u001b[49m\u001b[43mkind\u001b[49m\u001b[38;5;241;43m=\u001b[39;49m\u001b[38;5;124;43m'\u001b[39;49m\u001b[38;5;124;43mmergesort\u001b[39;49m\u001b[38;5;124;43m'\u001b[39;49m\u001b[43m \u001b[49m\u001b[38;5;28;43;01mif\u001b[39;49;00m\u001b[43m \u001b[49m\u001b[43mreturn_index\u001b[49m\u001b[43m \u001b[49m\u001b[38;5;28;43;01melse\u001b[39;49;00m\u001b[43m \u001b[49m\u001b[38;5;124;43m'\u001b[39;49m\u001b[38;5;124;43mquicksort\u001b[39;49m\u001b[38;5;124;43m'\u001b[39;49m\u001b[43m)\u001b[49m\n\u001b[0;32m    334\u001b[0m     aux \u001b[38;5;241m=\u001b[39m ar[perm]\n\u001b[0;32m    335\u001b[0m \u001b[38;5;28;01melse\u001b[39;00m:\n",
      "\u001b[1;31mKeyboardInterrupt\u001b[0m: "
     ]
    }
   ],
   "source": [
    "\n",
    "\n",
    "# Initialized dictionaries to store best accuracy, best models, best parameters, contamination, and k_neighbors for each classifier.\n",
    "best_accuracies = {KNeighborsClassifier: 0, RandomForestClassifier: 0, CalibratedClassifierCV: 0}\n",
    "best_f1_scores = {KNeighborsClassifier: 0, RandomForestClassifier: 0, CalibratedClassifierCV: 0}\n",
    "best_models = {KNeighborsClassifier: 0, RandomForestClassifier: 0, CalibratedClassifierCV: 0}\n",
    "best_parameters = {KNeighborsClassifier: 0, RandomForestClassifier: 0, CalibratedClassifierCV: 0}\n",
    "best_contaminations = {KNeighborsClassifier: None, RandomForestClassifier: None, CalibratedClassifierCV: None}\n",
    "best_k_neighbors = {KNeighborsClassifier: None, RandomForestClassifier: None, CalibratedClassifierCV: None}\n",
    "\n",
    "# Initialized variables to store the best overall accuracy, f1-score, corresponding classifier, contamination factor, and k_neighbors.\n",
    "best_overall_accuracy = 0\n",
    "best_overall_f1_score = 0\n",
    "best_overall_classifier = None\n",
    "best_overall_contamination = None\n",
    "best_overall_k_neighbors = None\n",
    "\n",
    "# Define the parameter grid\n",
    "param_grid = {\n",
    "    'contamination_factor': [0.0033, 0.0098, 0.0230, 0.0361, 0.05, 0.081],\n",
    "    'k_neighbors': [2, 3, 5, 10, 20]\n",
    "}\n",
    "\n",
    "# Generate all combinations of parameters\n",
    "grid = ParameterGrid(param_grid)\n",
    "\n",
    "# Iterate over all parameter combinations\n",
    "for params in grid:\n",
    "    contamination_factor = params['contamination_factor']\n",
    "    k_neighbors = params['k_neighbors']\n",
    "\n",
    "    ASD_phenotypic_without_outliers, ASD_diagnosis_without_outliers, _ = outlier_detector(ASD_phenotypic, ASD_diagnosis, contamination_factor, k_neighbors)\n",
    "\n",
    "    X_train_od, X_test_od, y_train_od, y_test_od = train_test_split(ASD_phenotypic_without_outliers, ASD_diagnosis_without_outliers['DX_GROUP'], test_size=0.3, random_state=42)\n",
    "\n",
    "    categorical_columns = X_train_od.select_dtypes(include=['object']).columns\n",
    "    categorical_features = categorical_columns.tolist()\n",
    "\n",
    "    # Initialize the SMOTE-NC object\n",
    "    sampler = SMOTENC(categorical_features=categorical_features, random_state=42)\n",
    "    X_SMOTE_od, Y_SMOTE_od = sampler.fit_resample(X_train_od, y_train_od)\n",
    "\n",
    "    classifiers = [KNeighborsClassifier(), RandomForestClassifier(random_state=42), CalibratedClassifierCV(LinearSVC(dual=False, random_state=42))]\n",
    "    \n",
    "    for classifier in classifiers:\n",
    "        print(f\"\\n_____\\nEvaluating classifier: {type(classifier).__name__}\")\n",
    "        print(f\"with contamination factor = {contamination_factor} and k_neighbors = {k_neighbors}\")\n",
    "        \n",
    "        model, parameters, scores, _ = general_pipeline(X_SMOTE_od, Y_SMOTE_od, classifier)\n",
    "        \n",
    "        # Update best accuracy and contamination for the specific classifier\n",
    "        classifier_type = type(classifier)\n",
    "\n",
    "        if scores[0] > best_accuracies[classifier_type]:\n",
    "            best_accuracies[classifier_type] = scores[0]\n",
    "            best_f1_scores[classifier_type] = scores[1]\n",
    "            best_parameters[classifier_type] = parameters\n",
    "            best_contaminations[classifier_type] = contamination_factor\n",
    "            best_k_neighbors[classifier_type] = k_neighbors\n",
    "            best_models[classifier_type] = model\n",
    "        \n",
    "        # Update best overall accuracy and corresponding classifier, contamination, and k_neighbors\n",
    "        if scores[0] > best_overall_accuracy:\n",
    "            best_overall_accuracy = scores[0]\n",
    "            best_overall_f1_score = scores[1]\n",
    "            best_overall_classifier = classifier_type\n",
    "            best_overall_contamination = contamination_factor\n",
    "            best_overall_k_neighbors = k_neighbors\n"
   ]
  },
  {
   "cell_type": "markdown",
   "metadata": {},
   "source": [
    "Then we print the best results:"
   ]
  },
  {
   "cell_type": "code",
   "execution_count": null,
   "metadata": {},
   "outputs": [
    {
     "name": "stdout",
     "output_type": "stream",
     "text": [
      "\n",
      "KNeighborsClassifier with best parameter = [3]\n",
      "Best contamination factor: 0.0098 with k_neighbors: 5\n",
      "Achieved Accuracy : 0.947451923076923, F1_score: 0.9436897713752396\n",
      "\n",
      "RandomForestClassifier with best parameter = [50]\n",
      "Best contamination factor: 0.0361 with k_neighbors: 3\n",
      "Achieved Accuracy : 0.993599590373784, F1_score: 0.9935467083008067\n",
      "\n",
      "CalibratedClassifierCV with best parameter = [0.1]\n",
      "Best contamination factor: 0.0361 with k_neighbors: 10\n",
      "Achieved Accuracy : 0.964516129032258, F1_score: 0.9628133613104535\n",
      "\n",
      "Best overall contamination factor: 0.0361 with k_neighbors: 3 for classifier: RandomForestClassifier\n"
     ]
    }
   ],
   "source": [
    "# Print the best results for each classifier\n",
    "for classifier_type in best_accuracies:\n",
    "    print(f\"\\n{classifier_type.__name__} with best parameter = {best_parameters[classifier_type]}\")\n",
    "    print(f\"Best contamination factor: {best_contaminations[classifier_type]} with k_neighbors: {best_k_neighbors[classifier_type]}\")\n",
    "    print(f\"Achieved Accuracy : {best_accuracies[classifier_type]}, F1_score: {best_f1_scores[classifier_type]}\")\n",
    "\n",
    "# Print the best overall result\n",
    "print(f\"\\nBest overall contamination factor: {best_overall_contamination} with k_neighbors: {best_overall_k_neighbors} for classifier: {best_overall_classifier.__name__}\")\n"
   ]
  },
  {
   "cell_type": "markdown",
   "metadata": {},
   "source": [
    "We found the following outcomes for the training:\n",
    "- Best contamination factor for KNeighborsClassifier: 0.0361 with accuracy: 0.942 and f1_score: 0.935\n",
    "- Best contamination factor for RandomForestClassifier: 0.0361 with accuracy: 0.994 and f1_score: 0.993\n",
    "- Best contamination factor for CalibratedClassifierCV: 0.0361 with accuracy: 0.968 and f1_score: 0.966\n",
    "\n",
    "Highlighting that RandomForestClassifier is one more time the most accurate."
   ]
  },
  {
   "cell_type": "markdown",
   "metadata": {},
   "source": [
    "To have a visual idea of the eliminated outliers, we perfomed a PCA transformation of the space to 2 dimensions for 0.0361 contamination factor and 3 k neighbors."
   ]
  },
  {
   "cell_type": "code",
   "execution_count": null,
   "metadata": {},
   "outputs": [
    {
     "name": "stdout",
     "output_type": "stream",
     "text": [
      "___________________\n",
      "Number of outliers detected: 11\n"
     ]
    },
    {
     "name": "stderr",
     "output_type": "stream",
     "text": [
      "C:\\Users\\auran\\AppData\\Local\\Temp\\ipykernel_12264\\4063459032.py:19: UserWarning: You passed a edgecolor/edgecolors ('k') for an unfilled marker ('x').  Matplotlib is ignoring the edgecolor in favor of the facecolor.  This behavior may change in the future.\n",
      "  plt.scatter(outliers[:, 0], outliers[:, 1], c='blue', edgecolor='k', marker='x', s=100, label='Outliers')  # Highlight outliers\n"
     ]
    },
    {
     "data": {
      "image/png": "[encoded data removed]",
      "text/plain": [
       "<Figure size 1000x600 with 2 Axes>"
      ]
     },
     "metadata": {},
     "output_type": "display_data"
    }
   ],
   "source": [
    "ASD_phenotypic_without_outliers, ASD_diagnosis_without_outliers, lof = outlier_detector(ASD_phenotypic, ASD_diagnosis, best_overall_contamination, best_overall_k_neighbors)\n",
    "X_train_od, X_test_od, y_train_od, y_test_od = train_test_split(ASD_phenotypic_without_outliers, ASD_diagnosis_without_outliers['DX_GROUP'], test_size=0.3, random_state=42)\n",
    "\n",
    "num_features = ASD_phenotypic.select_dtypes(np.number)\n",
    "X = num_features.values\n",
    "# Perform PCA for dimensionality reduction\n",
    "pca = PCA(n_components=2)\n",
    "X_reduced = pca.fit_transform(X)\n",
    "outliers = X_reduced[ASD_phenotypic_without_outliers.index]\n",
    "outlier_indices = ASD_phenotypic.index.difference(ASD_phenotypic_without_outliers.index)\n",
    "outliers = X_reduced[outlier_indices]\n",
    "\n",
    "lof_scores = lof.negative_outlier_factor_\n",
    "\n",
    "# Plot the data points with color indicating LOF scores\n",
    "plt.figure(figsize=(10, 6))\n",
    "plt.scatter(X_reduced[:, 0], X_reduced[:, 1], c=-lof_scores, cmap='hot_r', edgecolor='k', label='Inliers')\n",
    "plt.colorbar(label='LOF Score')\n",
    "plt.scatter(outliers[:, 0], outliers[:, 1], c='blue', edgecolor='k', marker='x', s=100, label='Outliers')  # Highlight outliers\n",
    "plt.xlabel('PCA Component 1')\n",
    "plt.ylabel('PCA Component 2')\n",
    "plt.title('Data points with LOF scores')\n",
    "plt.show()"
   ]
  },
  {
   "cell_type": "markdown",
   "metadata": {},
   "source": [
    "We can see that the dots with higher LOF scores were eliminated. Some of them are placed peripherical, but others are in a dense region (this could happen due to the 2d transformation.)"
   ]
  },
  {
   "cell_type": "markdown",
   "metadata": {},
   "source": [
    "Then we check the accuracies on the test sets."
   ]
  },
  {
   "cell_type": "markdown",
   "metadata": {},
   "source": [
    "### K-NEAREST NEIGHBORS"
   ]
  },
  {
   "cell_type": "code",
   "execution_count": null,
   "metadata": {},
   "outputs": [
    {
     "name": "stdout",
     "output_type": "stream",
     "text": [
      "\n",
      "Model Evaluation on Test Data:\n",
      "Accuracy: 0.876\n",
      "Precision: 0.966\n",
      "Recall: 0.862\n",
      "F1-score: 0.911\n"
     ]
    }
   ],
   "source": [
    "# Valutazione del modello sui dati di test\n",
    "model = best_models[type(KNeighborsClassifier())]\n",
    "y_pred = model.predict(X_test_od)\n",
    "\n",
    "# Prints and stores scores of the model on testing set\n",
    "accuracy, precision, recall, f1 = of.evaluation_test_scores(y_test_od, y_pred)\n"
   ]
  },
  {
   "cell_type": "markdown",
   "metadata": {},
   "source": [
    "The parameter selected per k is 3.\n",
    "\n",
    "Previous results were:\n",
    "- Accuracy with outliers - 0.88\n",
    "- F1-score with outliers - 0.912\n",
    "\n",
    "And now we have:\n",
    "- Accuracy without outliers - 0.809\n",
    "- F1-score without outliers - 0.862\n",
    "\n",
    "So it seems that the elimination of the outliers is not benefitial for the classificator."
   ]
  },
  {
   "cell_type": "markdown",
   "metadata": {},
   "source": [
    "### RANDOM FOREST CLASSIFIER"
   ]
  },
  {
   "cell_type": "code",
   "execution_count": null,
   "metadata": {},
   "outputs": [
    {
     "name": "stdout",
     "output_type": "stream",
     "text": [
      "\n",
      "Model Evaluation on Test Data:\n",
      "Accuracy: 0.910\n",
      "Precision: 0.983\n",
      "Recall: 0.892\n",
      "F1-score: 0.935\n"
     ]
    }
   ],
   "source": [
    "# Valutazione del modello sui dati di test\n",
    "model = best_models[type(RandomForestClassifier(random_state=42))]\n",
    "y_pred = model.predict(X_test_od)\n",
    "\n",
    "# Prints and stores scores of the model on testing set\n",
    "accuracy, precision, recall, f1 = of.evaluation_test_scores(y_test_od, y_pred)\n"
   ]
  },
  {
   "cell_type": "markdown",
   "metadata": {},
   "source": [
    "The parameter selected for the amount of trees is 50.\n",
    "\n",
    "Previous results were:\n",
    "- Accuracy with outliers - 0.978\n",
    "- F1-score with outliers - 0.985\n",
    "\n",
    "And now we have:\n",
    "- Accuracy without outliers - 0.888\n",
    "- F1-score without outliers - 0.921\n",
    "\n",
    "We can see that the accuracy and f1-score are lower, so maybe is better to work in the dataset without outlier detection."
   ]
  },
  {
   "cell_type": "markdown",
   "metadata": {},
   "source": [
    "### SUPPORT VECTOR MACHINE"
   ]
  },
  {
   "cell_type": "code",
   "execution_count": null,
   "metadata": {},
   "outputs": [
    {
     "name": "stdout",
     "output_type": "stream",
     "text": [
      "\n",
      "Model Evaluation on Test Data:\n",
      "Accuracy: 0.865\n",
      "Precision: 0.982\n",
      "Recall: 0.831\n",
      "F1-score: 0.900\n"
     ]
    }
   ],
   "source": [
    "# Valutazione del modello sui dati di test\n",
    "model = best_models[type(CalibratedClassifierCV(LinearSVC(dual=False, random_state=42)))]\n",
    "y_pred = model.predict(X_test_od)\n",
    "\n",
    "# Prints and stores scores of the model on testing set\n",
    "accuracy, precision, recall, f1 = of.evaluation_test_scores(y_test_od, y_pred)"
   ]
  },
  {
   "cell_type": "markdown",
   "metadata": {},
   "source": [
    "Previous results were:\n",
    "- Accuracy with outliers - 0.946\n",
    "- F1-score with outliers - 0.961\n",
    "\n",
    "And now we have:\n",
    "- Accuracy without outliers - 0.843\n",
    "- F1-score without outliers - 0.883\n",
    "\n",
    "Also in this case we achieve a worst performance."
   ]
  },
  {
   "cell_type": "markdown",
   "metadata": {},
   "source": [
    "# Feature selection"
   ]
  },
  {
   "cell_type": "markdown",
   "metadata": {},
   "source": [
    "In order to know if the features that we are using are relevant for the training of the algorithm, we perform some feature selection."
   ]
  },
  {
   "cell_type": "markdown",
   "metadata": {},
   "source": [
    "### K_NEAREST NEIGHBORS"
   ]
  },
  {
   "cell_type": "markdown",
   "metadata": {},
   "source": [
    "For the KNN we use SelectKBest algorithm and we maintain the k encountered in the version with \"outliers\"."
   ]
  },
  {
   "cell_type": "code",
   "execution_count": null,
   "metadata": {},
   "outputs": [
    {
     "name": "stdout",
     "output_type": "stream",
     "text": [
      "Total quantity of features after one hot encoding :11\n",
      "Accuracy: 0.9536538461538463\n",
      "F1-score: 0.952809311489559\n",
      "\n",
      "Selected features are:\n",
      "Number of selected features: 2\n",
      "Selected features: ['num__ADI_R_VERBAL_TOTAL_BV', 'num__ADOS_TOTAL']\n",
      "\n",
      "Non selected features are:\n",
      "Number of non selected features: 9\n",
      "Selected features: ['num__AGE_AT_SCAN' 'num__SEX' 'num__FIQ' 'num__VIQ' 'num__PIQ'\n",
      " 'cat__PIQ_TEST_TYPE_DAS' 'cat__PIQ_TEST_TYPE_WAIS'\n",
      " 'cat__PIQ_TEST_TYPE_WASI' 'cat__PIQ_TEST_TYPE_WISC']\n"
     ]
    }
   ],
   "source": [
    "classifier = KNeighborsClassifier()\n",
    "\n",
    "fs_KNN, fs_KNN_parameter, fs_KNN_scores, fs_KNN_selected_features = general_pipeline(X_SMOTE, Y_SMOTE, classifier, parameters_grid_search = knn_parameter, feature_selector=True)"
   ]
  },
  {
   "cell_type": "markdown",
   "metadata": {},
   "source": [
    "The results show that the most important features are ADI_R_VERBAL_TOTAL_BV, ADOS_TOTAL."
   ]
  },
  {
   "cell_type": "code",
   "execution_count": null,
   "metadata": {},
   "outputs": [
    {
     "name": "stdout",
     "output_type": "stream",
     "text": [
      "\n",
      "Model Evaluation on Test Data:\n",
      "Accuracy: 0.935\n",
      "Precision: 1.000\n",
      "Recall: 0.910\n",
      "F1-score: 0.953\n"
     ]
    }
   ],
   "source": [
    "# Valutazione del modello sui dati di test\n",
    "y_pred = fs_KNN.predict(X_test)\n",
    "\n",
    "# Prints and stores scores of the model on testing set\n",
    "accuracy, precision, recall, f1 = of.evaluation_test_scores(y_test, y_pred)\n"
   ]
  },
  {
   "cell_type": "markdown",
   "metadata": {},
   "source": [
    "Previous results were:\n",
    "- Accuracy with outliers - 0.88\n",
    "- F1-score with outliers - 0.912\n",
    "\n",
    "And now we have:\n",
    "- Accuracy with feature selection - 0.935\n",
    "- F1-score without feature selection - 0.953\n",
    "\n",
    "The results are way better. This means that for KNN is enough to have ADI_R_VERBAL and ADOS_TOTAL to discriminate if a subject has autism disorder or not."
   ]
  },
  {
   "cell_type": "markdown",
   "metadata": {},
   "source": [
    "### RANDOM FOREST CLASSIFIER"
   ]
  },
  {
   "cell_type": "markdown",
   "metadata": {},
   "source": [
    "For the RF we use the Recursive Feature Elimination and the quantity of trees is set by the best one achieved before."
   ]
  },
  {
   "cell_type": "code",
   "execution_count": null,
   "metadata": {},
   "outputs": [
    {
     "name": "stdout",
     "output_type": "stream",
     "text": [
      "Total quantity of features after one hot encoding :11\n",
      "Accuracy: 0.9813942307692308\n",
      "F1-score: 0.9806353984460806\n",
      "\n",
      "Selected features are:\n",
      "Number of selected features: 7\n",
      "Selected features: ['num__AGE_AT_SCAN', 'num__FIQ', 'num__VIQ', 'num__PIQ', 'num__ADI_R_VERBAL_TOTAL_BV', 'num__ADOS_TOTAL', 'cat__PIQ_TEST_TYPE_WISC']\n",
      "\n",
      "Non selected features are:\n",
      "Number of non selected features: 4\n",
      "Selected features: ['num__SEX' 'cat__PIQ_TEST_TYPE_DAS' 'cat__PIQ_TEST_TYPE_WAIS'\n",
      " 'cat__PIQ_TEST_TYPE_WASI']\n"
     ]
    }
   ],
   "source": [
    "classifier = RandomForestClassifier(random_state=42)\n",
    "\n",
    "fs_RF, fs_RF_parameter, fs_RF_scores, fs_RF_selected_features = general_pipeline(X_SMOTE, Y_SMOTE, classifier, parameters_grid_search = rf_parameter, feature_selector=True)"
   ]
  },
  {
   "cell_type": "markdown",
   "metadata": {},
   "source": [
    "The results show that the most important features are ADI_R_VERBAL_TOTAL_BV and ADOS_TOTAL.\n"
   ]
  },
  {
   "cell_type": "code",
   "execution_count": null,
   "metadata": {},
   "outputs": [
    {
     "name": "stdout",
     "output_type": "stream",
     "text": [
      "\n",
      "Model Evaluation on Test Data:\n",
      "Accuracy: 0.946\n",
      "Precision: 0.984\n",
      "Recall: 0.940\n",
      "F1-score: 0.962\n"
     ]
    }
   ],
   "source": [
    "# Valutazione del modello sui dati di test\n",
    "y_pred = fs_RF.predict(X_test)\n",
    "\n",
    "# Prints and stores scores of the model on testing set\n",
    "accuracy, precision, recall, f1 = of.evaluation_test_scores(y_test, y_pred)\n"
   ]
  },
  {
   "cell_type": "markdown",
   "metadata": {},
   "source": [
    "Previous results were:\n",
    "- Accuracy with outliers - 0.978\n",
    "- F1-score with outliers - 0.985\n",
    "\n",
    "And now we have:\n",
    "- Accuracy without outliers - 0.935\n",
    "- F1-score without outliers - 0.954\n",
    "\n",
    "In this case the accuracy and the f1-score decrease, so in the reality the performance is worst excluding the non-selected feature."
   ]
  },
  {
   "cell_type": "markdown",
   "metadata": {},
   "source": [
    "### Support vector machine"
   ]
  },
  {
   "cell_type": "markdown",
   "metadata": {},
   "source": [
    "The linear support vector machine uses RFE as well to select the best features."
   ]
  },
  {
   "cell_type": "code",
   "execution_count": null,
   "metadata": {},
   "outputs": [
    {
     "name": "stdout",
     "output_type": "stream",
     "text": [
      "Total quantity of features after one hot encoding :11\n",
      "Accuracy: 0.9598076923076924\n",
      "F1-score: 0.9578789881896703\n",
      "\n",
      "Selected features are:\n",
      "Number of selected features: 7\n",
      "Selected features: ['num__SEX', 'num__PIQ', 'num__ADI_R_VERBAL_TOTAL_BV', 'num__ADOS_TOTAL', 'cat__PIQ_TEST_TYPE_DAS', 'cat__PIQ_TEST_TYPE_WASI', 'cat__PIQ_TEST_TYPE_WISC']\n",
      "\n",
      "Non selected features are:\n",
      "Number of non selected features: 4\n",
      "Selected features: ['num__AGE_AT_SCAN' 'num__FIQ' 'num__VIQ' 'cat__PIQ_TEST_TYPE_WAIS']\n"
     ]
    }
   ],
   "source": [
    "classifier = CalibratedClassifierCV(LinearSVC(dual=False, random_state=42))\n",
    "\n",
    "fs_SVM, fs_SVM_parameter, fs_SVM_scores, fs_SVM_selected_features = general_pipeline(X_SMOTE, Y_SMOTE, classifier,  parameters_grid_search = svc_parameter, feature_selector=True)"
   ]
  },
  {
   "cell_type": "markdown",
   "metadata": {},
   "source": [
    "In this case the selected features were ADI_R_VERBAL_TOTAL_BV, ADOS_TOTAL, PIQ_TEST_TYPE_DAS, and PIQ_TEST_TYPE_WISC. We observe that FIQ, PIQ and VIQ are not present, but their subtypes are important, which is a strange behaviour."
   ]
  },
  {
   "cell_type": "code",
   "execution_count": null,
   "metadata": {},
   "outputs": [
    {
     "name": "stdout",
     "output_type": "stream",
     "text": [
      "\n",
      "Model Evaluation on Test Data:\n",
      "Accuracy: 0.924\n",
      "Precision: 1.000\n",
      "Recall: 0.896\n",
      "F1-score: 0.945\n"
     ]
    }
   ],
   "source": [
    "# Valutazione del modello sui dati di test\n",
    "y_pred = fs_SVM.predict(X_test)\n",
    "\n",
    "# Prints and stores scores of the model on testing set\n",
    "accuracy, precision, recall, f1 = of.evaluation_test_scores(y_test, y_pred)\n"
   ]
  },
  {
   "cell_type": "markdown",
   "metadata": {},
   "source": [
    "Previous results were:\n",
    "- Accuracy with outliers - 0.946\n",
    "- F1-score with outliers - 0.961\n",
    "\n",
    "And now we have:\n",
    "- Accuracy without outliers - 0.935\n",
    "- F1-score without outliers - 0.953\n",
    "\n",
    "In this case the accuracy and the f1-score are exactly the same. In this way we can work with only the selected features without worries."
   ]
  },
  {
   "cell_type": "markdown",
   "metadata": {},
   "source": [
    "### Comparison between classifiers"
   ]
  },
  {
   "cell_type": "markdown",
   "metadata": {},
   "source": [
    "Using ROC curves, we compare now the best models, so the one with feature selection for knn (no outlier detection) and the ones without future selection for RF and SVC (no outlier detection)."
   ]
  },
  {
   "cell_type": "code",
   "execution_count": null,
   "metadata": {},
   "outputs": [
    {
     "name": "stdout",
     "output_type": "stream",
     "text": [
      "K-Nearest Neighbors Classifier AUC-ROC: 0.9722388059701492\n",
      "Random Forest Classifier AUC-ROC: 0.9800000000000001\n",
      "Support vector Classifier AUC-ROC: 0.9713432835820895\n"
     ]
    },
    {
     "data": {
      "image/png": "[encoded data removed]",
      "text/plain": [
       "<Figure size 800x600 with 1 Axes>"
      ]
     },
     "metadata": {},
     "output_type": "display_data"
    }
   ],
   "source": [
    "knn_fs_auc_roc = evaluate_roc_auc(fs_KNN, X_test, y_test)\n",
    "\n",
    "# Print the results\n",
    "print(\"K-Nearest Neighbors Classifier AUC-ROC:\", knn_fs_auc_roc)\n",
    "print(\"Random Forest Classifier AUC-ROC:\", rf_auc_roc)\n",
    "print(\"Support vector Classifier AUC-ROC:\", svc_auc_roc)\n",
    "\n",
    "# Plot ROC curve for both models\n",
    "\n",
    "plt.figure(figsize=(8, 6))\n",
    "plot_roc_curve(fs_KNN, X_test, y_test_binary, 'K-Nearest Neighbors Classifier')\n",
    "plot_roc_curve(rf_model, X_test, y_test_binary, 'Random Forest Classifier')\n",
    "plot_roc_curve(svc_model, X_test, y_test_binary, 'Support vector Classifier')\n",
    "plt.show()"
   ]
  },
  {
   "cell_type": "markdown",
   "metadata": {},
   "source": [
    "The more accurate classifier for this problem is the RF:\n",
    "- previous ROC score was 0.983, now is 0.991 (so better fit)\n",
    "\n",
    "Followed by the KNN:\n",
    "- previous ROC score was 0.954, now is 0.987 (so better fit)\n",
    "\n",
    "Finally by the SVC:\n",
    "- previous ROC score was 0.973, now is 0.984 (so better fit)"
   ]
  },
  {
   "cell_type": "markdown",
   "metadata": {},
   "source": [
    "# Visualization of the random tree decisions"
   ]
  },
  {
   "cell_type": "markdown",
   "metadata": {},
   "source": [
    "Now that we have seen that RF is the best classifier, we would like to see if we can extract interesting information from the decision mechanisms that it uses."
   ]
  },
  {
   "cell_type": "code",
   "execution_count": null,
   "metadata": {},
   "outputs": [],
   "source": [
    "best_trees = rf_parameter[0]"
   ]
  },
  {
   "cell_type": "markdown",
   "metadata": {},
   "source": [
    "However, as many trees are created using random selection of the features to split, we haven't a way to see a good tree partition."
   ]
  },
  {
   "cell_type": "code",
   "execution_count": null,
   "metadata": {},
   "outputs": [],
   "source": [
    "\n",
    "# Define your feature and target names\n",
    "feature_names = rf_features_names\n",
    "\n",
    "target_names = [\"Autistic\", \"Control\"]  # Adjust according to your target classes"
   ]
  },
  {
   "cell_type": "code",
   "execution_count": null,
   "metadata": {},
   "outputs": [
    {
     "name": "stdout",
     "output_type": "stream",
     "text": [
      "The most accurate tree is tree number 22 with accuracy of 0.15\n"
     ]
    }
   ],
   "source": [
    "transformer = rf_model.named_steps['preprocessor']\n",
    "X_test_transformed = transformer.transform(X_test)\n",
    "X_train_transformed = transformer.transform(X_train)\n",
    "\n",
    "X_test_transformed_df = pd.DataFrame(X_test_transformed, columns=transformer.get_feature_names_out())\n",
    "X_test_transformed = X_test_transformed_df[feature_names]\n",
    "X_train_transformed_df = pd.DataFrame(X_train_transformed, columns=transformer.get_feature_names_out())\n",
    "X_train_transformed = X_train_transformed_df[feature_names]\n",
    "\n",
    "# Access the random forest classifier from the pipeline\n",
    "rf = rf_model.named_steps['classifier']\n",
    "\n",
    "accuracies = []\n",
    "for i, tree in enumerate(rf.estimators_):\n",
    "    # Make predictions with the individual tree\n",
    "    y_pred = tree.predict(X_test_transformed.values)\n",
    "    # Calculate the accuracy\n",
    "    accuracy = accuracy_score(y_test, y_pred)\n",
    "    accuracies.append((i, accuracy))\n",
    "\n",
    "# Find the tree with the highest accuracy\n",
    "most_accurate_tree_index, highest_accuracy = max(accuracies, key=lambda x: x[1])\n",
    "most_accurate_tree = rf.estimators_[most_accurate_tree_index]\n",
    "\n",
    "print(f\"The most accurate tree is tree number {most_accurate_tree_index} with accuracy of {highest_accuracy:.2f}\")\n"
   ]
  },
  {
   "cell_type": "markdown",
   "metadata": {},
   "source": [
    "In this case we saw that the tree that better classify the test data has a accuracy of only 0.11. So it's not reliable to learn rules from there.\n",
    "\n",
    "However, we will show it, to have an idea of the splits."
   ]
  },
  {
   "cell_type": "code",
   "execution_count": null,
   "metadata": {},
   "outputs": [
    {
     "ename": "MemoryError",
     "evalue": "In RendererAgg: Out of memory",
     "output_type": "error",
     "traceback": [
      "\u001b[1;31m---------------------------------------------------------------------------\u001b[0m",
      "\u001b[1;31mMemoryError\u001b[0m                               Traceback (most recent call last)",
      "Cell \u001b[1;32mIn[45], line 6\u001b[0m\n\u001b[0;32m      4\u001b[0m \u001b[38;5;66;03m# Plot the tree\u001b[39;00m\n\u001b[0;32m      5\u001b[0m plt\u001b[38;5;241m.\u001b[39mfigure(figsize\u001b[38;5;241m=\u001b[39m(\u001b[38;5;241m200\u001b[39m,\u001b[38;5;241m100\u001b[39m))\n\u001b[1;32m----> 6\u001b[0m \u001b[43mplot_tree\u001b[49m\u001b[43m(\u001b[49m\u001b[43mmost_accurate_tree\u001b[49m\u001b[43m,\u001b[49m\u001b[43m \u001b[49m\u001b[43mfeature_names\u001b[49m\u001b[38;5;241;43m=\u001b[39;49m\u001b[43mfeature_names\u001b[49m\u001b[43m,\u001b[49m\u001b[43m \u001b[49m\u001b[43mclass_names\u001b[49m\u001b[38;5;241;43m=\u001b[39;49m\u001b[43mtarget_names\u001b[49m\u001b[43m,\u001b[49m\u001b[43m \u001b[49m\u001b[43mfilled\u001b[49m\u001b[38;5;241;43m=\u001b[39;49m\u001b[38;5;28;43;01mTrue\u001b[39;49;00m\u001b[43m,\u001b[49m\u001b[43m \u001b[49m\u001b[43mrounded\u001b[49m\u001b[38;5;241;43m=\u001b[39;49m\u001b[38;5;28;43;01mTrue\u001b[39;49;00m\u001b[43m,\u001b[49m\u001b[43m \u001b[49m\u001b[43mfontsize\u001b[49m\u001b[38;5;241;43m=\u001b[39;49m\u001b[38;5;241;43m12\u001b[39;49m\u001b[43m)\u001b[49m\n\u001b[0;32m      7\u001b[0m plt\u001b[38;5;241m.\u001b[39mshow()\n",
      "File \u001b[1;32m~\\AppData\\Local\\Packages\\PythonSoftwareFoundation.Python.3.10_qbz5n2kfra8p0\\LocalCache\\local-packages\\Python310\\site-packages\\sklearn\\utils\\_param_validation.py:213\u001b[0m, in \u001b[0;36mvalidate_params.<locals>.decorator.<locals>.wrapper\u001b[1;34m(*args, **kwargs)\u001b[0m\n\u001b[0;32m    207\u001b[0m \u001b[38;5;28;01mtry\u001b[39;00m:\n\u001b[0;32m    208\u001b[0m     \u001b[38;5;28;01mwith\u001b[39;00m config_context(\n\u001b[0;32m    209\u001b[0m         skip_parameter_validation\u001b[38;5;241m=\u001b[39m(\n\u001b[0;32m    210\u001b[0m             prefer_skip_nested_validation \u001b[38;5;129;01mor\u001b[39;00m global_skip_validation\n\u001b[0;32m    211\u001b[0m         )\n\u001b[0;32m    212\u001b[0m     ):\n\u001b[1;32m--> 213\u001b[0m         \u001b[38;5;28;01mreturn\u001b[39;00m func(\u001b[38;5;241m*\u001b[39margs, \u001b[38;5;241m*\u001b[39m\u001b[38;5;241m*\u001b[39mkwargs)\n\u001b[0;32m    214\u001b[0m \u001b[38;5;28;01mexcept\u001b[39;00m InvalidParameterError \u001b[38;5;28;01mas\u001b[39;00m e:\n\u001b[0;32m    215\u001b[0m     \u001b[38;5;66;03m# When the function is just a wrapper around an estimator, we allow\u001b[39;00m\n\u001b[0;32m    216\u001b[0m     \u001b[38;5;66;03m# the function to delegate validation to the estimator, but we replace\u001b[39;00m\n\u001b[0;32m    217\u001b[0m     \u001b[38;5;66;03m# the name of the estimator by the name of the function in the error\u001b[39;00m\n\u001b[0;32m    218\u001b[0m     \u001b[38;5;66;03m# message to avoid confusion.\u001b[39;00m\n\u001b[0;32m    219\u001b[0m     msg \u001b[38;5;241m=\u001b[39m re\u001b[38;5;241m.\u001b[39msub(\n\u001b[0;32m    220\u001b[0m         \u001b[38;5;124mr\u001b[39m\u001b[38;5;124m\"\u001b[39m\u001b[38;5;124mparameter of \u001b[39m\u001b[38;5;124m\\\u001b[39m\u001b[38;5;124mw+ must be\u001b[39m\u001b[38;5;124m\"\u001b[39m,\n\u001b[0;32m    221\u001b[0m         \u001b[38;5;124mf\u001b[39m\u001b[38;5;124m\"\u001b[39m\u001b[38;5;124mparameter of \u001b[39m\u001b[38;5;132;01m{\u001b[39;00mfunc\u001b[38;5;241m.\u001b[39m\u001b[38;5;18m__qualname__\u001b[39m\u001b[38;5;132;01m}\u001b[39;00m\u001b[38;5;124m must be\u001b[39m\u001b[38;5;124m\"\u001b[39m,\n\u001b[0;32m    222\u001b[0m         \u001b[38;5;28mstr\u001b[39m(e),\n\u001b[0;32m    223\u001b[0m     )\n",
      "File \u001b[1;32m~\\AppData\\Local\\Packages\\PythonSoftwareFoundation.Python.3.10_qbz5n2kfra8p0\\LocalCache\\local-packages\\Python310\\site-packages\\sklearn\\tree\\_export.py:211\u001b[0m, in \u001b[0;36mplot_tree\u001b[1;34m(decision_tree, max_depth, feature_names, class_names, label, filled, impurity, node_ids, proportion, rounded, precision, ax, fontsize)\u001b[0m\n\u001b[0;32m    196\u001b[0m check_is_fitted(decision_tree)\n\u001b[0;32m    198\u001b[0m exporter \u001b[38;5;241m=\u001b[39m _MPLTreeExporter(\n\u001b[0;32m    199\u001b[0m     max_depth\u001b[38;5;241m=\u001b[39mmax_depth,\n\u001b[0;32m    200\u001b[0m     feature_names\u001b[38;5;241m=\u001b[39mfeature_names,\n\u001b[1;32m   (...)\u001b[0m\n\u001b[0;32m    209\u001b[0m     fontsize\u001b[38;5;241m=\u001b[39mfontsize,\n\u001b[0;32m    210\u001b[0m )\n\u001b[1;32m--> 211\u001b[0m \u001b[38;5;28;01mreturn\u001b[39;00m \u001b[43mexporter\u001b[49m\u001b[38;5;241;43m.\u001b[39;49m\u001b[43mexport\u001b[49m\u001b[43m(\u001b[49m\u001b[43mdecision_tree\u001b[49m\u001b[43m,\u001b[49m\u001b[43m \u001b[49m\u001b[43max\u001b[49m\u001b[38;5;241;43m=\u001b[39;49m\u001b[43max\u001b[49m\u001b[43m)\u001b[49m\n",
      "File \u001b[1;32m~\\AppData\\Local\\Packages\\PythonSoftwareFoundation.Python.3.10_qbz5n2kfra8p0\\LocalCache\\local-packages\\Python310\\site-packages\\sklearn\\tree\\_export.py:662\u001b[0m, in \u001b[0;36m_MPLTreeExporter.export\u001b[1;34m(self, decision_tree, ax)\u001b[0m\n\u001b[0;32m    659\u001b[0m anns \u001b[38;5;241m=\u001b[39m [ann \u001b[38;5;28;01mfor\u001b[39;00m ann \u001b[38;5;129;01min\u001b[39;00m ax\u001b[38;5;241m.\u001b[39mget_children() \u001b[38;5;28;01mif\u001b[39;00m \u001b[38;5;28misinstance\u001b[39m(ann, Annotation)]\n\u001b[0;32m    661\u001b[0m \u001b[38;5;66;03m# update sizes of all bboxes\u001b[39;00m\n\u001b[1;32m--> 662\u001b[0m renderer \u001b[38;5;241m=\u001b[39m \u001b[43max\u001b[49m\u001b[38;5;241;43m.\u001b[39;49m\u001b[43mfigure\u001b[49m\u001b[38;5;241;43m.\u001b[39;49m\u001b[43mcanvas\u001b[49m\u001b[38;5;241;43m.\u001b[39;49m\u001b[43mget_renderer\u001b[49m\u001b[43m(\u001b[49m\u001b[43m)\u001b[49m\n\u001b[0;32m    664\u001b[0m \u001b[38;5;28;01mfor\u001b[39;00m ann \u001b[38;5;129;01min\u001b[39;00m anns:\n\u001b[0;32m    665\u001b[0m     ann\u001b[38;5;241m.\u001b[39mupdate_bbox_position_size(renderer)\n",
      "File \u001b[1;32m~\\AppData\\Local\\Packages\\PythonSoftwareFoundation.Python.3.10_qbz5n2kfra8p0\\LocalCache\\local-packages\\Python310\\site-packages\\matplotlib\\_api\\deprecation.py:384\u001b[0m, in \u001b[0;36mdelete_parameter.<locals>.wrapper\u001b[1;34m(*inner_args, **inner_kwargs)\u001b[0m\n\u001b[0;32m    379\u001b[0m \u001b[38;5;129m@functools\u001b[39m\u001b[38;5;241m.\u001b[39mwraps(func)\n\u001b[0;32m    380\u001b[0m \u001b[38;5;28;01mdef\u001b[39;00m \u001b[38;5;21mwrapper\u001b[39m(\u001b[38;5;241m*\u001b[39minner_args, \u001b[38;5;241m*\u001b[39m\u001b[38;5;241m*\u001b[39minner_kwargs):\n\u001b[0;32m    381\u001b[0m     \u001b[38;5;28;01mif\u001b[39;00m \u001b[38;5;28mlen\u001b[39m(inner_args) \u001b[38;5;241m<\u001b[39m\u001b[38;5;241m=\u001b[39m name_idx \u001b[38;5;129;01mand\u001b[39;00m name \u001b[38;5;129;01mnot\u001b[39;00m \u001b[38;5;129;01min\u001b[39;00m inner_kwargs:\n\u001b[0;32m    382\u001b[0m         \u001b[38;5;66;03m# Early return in the simple, non-deprecated case (much faster than\u001b[39;00m\n\u001b[0;32m    383\u001b[0m         \u001b[38;5;66;03m# calling bind()).\u001b[39;00m\n\u001b[1;32m--> 384\u001b[0m         \u001b[38;5;28;01mreturn\u001b[39;00m func(\u001b[38;5;241m*\u001b[39minner_args, \u001b[38;5;241m*\u001b[39m\u001b[38;5;241m*\u001b[39minner_kwargs)\n\u001b[0;32m    385\u001b[0m     arguments \u001b[38;5;241m=\u001b[39m signature\u001b[38;5;241m.\u001b[39mbind(\u001b[38;5;241m*\u001b[39minner_args, \u001b[38;5;241m*\u001b[39m\u001b[38;5;241m*\u001b[39minner_kwargs)\u001b[38;5;241m.\u001b[39marguments\n\u001b[0;32m    386\u001b[0m     \u001b[38;5;28;01mif\u001b[39;00m is_varargs \u001b[38;5;129;01mand\u001b[39;00m arguments\u001b[38;5;241m.\u001b[39mget(name):\n",
      "File \u001b[1;32m~\\AppData\\Local\\Packages\\PythonSoftwareFoundation.Python.3.10_qbz5n2kfra8p0\\LocalCache\\local-packages\\Python310\\site-packages\\matplotlib\\backends\\backend_agg.py:411\u001b[0m, in \u001b[0;36mFigureCanvasAgg.get_renderer\u001b[1;34m(self, cleared)\u001b[0m\n\u001b[0;32m    409\u001b[0m reuse_renderer \u001b[38;5;241m=\u001b[39m (\u001b[38;5;28mself\u001b[39m\u001b[38;5;241m.\u001b[39m_lastKey \u001b[38;5;241m==\u001b[39m key)\n\u001b[0;32m    410\u001b[0m \u001b[38;5;28;01mif\u001b[39;00m \u001b[38;5;129;01mnot\u001b[39;00m reuse_renderer:\n\u001b[1;32m--> 411\u001b[0m     \u001b[38;5;28mself\u001b[39m\u001b[38;5;241m.\u001b[39mrenderer \u001b[38;5;241m=\u001b[39m \u001b[43mRendererAgg\u001b[49m\u001b[43m(\u001b[49m\u001b[43mw\u001b[49m\u001b[43m,\u001b[49m\u001b[43m \u001b[49m\u001b[43mh\u001b[49m\u001b[43m,\u001b[49m\u001b[43m \u001b[49m\u001b[38;5;28;43mself\u001b[39;49m\u001b[38;5;241;43m.\u001b[39;49m\u001b[43mfigure\u001b[49m\u001b[38;5;241;43m.\u001b[39;49m\u001b[43mdpi\u001b[49m\u001b[43m)\u001b[49m\n\u001b[0;32m    412\u001b[0m     \u001b[38;5;28mself\u001b[39m\u001b[38;5;241m.\u001b[39m_lastKey \u001b[38;5;241m=\u001b[39m key\n\u001b[0;32m    413\u001b[0m \u001b[38;5;28;01melif\u001b[39;00m cleared:\n",
      "File \u001b[1;32m~\\AppData\\Local\\Packages\\PythonSoftwareFoundation.Python.3.10_qbz5n2kfra8p0\\LocalCache\\local-packages\\Python310\\site-packages\\matplotlib\\backends\\backend_agg.py:84\u001b[0m, in \u001b[0;36mRendererAgg.__init__\u001b[1;34m(self, width, height, dpi)\u001b[0m\n\u001b[0;32m     82\u001b[0m \u001b[38;5;28mself\u001b[39m\u001b[38;5;241m.\u001b[39mwidth \u001b[38;5;241m=\u001b[39m width\n\u001b[0;32m     83\u001b[0m \u001b[38;5;28mself\u001b[39m\u001b[38;5;241m.\u001b[39mheight \u001b[38;5;241m=\u001b[39m height\n\u001b[1;32m---> 84\u001b[0m \u001b[38;5;28mself\u001b[39m\u001b[38;5;241m.\u001b[39m_renderer \u001b[38;5;241m=\u001b[39m \u001b[43m_RendererAgg\u001b[49m\u001b[43m(\u001b[49m\u001b[38;5;28;43mint\u001b[39;49m\u001b[43m(\u001b[49m\u001b[43mwidth\u001b[49m\u001b[43m)\u001b[49m\u001b[43m,\u001b[49m\u001b[43m \u001b[49m\u001b[38;5;28;43mint\u001b[39;49m\u001b[43m(\u001b[49m\u001b[43mheight\u001b[49m\u001b[43m)\u001b[49m\u001b[43m,\u001b[49m\u001b[43m \u001b[49m\u001b[43mdpi\u001b[49m\u001b[43m)\u001b[49m\n\u001b[0;32m     85\u001b[0m \u001b[38;5;28mself\u001b[39m\u001b[38;5;241m.\u001b[39m_filter_renderers \u001b[38;5;241m=\u001b[39m []\n\u001b[0;32m     87\u001b[0m \u001b[38;5;28mself\u001b[39m\u001b[38;5;241m.\u001b[39m_update_methods()\n",
      "\u001b[1;31mMemoryError\u001b[0m: In RendererAgg: Out of memory"
     ]
    },
    {
     "name": "stdout",
     "output_type": "stream",
     "text": [
      "Error in callback <function _draw_all_if_interactive at 0x000001E46AE02CB0> (for post_execute):\n"
     ]
    },
    {
     "ename": "MemoryError",
     "evalue": "In RendererAgg: Out of memory",
     "output_type": "error",
     "traceback": [
      "\u001b[1;31m---------------------------------------------------------------------------\u001b[0m",
      "\u001b[1;31mMemoryError\u001b[0m                               Traceback (most recent call last)",
      "File \u001b[1;32m~\\AppData\\Local\\Packages\\PythonSoftwareFoundation.Python.3.10_qbz5n2kfra8p0\\LocalCache\\local-packages\\Python310\\site-packages\\matplotlib\\pyplot.py:120\u001b[0m, in \u001b[0;36m_draw_all_if_interactive\u001b[1;34m()\u001b[0m\n\u001b[0;32m    118\u001b[0m \u001b[38;5;28;01mdef\u001b[39;00m \u001b[38;5;21m_draw_all_if_interactive\u001b[39m():\n\u001b[0;32m    119\u001b[0m     \u001b[38;5;28;01mif\u001b[39;00m matplotlib\u001b[38;5;241m.\u001b[39mis_interactive():\n\u001b[1;32m--> 120\u001b[0m         \u001b[43mdraw_all\u001b[49m\u001b[43m(\u001b[49m\u001b[43m)\u001b[49m\n",
      "File \u001b[1;32m~\\AppData\\Local\\Packages\\PythonSoftwareFoundation.Python.3.10_qbz5n2kfra8p0\\LocalCache\\local-packages\\Python310\\site-packages\\matplotlib\\_pylab_helpers.py:132\u001b[0m, in \u001b[0;36mGcf.draw_all\u001b[1;34m(cls, force)\u001b[0m\n\u001b[0;32m    130\u001b[0m \u001b[38;5;28;01mfor\u001b[39;00m manager \u001b[38;5;129;01min\u001b[39;00m \u001b[38;5;28mcls\u001b[39m\u001b[38;5;241m.\u001b[39mget_all_fig_managers():\n\u001b[0;32m    131\u001b[0m     \u001b[38;5;28;01mif\u001b[39;00m force \u001b[38;5;129;01mor\u001b[39;00m manager\u001b[38;5;241m.\u001b[39mcanvas\u001b[38;5;241m.\u001b[39mfigure\u001b[38;5;241m.\u001b[39mstale:\n\u001b[1;32m--> 132\u001b[0m         \u001b[43mmanager\u001b[49m\u001b[38;5;241;43m.\u001b[39;49m\u001b[43mcanvas\u001b[49m\u001b[38;5;241;43m.\u001b[39;49m\u001b[43mdraw_idle\u001b[49m\u001b[43m(\u001b[49m\u001b[43m)\u001b[49m\n",
      "File \u001b[1;32m~\\AppData\\Local\\Packages\\PythonSoftwareFoundation.Python.3.10_qbz5n2kfra8p0\\LocalCache\\local-packages\\Python310\\site-packages\\matplotlib\\backend_bases.py:2082\u001b[0m, in \u001b[0;36mFigureCanvasBase.draw_idle\u001b[1;34m(self, *args, **kwargs)\u001b[0m\n\u001b[0;32m   2080\u001b[0m \u001b[38;5;28;01mif\u001b[39;00m \u001b[38;5;129;01mnot\u001b[39;00m \u001b[38;5;28mself\u001b[39m\u001b[38;5;241m.\u001b[39m_is_idle_drawing:\n\u001b[0;32m   2081\u001b[0m     \u001b[38;5;28;01mwith\u001b[39;00m \u001b[38;5;28mself\u001b[39m\u001b[38;5;241m.\u001b[39m_idle_draw_cntx():\n\u001b[1;32m-> 2082\u001b[0m         \u001b[38;5;28mself\u001b[39m\u001b[38;5;241m.\u001b[39mdraw(\u001b[38;5;241m*\u001b[39margs, \u001b[38;5;241m*\u001b[39m\u001b[38;5;241m*\u001b[39mkwargs)\n",
      "File \u001b[1;32m~\\AppData\\Local\\Packages\\PythonSoftwareFoundation.Python.3.10_qbz5n2kfra8p0\\LocalCache\\local-packages\\Python310\\site-packages\\matplotlib\\backends\\backend_agg.py:394\u001b[0m, in \u001b[0;36mFigureCanvasAgg.draw\u001b[1;34m(self)\u001b[0m\n\u001b[0;32m    392\u001b[0m \u001b[38;5;28;01mdef\u001b[39;00m \u001b[38;5;21mdraw\u001b[39m(\u001b[38;5;28mself\u001b[39m):\n\u001b[0;32m    393\u001b[0m     \u001b[38;5;66;03m# docstring inherited\u001b[39;00m\n\u001b[1;32m--> 394\u001b[0m     \u001b[38;5;28mself\u001b[39m\u001b[38;5;241m.\u001b[39mrenderer \u001b[38;5;241m=\u001b[39m \u001b[38;5;28;43mself\u001b[39;49m\u001b[38;5;241;43m.\u001b[39;49m\u001b[43mget_renderer\u001b[49m\u001b[43m(\u001b[49m\u001b[43m)\u001b[49m\n\u001b[0;32m    395\u001b[0m     \u001b[38;5;28mself\u001b[39m\u001b[38;5;241m.\u001b[39mrenderer\u001b[38;5;241m.\u001b[39mclear()\n\u001b[0;32m    396\u001b[0m     \u001b[38;5;66;03m# Acquire a lock on the shared font cache.\u001b[39;00m\n",
      "File \u001b[1;32m~\\AppData\\Local\\Packages\\PythonSoftwareFoundation.Python.3.10_qbz5n2kfra8p0\\LocalCache\\local-packages\\Python310\\site-packages\\matplotlib\\_api\\deprecation.py:384\u001b[0m, in \u001b[0;36mdelete_parameter.<locals>.wrapper\u001b[1;34m(*inner_args, **inner_kwargs)\u001b[0m\n\u001b[0;32m    379\u001b[0m \u001b[38;5;129m@functools\u001b[39m\u001b[38;5;241m.\u001b[39mwraps(func)\n\u001b[0;32m    380\u001b[0m \u001b[38;5;28;01mdef\u001b[39;00m \u001b[38;5;21mwrapper\u001b[39m(\u001b[38;5;241m*\u001b[39minner_args, \u001b[38;5;241m*\u001b[39m\u001b[38;5;241m*\u001b[39minner_kwargs):\n\u001b[0;32m    381\u001b[0m     \u001b[38;5;28;01mif\u001b[39;00m \u001b[38;5;28mlen\u001b[39m(inner_args) \u001b[38;5;241m<\u001b[39m\u001b[38;5;241m=\u001b[39m name_idx \u001b[38;5;129;01mand\u001b[39;00m name \u001b[38;5;129;01mnot\u001b[39;00m \u001b[38;5;129;01min\u001b[39;00m inner_kwargs:\n\u001b[0;32m    382\u001b[0m         \u001b[38;5;66;03m# Early return in the simple, non-deprecated case (much faster than\u001b[39;00m\n\u001b[0;32m    383\u001b[0m         \u001b[38;5;66;03m# calling bind()).\u001b[39;00m\n\u001b[1;32m--> 384\u001b[0m         \u001b[38;5;28;01mreturn\u001b[39;00m func(\u001b[38;5;241m*\u001b[39minner_args, \u001b[38;5;241m*\u001b[39m\u001b[38;5;241m*\u001b[39minner_kwargs)\n\u001b[0;32m    385\u001b[0m     arguments \u001b[38;5;241m=\u001b[39m signature\u001b[38;5;241m.\u001b[39mbind(\u001b[38;5;241m*\u001b[39minner_args, \u001b[38;5;241m*\u001b[39m\u001b[38;5;241m*\u001b[39minner_kwargs)\u001b[38;5;241m.\u001b[39marguments\n\u001b[0;32m    386\u001b[0m     \u001b[38;5;28;01mif\u001b[39;00m is_varargs \u001b[38;5;129;01mand\u001b[39;00m arguments\u001b[38;5;241m.\u001b[39mget(name):\n",
      "File \u001b[1;32m~\\AppData\\Local\\Packages\\PythonSoftwareFoundation.Python.3.10_qbz5n2kfra8p0\\LocalCache\\local-packages\\Python310\\site-packages\\matplotlib\\backends\\backend_agg.py:411\u001b[0m, in \u001b[0;36mFigureCanvasAgg.get_renderer\u001b[1;34m(self, cleared)\u001b[0m\n\u001b[0;32m    409\u001b[0m reuse_renderer \u001b[38;5;241m=\u001b[39m (\u001b[38;5;28mself\u001b[39m\u001b[38;5;241m.\u001b[39m_lastKey \u001b[38;5;241m==\u001b[39m key)\n\u001b[0;32m    410\u001b[0m \u001b[38;5;28;01mif\u001b[39;00m \u001b[38;5;129;01mnot\u001b[39;00m reuse_renderer:\n\u001b[1;32m--> 411\u001b[0m     \u001b[38;5;28mself\u001b[39m\u001b[38;5;241m.\u001b[39mrenderer \u001b[38;5;241m=\u001b[39m \u001b[43mRendererAgg\u001b[49m\u001b[43m(\u001b[49m\u001b[43mw\u001b[49m\u001b[43m,\u001b[49m\u001b[43m \u001b[49m\u001b[43mh\u001b[49m\u001b[43m,\u001b[49m\u001b[43m \u001b[49m\u001b[38;5;28;43mself\u001b[39;49m\u001b[38;5;241;43m.\u001b[39;49m\u001b[43mfigure\u001b[49m\u001b[38;5;241;43m.\u001b[39;49m\u001b[43mdpi\u001b[49m\u001b[43m)\u001b[49m\n\u001b[0;32m    412\u001b[0m     \u001b[38;5;28mself\u001b[39m\u001b[38;5;241m.\u001b[39m_lastKey \u001b[38;5;241m=\u001b[39m key\n\u001b[0;32m    413\u001b[0m \u001b[38;5;28;01melif\u001b[39;00m cleared:\n",
      "File \u001b[1;32m~\\AppData\\Local\\Packages\\PythonSoftwareFoundation.Python.3.10_qbz5n2kfra8p0\\LocalCache\\local-packages\\Python310\\site-packages\\matplotlib\\backends\\backend_agg.py:84\u001b[0m, in \u001b[0;36mRendererAgg.__init__\u001b[1;34m(self, width, height, dpi)\u001b[0m\n\u001b[0;32m     82\u001b[0m \u001b[38;5;28mself\u001b[39m\u001b[38;5;241m.\u001b[39mwidth \u001b[38;5;241m=\u001b[39m width\n\u001b[0;32m     83\u001b[0m \u001b[38;5;28mself\u001b[39m\u001b[38;5;241m.\u001b[39mheight \u001b[38;5;241m=\u001b[39m height\n\u001b[1;32m---> 84\u001b[0m \u001b[38;5;28mself\u001b[39m\u001b[38;5;241m.\u001b[39m_renderer \u001b[38;5;241m=\u001b[39m \u001b[43m_RendererAgg\u001b[49m\u001b[43m(\u001b[49m\u001b[38;5;28;43mint\u001b[39;49m\u001b[43m(\u001b[49m\u001b[43mwidth\u001b[49m\u001b[43m)\u001b[49m\u001b[43m,\u001b[49m\u001b[43m \u001b[49m\u001b[38;5;28;43mint\u001b[39;49m\u001b[43m(\u001b[49m\u001b[43mheight\u001b[49m\u001b[43m)\u001b[49m\u001b[43m,\u001b[49m\u001b[43m \u001b[49m\u001b[43mdpi\u001b[49m\u001b[43m)\u001b[49m\n\u001b[0;32m     85\u001b[0m \u001b[38;5;28mself\u001b[39m\u001b[38;5;241m.\u001b[39m_filter_renderers \u001b[38;5;241m=\u001b[39m []\n\u001b[0;32m     87\u001b[0m \u001b[38;5;28mself\u001b[39m\u001b[38;5;241m.\u001b[39m_update_methods()\n",
      "\u001b[1;31mMemoryError\u001b[0m: In RendererAgg: Out of memory"
     ]
    },
    {
     "ename": "MemoryError",
     "evalue": "In RendererAgg: Out of memory",
     "output_type": "error",
     "traceback": [
      "\u001b[1;31m---------------------------------------------------------------------------\u001b[0m",
      "\u001b[1;31mMemoryError\u001b[0m                               Traceback (most recent call last)",
      "File \u001b[1;32m~\\AppData\\Local\\Packages\\PythonSoftwareFoundation.Python.3.10_qbz5n2kfra8p0\\LocalCache\\local-packages\\Python310\\site-packages\\IPython\\core\\formatters.py:338\u001b[0m, in \u001b[0;36mBaseFormatter.__call__\u001b[1;34m(self, obj)\u001b[0m\n\u001b[0;32m    336\u001b[0m     \u001b[38;5;28;01mpass\u001b[39;00m\n\u001b[0;32m    337\u001b[0m \u001b[38;5;28;01melse\u001b[39;00m:\n\u001b[1;32m--> 338\u001b[0m     \u001b[38;5;28;01mreturn\u001b[39;00m \u001b[43mprinter\u001b[49m\u001b[43m(\u001b[49m\u001b[43mobj\u001b[49m\u001b[43m)\u001b[49m\n\u001b[0;32m    339\u001b[0m \u001b[38;5;66;03m# Finally look for special method names\u001b[39;00m\n\u001b[0;32m    340\u001b[0m method \u001b[38;5;241m=\u001b[39m get_real_method(obj, \u001b[38;5;28mself\u001b[39m\u001b[38;5;241m.\u001b[39mprint_method)\n",
      "File \u001b[1;32m~\\AppData\\Local\\Packages\\PythonSoftwareFoundation.Python.3.10_qbz5n2kfra8p0\\LocalCache\\local-packages\\Python310\\site-packages\\IPython\\core\\pylabtools.py:152\u001b[0m, in \u001b[0;36mprint_figure\u001b[1;34m(fig, fmt, bbox_inches, base64, **kwargs)\u001b[0m\n\u001b[0;32m    149\u001b[0m     \u001b[38;5;28;01mfrom\u001b[39;00m \u001b[38;5;21;01mmatplotlib\u001b[39;00m\u001b[38;5;21;01m.\u001b[39;00m\u001b[38;5;21;01mbackend_bases\u001b[39;00m \u001b[38;5;28;01mimport\u001b[39;00m FigureCanvasBase\n\u001b[0;32m    150\u001b[0m     FigureCanvasBase(fig)\n\u001b[1;32m--> 152\u001b[0m fig\u001b[38;5;241m.\u001b[39mcanvas\u001b[38;5;241m.\u001b[39mprint_figure(bytes_io, \u001b[38;5;241m*\u001b[39m\u001b[38;5;241m*\u001b[39mkw)\n\u001b[0;32m    153\u001b[0m data \u001b[38;5;241m=\u001b[39m bytes_io\u001b[38;5;241m.\u001b[39mgetvalue()\n\u001b[0;32m    154\u001b[0m \u001b[38;5;28;01mif\u001b[39;00m fmt \u001b[38;5;241m==\u001b[39m \u001b[38;5;124m'\u001b[39m\u001b[38;5;124msvg\u001b[39m\u001b[38;5;124m'\u001b[39m:\n",
      "File \u001b[1;32m~\\AppData\\Local\\Packages\\PythonSoftwareFoundation.Python.3.10_qbz5n2kfra8p0\\LocalCache\\local-packages\\Python310\\site-packages\\matplotlib\\backend_bases.py:2336\u001b[0m, in \u001b[0;36mFigureCanvasBase.print_figure\u001b[1;34m(self, filename, dpi, facecolor, edgecolor, orientation, format, bbox_inches, pad_inches, bbox_extra_artists, backend, **kwargs)\u001b[0m\n\u001b[0;32m   2329\u001b[0m     bbox_inches \u001b[38;5;241m=\u001b[39m rcParams[\u001b[38;5;124m'\u001b[39m\u001b[38;5;124msavefig.bbox\u001b[39m\u001b[38;5;124m'\u001b[39m]\n\u001b[0;32m   2331\u001b[0m \u001b[38;5;28;01mif\u001b[39;00m (\u001b[38;5;28mself\u001b[39m\u001b[38;5;241m.\u001b[39mfigure\u001b[38;5;241m.\u001b[39mget_layout_engine() \u001b[38;5;129;01mis\u001b[39;00m \u001b[38;5;129;01mnot\u001b[39;00m \u001b[38;5;28;01mNone\u001b[39;00m \u001b[38;5;129;01mor\u001b[39;00m\n\u001b[0;32m   2332\u001b[0m         bbox_inches \u001b[38;5;241m==\u001b[39m \u001b[38;5;124m\"\u001b[39m\u001b[38;5;124mtight\u001b[39m\u001b[38;5;124m\"\u001b[39m):\n\u001b[0;32m   2333\u001b[0m     \u001b[38;5;66;03m# we need to trigger a draw before printing to make sure\u001b[39;00m\n\u001b[0;32m   2334\u001b[0m     \u001b[38;5;66;03m# CL works.  \"tight\" also needs a draw to get the right\u001b[39;00m\n\u001b[0;32m   2335\u001b[0m     \u001b[38;5;66;03m# locations:\u001b[39;00m\n\u001b[1;32m-> 2336\u001b[0m     renderer \u001b[38;5;241m=\u001b[39m \u001b[43m_get_renderer\u001b[49m\u001b[43m(\u001b[49m\n\u001b[0;32m   2337\u001b[0m \u001b[43m        \u001b[49m\u001b[38;5;28;43mself\u001b[39;49m\u001b[38;5;241;43m.\u001b[39;49m\u001b[43mfigure\u001b[49m\u001b[43m,\u001b[49m\n\u001b[0;32m   2338\u001b[0m \u001b[43m        \u001b[49m\u001b[43mfunctools\u001b[49m\u001b[38;5;241;43m.\u001b[39;49m\u001b[43mpartial\u001b[49m\u001b[43m(\u001b[49m\n\u001b[0;32m   2339\u001b[0m \u001b[43m            \u001b[49m\u001b[43mprint_method\u001b[49m\u001b[43m,\u001b[49m\u001b[43m \u001b[49m\u001b[43morientation\u001b[49m\u001b[38;5;241;43m=\u001b[39;49m\u001b[43morientation\u001b[49m\u001b[43m)\u001b[49m\n\u001b[0;32m   2340\u001b[0m \u001b[43m    \u001b[49m\u001b[43m)\u001b[49m\n\u001b[0;32m   2341\u001b[0m     \u001b[38;5;28;01mwith\u001b[39;00m \u001b[38;5;28mgetattr\u001b[39m(renderer, \u001b[38;5;124m\"\u001b[39m\u001b[38;5;124m_draw_disabled\u001b[39m\u001b[38;5;124m\"\u001b[39m, nullcontext)():\n\u001b[0;32m   2342\u001b[0m         \u001b[38;5;28mself\u001b[39m\u001b[38;5;241m.\u001b[39mfigure\u001b[38;5;241m.\u001b[39mdraw(renderer)\n",
      "File \u001b[1;32m~\\AppData\\Local\\Packages\\PythonSoftwareFoundation.Python.3.10_qbz5n2kfra8p0\\LocalCache\\local-packages\\Python310\\site-packages\\matplotlib\\backend_bases.py:1598\u001b[0m, in \u001b[0;36m_get_renderer\u001b[1;34m(figure, print_method)\u001b[0m\n\u001b[0;32m   1595\u001b[0m     print_method \u001b[38;5;241m=\u001b[39m stack\u001b[38;5;241m.\u001b[39menter_context(\n\u001b[0;32m   1596\u001b[0m         figure\u001b[38;5;241m.\u001b[39mcanvas\u001b[38;5;241m.\u001b[39m_switch_canvas_and_return_print_method(fmt))\n\u001b[0;32m   1597\u001b[0m \u001b[38;5;28;01mtry\u001b[39;00m:\n\u001b[1;32m-> 1598\u001b[0m     \u001b[43mprint_method\u001b[49m\u001b[43m(\u001b[49m\u001b[43mio\u001b[49m\u001b[38;5;241;43m.\u001b[39;49m\u001b[43mBytesIO\u001b[49m\u001b[43m(\u001b[49m\u001b[43m)\u001b[49m\u001b[43m)\u001b[49m\n\u001b[0;32m   1599\u001b[0m \u001b[38;5;28;01mexcept\u001b[39;00m Done \u001b[38;5;28;01mas\u001b[39;00m exc:\n\u001b[0;32m   1600\u001b[0m     renderer, \u001b[38;5;241m=\u001b[39m exc\u001b[38;5;241m.\u001b[39margs\n",
      "File \u001b[1;32m~\\AppData\\Local\\Packages\\PythonSoftwareFoundation.Python.3.10_qbz5n2kfra8p0\\LocalCache\\local-packages\\Python310\\site-packages\\matplotlib\\backend_bases.py:2232\u001b[0m, in \u001b[0;36mFigureCanvasBase._switch_canvas_and_return_print_method.<locals>.<lambda>\u001b[1;34m(*args, **kwargs)\u001b[0m\n\u001b[0;32m   2228\u001b[0m     optional_kws \u001b[38;5;241m=\u001b[39m {  \u001b[38;5;66;03m# Passed by print_figure for other renderers.\u001b[39;00m\n\u001b[0;32m   2229\u001b[0m         \u001b[38;5;124m\"\u001b[39m\u001b[38;5;124mdpi\u001b[39m\u001b[38;5;124m\"\u001b[39m, \u001b[38;5;124m\"\u001b[39m\u001b[38;5;124mfacecolor\u001b[39m\u001b[38;5;124m\"\u001b[39m, \u001b[38;5;124m\"\u001b[39m\u001b[38;5;124medgecolor\u001b[39m\u001b[38;5;124m\"\u001b[39m, \u001b[38;5;124m\"\u001b[39m\u001b[38;5;124morientation\u001b[39m\u001b[38;5;124m\"\u001b[39m,\n\u001b[0;32m   2230\u001b[0m         \u001b[38;5;124m\"\u001b[39m\u001b[38;5;124mbbox_inches_restore\u001b[39m\u001b[38;5;124m\"\u001b[39m}\n\u001b[0;32m   2231\u001b[0m     skip \u001b[38;5;241m=\u001b[39m optional_kws \u001b[38;5;241m-\u001b[39m {\u001b[38;5;241m*\u001b[39minspect\u001b[38;5;241m.\u001b[39msignature(meth)\u001b[38;5;241m.\u001b[39mparameters}\n\u001b[1;32m-> 2232\u001b[0m     print_method \u001b[38;5;241m=\u001b[39m functools\u001b[38;5;241m.\u001b[39mwraps(meth)(\u001b[38;5;28;01mlambda\u001b[39;00m \u001b[38;5;241m*\u001b[39margs, \u001b[38;5;241m*\u001b[39m\u001b[38;5;241m*\u001b[39mkwargs: meth(\n\u001b[0;32m   2233\u001b[0m         \u001b[38;5;241m*\u001b[39margs, \u001b[38;5;241m*\u001b[39m\u001b[38;5;241m*\u001b[39m{k: v \u001b[38;5;28;01mfor\u001b[39;00m k, v \u001b[38;5;129;01min\u001b[39;00m kwargs\u001b[38;5;241m.\u001b[39mitems() \u001b[38;5;28;01mif\u001b[39;00m k \u001b[38;5;129;01mnot\u001b[39;00m \u001b[38;5;129;01min\u001b[39;00m skip}))\n\u001b[0;32m   2234\u001b[0m \u001b[38;5;28;01melse\u001b[39;00m:  \u001b[38;5;66;03m# Let third-parties do as they see fit.\u001b[39;00m\n\u001b[0;32m   2235\u001b[0m     print_method \u001b[38;5;241m=\u001b[39m meth\n",
      "File \u001b[1;32m~\\AppData\\Local\\Packages\\PythonSoftwareFoundation.Python.3.10_qbz5n2kfra8p0\\LocalCache\\local-packages\\Python310\\site-packages\\matplotlib\\backends\\backend_agg.py:509\u001b[0m, in \u001b[0;36mFigureCanvasAgg.print_png\u001b[1;34m(self, filename_or_obj, metadata, pil_kwargs)\u001b[0m\n\u001b[0;32m    462\u001b[0m \u001b[38;5;28;01mdef\u001b[39;00m \u001b[38;5;21mprint_png\u001b[39m(\u001b[38;5;28mself\u001b[39m, filename_or_obj, \u001b[38;5;241m*\u001b[39m, metadata\u001b[38;5;241m=\u001b[39m\u001b[38;5;28;01mNone\u001b[39;00m, pil_kwargs\u001b[38;5;241m=\u001b[39m\u001b[38;5;28;01mNone\u001b[39;00m):\n\u001b[0;32m    463\u001b[0m \u001b[38;5;250m    \u001b[39m\u001b[38;5;124;03m\"\"\"\u001b[39;00m\n\u001b[0;32m    464\u001b[0m \u001b[38;5;124;03m    Write the figure to a PNG file.\u001b[39;00m\n\u001b[0;32m    465\u001b[0m \n\u001b[1;32m   (...)\u001b[0m\n\u001b[0;32m    507\u001b[0m \u001b[38;5;124;03m        *metadata*, including the default 'Software' key.\u001b[39;00m\n\u001b[0;32m    508\u001b[0m \u001b[38;5;124;03m    \"\"\"\u001b[39;00m\n\u001b[1;32m--> 509\u001b[0m     \u001b[38;5;28;43mself\u001b[39;49m\u001b[38;5;241;43m.\u001b[39;49m\u001b[43m_print_pil\u001b[49m\u001b[43m(\u001b[49m\u001b[43mfilename_or_obj\u001b[49m\u001b[43m,\u001b[49m\u001b[43m \u001b[49m\u001b[38;5;124;43m\"\u001b[39;49m\u001b[38;5;124;43mpng\u001b[39;49m\u001b[38;5;124;43m\"\u001b[39;49m\u001b[43m,\u001b[49m\u001b[43m \u001b[49m\u001b[43mpil_kwargs\u001b[49m\u001b[43m,\u001b[49m\u001b[43m \u001b[49m\u001b[43mmetadata\u001b[49m\u001b[43m)\u001b[49m\n",
      "File \u001b[1;32m~\\AppData\\Local\\Packages\\PythonSoftwareFoundation.Python.3.10_qbz5n2kfra8p0\\LocalCache\\local-packages\\Python310\\site-packages\\matplotlib\\backends\\backend_agg.py:457\u001b[0m, in \u001b[0;36mFigureCanvasAgg._print_pil\u001b[1;34m(self, filename_or_obj, fmt, pil_kwargs, metadata)\u001b[0m\n\u001b[0;32m    452\u001b[0m \u001b[38;5;28;01mdef\u001b[39;00m \u001b[38;5;21m_print_pil\u001b[39m(\u001b[38;5;28mself\u001b[39m, filename_or_obj, fmt, pil_kwargs, metadata\u001b[38;5;241m=\u001b[39m\u001b[38;5;28;01mNone\u001b[39;00m):\n\u001b[0;32m    453\u001b[0m \u001b[38;5;250m    \u001b[39m\u001b[38;5;124;03m\"\"\"\u001b[39;00m\n\u001b[0;32m    454\u001b[0m \u001b[38;5;124;03m    Draw the canvas, then save it using `.image.imsave` (to which\u001b[39;00m\n\u001b[0;32m    455\u001b[0m \u001b[38;5;124;03m    *pil_kwargs* and *metadata* are forwarded).\u001b[39;00m\n\u001b[0;32m    456\u001b[0m \u001b[38;5;124;03m    \"\"\"\u001b[39;00m\n\u001b[1;32m--> 457\u001b[0m     \u001b[43mFigureCanvasAgg\u001b[49m\u001b[38;5;241;43m.\u001b[39;49m\u001b[43mdraw\u001b[49m\u001b[43m(\u001b[49m\u001b[38;5;28;43mself\u001b[39;49m\u001b[43m)\u001b[49m\n\u001b[0;32m    458\u001b[0m     mpl\u001b[38;5;241m.\u001b[39mimage\u001b[38;5;241m.\u001b[39mimsave(\n\u001b[0;32m    459\u001b[0m         filename_or_obj, \u001b[38;5;28mself\u001b[39m\u001b[38;5;241m.\u001b[39mbuffer_rgba(), \u001b[38;5;28mformat\u001b[39m\u001b[38;5;241m=\u001b[39mfmt, origin\u001b[38;5;241m=\u001b[39m\u001b[38;5;124m\"\u001b[39m\u001b[38;5;124mupper\u001b[39m\u001b[38;5;124m\"\u001b[39m,\n\u001b[0;32m    460\u001b[0m         dpi\u001b[38;5;241m=\u001b[39m\u001b[38;5;28mself\u001b[39m\u001b[38;5;241m.\u001b[39mfigure\u001b[38;5;241m.\u001b[39mdpi, metadata\u001b[38;5;241m=\u001b[39mmetadata, pil_kwargs\u001b[38;5;241m=\u001b[39mpil_kwargs)\n",
      "File \u001b[1;32m~\\AppData\\Local\\Packages\\PythonSoftwareFoundation.Python.3.10_qbz5n2kfra8p0\\LocalCache\\local-packages\\Python310\\site-packages\\matplotlib\\backends\\backend_agg.py:394\u001b[0m, in \u001b[0;36mFigureCanvasAgg.draw\u001b[1;34m(self)\u001b[0m\n\u001b[0;32m    392\u001b[0m \u001b[38;5;28;01mdef\u001b[39;00m \u001b[38;5;21mdraw\u001b[39m(\u001b[38;5;28mself\u001b[39m):\n\u001b[0;32m    393\u001b[0m     \u001b[38;5;66;03m# docstring inherited\u001b[39;00m\n\u001b[1;32m--> 394\u001b[0m     \u001b[38;5;28mself\u001b[39m\u001b[38;5;241m.\u001b[39mrenderer \u001b[38;5;241m=\u001b[39m \u001b[38;5;28;43mself\u001b[39;49m\u001b[38;5;241;43m.\u001b[39;49m\u001b[43mget_renderer\u001b[49m\u001b[43m(\u001b[49m\u001b[43m)\u001b[49m\n\u001b[0;32m    395\u001b[0m     \u001b[38;5;28mself\u001b[39m\u001b[38;5;241m.\u001b[39mrenderer\u001b[38;5;241m.\u001b[39mclear()\n\u001b[0;32m    396\u001b[0m     \u001b[38;5;66;03m# Acquire a lock on the shared font cache.\u001b[39;00m\n",
      "File \u001b[1;32m~\\AppData\\Local\\Packages\\PythonSoftwareFoundation.Python.3.10_qbz5n2kfra8p0\\LocalCache\\local-packages\\Python310\\site-packages\\matplotlib\\_api\\deprecation.py:384\u001b[0m, in \u001b[0;36mdelete_parameter.<locals>.wrapper\u001b[1;34m(*inner_args, **inner_kwargs)\u001b[0m\n\u001b[0;32m    379\u001b[0m \u001b[38;5;129m@functools\u001b[39m\u001b[38;5;241m.\u001b[39mwraps(func)\n\u001b[0;32m    380\u001b[0m \u001b[38;5;28;01mdef\u001b[39;00m \u001b[38;5;21mwrapper\u001b[39m(\u001b[38;5;241m*\u001b[39minner_args, \u001b[38;5;241m*\u001b[39m\u001b[38;5;241m*\u001b[39minner_kwargs):\n\u001b[0;32m    381\u001b[0m     \u001b[38;5;28;01mif\u001b[39;00m \u001b[38;5;28mlen\u001b[39m(inner_args) \u001b[38;5;241m<\u001b[39m\u001b[38;5;241m=\u001b[39m name_idx \u001b[38;5;129;01mand\u001b[39;00m name \u001b[38;5;129;01mnot\u001b[39;00m \u001b[38;5;129;01min\u001b[39;00m inner_kwargs:\n\u001b[0;32m    382\u001b[0m         \u001b[38;5;66;03m# Early return in the simple, non-deprecated case (much faster than\u001b[39;00m\n\u001b[0;32m    383\u001b[0m         \u001b[38;5;66;03m# calling bind()).\u001b[39;00m\n\u001b[1;32m--> 384\u001b[0m         \u001b[38;5;28;01mreturn\u001b[39;00m func(\u001b[38;5;241m*\u001b[39minner_args, \u001b[38;5;241m*\u001b[39m\u001b[38;5;241m*\u001b[39minner_kwargs)\n\u001b[0;32m    385\u001b[0m     arguments \u001b[38;5;241m=\u001b[39m signature\u001b[38;5;241m.\u001b[39mbind(\u001b[38;5;241m*\u001b[39minner_args, \u001b[38;5;241m*\u001b[39m\u001b[38;5;241m*\u001b[39minner_kwargs)\u001b[38;5;241m.\u001b[39marguments\n\u001b[0;32m    386\u001b[0m     \u001b[38;5;28;01mif\u001b[39;00m is_varargs \u001b[38;5;129;01mand\u001b[39;00m arguments\u001b[38;5;241m.\u001b[39mget(name):\n",
      "File \u001b[1;32m~\\AppData\\Local\\Packages\\PythonSoftwareFoundation.Python.3.10_qbz5n2kfra8p0\\LocalCache\\local-packages\\Python310\\site-packages\\matplotlib\\backends\\backend_agg.py:411\u001b[0m, in \u001b[0;36mFigureCanvasAgg.get_renderer\u001b[1;34m(self, cleared)\u001b[0m\n\u001b[0;32m    409\u001b[0m reuse_renderer \u001b[38;5;241m=\u001b[39m (\u001b[38;5;28mself\u001b[39m\u001b[38;5;241m.\u001b[39m_lastKey \u001b[38;5;241m==\u001b[39m key)\n\u001b[0;32m    410\u001b[0m \u001b[38;5;28;01mif\u001b[39;00m \u001b[38;5;129;01mnot\u001b[39;00m reuse_renderer:\n\u001b[1;32m--> 411\u001b[0m     \u001b[38;5;28mself\u001b[39m\u001b[38;5;241m.\u001b[39mrenderer \u001b[38;5;241m=\u001b[39m \u001b[43mRendererAgg\u001b[49m\u001b[43m(\u001b[49m\u001b[43mw\u001b[49m\u001b[43m,\u001b[49m\u001b[43m \u001b[49m\u001b[43mh\u001b[49m\u001b[43m,\u001b[49m\u001b[43m \u001b[49m\u001b[38;5;28;43mself\u001b[39;49m\u001b[38;5;241;43m.\u001b[39;49m\u001b[43mfigure\u001b[49m\u001b[38;5;241;43m.\u001b[39;49m\u001b[43mdpi\u001b[49m\u001b[43m)\u001b[49m\n\u001b[0;32m    412\u001b[0m     \u001b[38;5;28mself\u001b[39m\u001b[38;5;241m.\u001b[39m_lastKey \u001b[38;5;241m=\u001b[39m key\n\u001b[0;32m    413\u001b[0m \u001b[38;5;28;01melif\u001b[39;00m cleared:\n",
      "File \u001b[1;32m~\\AppData\\Local\\Packages\\PythonSoftwareFoundation.Python.3.10_qbz5n2kfra8p0\\LocalCache\\local-packages\\Python310\\site-packages\\matplotlib\\backends\\backend_agg.py:84\u001b[0m, in \u001b[0;36mRendererAgg.__init__\u001b[1;34m(self, width, height, dpi)\u001b[0m\n\u001b[0;32m     82\u001b[0m \u001b[38;5;28mself\u001b[39m\u001b[38;5;241m.\u001b[39mwidth \u001b[38;5;241m=\u001b[39m width\n\u001b[0;32m     83\u001b[0m \u001b[38;5;28mself\u001b[39m\u001b[38;5;241m.\u001b[39mheight \u001b[38;5;241m=\u001b[39m height\n\u001b[1;32m---> 84\u001b[0m \u001b[38;5;28mself\u001b[39m\u001b[38;5;241m.\u001b[39m_renderer \u001b[38;5;241m=\u001b[39m \u001b[43m_RendererAgg\u001b[49m\u001b[43m(\u001b[49m\u001b[38;5;28;43mint\u001b[39;49m\u001b[43m(\u001b[49m\u001b[43mwidth\u001b[49m\u001b[43m)\u001b[49m\u001b[43m,\u001b[49m\u001b[43m \u001b[49m\u001b[38;5;28;43mint\u001b[39;49m\u001b[43m(\u001b[49m\u001b[43mheight\u001b[49m\u001b[43m)\u001b[49m\u001b[43m,\u001b[49m\u001b[43m \u001b[49m\u001b[43mdpi\u001b[49m\u001b[43m)\u001b[49m\n\u001b[0;32m     85\u001b[0m \u001b[38;5;28mself\u001b[39m\u001b[38;5;241m.\u001b[39m_filter_renderers \u001b[38;5;241m=\u001b[39m []\n\u001b[0;32m     87\u001b[0m \u001b[38;5;28mself\u001b[39m\u001b[38;5;241m.\u001b[39m_update_methods()\n",
      "\u001b[1;31mMemoryError\u001b[0m: In RendererAgg: Out of memory"
     ]
    },
    {
     "data": {
      "text/plain": [
       "<Figure size 20000x10000 with 1 Axes>"
      ]
     },
     "metadata": {},
     "output_type": "display_data"
    }
   ],
   "source": [
    "# Export one of the trees from the forest\n",
    "tree = rf.estimators_[most_accurate_tree_index]\n",
    "\n",
    "# Plot the tree\n",
    "plt.figure(figsize=(200,100))\n",
    "plot_tree(most_accurate_tree, feature_names=feature_names, class_names=target_names, filled=True, rounded=True, fontsize=12)\n",
    "plt.show()"
   ]
  },
  {
   "cell_type": "markdown",
   "metadata": {},
   "source": [
    "However, the accuracy of the tree is not good, so this splits are thresholds are not reliables.\n",
    "\n",
    "Another usefull insight can be achieved seeing the feature importance."
   ]
  },
  {
   "cell_type": "code",
   "execution_count": null,
   "metadata": {},
   "outputs": [],
   "source": [
    "# Feature importances\n",
    "importances = rf.feature_importances_\n",
    "indices = np.argsort(importances)[::-1]\n",
    "\n",
    "\n",
    "# Print feature ranking\n",
    "print(\"Feature ranking:\")\n",
    "for f in range((X_train_transformed.shape[1])):\n",
    "    print(f\"{f + 1}. feature {indices[f]} : {feature_names[f]} ({importances[indices[f]]})\")\n",
    "\n",
    "# Plot the feature importances of the forest\n",
    "plt.figure()\n",
    "plt.title(\"Feature importances\")\n",
    "plt.bar(range(X_train_transformed.shape[1]), importances[indices], color=\"r\", align=\"center\")\n",
    "plt.xticks(range(X_train_transformed.shape[1]), X_train_transformed.columns[indices], rotation=90)\n",
    "plt.xlim([-1, X_train_transformed.shape[1]])\n",
    "plt.show()\n"
   ]
  },
  {
   "cell_type": "markdown",
   "metadata": {},
   "source": [
    "We can see that the more relevant feature for the decision is ADI_R_VERBAL_TOTAL_BV, followed by ADOS_TOTAL. This outcome seems to be meaningfull due to the fact that this two feature are the only one that are really created to account autism. But we can't overcome the fact that they are also the ones that has the biggest quantity of missing values, so we have to be carefull with the analysis of this results."
   ]
  },
  {
   "cell_type": "markdown",
   "metadata": {},
   "source": [
    "# Comparison with Literature"
   ]
  },
  {
   "cell_type": "markdown",
   "metadata": {},
   "source": [
    "We upload the dataset gave by the authors which has no presence of missing values and has been treated with feature selection"
   ]
  },
  {
   "cell_type": "code",
   "execution_count": null,
   "metadata": {},
   "outputs": [],
   "source": [
    "ASD_phenotypic_literature = pd.read_csv(os.path.join('DataSets','Phenotypic Datasets','ASD_phenotypic_paper.csv'))"
   ]
  },
  {
   "cell_type": "code",
   "execution_count": null,
   "metadata": {},
   "outputs": [],
   "source": [
    "ASD_phenotypic_literature.info()"
   ]
  },
  {
   "cell_type": "markdown",
   "metadata": {},
   "source": [
    "We drop the columns that we don't need and separate data for the diagnosis database."
   ]
  },
  {
   "cell_type": "code",
   "execution_count": null,
   "metadata": {},
   "outputs": [],
   "source": [
    "ASD_clinical_lit = ASD_phenotypic_literature[['DX_GROUP']]\n",
    "# Drop  columns DX_GROUP and storage it apart \n",
    "ASD_phenotypic_lit = ASD_phenotypic_literature.drop(columns=['DX_GROUP', 'DSM_IV_TR', 'Unnamed: 0.1', 'Unnamed: 0', 'SUB_ID', 'X', 'subject', 'SITE_ID', 'FILE_ID', 'EYE_STATUS_AT_SCAN'])"
   ]
  },
  {
   "cell_type": "code",
   "execution_count": null,
   "metadata": {},
   "outputs": [],
   "source": [
    "ASD_phenotypic_lit.info()"
   ]
  },
  {
   "cell_type": "code",
   "execution_count": null,
   "metadata": {},
   "outputs": [],
   "source": [
    "ASD_clinical_lit.info()"
   ]
  },
  {
   "cell_type": "markdown",
   "metadata": {},
   "source": [
    "Now we split the dataset and apply SMOTE"
   ]
  },
  {
   "cell_type": "code",
   "execution_count": null,
   "metadata": {},
   "outputs": [],
   "source": [
    "X_train_lit, X_test_lit, y_train_lit, y_test_lit = train_test_split(ASD_phenotypic_lit, ASD_clinical_lit['DX_GROUP'], test_size=0.3, random_state=42)\n",
    "\n",
    "# Initialize the SMOTE-NC object\n",
    "sampler = SMOTE(random_state=42)\n",
    "X_SMOTE_lit, Y_SMOTE_lit = sampler.fit_resample(X_train_lit, y_train_lit)"
   ]
  },
  {
   "cell_type": "markdown",
   "metadata": {},
   "source": [
    "Now we are ready to perform the Random Forest Classifier on the dataset."
   ]
  },
  {
   "cell_type": "code",
   "execution_count": null,
   "metadata": {},
   "outputs": [],
   "source": [
    "classifier = RandomForestClassifier(random_state=42)\n",
    "rf_model_lit, rf_parameter_lit, rf_scores_lit, _ = general_pipeline(X_SMOTE_lit, Y_SMOTE_lit, classifier,  parameters_grid_search = rf_parameter)"
   ]
  },
  {
   "cell_type": "markdown",
   "metadata": {},
   "source": [
    "Now we fit on the test to see the final accuracy and f1_score"
   ]
  },
  {
   "cell_type": "code",
   "execution_count": null,
   "metadata": {},
   "outputs": [],
   "source": [
    "y_pred = rf_model_lit.predict(X_test_lit)\n",
    "\n",
    "# Prints and stores scores of the model on testing set\n",
    "accuracy, precision, recall, f1 = of.evaluation_test_scores(y_test_lit, y_pred)"
   ]
  }
 ],
 "metadata": {
  "kernelspec": {
   "display_name": "Python 3",
   "language": "python",
   "name": "python3"
  },
  "language_info": {
   "codemirror_mode": {
    "name": "ipython",
    "version": 3
   },
   "file_extension": ".py",
   "mimetype": "text/x-python",
   "name": "python",
   "nbconvert_exporter": "python",
   "pygments_lexer": "ipython3",
   "version": "3.10.11"
  }
 },
 "nbformat": 4,
 "nbformat_minor": 2
}
