{
 "cells": [
  {
   "cell_type": "code",
   "execution_count": 44,
   "metadata": {},
   "outputs": [],
   "source": [
    "# general imports\n",
    "import os\n",
    "import numpy as np\n",
    "import pandas as pd\n",
    "from matplotlib import pyplot as plt \n",
    "from matplotlib.colors import ListedColormap\n",
    "import seaborn as sns\n",
    "\n",
    "# from our documents\n",
    "import OurFunctions as of\n",
    "\n",
    "# from Scikit Learn library\n",
    "from sklearn.model_selection import train_test_split, KFold, cross_val_score, GridSearchCV\n",
    "from sklearn.ensemble import RandomForestClassifier\n",
    "from sklearn.metrics import roc_curve, roc_auc_score, accuracy_score, make_scorer, precision_score, recall_score, f1_score, confusion_matrix\n",
    "from sklearn.preprocessing import StandardScaler, OneHotEncoder, RobustScaler\n",
    "from sklearn.compose import ColumnTransformer\n",
    "from sklearn.pipeline import Pipeline\n",
    "from sklearn.neighbors import KNeighborsClassifier\n",
    "from sklearn.linear_model import LogisticRegression\n",
    "from sklearn import svm\n",
    "from sklearn.feature_selection import SelectKBest, f_classif\n",
    "from sklearn.decomposition import PCA\n",
    "\n",
    "# from Imb Learn\n",
    "from imblearn.over_sampling import SMOTENC\n",
    "\n"
   ]
  },
  {
   "cell_type": "code",
   "execution_count": 45,
   "metadata": {},
   "outputs": [],
   "source": [
    "ASD_phenotypic_original = pd.read_csv(os.path.join('DataSets','Phenotypic Datasets','ASD_phenotypic.csv'))\n",
    "ASD_phenotypic = pd.read_csv(os.path.join('DataSets','Phenotypic Datasets','ASD_phenotypic_preprocessed.csv'))\n",
    "ASD_diagnosis = pd.read_csv(os.path.join('DataSets','Phenotypic Datasets','ASD_clinical.csv'))"
   ]
  },
  {
   "cell_type": "markdown",
   "metadata": {},
   "source": [
    "# CLASSIFICATION"
   ]
  },
  {
   "cell_type": "markdown",
   "metadata": {},
   "source": [
    "First of all, we split the data into train set and test set, to be sure that our classifier is evaluated on data that it had never seen before."
   ]
  },
  {
   "cell_type": "code",
   "execution_count": 46,
   "metadata": {},
   "outputs": [
    {
     "name": "stdout",
     "output_type": "stream",
     "text": [
      "Training set size: (467, 11)\n",
      "Test set size: (201, 11)\n"
     ]
    }
   ],
   "source": [
    "# Split the data into training and test sets\n",
    "X_train, X_test, y_train, y_test = train_test_split(ASD_phenotypic, ASD_diagnosis['DX_GROUP'], test_size=0.3, random_state=42)\n",
    "print(\"Training set size:\", X_train.shape)\n",
    "print(\"Test set size:\", X_test.shape)"
   ]
  },
  {
   "cell_type": "markdown",
   "metadata": {},
   "source": [
    "I want to check the balance between classes for each set, to  be sure we are training the classifier using a good split."
   ]
  },
  {
   "cell_type": "code",
   "execution_count": 47,
   "metadata": {},
   "outputs": [
    {
     "name": "stdout",
     "output_type": "stream",
     "text": [
      "Class proportions for:\n",
      "- test set: DX_GROUP\n",
      "1    0.60199\n",
      "2    0.39801\n",
      "Name: proportion, dtype: float64\n",
      "- train set: DX_GROUP\n",
      "1    0.603854\n",
      "2    0.396146\n",
      "Name: proportion, dtype: float64\n",
      "Num subjects involved per DX_GROUP\n",
      "1    282\n",
      "2    185\n",
      "Name: count, dtype: int64\n"
     ]
    }
   ],
   "source": [
    "class_counts_test = y_test.value_counts(normalize=True)\n",
    "class_counts_train = y_train.value_counts(normalize=True)\n",
    "class_count_train_num = y_train.value_counts()\n",
    "\n",
    "# Stampa il conteggio delle classi per DX_GROUP\n",
    "print(\"Class proportions for:\")\n",
    "print(\"- test set: \" + str(class_counts_test))\n",
    "print(\"- train set: \" + str(class_counts_train))\n",
    "print(\"Num subjects involved per \"+ str(class_count_train_num))"
   ]
  },
  {
   "cell_type": "markdown",
   "metadata": {},
   "source": [
    "# General pipeline"
   ]
  },
  {
   "cell_type": "markdown",
   "metadata": {},
   "source": [
    "To achieve a more reliable accuracy score we use k-fold cross validation. In this way we are performing the training on different train and validation fold and we avoid to have a better accuracy based only on the subjects we selected."
   ]
  },
  {
   "cell_type": "code",
   "execution_count": 48,
   "metadata": {},
   "outputs": [],
   "source": [
    "def general_pipeline(dataset, target, classifier, encoder = True, scaler = True, parameters_grid_search = None, cv = None):\n",
    "\n",
    "    # Definizione delle metriche da utilizzare come scoring\n",
    "    scoring = {\n",
    "        'accuracy': make_scorer(accuracy_score),\n",
    "        'precision': make_scorer(precision_score),\n",
    "        'recall': make_scorer(recall_score),\n",
    "        'f1_score': make_scorer(f1_score)\n",
    "    }\n",
    "\n",
    "    # Preprocess to make on the train data may include\n",
    "    # - normalization of the numerical columns\n",
    "    # - one hot encoding on the categorical columns\n",
    "    \n",
    "    categorical_columns = dataset.select_dtypes(include=['object']).columns\n",
    "\n",
    "    if not encoder:\n",
    "        transformers = [('num', RobustScaler(), ~dataset.columns.isin(categorical_columns))]\n",
    "    elif not scaler:\n",
    "        transformers = [('cat', OneHotEncoder(handle_unknown='ignore'), categorical_columns)]\n",
    "    elif not encoder and not scaler:\n",
    "        transformers = []\n",
    "    else:\n",
    "        transformers=[\n",
    "            ('num', RobustScaler(), ~dataset.columns.isin(categorical_columns)),\n",
    "            ('cat', OneHotEncoder(handle_unknown='ignore'), categorical_columns)\n",
    "        ]\n",
    "\n",
    "    preprocessor = ColumnTransformer(transformers=transformers)\n",
    "\n",
    "    # We define the pipeline\n",
    "    pipeline = Pipeline([\n",
    "        ('preprocessor', preprocessor),\n",
    "        ('classifier', classifier)\n",
    "    ])\n",
    "\n",
    "    if isinstance(pipeline.named_steps['classifier'], KNeighborsClassifier):\n",
    "        parameter_type = 'classifier__n_neighbors'\n",
    "        if parameters_grid_search:\n",
    "            parameters = {parameter_type: parameters_grid_search}  # Valori di n_neighbors da esplorare\n",
    "        else:\n",
    "            parameters = {parameter_type: [3, 5, 7, 9, 11]}  # Valori di n_neighbors da esplorare\n",
    "\n",
    "    if isinstance(pipeline.named_steps['classifier'], RandomForestClassifier):\n",
    "        parameter_type = 'classifier__n_estimators'\n",
    "        if parameters_grid_search:\n",
    "            parameters = {parameter_type: parameters_grid_search}  # Valori di n_neighbors da esplorare\n",
    "        else:\n",
    "            parameters = {parameter_type: [10, 50, 200, 500, 1000]}  # Valori di n_neighbors da esplorare\n",
    "\n",
    "    if isinstance(pipeline.named_steps['classifier'], svm.SVC):\n",
    "        parameter_type = 'classifier__C'\n",
    "        if parameters_grid_search:\n",
    "            parameters = {parameter_type: parameters_grid_search}  # Valori di n_neighbors da esplorare\n",
    "        else:\n",
    "            parameters = {parameter_type: [1]}  # Valori di n_neighbors da esplorare\n",
    "\n",
    "    if cv:\n",
    "        k_folds = cv\n",
    "    else:\n",
    "        k_folds = 5\n",
    "\n",
    "    # Creazione dell'oggetto GridSearchCV\n",
    "    grid_search = GridSearchCV(pipeline, parameters, cv= k_folds, scoring=scoring, refit='accuracy')\n",
    "\n",
    "    # Esecuzione della ricerca a griglia\n",
    "    grid_search.fit(dataset, target)\n",
    "\n",
    "    # Visualizzazione dei risultati\n",
    "    print(\"Risultati della cross-validation per tutte le combinazioni di iperparametri:\")\n",
    "\n",
    "    means_accuracy = grid_search.cv_results_['mean_test_accuracy']\n",
    "    stds_accuracy = grid_search.cv_results_['std_test_accuracy']\n",
    "    means_precision = grid_search.cv_results_['mean_test_precision']\n",
    "    means_recall = grid_search.cv_results_['mean_test_recall']\n",
    "    means_f1_score = grid_search.cv_results_['mean_test_f1_score']\n",
    "    params = grid_search.cv_results_['params']\n",
    "\n",
    "    for mean_acc, std_acc, mean_prec, mean_rec, mean_f1, params in zip(means_accuracy, stds_accuracy, means_precision, means_recall, means_f1_score, params):\n",
    "        print(f\"Parametri: {params}, Accuratezza media: {mean_acc:.3f} (±{std_acc:.3f}), Precision media: {mean_prec:.3f}, Richiamo medio: {mean_rec:.3f}, F1-score medio: {mean_f1:.3f}\")\n",
    "\n",
    "    best_model = grid_search.best_estimator_\n",
    "\n",
    "    print(\"\\nMiglior parametro trovato:\")\n",
    "    print(grid_search.best_params_[parameter_type])\n",
    "    print(\"Accuratezza media con il miglior parametro:\", grid_search.best_score_)\n",
    "\n",
    "    return best_model\n",
    "    "
   ]
  },
  {
   "cell_type": "code",
   "execution_count": 49,
   "metadata": {},
   "outputs": [
    {
     "name": "stdout",
     "output_type": "stream",
     "text": [
      "DX_GROUP\n",
      "1    0.5\n",
      "2    0.5\n",
      "Name: proportion, dtype: float64\n",
      "Num subjects involved per\n",
      "DX_GROUP\n",
      "1    282\n",
      "2    282\n",
      "Name: count, dtype: int64\n"
     ]
    }
   ],
   "source": [
    "categorical_columns = X_train.select_dtypes(include=['object']).columns\n",
    "categorical_features = categorical_columns.tolist()\n",
    "\n",
    "# Inizializza l'oggetto SMOTE-NC specificando gli indici delle colonne categoriche\n",
    "sampler = SMOTENC(categorical_features=categorical_features, random_state=42)\n",
    "\n",
    "# Applica SMOTE-NC per generare nuovi esempi sintetici\n",
    "X_SMOTE, Y_SMOTE = sampler.fit_resample(X_train, y_train)\n",
    "\n",
    "# Stampa la distribuzione delle classi dopo l'applicazione di SMOTE-NC\n",
    "print(pd.Series(Y_SMOTE).value_counts(normalize=True))\n",
    "print(\"Num subjects involved per\")\n",
    "print(pd.Series(Y_SMOTE).value_counts())"
   ]
  },
  {
   "cell_type": "markdown",
   "metadata": {},
   "source": [
    "# K-NEAREST NEIGHBOOR"
   ]
  },
  {
   "cell_type": "code",
   "execution_count": 50,
   "metadata": {},
   "outputs": [
    {
     "name": "stdout",
     "output_type": "stream",
     "text": [
      "Risultati della cross-validation per tutte le combinazioni di iperparametri:\n",
      "Parametri: {'classifier__n_neighbors': 3}, Accuratezza media: 0.915 (±0.037), Precision media: 0.961, Richiamo medio: 0.865, F1-score medio: 0.909\n",
      "Parametri: {'classifier__n_neighbors': 5}, Accuratezza media: 0.913 (±0.031), Precision media: 0.958, Richiamo medio: 0.865, F1-score medio: 0.908\n",
      "Parametri: {'classifier__n_neighbors': 7}, Accuratezza media: 0.899 (±0.030), Precision media: 0.964, Richiamo medio: 0.830, F1-score medio: 0.891\n",
      "Parametri: {'classifier__n_neighbors': 9}, Accuratezza media: 0.892 (±0.033), Precision media: 0.971, Richiamo medio: 0.808, F1-score medio: 0.881\n",
      "Parametri: {'classifier__n_neighbors': 11}, Accuratezza media: 0.886 (±0.035), Precision media: 0.971, Richiamo medio: 0.798, F1-score medio: 0.874\n",
      "\n",
      "Miglior parametro trovato:\n",
      "3\n",
      "Accuratezza media con il miglior parametro: 0.9148546144121366\n"
     ]
    }
   ],
   "source": [
    "classifier = KNeighborsClassifier()\n",
    "knn_model = general_pipeline(X_SMOTE, Y_SMOTE, classifier)"
   ]
  },
  {
   "cell_type": "code",
   "execution_count": 51,
   "metadata": {},
   "outputs": [
    {
     "name": "stdout",
     "output_type": "stream",
     "text": [
      "\n",
      "Valutazione del modello sui dati di test:\n",
      "Accuratezza: 0.910\n",
      "Precisione: 0.972\n",
      "Richiamo: 0.876\n",
      "F1-score: 0.922\n"
     ]
    }
   ],
   "source": [
    "# Valutazione del modello sui dati di test\n",
    "y_pred = knn_model.predict(X_test)\n",
    "\n",
    "# Calcolo delle metriche sui dati di test\n",
    "accuracy = accuracy_score(y_test, y_pred)\n",
    "precision = precision_score(y_test, y_pred)\n",
    "recall = recall_score(y_test, y_pred)\n",
    "f1 = f1_score(y_test, y_pred)\n",
    "\n",
    "print(\"\\nValutazione del modello sui dati di test:\")\n",
    "print(f\"Accuratezza: {accuracy:.3f}\")\n",
    "print(f\"Precisione: {precision:.3f}\")\n",
    "print(f\"Richiamo: {recall:.3f}\")\n",
    "print(f\"F1-score: {f1:.3f}\")\n"
   ]
  },
  {
   "cell_type": "code",
   "execution_count": 52,
   "metadata": {},
   "outputs": [
    {
     "data": {
      "image/png": "[encoded data removed]",
      "text/plain": [
       "<Figure size 800x600 with 2 Axes>"
      ]
     },
     "metadata": {},
     "output_type": "display_data"
    }
   ],
   "source": [
    "# Calcola la matrice di confusione\n",
    "conf_matrix = confusion_matrix(y_test, y_pred)\n",
    "\n",
    "# Visualizzazione della matrice di confusione\n",
    "plt.figure(figsize=(8, 6))\n",
    "sns.heatmap(conf_matrix, annot=True, cmap=\"Blues\", fmt=\"d\", xticklabels=['Control', 'ASD'], yticklabels=['Control', 'ASD'])\n",
    "plt.xlabel('Predicted Label')\n",
    "plt.ylabel('True Label')\n",
    "plt.title('Confusion Matrix')\n",
    "plt.show()\n"
   ]
  },
  {
   "cell_type": "code",
   "execution_count": 53,
   "metadata": {},
   "outputs": [
    {
     "data": {
      "text/plain": [
       "\"\\nVisualizzare l'effetto del modello sui dati attraverso un grafico di decisione\\n\\n# Riduzione della dimensione a 2D usando PCA (se ci sono più di due caratteristiche)\\npca = PCA(n_components=2)\\nASD_phenotypic_2d = pca.fit_transform(ASD_phenotypic)\\n\\n# Definizione del pipeline con PCA e il miglior modello trovato\\npipeline_2d = Pipeline([\\n    ('preprocessor', preprocessor),\\n    ('pca', PCA(n_components=2)),\\n    ('classifier', KNeighborsClassifier(n_neighbors=grid_search.best_params_['classifier__n_neighbors']))\\n])\\n\\n# Adattamento del pipeline\\npipeline_2d.fit(ASD_phenotypic, ASD_diagnosis['DX_GROUP'])\\n\\n# Creazione di una meshgrid per la visualizzazione delle regioni di decisione\\nh = .02  # passo della meshgrid\\nx_min, x_max = ASD_phenotypic_2d[:, 0].min() - 1, ASD_phenotypic_2d[:, 0].max() + 1\\ny_min, y_max = ASD_phenotypic_2d[:, 1].min() - 1, ASD_phenotypic_2d[:, 1].max() + 1\\nxx, yy = np.meshgrid(np.arange(x_min, x_max, h),\\n                     np.arange(y_min, y_max, h))\\n\\n# Predizione su ogni punto della meshgrid\\nZ = pipeline_2d.predict(np.c_[xx.ravel(), yy.ravel()])\\nZ = Z.reshape(xx.shape)\\n\\n# Creazione di un colormap per la visualizzazione delle regioni di decisione\\ncmap_light = ListedColormap(['#FFAAAA', '#AAAAFF'])\\ncmap_bold = ListedColormap(['#FF0000', '#0000FF'])\\n\\n# Visualizzazione delle regioni di decisione\\nplt.figure(figsize=(10, 8))\\nplt.contourf(xx, yy, Z, cmap=cmap_light)\\n\\n# Visualizzazione dei punti di addestramento\\nscatter = plt.scatter(ASD_phenotypic_2d[:, 0], ASD_phenotypic_2d[:, 1], c=ASD_diagnosis['DX_GROUP'], cmap=cmap_bold, edgecolor='k', s=20)\\nplt.legend(handles=scatter.legend_elements()[0], labels=['Control', 'ASD'])\\nplt.xlabel('Principal Component 1')\\nplt.ylabel('Principal Component 2')\\nplt.title('Decision Boundaries with k-NN')\\nplt.show()\\n\""
      ]
     },
     "execution_count": 53,
     "metadata": {},
     "output_type": "execute_result"
    }
   ],
   "source": [
    "'''\n",
    "Visualizzare l'effetto del modello sui dati attraverso un grafico di decisione\n",
    "\n",
    "# Riduzione della dimensione a 2D usando PCA (se ci sono più di due caratteristiche)\n",
    "pca = PCA(n_components=2)\n",
    "ASD_phenotypic_2d = pca.fit_transform(ASD_phenotypic)\n",
    "\n",
    "# Definizione del pipeline con PCA e il miglior modello trovato\n",
    "pipeline_2d = Pipeline([\n",
    "    ('preprocessor', preprocessor),\n",
    "    ('pca', PCA(n_components=2)),\n",
    "    ('classifier', KNeighborsClassifier(n_neighbors=grid_search.best_params_['classifier__n_neighbors']))\n",
    "])\n",
    "\n",
    "# Adattamento del pipeline\n",
    "pipeline_2d.fit(ASD_phenotypic, ASD_diagnosis['DX_GROUP'])\n",
    "\n",
    "# Creazione di una meshgrid per la visualizzazione delle regioni di decisione\n",
    "h = .02  # passo della meshgrid\n",
    "x_min, x_max = ASD_phenotypic_2d[:, 0].min() - 1, ASD_phenotypic_2d[:, 0].max() + 1\n",
    "y_min, y_max = ASD_phenotypic_2d[:, 1].min() - 1, ASD_phenotypic_2d[:, 1].max() + 1\n",
    "xx, yy = np.meshgrid(np.arange(x_min, x_max, h),\n",
    "                     np.arange(y_min, y_max, h))\n",
    "\n",
    "# Predizione su ogni punto della meshgrid\n",
    "Z = pipeline_2d.predict(np.c_[xx.ravel(), yy.ravel()])\n",
    "Z = Z.reshape(xx.shape)\n",
    "\n",
    "# Creazione di un colormap per la visualizzazione delle regioni di decisione\n",
    "cmap_light = ListedColormap(['#FFAAAA', '#AAAAFF'])\n",
    "cmap_bold = ListedColormap(['#FF0000', '#0000FF'])\n",
    "\n",
    "# Visualizzazione delle regioni di decisione\n",
    "plt.figure(figsize=(10, 8))\n",
    "plt.contourf(xx, yy, Z, cmap=cmap_light)\n",
    "\n",
    "# Visualizzazione dei punti di addestramento\n",
    "scatter = plt.scatter(ASD_phenotypic_2d[:, 0], ASD_phenotypic_2d[:, 1], c=ASD_diagnosis['DX_GROUP'], cmap=cmap_bold, edgecolor='k', s=20)\n",
    "plt.legend(handles=scatter.legend_elements()[0], labels=['Control', 'ASD'])\n",
    "plt.xlabel('Principal Component 1')\n",
    "plt.ylabel('Principal Component 2')\n",
    "plt.title('Decision Boundaries with k-NN')\n",
    "plt.show()\n",
    "'''"
   ]
  },
  {
   "cell_type": "markdown",
   "metadata": {},
   "source": [
    "## Random Forest"
   ]
  },
  {
   "cell_type": "markdown",
   "metadata": {},
   "source": [
    "To use the Random Forest classifier, I need to have only numerical features, so we will use one-hot-encoding to turn the categorical features (which aren't ordinal) into numerical features. It's not necessary to perform any normalization, but as we want to compare the performance of this classifier with others that use normalization, we will also use normalized data to train this classifier (it's not harmfull for the Random Forest Classifier)."
   ]
  },
  {
   "cell_type": "code",
   "execution_count": 54,
   "metadata": {},
   "outputs": [
    {
     "name": "stdout",
     "output_type": "stream",
     "text": [
      "Risultati della cross-validation per tutte le combinazioni di iperparametri:\n",
      "Parametri: {'classifier__n_estimators': 10}, Accuratezza media: 0.940 (±0.034), Precision media: 0.954, Richiamo medio: 0.929, F1-score medio: 0.939\n",
      "Parametri: {'classifier__n_estimators': 50}, Accuratezza media: 0.956 (±0.016), Precision media: 0.972, Richiamo medio: 0.940, F1-score medio: 0.955\n",
      "Parametri: {'classifier__n_estimators': 200}, Accuratezza media: 0.950 (±0.020), Precision media: 0.976, Richiamo medio: 0.926, F1-score medio: 0.949\n",
      "Parametri: {'classifier__n_estimators': 500}, Accuratezza media: 0.959 (±0.018), Precision media: 0.982, Richiamo medio: 0.936, F1-score medio: 0.958\n",
      "Parametri: {'classifier__n_estimators': 1000}, Accuratezza media: 0.959 (±0.018), Precision media: 0.982, Richiamo medio: 0.936, F1-score medio: 0.958\n",
      "\n",
      "Miglior parametro trovato:\n",
      "500\n",
      "Accuratezza media con il miglior parametro: 0.9592130214917824\n"
     ]
    }
   ],
   "source": [
    "classifier = RandomForestClassifier()\n",
    "rf_model = general_pipeline(X_SMOTE, Y_SMOTE, classifier)"
   ]
  },
  {
   "cell_type": "code",
   "execution_count": 55,
   "metadata": {},
   "outputs": [
    {
     "name": "stdout",
     "output_type": "stream",
     "text": [
      "\n",
      "Valutazione del modello sui dati di test:\n",
      "Accuratezza: 0.980\n",
      "Precisione: 0.976\n",
      "Richiamo: 0.992\n",
      "F1-score: 0.984\n"
     ]
    }
   ],
   "source": [
    "# Valutazione del modello sui dati di test\n",
    "y_pred = rf_model.predict(X_test)\n",
    "\n",
    "# Calcolo delle metriche sui dati di test\n",
    "accuracy = accuracy_score(y_test, y_pred)\n",
    "precision = precision_score(y_test, y_pred)\n",
    "recall = recall_score(y_test, y_pred)\n",
    "f1 = f1_score(y_test, y_pred)\n",
    "\n",
    "print(\"\\nValutazione del modello sui dati di test:\")\n",
    "print(f\"Accuratezza: {accuracy:.3f}\")\n",
    "print(f\"Precisione: {precision:.3f}\")\n",
    "print(f\"Richiamo: {recall:.3f}\")\n",
    "print(f\"F1-score: {f1:.3f}\")\n"
   ]
  },
  {
   "cell_type": "code",
   "execution_count": 56,
   "metadata": {},
   "outputs": [
    {
     "data": {
      "image/png": "[encoded data removed]",
      "text/plain": [
       "<Figure size 800x600 with 2 Axes>"
      ]
     },
     "metadata": {},
     "output_type": "display_data"
    }
   ],
   "source": [
    "conf_matrix = confusion_matrix(y_test, y_pred)\n",
    "\n",
    "# Visualizzazione della matrice di confusione\n",
    "plt.figure(figsize=(8, 6))\n",
    "sns.heatmap(conf_matrix, annot=True, cmap=\"Blues\", fmt=\"d\", xticklabels=['Control', 'ASD'], yticklabels=['Control', 'ASD'])\n",
    "plt.xlabel('Predicted Label')\n",
    "plt.ylabel('True Label')\n",
    "plt.title('Confusion Matrix')\n",
    "plt.show()\n"
   ]
  },
  {
   "cell_type": "markdown",
   "metadata": {},
   "source": [
    "# Support vector machine"
   ]
  },
  {
   "cell_type": "code",
   "execution_count": 57,
   "metadata": {},
   "outputs": [
    {
     "name": "stdout",
     "output_type": "stream",
     "text": [
      "Risultati della cross-validation per tutte le combinazioni di iperparametri:\n",
      "Parametri: {'classifier__C': 1}, Accuratezza media: 0.920 (±0.020), Precision media: 0.973, Richiamo medio: 0.865, F1-score medio: 0.915\n",
      "\n",
      "Miglior parametro trovato:\n",
      "1\n",
      "Accuratezza media con il miglior parametro: 0.9202117572692794\n"
     ]
    }
   ],
   "source": [
    "classifier = svm.SVC()\n",
    "svc_model = general_pipeline(X_SMOTE, Y_SMOTE, classifier)"
   ]
  },
  {
   "cell_type": "markdown",
   "metadata": {},
   "source": [
    "# Comparison Between Classifiers"
   ]
  },
  {
   "cell_type": "code",
   "execution_count": 58,
   "metadata": {},
   "outputs": [
    {
     "name": "stdout",
     "output_type": "stream",
     "text": [
      "K-Nearest Neighbors Classifier AUC-ROC: 0.9582128099173554\n",
      "Random Forest Classifier AUC-ROC: 0.9954545454545455\n"
     ]
    }
   ],
   "source": [
    "# Define a function to evaluate the AUC-ROC for a given model\n",
    "def evaluate_roc_auc(model, X_test, y_test):\n",
    "    y_proba = model.predict_proba(X_test)[:, 1]\n",
    "    auc_roc = roc_auc_score(y_test, y_proba)\n",
    "    return auc_roc\n",
    "\n",
    "knn_auc_roc = evaluate_roc_auc(knn_model, X_test, y_test)\n",
    "rf_auc_roc = evaluate_roc_auc(rf_model, X_test, y_test)\n",
    "\n",
    "# Print the results\n",
    "print(\"K-Nearest Neighbors Classifier AUC-ROC:\", knn_auc_roc)\n",
    "print(\"Random Forest Classifier AUC-ROC:\", rf_auc_roc)\n",
    "\n"
   ]
  },
  {
   "cell_type": "code",
   "execution_count": 59,
   "metadata": {},
   "outputs": [
    {
     "data": {
      "image/png": "[encoded data removed]",
      "text/plain": [
       "<Figure size 800x600 with 1 Axes>"
      ]
     },
     "metadata": {},
     "output_type": "display_data"
    }
   ],
   "source": [
    "# Define a function to plot the ROC curve for a given model\n",
    "def plot_roc_curve(model, X_test, y_test, model_name):\n",
    "    y_proba = model.predict_proba(X_test)[:, 1]\n",
    "    fpr, tpr, _ = roc_curve(y_test, y_proba)\n",
    "    plt.plot(fpr, tpr, label=model_name)\n",
    "    plt.xlabel('False Positive Rate')\n",
    "    plt.ylabel('True Positive Rate')\n",
    "    plt.title('ROC Curve')\n",
    "    plt.legend()\n",
    "    plt.grid(True)\n",
    "\n",
    "# Plot ROC curve for both models\n",
    "y_test_binary = (y_test == 2).astype(int)\n",
    "\n",
    "plt.figure(figsize=(8, 6))\n",
    "plot_roc_curve(knn_model, X_test, y_test_binary, 'K-Nearest Neighbors Classifier')\n",
    "plot_roc_curve(rf_model, X_test, y_test_binary, 'Random Forest Classifier')\n",
    "plt.show()\n"
   ]
  },
  {
   "cell_type": "markdown",
   "metadata": {},
   "source": [
    "# Logistic Regression and KNN Neighboors"
   ]
  },
  {
   "cell_type": "code",
   "execution_count": 60,
   "metadata": {},
   "outputs": [],
   "source": [
    "numeric_columns, categorical_columns, ASD_phenotypic= of.select_columns(ASD_phenotypic)"
   ]
  },
  {
   "cell_type": "markdown",
   "metadata": {},
   "source": [
    "# Feature selection"
   ]
  }
 ],
 "metadata": {
  "kernelspec": {
   "display_name": "Python 3",
   "language": "python",
   "name": "python3"
  },
  "language_info": {
   "codemirror_mode": {
    "name": "ipython",
    "version": 3
   },
   "file_extension": ".py",
   "mimetype": "text/x-python",
   "name": "python",
   "nbconvert_exporter": "python",
   "pygments_lexer": "ipython3",
   "version": "3.10.11"
  }
 },
 "nbformat": 4,
 "nbformat_minor": 2
}
